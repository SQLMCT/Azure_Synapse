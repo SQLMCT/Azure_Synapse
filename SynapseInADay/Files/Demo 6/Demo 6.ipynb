{
  "cells": [
    {
      "cell_type": "markdown",
      "source": [
        "<h1> Demo 6: incremental Loading with Spark Pools"
      ],
      "metadata": {
        "nteract": {
          "transient": {
            "deleting": false
          }
        }
      }
    },
    {
      "cell_type": "markdown",
      "source": [
        "<h3>We will start off by creating a delta table out of our customer dimension"
      ],
      "metadata": {
        "nteract": {
          "transient": {
            "deleting": false
          }
        }
      }
    },
    {
      "cell_type": "code",
      "source": [
        "%%pyspark\r\n",
        "df = spark.read.load('abfss://raw@synapseinaday.dfs.core.windows.net/Dimension/Customer/', format='parquet')\r\n",
        "\r\n",
        "df.write.format(\"delta\").save(\"/delta/CustomerDimension\")"
      ],
      "outputs": [
        {
          "output_type": "display_data",
          "data": {
            "application/vnd.livy.statement-meta+json": {
              "spark_pool": "SampleSpark",
              "session_id": 2,
              "statement_id": 13,
              "state": "finished",
              "livy_statement_state": "available",
              "queued_time": "2021-05-07T18:34:15.9516369Z",
              "execution_start_time": "2021-05-07T18:34:24.4811902Z",
              "execution_finish_time": "2021-05-07T18:34:59.5741244Z"
            },
            "text/plain": "StatementMeta(SampleSpark, 2, 13, Finished, Available)"
          },
          "metadata": {}
        },
        {
          "output_type": "stream",
          "name": "stdout",
          "text": []
        }
      ],
      "execution_count": 16,
      "metadata": {
        "jupyter": {
          "source_hidden": false,
          "outputs_hidden": false
        },
        "nteract": {
          "transient": {
            "deleting": false
          }
        },
        "microsoft": {
          "language": "python"
        },
        "collapsed": true
      }
    },
    {
      "cell_type": "markdown",
      "source": [
        "<h3> We will now read the log to see what entries we have in our delta log at this point in time"
      ],
      "metadata": {
        "nteract": {
          "transient": {
            "deleting": false
          }
        }
      }
    },
    {
      "cell_type": "code",
      "source": [
        "%%pyspark\r\n",
        "[log_line.value for log_line in spark.read.text( \"/delta/CustomerDimension/_delta_log/\").collect()]"
      ],
      "outputs": [
        {
          "output_type": "display_data",
          "data": {
            "application/vnd.livy.statement-meta+json": {
              "spark_pool": "SampleSpark",
              "session_id": 2,
              "statement_id": 15,
              "state": "finished",
              "livy_statement_state": "available",
              "queued_time": "2021-05-07T18:40:40.3384075Z",
              "execution_start_time": "2021-05-07T18:40:40.4441356Z",
              "execution_finish_time": "2021-05-07T18:40:42.5105428Z"
            },
            "text/plain": "StatementMeta(SampleSpark, 2, 15, Finished, Available)"
          },
          "metadata": {}
        },
        {
          "output_type": "stream",
          "name": "stdout",
          "text": [
            "['{\"commitInfo\":{\"timestamp\":1620412476417,\"operation\":\"WRITE\",\"operationParameters\":{\"mode\":\"ErrorIfExists\",\"partitionBy\":\"[]\"},\"isBlindAppend\":true,\"operationMetrics\":{\"numFiles\":\"1\",\"numOutputBytes\":\"20063\",\"numOutputRows\":\"403\"}}}', '{\"protocol\":{\"minReaderVersion\":1,\"minWriterVersion\":2}}', '{\"metaData\":{\"id\":\"1edb3a3b-971c-43a4-b619-f87304c064f2\",\"format\":{\"provider\":\"parquet\",\"options\":{}},\"schemaString\":\"{\\\\\"type\\\\\":\\\\\"struct\\\\\",\\\\\"fields\\\\\":[{\\\\\"name\\\\\":\\\\\"CustomerKey\\\\\",\\\\\"type\\\\\":\\\\\"integer\\\\\",\\\\\"nullable\\\\\":true,\\\\\"metadata\\\\\":{}},{\\\\\"name\\\\\":\\\\\"WWICustomerID\\\\\",\\\\\"type\\\\\":\\\\\"integer\\\\\",\\\\\"nullable\\\\\":true,\\\\\"metadata\\\\\":{}},{\\\\\"name\\\\\":\\\\\"Customer\\\\\",\\\\\"type\\\\\":\\\\\"string\\\\\",\\\\\"nullable\\\\\":true,\\\\\"metadata\\\\\":{}},{\\\\\"name\\\\\":\\\\\"BillToCustomer\\\\\",\\\\\"type\\\\\":\\\\\"string\\\\\",\\\\\"nullable\\\\\":true,\\\\\"metadata\\\\\":{}},{\\\\\"name\\\\\":\\\\\"Category\\\\\",\\\\\"type\\\\\":\\\\\"string\\\\\",\\\\\"nullable\\\\\":true,\\\\\"metadata\\\\\":{}},{\\\\\"name\\\\\":\\\\\"BuyingGroup\\\\\",\\\\\"type\\\\\":\\\\\"string\\\\\",\\\\\"nullable\\\\\":true,\\\\\"metadata\\\\\":{}},{\\\\\"name\\\\\":\\\\\"PrimaryContact\\\\\",\\\\\"type\\\\\":\\\\\"string\\\\\",\\\\\"nullable\\\\\":true,\\\\\"metadata\\\\\":{}},{\\\\\"name\\\\\":\\\\\"PostalCode\\\\\",\\\\\"type\\\\\":\\\\\"string\\\\\",\\\\\"nullable\\\\\":true,\\\\\"metadata\\\\\":{}},{\\\\\"name\\\\\":\\\\\"ValidFrom\\\\\",\\\\\"type\\\\\":\\\\\"timestamp\\\\\",\\\\\"nullable\\\\\":true,\\\\\"metadata\\\\\":{}},{\\\\\"name\\\\\":\\\\\"ValidTo\\\\\",\\\\\"type\\\\\":\\\\\"timestamp\\\\\",\\\\\"nullable\\\\\":true,\\\\\"metadata\\\\\":{}},{\\\\\"name\\\\\":\\\\\"LineageKey\\\\\",\\\\\"type\\\\\":\\\\\"integer\\\\\",\\\\\"nullable\\\\\":true,\\\\\"metadata\\\\\":{}}]}\",\"partitionColumns\":[],\"configuration\":{},\"createdTime\":1620412474195}}', '{\"add\":{\"path\":\"part-00000-bd3dc29c-e459-42aa-9101-7fa7b89ad1a1-c000.snappy.parquet\",\"partitionValues\":{},\"size\":20063,\"modificationTime\":1620412476000,\"dataChange\":true}}']"
          ]
        }
      ],
      "execution_count": 18,
      "metadata": {
        "jupyter": {
          "source_hidden": false,
          "outputs_hidden": false
        },
        "nteract": {
          "transient": {
            "deleting": false
          }
        },
        "microsoft": {
          "language": "python"
        },
        "collapsed": true
      }
    },
    {
      "cell_type": "markdown",
      "source": [
        "<h3> As you can see we currently only see the WRITE or Insert operation we did and that we added 403 rows"
      ],
      "metadata": {
        "nteract": {
          "transient": {
            "deleting": false
          }
        }
      }
    },
    {
      "cell_type": "markdown",
      "source": [
        "<h3> We will now create a spark database which will keep our hive tables"
      ],
      "metadata": {
        "nteract": {
          "transient": {
            "deleting": false
          }
        }
      }
    },
    {
      "cell_type": "code",
      "source": [
        "%%sql\r\n",
        "CREATE DATABASE WWI_Spark"
      ],
      "outputs": [
        {
          "output_type": "display_data",
          "data": {
            "application/vnd.livy.statement-meta+json": {
              "spark_pool": "SampleSpark",
              "session_id": 2,
              "statement_id": 55,
              "state": "finished",
              "livy_statement_state": "available",
              "queued_time": "2021-05-07T20:03:53.120784Z",
              "execution_start_time": "2021-05-07T20:03:53.2263259Z",
              "execution_finish_time": "2021-05-07T20:03:55.2798234Z"
            },
            "text/plain": "StatementMeta(SampleSpark, 2, 55, Finished, Available)"
          },
          "metadata": {}
        },
        {
          "output_type": "execute_result",
          "execution_count": 58,
          "data": {
            "application/vnd.synapse.sparksql-result+json": {
              "schema": {
                "type": "struct",
                "fields": []
              },
              "data": []
            },
            "text/plain": "<Spark SQL result set with 0 rows and 0 fields>"
          },
          "metadata": {}
        }
      ],
      "execution_count": 58,
      "metadata": {
        "jupyter": {
          "source_hidden": false,
          "outputs_hidden": false
        },
        "nteract": {
          "transient": {
            "deleting": false
          }
        },
        "microsoft": {
          "language": "sparksql"
        },
        "collapsed": false
      }
    },
    {
      "cell_type": "markdown",
      "source": [
        "<h3>Next we will register our delta table into our WWI_Spark Database"
      ],
      "metadata": {
        "nteract": {
          "transient": {
            "deleting": false
          }
        }
      }
    },
    {
      "cell_type": "code",
      "source": [
        "%%sql\r\n",
        "\r\n",
        "CREATE TABLE IF NOT EXISTS wwi_spark.CustomerDimension USING DELTA\r\n",
        "LOCATION '/delta/CustomerDimension/'"
      ],
      "outputs": [
        {
          "output_type": "display_data",
          "data": {
            "application/vnd.livy.statement-meta+json": {
              "spark_pool": "SampleSpark",
              "session_id": 2,
              "statement_id": 56,
              "state": "finished",
              "livy_statement_state": "available",
              "queued_time": "2021-05-07T20:06:58.1813321Z",
              "execution_start_time": "2021-05-07T20:06:58.31326Z",
              "execution_finish_time": "2021-05-07T20:07:02.4372316Z"
            },
            "text/plain": "StatementMeta(SampleSpark, 2, 56, Finished, Available)"
          },
          "metadata": {}
        },
        {
          "output_type": "execute_result",
          "execution_count": 59,
          "data": {
            "application/vnd.synapse.sparksql-result+json": {
              "schema": {
                "type": "struct",
                "fields": []
              },
              "data": []
            },
            "text/plain": "<Spark SQL result set with 0 rows and 0 fields>"
          },
          "metadata": {}
        }
      ],
      "execution_count": 59,
      "metadata": {
        "jupyter": {
          "source_hidden": false,
          "outputs_hidden": false
        },
        "nteract": {
          "transient": {
            "deleting": false
          }
        },
        "microsoft": {
          "language": "sparksql"
        },
        "collapsed": false
      }
    },
    {
      "cell_type": "markdown",
      "source": [
        "<h3> Now we will need a connection to our Serverless SQL Pool to edit some data from our Dimension source"
      ],
      "metadata": {
        "nteract": {
          "transient": {
            "deleting": false
          }
        }
      }
    },
    {
      "cell_type": "code",
      "source": [
        "%%pyspark\r\n",
        "\r\n",
        "jdbcHostname = \"synapseinadaywe-ondemand.sql.azuresynapse.net\"\r\n",
        "jdbcDatabase = \"WWI\"\r\n",
        "\r\n",
        "\r\n",
        "jdbcPort = 1433\r\n",
        "jdbcUrl = \"jdbc:sqlserver://{0}:{1};database={2}\".format(jdbcHostname, jdbcPort, jdbcDatabase)\r\n",
        "connectionProperties = {\r\n",
        "  \"user\" : \"***\",\r\n",
        "  \"password\" : \"****\",\r\n",
        "  \"driver\" : \"com.microsoft.sqlserver.jdbc.SQLServerDriver\"\r\n",
        "}"
      ],
      "outputs": [
        {
          "output_type": "display_data",
          "data": {
            "application/vnd.livy.statement-meta+json": {
              "spark_pool": "SampleSpark",
              "session_id": 2,
              "statement_id": 35,
              "state": "finished",
              "livy_statement_state": "available",
              "queued_time": "2021-05-07T19:39:06.3646695Z",
              "execution_start_time": "2021-05-07T19:39:06.5037862Z",
              "execution_finish_time": "2021-05-07T19:39:08.5542945Z"
            },
            "text/plain": "StatementMeta(SampleSpark, 2, 35, Finished, Available)"
          },
          "metadata": {}
        },
        {
          "output_type": "stream",
          "name": "stdout",
          "text": []
        }
      ],
      "execution_count": 38,
      "metadata": {
        "jupyter": {
          "source_hidden": false,
          "outputs_hidden": false
        },
        "nteract": {
          "transient": {
            "deleting": false
          }
        },
        "microsoft": {
          "language": "python"
        },
        "collapsed": true
      }
    },
    {
      "cell_type": "markdown",
      "source": [
        "<h3>We update the customer value of the CustomerDimension for customerkey 1 & add a new customer with id 1000"
      ],
      "metadata": {
        "nteract": {
          "transient": {
            "deleting": false
          }
        }
      }
    },
    {
      "cell_type": "code",
      "source": [
        "%%pyspark\r\n",
        "CustomerQuery = \"\"\"(\r\n",
        "SELECT\r\n",
        "     CustomerKey, WWICustomerID,\r\n",
        "     cast(Customer + cast(NEWID() as varchar(100)) as varchar(400)) as Customer , \r\n",
        "     BillToCustomer, Category, BuyingGroup, PrimaryContact, PostalCode, ValidFrom, ValidTo, LineageKey\r\n",
        "FROM\r\n",
        "    OPENROWSET(\r\n",
        "        BULK 'raw/Dimension/Customer/Dimension.Customer.parquet',\r\n",
        "        DATA_SOURCE = 'RawDS',\r\n",
        "        FORMAT='PARQUET'\r\n",
        "    ) AS [result]\r\n",
        "    WHERE CustomerKey = '1'\r\n",
        "UNION \r\n",
        "SELECT 1000,1000,'DUMMY CUSTOMER','DUMMY CUSTOMER','DUMMY CUSTOMER','DUMMY CUSTOMER','DUMMY CUSTOMER',999999,'2013-01-01T00:00:00.0000000','9999-12-31T23:59:59.9999999',2)TableA\r\n",
        "\"\"\"\r\n",
        "\r\n",
        "df2 = spark.read.jdbc(url=jdbcUrl, table=CustomerQuery, properties=connectionProperties)\r\n",
        "display(df2)"
      ],
      "outputs": [
        {
          "output_type": "display_data",
          "data": {
            "application/vnd.livy.statement-meta+json": {
              "spark_pool": "SampleSpark",
              "session_id": 2,
              "statement_id": 60,
              "state": "finished",
              "livy_statement_state": "available",
              "queued_time": "2021-05-07T20:15:40.8289831Z",
              "execution_start_time": "2021-05-07T20:15:40.9566344Z",
              "execution_finish_time": "2021-05-07T20:15:43.0235076Z"
            },
            "text/plain": "StatementMeta(SampleSpark, 2, 60, Finished, Available)"
          },
          "metadata": {}
        },
        {
          "output_type": "display_data",
          "data": {
            "application/vnd.synapse.widget-view+json": {
              "widget_id": "748b4680-bf72-4ed7-9805-d4e0bfb747b1",
              "widget_type": "Synapse.DataFrame"
            },
            "text/plain": "SynapseWidget(Synapse.DataFrame, 748b4680-bf72-4ed7-9805-d4e0bfb747b1)"
          },
          "metadata": {}
        },
        {
          "output_type": "execute_result",
          "execution_count": 63,
          "data": {},
          "metadata": {}
        }
      ],
      "execution_count": 63,
      "metadata": {
        "jupyter": {
          "source_hidden": false,
          "outputs_hidden": false
        },
        "nteract": {
          "transient": {
            "deleting": false
          }
        },
        "microsoft": {
          "language": "python"
        },
        "collapsed": false
      }
    },
    {
      "cell_type": "markdown",
      "source": [
        "<h3>We then merge the data into the delta table"
      ],
      "metadata": {
        "nteract": {
          "transient": {
            "deleting": false
          }
        }
      }
    },
    {
      "cell_type": "code",
      "source": [
        "%%pyspark\r\n",
        "import delta\r\n",
        "\r\n",
        "DeltaTable = delta.DeltaTable.forPath(spark,\"/delta/CustomerDimension/\")\r\n",
        "\r\n",
        "\r\n",
        "(DeltaTable\r\n",
        "    .alias(\"DeltaCustomers\")\r\n",
        "    .merge(df2.alias(\"UpdatedCustomers\"),\r\n",
        "        \"DeltaCustomers.CustomerKey == UpdatedCustomers.CustomerKey\")\r\n",
        "        .whenMatchedUpdate(set = {\"Customer\" : \"UpdatedCustomers.Customer\"})\r\n",
        "        .whenNotMatchedInsert(values = {\"CustomerKey\" : \"UpdatedCustomers.CustomerKey\" , \"WWICustomerID\" : \"UpdatedCustomers.WWICustomerID\" , \"Customer\" : \"UpdatedCustomers.Customer\" , \"BillToCustomer\" : \"UpdatedCustomers.BillToCustomer\" , \"Category\" : \"UpdatedCustomers.Category\" , \"BuyingGroup\" : \"UpdatedCustomers.BuyingGroup\" , \"PrimaryContact\" : \"UpdatedCustomers.PrimaryContact\" , \"PostalCode\" : \"UpdatedCustomers.PostalCode\" , \"ValidFrom\" : \"UpdatedCustomers.ValidFrom\" ,\"ValidTo\" : \"UpdatedCustomers.ValidTo\" ,\"LineageKey\" : \"UpdatedCustomers.LineageKey\" })\r\n",
        "        .execute()\r\n",
        ")        "
      ],
      "outputs": [
        {
          "output_type": "display_data",
          "data": {
            "application/vnd.livy.statement-meta+json": {
              "spark_pool": "SampleSpark",
              "session_id": 2,
              "statement_id": 61,
              "state": "finished",
              "livy_statement_state": "available",
              "queued_time": "2021-05-07T20:15:48.7160844Z",
              "execution_start_time": "2021-05-07T20:15:48.827862Z",
              "execution_finish_time": "2021-05-07T20:15:59.1633679Z"
            },
            "text/plain": "StatementMeta(SampleSpark, 2, 61, Finished, Available)"
          },
          "metadata": {}
        },
        {
          "output_type": "stream",
          "name": "stdout",
          "text": []
        }
      ],
      "execution_count": 64,
      "metadata": {
        "jupyter": {
          "source_hidden": false,
          "outputs_hidden": false
        },
        "nteract": {
          "transient": {
            "deleting": false
          }
        },
        "microsoft": {
          "language": "python"
        },
        "collapsed": true
      }
    },
    {
      "cell_type": "markdown",
      "source": [
        "<h3> As we can see below the value got changed and added a unique identifier and the new row was added"
      ],
      "metadata": {
        "nteract": {
          "transient": {
            "deleting": false
          }
        }
      }
    },
    {
      "cell_type": "code",
      "source": [
        "%%sql\r\n",
        "\r\n",
        "select * from wwi_spark.customerdimension where CustomerKey = 1 or CustomerKey = 1000"
      ],
      "outputs": [
        {
          "output_type": "display_data",
          "data": {
            "application/vnd.livy.statement-meta+json": {
              "spark_pool": "SampleSpark",
              "session_id": 2,
              "statement_id": 62,
              "state": "finished",
              "livy_statement_state": "available",
              "queued_time": "2021-05-07T20:16:12.371695Z",
              "execution_start_time": "2021-05-07T20:16:12.4861292Z",
              "execution_finish_time": "2021-05-07T20:16:18.6757864Z"
            },
            "text/plain": "StatementMeta(SampleSpark, 2, 62, Finished, Available)"
          },
          "metadata": {}
        },
        {
          "output_type": "execute_result",
          "execution_count": 65,
          "data": {
            "application/vnd.synapse.sparksql-result+json": {
              "schema": {
                "type": "struct",
                "fields": [
                  {
                    "name": "CustomerKey",
                    "type": "integer",
                    "nullable": true,
                    "metadata": {}
                  },
                  {
                    "name": "WWICustomerID",
                    "type": "integer",
                    "nullable": true,
                    "metadata": {}
                  },
                  {
                    "name": "Customer",
                    "type": "string",
                    "nullable": true,
                    "metadata": {}
                  },
                  {
                    "name": "BillToCustomer",
                    "type": "string",
                    "nullable": true,
                    "metadata": {}
                  },
                  {
                    "name": "Category",
                    "type": "string",
                    "nullable": true,
                    "metadata": {}
                  },
                  {
                    "name": "BuyingGroup",
                    "type": "string",
                    "nullable": true,
                    "metadata": {}
                  },
                  {
                    "name": "PrimaryContact",
                    "type": "string",
                    "nullable": true,
                    "metadata": {}
                  },
                  {
                    "name": "PostalCode",
                    "type": "string",
                    "nullable": true,
                    "metadata": {}
                  },
                  {
                    "name": "ValidFrom",
                    "type": "timestamp",
                    "nullable": true,
                    "metadata": {}
                  },
                  {
                    "name": "ValidTo",
                    "type": "timestamp",
                    "nullable": true,
                    "metadata": {}
                  },
                  {
                    "name": "LineageKey",
                    "type": "integer",
                    "nullable": true,
                    "metadata": {}
                  }
                ]
              },
              "data": [
                [
                  1,
                  1,
                  "Tailspin Toys (Head Office)2EBE7E4F-EDBF-4CCB-A92F-4B27C0E7DDE2",
                  "Tailspin Toys (Head Office)",
                  "Novelty Shop",
                  "Tailspin Toys",
                  "Waldemar Fisar",
                  "90410",
                  "2013-01-01T00:00:00Z",
                  "9999-12-31T23:59:59Z",
                  2
                ],
                [
                  1000,
                  1000,
                  "DUMMY CUSTOMER",
                  "DUMMY CUSTOMER",
                  "DUMMY CUSTOMER",
                  "DUMMY CUSTOMER",
                  "DUMMY CUSTOMER",
                  "999999",
                  "2013-01-01T00:00:00Z",
                  "9999-12-31T23:59:59Z",
                  2
                ]
              ]
            },
            "text/plain": "<Spark SQL result set with 2 rows and 11 fields>"
          },
          "metadata": {}
        }
      ],
      "execution_count": 65,
      "metadata": {
        "jupyter": {
          "source_hidden": false,
          "outputs_hidden": false
        },
        "nteract": {
          "transient": {
            "deleting": false
          }
        },
        "microsoft": {
          "language": "sparksql"
        },
        "collapsed": false
      }
    },
    {
      "cell_type": "markdown",
      "source": [
        "<h3> With the History command we can see what changes happened to our table and what versions we have(First Value)"
      ],
      "metadata": {
        "nteract": {
          "transient": {
            "deleting": false
          }
        }
      }
    },
    {
      "cell_type": "code",
      "source": [
        "%%pyspark \r\n",
        "DeltaTable.history().show(20, 1000, False)"
      ],
      "outputs": [
        {
          "output_type": "display_data",
          "data": {
            "application/vnd.livy.statement-meta+json": {
              "spark_pool": "SampleSpark",
              "session_id": 2,
              "statement_id": 66,
              "state": "finished",
              "livy_statement_state": "available",
              "queued_time": "2021-05-07T20:20:13.0069887Z",
              "execution_start_time": "2021-05-07T20:20:13.1171926Z",
              "execution_finish_time": "2021-05-07T20:20:15.1883522Z"
            },
            "text/plain": "StatementMeta(SampleSpark, 2, 66, Finished, Available)"
          },
          "metadata": {}
        },
        {
          "output_type": "stream",
          "name": "stdout",
          "text": [
            "+-------+-------------------+------+--------+---------+------------------------------------------------------------------------------+----+--------+---------+-----------+--------------+-------------+----------------------------------------------------------------------------------------------------------------------------------------------------------------------------------------------------------------+\n",
            "|version|          timestamp|userId|userName|operation|                                                           operationParameters| job|notebook|clusterId|readVersion|isolationLevel|isBlindAppend|                                                                                                                                                                                                operationMetrics|\n",
            "+-------+-------------------+------+--------+---------+------------------------------------------------------------------------------+----+--------+---------+-----------+--------------+-------------+----------------------------------------------------------------------------------------------------------------------------------------------------------------------------------------------------------------+\n",
            "|      2|2021-05-07 20:15:55|  null|    null|    MERGE|[predicate -> (DeltaCustomers.`CustomerKey` = UpdatedCustomers.`CustomerKey`)]|null|    null|     null|          1|          null|        false|      [numTargetRowsCopied -> 1, numTargetRowsDeleted -> 0, numTargetFilesAdded -> 3, numTargetRowsInserted -> 1, numTargetRowsUpdated -> 1, numOutputRows -> 3, numSourceRows -> 2, numTargetFilesRemoved -> 1]|\n",
            "|      1|2021-05-07 19:57:54|  null|    null|    MERGE|[predicate -> (DeltaCustomers.`CustomerKey` = UpdatedCustomers.`CustomerKey`)]|null|    null|     null|          0|          null|        false|[numTargetRowsCopied -> 402, numTargetRowsDeleted -> 0, numTargetFilesAdded -> 177, numTargetRowsInserted -> 0, numTargetRowsUpdated -> 1, numOutputRows -> 403, numSourceRows -> 1, numTargetFilesRemoved -> 1]|\n",
            "|      0|2021-05-07 18:34:36|  null|    null|    WRITE|                                    [mode -> ErrorIfExists, partitionBy -> []]|null|    null|     null|       null|          null|         true|                                                                                                                                                  [numFiles -> 1, numOutputBytes -> 20063, numOutputRows -> 403]|\n",
            "+-------+-------------------+------+--------+---------+------------------------------------------------------------------------------+----+--------+---------+-----------+--------------+-------------+----------------------------------------------------------------------------------------------------------------------------------------------------------------------------------------------------------------+"
          ]
        }
      ],
      "execution_count": 69,
      "metadata": {
        "jupyter": {
          "source_hidden": false,
          "outputs_hidden": false
        },
        "nteract": {
          "transient": {
            "deleting": false
          }
        },
        "microsoft": {
          "language": "python"
        },
        "collapsed": true
      }
    },
    {
      "cell_type": "markdown",
      "source": [
        "<h3> We can use the VersionAsOf command to see what changes happened to our data"
      ],
      "metadata": {
        "nteract": {
          "transient": {
            "deleting": false
          }
        }
      }
    },
    {
      "cell_type": "code",
      "source": [
        "%%pyspark\r\n",
        "History = spark.read.format(\"delta\").option(\"versionAsOf\", 0).load(\"/delta/CustomerDimension/\")\r\n",
        "History.show(2,False)"
      ],
      "outputs": [
        {
          "output_type": "display_data",
          "data": {
            "application/vnd.livy.statement-meta+json": {
              "spark_pool": "SampleSpark",
              "session_id": 2,
              "statement_id": 70,
              "state": "finished",
              "livy_statement_state": "available",
              "queued_time": "2021-05-07T20:23:29.7403917Z",
              "execution_start_time": "2021-05-07T20:23:29.8531399Z",
              "execution_finish_time": "2021-05-07T20:23:33.9679515Z"
            },
            "text/plain": "StatementMeta(SampleSpark, 2, 70, Finished, Available)"
          },
          "metadata": {}
        },
        {
          "output_type": "stream",
          "name": "stdout",
          "text": [
            "+-----------+-------------+---------------------------+---------------------------+------------+-------------+--------------+----------+-------------------+--------------------------+----------+\n",
            "|CustomerKey|WWICustomerID|Customer                   |BillToCustomer             |Category    |BuyingGroup  |PrimaryContact|PostalCode|ValidFrom          |ValidTo                   |LineageKey|\n",
            "+-----------+-------------+---------------------------+---------------------------+------------+-------------+--------------+----------+-------------------+--------------------------+----------+\n",
            "|0          |0            |Unknown                    |N/A                        |N/A         |N/A          |N/A           |N/A       |2013-01-01 00:00:00|9999-12-31 23:59:59.999999|0         |\n",
            "|1          |1            |Tailspin Toys (Head Office)|Tailspin Toys (Head Office)|Novelty Shop|Tailspin Toys|Waldemar Fisar|90410     |2013-01-01 00:00:00|9999-12-31 23:59:59.999999|2         |\n",
            "+-----------+-------------+---------------------------+---------------------------+------------+-------------+--------------+----------+-------------------+--------------------------+----------+\n",
            "only showing top 2 rows"
          ]
        }
      ],
      "execution_count": 73,
      "metadata": {
        "jupyter": {
          "source_hidden": false,
          "outputs_hidden": false
        },
        "nteract": {
          "transient": {
            "deleting": false
          }
        },
        "collapsed": true,
        "microsoft": {
          "language": "python"
        }
      }
    },
    {
      "cell_type": "code",
      "source": [
        "%%sql\r\n",
        "DROP DATABASE wwi_spark CASCADE;"
      ],
      "outputs": [],
      "execution_count": null,
      "metadata": {
        "jupyter": {
          "source_hidden": false,
          "outputs_hidden": false
        },
        "nteract": {
          "transient": {
            "deleting": false
          }
        },
        "microsoft": {
          "language": "sparksql"
        },
        "collapsed": true
      }
    },
    {
      "cell_type": "markdown",
      "source": [
        "GIVE ME SOME WHITESPACE\r\n",
        "\r\n",
        "\r\n",
        "\r\n",
        "\r\n",
        "\r\n",
        "\r\n",
        "\r\n",
        "\r\n",
        "\r\n",
        "\r\n",
        "\r\n",
        "\r\n",
        "\r\n",
        "\r\n",
        "\r\n",
        "\r\n",
        "\r\n",
        "\r\n",
        "\r\n",
        "\r\n",
        "\r\n",
        "\r\n",
        "\r\n",
        "\r\n",
        "\r\n",
        "\r\n"
      ],
      "metadata": {
        "nteract": {
          "transient": {
            "deleting": false
          }
        }
      }
    }
  ],
  "metadata": {
    "kernelspec": {
      "name": "synapse_pyspark",
      "display_name": "Synapse PySpark"
    },
    "language_info": {
      "name": "python"
    },
    "save_output": true,
    "synapse_widget": {
      "version": "0.1",
      "state": {
        "748b4680-bf72-4ed7-9805-d4e0bfb747b1": {
          "type": "Synapse.DataFrame",
          "sync_state": {
            "table": {
              "rows": [
                {
                  "BillToCustomer": "Tailspin Toys (Head Office)",
                  "WWICustomerID": 1,
                  "Category": "Novelty Shop",
                  "BuyingGroup": "Tailspin Toys",
                  "Customer": "Tailspin Toys (Head Office)2EBE7E4F-EDBF-4CCB-A92F-4B27C0E7DDE2",
                  "ValidFrom": "2013-01-01T00:00:00.000Z",
                  "PrimaryContact": "Waldemar Fisar",
                  "CustomerKey": 1,
                  "LineageKey": 2,
                  "ValidTo": "9999-12-31T23:59:59.999Z",
                  "PostalCode": 90410
                },
                {
                  "BillToCustomer": "DUMMY CUSTOMER",
                  "WWICustomerID": 1000,
                  "Category": "DUMMY CUSTOMER",
                  "BuyingGroup": "DUMMY CUSTOMER",
                  "Customer": "DUMMY CUSTOMER",
                  "ValidFrom": "2013-01-01T00:00:00.000Z",
                  "PrimaryContact": "DUMMY CUSTOMER",
                  "CustomerKey": 1000,
                  "LineageKey": 2,
                  "ValidTo": "9999-12-31T23:59:59.999Z",
                  "PostalCode": 999999
                }
              ],
              "schema": {
                "CustomerKey": "int",
                "WWICustomerID": "int",
                "Customer": "string",
                "BillToCustomer": "string",
                "Category": "string",
                "BuyingGroup": "string",
                "PrimaryContact": "string",
                "PostalCode": "int",
                "ValidFrom": "int",
                "ValidTo": "int",
                "LineageKey": "int"
              }
            },
            "isSummary": false,
            "language": "scala"
          },
          "persist_state": {
            "view": {
              "type": "details",
              "tableOptions": {},
              "chartOptions": {
                "chartType": "bar",
                "aggregationType": "sum",
                "categoryFieldKeys": [
                  "WWICustomerID"
                ],
                "seriesFieldKeys": [
                  "CustomerKey"
                ],
                "isStacked": false
              }
            }
          }
        }
      }
    }
  },
  "nbformat": 4,
  "nbformat_minor": 2
}