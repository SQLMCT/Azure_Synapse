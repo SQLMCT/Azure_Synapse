{
    "metadata": {
        "kernelspec": {
            "name": "SQL",
            "display_name": "SQL",
            "language": "sql"
        },
        "language_info": {
            "name": "sql",
            "version": ""
        }
    },
    "nbformat_minor": 2,
    "nbformat": 4,
    "cells": [
        {
            "cell_type": "markdown",
            "source": [
                "# Demo: Detecting queries with Data Movement (M05\\_L02\\_Demo02)\n",
                "\n",
                "**Objective:** <span style=\"font-size: 11pt; font-family: Calibri, sans-serif; color: black;\">The goal of this demo is to demonstrate how to detect query that has data movement with TSQL</span>"
            ],
            "metadata": {
                "azdata_cell_guid": "aac7748e-fb36-4be8-b304-ea96df7aaf34"
            },
            "attachments": {}
        },
        {
            "cell_type": "markdown",
            "source": [
                "### Execute the following long-running query against the database using SSMS or another tool if it is not still running from the previous demo:\n",
                "\n",
                "<span style=\"color: rgb(0, 0, 255);\">SELECT</span> A.PassengerCount,  \n",
                "      <span style=\"color: rgb(121, 94, 38);\">SUM</span>(A.TripDistanceMiles<span style=\"color: rgb(0, 0, 0);\">+</span>B.TripDistanceMiles) <span style=\"color: rgb(0, 0, 255);\">as</span> SumTripDistance,  \n",
                "      <span style=\"color: rgb(121, 94, 38);\">AVG</span>(A.TripDistanceMiles<span style=\"color: rgb(0, 0, 0);\">+</span>B.TripDistanceMiles) <span style=\"color: rgb(0, 0, 255);\">as</span> AvgTripDistance  \n",
                "<span style=\"color: rgb(0, 0, 255);\">FROM</span>  dbo.Trip A, dbo.Trip B   \n",
                "<span style=\"color: rgb(0, 0, 255);\">WHERE</span> A.TripDistanceMiles <span style=\"color: rgb(0, 0, 0);\">&gt;</span> <span style=\"color: rgb(9, 136, 90);\">0</span> <span style=\"color: rgb(0, 0, 255);\">AND</span> A.PassengerCount <span style=\"color: rgb(0, 0, 0);\">&gt;</span> <span style=\"color: rgb(9, 136, 90);\">0</span>  \n",
                "<span style=\"color: rgb(0, 0, 255);\">GROUP&nbsp;BY</span> A.PassengerCount  \n",
                "<span style=\"color: rgb(0, 0, 255);\">ORDER&nbsp;BY</span> A.PassengerCount"
            ],
            "metadata": {
                "azdata_cell_guid": "7348056f-8051-49c9-af77-b34da7a52fcf"
            },
            "attachments": {}
        },
        {
            "cell_type": "markdown",
            "source": [
                "## Execute the following query to show the number of steps using DMS"
            ],
            "metadata": {
                "azdata_cell_guid": "9d0ebfb3-7e40-44b3-ab8c-0ab424311e4b"
            },
            "attachments": {}
        },
        {
            "cell_type": "code",
            "source": [
                "--It will show the total number of steps using DMS, the total elapsed time and the DMS weight during the executions\r\n",
                "SELECT TOP 50\r\n",
                "\t\tS.session_id\r\n",
                "\t\t,S.login_name\r\n",
                "\t\t,S.client_id\r\n",
                "\t\t,S.app_name\r\n",
                "\t\t,R.request_id\r\n",
                "\t\t,R.command request_command\r\n",
                "\t\t,R.[label]\r\n",
                "\t\t,COUNT(ST.request_id) steps_with_movement\r\n",
                "\t\t,SUM(ST.row_count) total_rows_moved\r\n",
                "\t\t,SUM(ST.total_elapsed_time) total_elapsed_dms_time\r\n",
                "\t\t,SUM(R.total_elapsed_time) total_elapsed_request_time\r\n",
                "\t\t,(SUM(ST.total_elapsed_time)*100.00)/SUM(R.total_elapsed_time) dms_time_percentage\r\n",
                "FROM sys.dm_pdw_exec_requests R\r\n",
                "\tINNER JOIN sys.dm_pdw_request_steps ST\r\n",
                "\t\tON R.request_id = ST.request_id\r\n",
                "\tINNER JOIN sys.dm_pdw_exec_sessions S\r\n",
                "\t\tON R.session_id = S.session_id\r\n",
                "WHERE (ST.location_type = 'DMS'\r\n",
                "\tOR ST.operation_type like '%Move%')\r\n",
                "\tAND R.status = 'Completed'\r\n",
                "GROUP BY \r\n",
                "\t\tS.session_id\r\n",
                "\t\t,S.login_name\r\n",
                "\t\t,S.client_id\r\n",
                "\t\t,S.app_name\r\n",
                "\t\t,R.request_id\r\n",
                "\t\t,R.command\r\n",
                "\t\t,R.[label]\r\n",
                "HAVING SUM(ST.row_count) > 10000\r\n",
                "ORDER BY dms_time_percentage DESC\r\n",
                "\t\t,total_rows_moved DESC\r\n",
                ""
            ],
            "metadata": {
                "azdata_cell_guid": "5c9b944e-81f0-4459-a585-7da8eb3f463b"
            },
            "outputs": [
{
    "output_type": "display_data",
    "data": {
        "text/html": "(0 rows affected)"
    },
    "metadata": {}
}, {
    "output_type": "display_data",
    "data": {
        "text/html": "Total execution time: 00:00:02.877"
    },
    "metadata": {}
}, {
    "output_type": "execute_result",
    "metadata": {},
    "execution_count": 18,
    "data": {
        "application/vnd.dataresource+json": {
            "schema": {
                "fields": [
                    {
                        "name": "session_id"
                    },
                    {
                        "name": "login_name"
                    },
                    {
                        "name": "client_id"
                    },
                    {
                        "name": "app_name"
                    },
                    {
                        "name": "request_id"
                    },
                    {
                        "name": "request_command"
                    },
                    {
                        "name": "label"
                    },
                    {
                        "name": "steps_with_movement"
                    },
                    {
                        "name": "total_rows_moved"
                    },
                    {
                        "name": "total_elapsed_dms_time"
                    },
                    {
                        "name": "total_elapsed_request_time"
                    },
                    {
                        "name": "dms_time_percentage"
                    }
                ]
            },
            "data": []
        },
        "text/html": [
            "<table>",
            "<tr><th>session_id</th><th>login_name</th><th>client_id</th><th>app_name</th><th>request_id</th><th>request_command</th><th>label</th><th>steps_with_movement</th><th>total_rows_moved</th><th>total_elapsed_dms_time</th><th>total_elapsed_request_time</th><th>dms_time_percentage</th></tr>",
            "</table>"
        ]
    }
}
],
            "execution_count": 18
        },
        {
            "cell_type": "code",
            "source": [
                "--Alternative version for running queries showing data moved across the system\r\n",
                "/*\r\n",
                "\t=================================\r\n",
                "\t   Data Movement Heavy Hitters\r\n",
                "\t=================================\r\n",
                "\tThe following query returns queries that are currently processing rows in DMS sorted from largest to smallest. \r\n",
                "    Queries that are processing very large amounts of rows or volume of data could be spilling to tempdb and impacting other queries. \r\n",
                "    When troubleshooting a \"general slowness\" issue, this query can help you find the query steps that are most likley to be impacting \r\n",
                "    other resources. \r\n",
                "*/\r\n",
                "WITH step_data AS \r\n",
                "(\r\n",
                "\tSELECT \r\n",
                "\t\tSUM(rows_processed) AS Step_Rows_Processed\r\n",
                "\t\t, SUM(Bytes_processed) AS Step_Bytes_Processed\r\n",
                "\t\t, request_id\r\n",
                "\t\t, step_index\r\n",
                "\t\t, status \r\n",
                "\t\t, type\r\n",
                "\tFROM sys.dm_pdw_dms_workers \r\n",
                "\tWHERE status != 'StepComplete'\r\n",
                "\tGroup by \r\n",
                "\t\t  request_id\r\n",
                "\t\t, step_index\r\n",
                "\t\t, status\r\n",
                "\t\t, type\r\n",
                ") \r\n",
                "SELECT \r\n",
                "\t step_data.request_id\r\n",
                "\t, per.session_id\r\n",
                "\t, step_data.Step_rows_processed\r\n",
                "\t, step_data.step_bytes_processed\r\n",
                "\t, (step_data.Step_Bytes_Processed/1024/1024/1024) AS Step_GB_Processed\r\n",
                "\t, step_data.step_index\r\n",
                "\t, step_data.type\r\n",
                "\t, step_data.status as Step_status\r\n",
                "\t, per.status AS QID_Status\r\n",
                "\t, per.total_elapsed_time/1000/60 as 'QID_Elapsed_Time (min)'\r\n",
                "\t, per.command AS 'QID_Command'\r\n",
                "\t, per.resource_class\r\n",
                "\t, per.importance\r\n",
                "FROM step_data\r\n",
                "LEFT JOIN sys.dm_pdw_exec_requests per\r\n",
                "ON step_data.request_id = per.request_id\r\n",
                "WHERE per.status = 'Running'\r\n",
                "ORDER BY step_data.Step_rows_processed DESC"
            ],
            "metadata": {
                "azdata_cell_guid": "a208150e-e7b1-4841-ba3b-d31f26e53fc0"
            },
            "outputs": [
                {
                    "output_type": "display_data",
                    "data": {
                        "text/html": "(1 row affected)"
                    },
                    "metadata": {}
                },
                {
                    "output_type": "display_data",
                    "data": {
                        "text/html": "Total execution time: 00:00:06.566"
                    },
                    "metadata": {}
                },
                {
                    "output_type": "execute_result",
                    "metadata": {},
                    "execution_count": 14,
                    "data": {
                        "application/vnd.dataresource+json": {
                            "schema": {
                                "fields": [
                                    {
                                        "name": "request_id"
                                    },
                                    {
                                        "name": "session_id"
                                    },
                                    {
                                        "name": "Step_rows_processed"
                                    },
                                    {
                                        "name": "step_bytes_processed"
                                    },
                                    {
                                        "name": "Step_GB_Processed"
                                    },
                                    {
                                        "name": "step_index"
                                    },
                                    {
                                        "name": "type"
                                    },
                                    {
                                        "name": "Step_status"
                                    },
                                    {
                                        "name": "QID_Status"
                                    },
                                    {
                                        "name": "QID_Elapsed_Time (min)"
                                    },
                                    {
                                        "name": "QID_Command"
                                    },
                                    {
                                        "name": "resource_class"
                                    },
                                    {
                                        "name": "importance"
                                    }
                                ]
                            },
                            "data": [
                                {
                                    "0": "QID8269",
                                    "1": "SID450",
                                    "2": "0",
                                    "3": "0",
                                    "4": "0",
                                    "5": "5",
                                    "6": "HASH_READER",
                                    "7": "Execute",
                                    "8": "Running",
                                    "9": "0",
                                    "10": "SELECT A.PassengerCount,\r\n\r\n      SUM(A.TripDistanceMiles+B.TripDistanceMiles) as SumTripDistance,\r\n\r\n      AVG(A.TripDistanceMiles+B.TripDistanceMiles) as AvgTripDistance\r\n\r\nFROM  dbo.Trip A, dbo.Trip B \r\n\r\nWHERE A.TripDistanceMiles > 0 AND A.PassengerCount > 0\r\n\r\nGROUP BY A.PassengerCount\r\n\r\nORDER BY A.PassengerCount",
                                    "11": "smallrc",
                                    "12": "normal"
                                }
                            ]
                        },
                        "text/html": [
                            "<table>",
                            "<tr><th>request_id</th><th>session_id</th><th>Step_rows_processed</th><th>step_bytes_processed</th><th>Step_GB_Processed</th><th>step_index</th><th>type</th><th>Step_status</th><th>QID_Status</th><th>QID_Elapsed_Time (min)</th><th>QID_Command</th><th>resource_class</th><th>importance</th></tr>",
                            "<tr><td>QID8269</td><td>SID450</td><td>0</td><td>0</td><td>0</td><td>5</td><td>HASH_READER</td><td>Execute</td><td>Running</td><td>0</td><td>SELECT A.PassengerCount,\r\n\r\n      SUM(A.TripDistanceMiles+B.TripDistanceMiles) as SumTripDistance,\r\n\r\n      AVG(A.TripDistanceMiles+B.TripDistanceMiles) as AvgTripDistance\r\n\r\nFROM  dbo.Trip A, dbo.Trip B \r\n\r\nWHERE A.TripDistanceMiles &gt; 0 AND A.PassengerCount &gt; 0\r\n\r\nGROUP BY A.PassengerCount\r\n\r\nORDER BY A.PassengerCount</td><td>smallrc</td><td>normal</td></tr>",
                            "</table>"
                        ]
                    }
                }
            ],
            "execution_count": 14
        },
        {
            "cell_type": "markdown",
            "source": [
                "<span style=\"mso-fareast-font-family:&quot;Times New Roman&quot;;\n",
                "mso-bidi-font-family:Calibri;mso-bidi-theme-font:minor-latin;color:#171717\">Previous query should have used data movement This one shows all the query with DMS steps giving aggregate info. It returns an aggregate summarizing all the DMS steps.</span>\n",
                "\n",
                "<span style=\"mso-fareast-font-family:&quot;Times New Roman&quot;;\n",
                "mso-bidi-font-family:Calibri;mso-bidi-theme-font:minor-latin;color:#171717\">Choose a query_id with DMS</span>\n",
                "\n",
                "<span style=\"mso-fareast-font-family:&quot;Times New Roman&quot;;\n",
                "mso-bidi-font-family:Calibri;mso-bidi-theme-font:minor-latin;color:#171717\">In order to identify which is the most expensive DMS step run this query changing its query_id using yours:</span>"
            ],
            "metadata": {
                "azdata_cell_guid": "cf543fa9-f30c-45db-a85d-b0db55f5b4e3"
            },
            "attachments": {}
        },
        {
            "cell_type": "code",
            "source": [
                "SELECT * FROM sys.dm_pdw_request_steps WHERE request_id = 'QID8269'"
            ],
            "metadata": {
                "azdata_cell_guid": "6ef7bfa8-e3ee-44e2-a87b-a03f2f75fecf"
            },
            "outputs": [
                {
                    "output_type": "display_data",
                    "data": {
                        "text/html": "(9 rows affected)"
                    },
                    "metadata": {}
                },
                {
                    "output_type": "display_data",
                    "data": {
                        "text/html": "Total execution time: 00:00:01.288"
                    },
                    "metadata": {}
                },
                {
                    "output_type": "execute_result",
                    "metadata": {},
                    "execution_count": 15,
                    "data": {
                        "application/vnd.dataresource+json": {
                            "schema": {
                                "fields": [
                                    {
                                        "name": "request_id"
                                    },
                                    {
                                        "name": "step_index"
                                    },
                                    {
                                        "name": "plan_node_id"
                                    },
                                    {
                                        "name": "operation_type"
                                    },
                                    {
                                        "name": "distribution_type"
                                    },
                                    {
                                        "name": "location_type"
                                    },
                                    {
                                        "name": "status"
                                    },
                                    {
                                        "name": "error_id"
                                    },
                                    {
                                        "name": "start_time"
                                    },
                                    {
                                        "name": "end_time"
                                    },
                                    {
                                        "name": "total_elapsed_time"
                                    },
                                    {
                                        "name": "row_count"
                                    },
                                    {
                                        "name": "estimated_rows"
                                    },
                                    {
                                        "name": "command"
                                    }
                                ]
                            },
                            "data": [
                                {
                                    "0": "QID8269",
                                    "1": "0",
                                    "2": "-1",
                                    "3": "RandomIDOperation",
                                    "4": "Unspecified",
                                    "5": "Control",
                                    "6": "Complete",
                                    "7": "NULL",
                                    "8": "2022-02-24 18:31:28.520",
                                    "9": "2022-02-24 18:31:28.520",
                                    "10": "0",
                                    "11": "-1",
                                    "12": "-1",
                                    "13": "TEMP_ID_41"
                                },
                                {
                                    "0": "QID8269",
                                    "1": "1",
                                    "2": "-1",
                                    "3": "OnOperation",
                                    "4": "AllComputeNodes",
                                    "5": "Compute",
                                    "6": "Complete",
                                    "7": "NULL",
                                    "8": "2022-02-24 18:31:28.520",
                                    "9": "2022-02-24 18:31:28.550",
                                    "10": "31",
                                    "11": "-1",
                                    "12": "-1",
                                    "13": "CREATE TABLE [qtabledb].[dbo].[TEMP_ID_41] ([TripDistanceMiles] FLOAT(53) ) WITH(DISTRIBUTED_MOVE_FILE='');"
                                },
                                {
                                    "0": "QID8269",
                                    "1": "2",
                                    "2": "2",
                                    "3": "BroadcastMoveOperation",
                                    "4": "AllDistributions",
                                    "5": "Compute",
                                    "6": "Complete",
                                    "7": "NULL",
                                    "8": "2022-02-24 18:31:28.550",
                                    "9": "2022-02-24 18:31:30.910",
                                    "10": "2359",
                                    "11": "170261325",
                                    "12": "170261000",
                                    "13": "SELECT [T1_1].[TripDistanceMiles] AS [TripDistanceMiles] FROM [wsplussynapsepool1].[dbo].[Trip] AS T1_1\r\nOPTION (MAXDOP 4, MIN_GRANT_PERCENT = [MIN_GRANT], DISTRIBUTED_MOVE(N''), MAX_GRANT_PERCENT = [MAX_GRANT])"
                                },
                                {
                                    "0": "QID8269",
                                    "1": "3",
                                    "2": "-1",
                                    "3": "RandomIDOperation",
                                    "4": "Unspecified",
                                    "5": "Control",
                                    "6": "Complete",
                                    "7": "NULL",
                                    "8": "2022-02-24 18:31:30.910",
                                    "9": "2022-02-24 18:31:30.910",
                                    "10": "0",
                                    "11": "-1",
                                    "12": "-1",
                                    "13": "TEMP_ID_42"
                                },
                                {
                                    "0": "QID8269",
                                    "1": "4",
                                    "2": "-1",
                                    "3": "OnOperation",
                                    "4": "AllDistributions",
                                    "5": "Compute",
                                    "6": "Complete",
                                    "7": "NULL",
                                    "8": "2022-02-24 18:31:30.910",
                                    "9": "2022-02-24 18:31:31.067",
                                    "10": "156",
                                    "11": "-1",
                                    "12": "-1",
                                    "13": "CREATE TABLE [qtabledb].[dbo].[TEMP_ID_42] ([PassengerCount] INT NOT NULL, [col] FLOAT(53), [col1] BIGINT, [col2] FLOAT(53) NOT NULL ) WITH(DISTRIBUTED_MOVE_FILE='');"
                                },
                                {
                                    "0": "QID8269",
                                    "1": "5",
                                    "2": "35",
                                    "3": "ShuffleMoveOperation",
                                    "4": "AllDistributions",
                                    "5": "Compute",
                                    "6": "Running",
                                    "7": "NULL",
                                    "8": "2022-02-24 18:31:31.067",
                                    "9": "NULL",
                                    "10": "143937",
                                    "11": "0",
                                    "12": "8",
                                    "13": "SELECT [T1_1].[PassengerCount] AS [PassengerCount], [T1_1].[col1] AS [col], [T1_1].[col2] AS [col1], [T1_1].[col] AS [col2] FROM (SELECT ISNULL([T2_1].[col2], CONVERT (FLOAT, 0, 0)) AS [col], [T2_1].[PassengerCount] AS [PassengerCount], [T2_1].[col] AS [col1], [T2_1].[col1] AS [col2] FROM (SELECT SUM(([T3_2].[TripDistanceMiles] + [T3_1].[TripDistanceMiles])) AS [col], COUNT_BIG(([T3_2].[TripDistanceMiles] + [T3_1].[TripDistanceMiles])) AS [col1], SUM(([T3_2].[TripDistanceMiles] + [T3_1].[TripDistanceMiles])) AS [col2], [T3_2].[PassengerCount] AS [PassengerCount] FROM [qtabledb].[dbo].[TEMP_ID_41] AS T3_1 INNER JOIN\r\n(SELECT [T4_1].[TripDistanceMiles] AS [TripDistanceMiles], [T4_1].[PassengerCount] AS [PassengerCount] FROM [wsplussynapsepool1].[dbo].[Trip] AS T4_1 WHERE (([T4_1].[TripDistanceMiles] > CAST (0.00000000000000000E+000 AS FLOAT)) AND ([T4_1].[PassengerCount] > CAST ((0) AS INT)))) AS T3_2\r\nON (0 = 0) GROUP BY [T3_2].[PassengerCount]) AS T2_1) AS T1_1\r\nOPTION (MAXDOP 4, MIN_GRANT_PERCENT = [MIN_GRANT], DISTRIBUTED_MOVE(N''), MAX_GRANT_PERCENT = [MAX_GRANT])"
                                },
                                {
                                    "0": "QID8269",
                                    "1": "6",
                                    "2": "44",
                                    "3": "ReturnOperation",
                                    "4": "AllDistributions",
                                    "5": "Compute",
                                    "6": "Pending",
                                    "7": "NULL",
                                    "8": "NULL",
                                    "9": "NULL",
                                    "10": "NULL",
                                    "11": "0",
                                    "12": "0",
                                    "13": "SELECT [T1_1].[PassengerCount] AS [PassengerCount], [T1_1].[col1] AS [col], [T1_1].[col] AS [col1] FROM (SELECT CASE\r\n WHEN ([T2_1].[col] = CAST ((0) AS BIGINT)) THEN CAST (NULL AS FLOAT)\r\n ELSE ([T2_1].[col1] / CONVERT (FLOAT, [T2_1].[col], 0))\r\nEND AS [col], [T2_1].[PassengerCount] AS [PassengerCount], [T2_1].[col2] AS [col1] FROM (SELECT ISNULL([T3_1].[col1], CONVERT (BIGINT, 0, 0)) AS [col], ISNULL([T3_1].[col2], CONVERT (FLOAT, 0, 0)) AS [col1], [T3_1].[PassengerCount] AS [PassengerCount], [T3_1].[col] AS [col2] FROM (SELECT SUM([T4_1].[col]) AS [col], SUM([T4_1].[col1]) AS [col1], SUM([T4_1].[col2]) AS [col2], [T4_1].[PassengerCount] AS [PassengerCount] FROM [qtabledb].[dbo].[TEMP_ID_42] AS T4_1 GROUP BY [T4_1].[PassengerCount]) AS T3_1) AS T2_1) AS T1_1 ORDER BY [T1_1].[PassengerCount] ASC\r\nOPTION (MAXDOP 4, MIN_GRANT_PERCENT = [MIN_GRANT], MAX_GRANT_PERCENT = [MAX_GRANT])"
                                },
                                {
                                    "0": "QID8269",
                                    "1": "7",
                                    "2": "-1",
                                    "3": "OnOperation",
                                    "4": "AllDistributions",
                                    "5": "Compute",
                                    "6": "Pending",
                                    "7": "NULL",
                                    "8": "NULL",
                                    "9": "NULL",
                                    "10": "NULL",
                                    "11": "-1",
                                    "12": "-1",
                                    "13": "DROP TABLE [qtabledb].[dbo].[TEMP_ID_42]"
                                },
                                {
                                    "0": "QID8269",
                                    "1": "8",
                                    "2": "-1",
                                    "3": "OnOperation",
                                    "4": "AllComputeNodes",
                                    "5": "Compute",
                                    "6": "Pending",
                                    "7": "NULL",
                                    "8": "NULL",
                                    "9": "NULL",
                                    "10": "NULL",
                                    "11": "-1",
                                    "12": "-1",
                                    "13": "DROP TABLE [qtabledb].[dbo].[TEMP_ID_41]"
                                }
                            ]
                        },
                        "text/html": [
                            "<table>",
                            "<tr><th>request_id</th><th>step_index</th><th>plan_node_id</th><th>operation_type</th><th>distribution_type</th><th>location_type</th><th>status</th><th>error_id</th><th>start_time</th><th>end_time</th><th>total_elapsed_time</th><th>row_count</th><th>estimated_rows</th><th>command</th></tr>",
                            "<tr><td>QID8269</td><td>0</td><td>-1</td><td>RandomIDOperation</td><td>Unspecified</td><td>Control</td><td>Complete</td><td>NULL</td><td>2022-02-24 18:31:28.520</td><td>2022-02-24 18:31:28.520</td><td>0</td><td>-1</td><td>-1</td><td>TEMP_ID_41</td></tr>",
                            "<tr><td>QID8269</td><td>1</td><td>-1</td><td>OnOperation</td><td>AllComputeNodes</td><td>Compute</td><td>Complete</td><td>NULL</td><td>2022-02-24 18:31:28.520</td><td>2022-02-24 18:31:28.550</td><td>31</td><td>-1</td><td>-1</td><td>CREATE TABLE [qtabledb].[dbo].[TEMP_ID_41] ([TripDistanceMiles] FLOAT(53) ) WITH(DISTRIBUTED_MOVE_FILE='');</td></tr>",
                            "<tr><td>QID8269</td><td>2</td><td>2</td><td>BroadcastMoveOperation</td><td>AllDistributions</td><td>Compute</td><td>Complete</td><td>NULL</td><td>2022-02-24 18:31:28.550</td><td>2022-02-24 18:31:30.910</td><td>2359</td><td>170261325</td><td>170261000</td><td>SELECT [T1_1].[TripDistanceMiles] AS [TripDistanceMiles] FROM [wsplussynapsepool1].[dbo].[Trip] AS T1_1\r\nOPTION (MAXDOP 4, MIN_GRANT_PERCENT = [MIN_GRANT], DISTRIBUTED_MOVE(N''), MAX_GRANT_PERCENT = [MAX_GRANT])</td></tr>",
                            "<tr><td>QID8269</td><td>3</td><td>-1</td><td>RandomIDOperation</td><td>Unspecified</td><td>Control</td><td>Complete</td><td>NULL</td><td>2022-02-24 18:31:30.910</td><td>2022-02-24 18:31:30.910</td><td>0</td><td>-1</td><td>-1</td><td>TEMP_ID_42</td></tr>",
                            "<tr><td>QID8269</td><td>4</td><td>-1</td><td>OnOperation</td><td>AllDistributions</td><td>Compute</td><td>Complete</td><td>NULL</td><td>2022-02-24 18:31:30.910</td><td>2022-02-24 18:31:31.067</td><td>156</td><td>-1</td><td>-1</td><td>CREATE TABLE [qtabledb].[dbo].[TEMP_ID_42] ([PassengerCount] INT NOT NULL, [col] FLOAT(53), [col1] BIGINT, [col2] FLOAT(53) NOT NULL ) WITH(DISTRIBUTED_MOVE_FILE='');</td></tr>",
                            "<tr><td>QID8269</td><td>5</td><td>35</td><td>ShuffleMoveOperation</td><td>AllDistributions</td><td>Compute</td><td>Running</td><td>NULL</td><td>2022-02-24 18:31:31.067</td><td>NULL</td><td>143937</td><td>0</td><td>8</td><td>SELECT [T1_1].[PassengerCount] AS [PassengerCount], [T1_1].[col1] AS [col], [T1_1].[col2] AS [col1], [T1_1].[col] AS [col2] FROM (SELECT ISNULL([T2_1].[col2], CONVERT (FLOAT, 0, 0)) AS [col], [T2_1].[PassengerCount] AS [PassengerCount], [T2_1].[col] AS [col1], [T2_1].[col1] AS [col2] FROM (SELECT SUM(([T3_2].[TripDistanceMiles] + [T3_1].[TripDistanceMiles])) AS [col], COUNT_BIG(([T3_2].[TripDistanceMiles] + [T3_1].[TripDistanceMiles])) AS [col1], SUM(([T3_2].[TripDistanceMiles] + [T3_1].[TripDistanceMiles])) AS [col2], [T3_2].[PassengerCount] AS [PassengerCount] FROM [qtabledb].[dbo].[TEMP_ID_41] AS T3_1 INNER JOIN\r\n(SELECT [T4_1].[TripDistanceMiles] AS [TripDistanceMiles], [T4_1].[PassengerCount] AS [PassengerCount] FROM [wsplussynapsepool1].[dbo].[Trip] AS T4_1 WHERE (([T4_1].[TripDistanceMiles] &gt; CAST (0.00000000000000000E+000 AS FLOAT)) AND ([T4_1].[PassengerCount] &gt; CAST ((0) AS INT)))) AS T3_2\r\nON (0 = 0) GROUP BY [T3_2].[PassengerCount]) AS T2_1) AS T1_1\r\nOPTION (MAXDOP 4, MIN_GRANT_PERCENT = [MIN_GRANT], DISTRIBUTED_MOVE(N''), MAX_GRANT_PERCENT = [MAX_GRANT])</td></tr>",
                            "<tr><td>QID8269</td><td>6</td><td>44</td><td>ReturnOperation</td><td>AllDistributions</td><td>Compute</td><td>Pending</td><td>NULL</td><td>NULL</td><td>NULL</td><td>NULL</td><td>0</td><td>0</td><td>SELECT [T1_1].[PassengerCount] AS [PassengerCount], [T1_1].[col1] AS [col], [T1_1].[col] AS [col1] FROM (SELECT CASE\r\n WHEN ([T2_1].[col] = CAST ((0) AS BIGINT)) THEN CAST (NULL AS FLOAT)\r\n ELSE ([T2_1].[col1] / CONVERT (FLOAT, [T2_1].[col], 0))\r\nEND AS [col], [T2_1].[PassengerCount] AS [PassengerCount], [T2_1].[col2] AS [col1] FROM (SELECT ISNULL([T3_1].[col1], CONVERT (BIGINT, 0, 0)) AS [col], ISNULL([T3_1].[col2], CONVERT (FLOAT, 0, 0)) AS [col1], [T3_1].[PassengerCount] AS [PassengerCount], [T3_1].[col] AS [col2] FROM (SELECT SUM([T4_1].[col]) AS [col], SUM([T4_1].[col1]) AS [col1], SUM([T4_1].[col2]) AS [col2], [T4_1].[PassengerCount] AS [PassengerCount] FROM [qtabledb].[dbo].[TEMP_ID_42] AS T4_1 GROUP BY [T4_1].[PassengerCount]) AS T3_1) AS T2_1) AS T1_1 ORDER BY [T1_1].[PassengerCount] ASC\r\nOPTION (MAXDOP 4, MIN_GRANT_PERCENT = [MIN_GRANT], MAX_GRANT_PERCENT = [MAX_GRANT])</td></tr>",
                            "<tr><td>QID8269</td><td>7</td><td>-1</td><td>OnOperation</td><td>AllDistributions</td><td>Compute</td><td>Pending</td><td>NULL</td><td>NULL</td><td>NULL</td><td>NULL</td><td>-1</td><td>-1</td><td>DROP TABLE [qtabledb].[dbo].[TEMP_ID_42]</td></tr>",
                            "<tr><td>QID8269</td><td>8</td><td>-1</td><td>OnOperation</td><td>AllComputeNodes</td><td>Compute</td><td>Pending</td><td>NULL</td><td>NULL</td><td>NULL</td><td>NULL</td><td>-1</td><td>-1</td><td>DROP TABLE [qtabledb].[dbo].[TEMP_ID_41]</td></tr>",
                            "</table>"
                        ]
                    }
                }
            ],
            "execution_count": 15
        },
        {
            "cell_type": "markdown",
            "source": [
                "If you want to go one level deeper to see the distribution-level work that is happening you can query DMS workers. Copy the Request ID from the query above and the step index from the Data Movement step you are interested in and paste them into the following query:"
            ],
            "metadata": {
                "azdata_cell_guid": "944ba7f1-68f3-4d68-85c3-339c06998ca0"
            },
            "attachments": {}
        },
        {
            "cell_type": "code",
            "source": [
                "SELECT * FROM sys.dm_pdw_dms_workers\r\n",
                "WHERE request_id = 'QID8269'\r\n",
                "AND step_index = 5"
            ],
            "metadata": {
                "azdata_cell_guid": "6b957931-805b-4ac9-a8cc-f3369b62c25c"
            },
            "outputs": [],
            "execution_count": 16
        },
        {
            "cell_type": "markdown",
            "source": [
                "Analysis: This query will generally retrun 120 rows because it is showing 60 distributions, each with a reader and a writer. The readers are generally the interesting step as they are running a query and gerneating the rows, while the writers are just writing what comes to them into each distribution. It's interesting at this level to look for any skew in the readers or writers as well as if the currently running step is actually running on all distributions or if just 1 or a few are still executing. Running this multiple times you will see rows processed increase."
            ],
            "metadata": {
                "azdata_cell_guid": "047ff8c5-02cc-40bd-8945-4729446dc043"
            },
            "attachments": {}
        }
    ]
}