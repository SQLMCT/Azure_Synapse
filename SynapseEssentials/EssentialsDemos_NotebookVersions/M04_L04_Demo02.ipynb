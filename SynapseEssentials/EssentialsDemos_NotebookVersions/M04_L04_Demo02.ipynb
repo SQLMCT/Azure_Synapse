{
    "metadata": {
        "kernelspec": {
            "name": "SQL",
            "display_name": "SQL",
            "language": "sql"
        },
        "language_info": {
            "name": "sql",
            "version": ""
        }
    },
    "nbformat_minor": 2,
    "nbformat": 4,
    "cells": [
        {
            "cell_type": "markdown",
            "source": [
                "# Demo: Implementing Row Level Security (M04\\_L04\\_Demo 2)\n",
                "\n",
                "**<span style=\"color:black;mso-color-alt:windowtext\">Objective<i>:&nbsp; </i></span>** <span style=\"color:black;\n",
                "mso-color-alt:windowtext\">The goal of this demo is to demonstrate how to implement Row Level Security in Azure Synapse SQL Pool.&nbsp;&nbsp;</span>"
            ],
            "metadata": {
                "azdata_cell_guid": "c89c1211-2947-4f00-b3dd-ca7c7bac0920"
            },
            "attachments": {}
        },
        {
            "cell_type": "code",
            "source": [
                "--Create Sales Table\r\n",
                "CREATE TABLE Sales  \r\n",
                "    (  \r\n",
                "    OrderID int,  \r\n",
                "    SalesRep sysname,  \r\n",
                "    Product varchar(10),  \r\n",
                "    Qty int  \r\n",
                "    );\r\n",
                ""
            ],
            "metadata": {
                "azdata_cell_guid": "b4f43298-39af-4cae-872d-ceb01f9b243d"
            },
            "outputs": [
                {
                    "output_type": "display_data",
                    "data": {
                        "text/html": "Commands completed successfully."
                    },
                    "metadata": {}
                },
                {
                    "output_type": "display_data",
                    "data": {
                        "text/html": "Total execution time: 00:00:00.599"
                    },
                    "metadata": {}
                }
            ],
            "execution_count": 1
        },
        {
            "cell_type": "code",
            "source": [
                "--Insert some records\r\n",
                "INSERT INTO Sales VALUES (1, 'SalesA', 'Valve', 5);\r\n",
                "INSERT INTO Sales VALUES (2, 'SalesA', 'Wheel', 2);\r\n",
                "INSERT INTO Sales VALUES (3, 'SalesA', 'Valve', 4);\r\n",
                "INSERT INTO Sales VALUES (4, 'SalesB', 'Bracket', 2);\r\n",
                "INSERT INTO Sales VALUES (5, 'SalesB', 'Wheel', 5);\r\n",
                "INSERT INTO Sales VALUES (6, 'SalesB', 'Seat', 5);\r\n",
                "\r\n",
                "-- View the 6 rows in the table  \r\n",
                "SELECT * FROM Sales;\r\n",
                ""
            ],
            "metadata": {
                "azdata_cell_guid": "974acd5a-77f9-471e-a777-fa171db23ed3"
            },
            "outputs": [
                {
                    "output_type": "display_data",
                    "data": {
                        "text/html": "(1 row affected)"
                    },
                    "metadata": {}
                },
                {
                    "output_type": "display_data",
                    "data": {
                        "text/html": "(1 row affected)"
                    },
                    "metadata": {}
                },
                {
                    "output_type": "display_data",
                    "data": {
                        "text/html": "(1 row affected)"
                    },
                    "metadata": {}
                },
                {
                    "output_type": "display_data",
                    "data": {
                        "text/html": "(1 row affected)"
                    },
                    "metadata": {}
                },
                {
                    "output_type": "display_data",
                    "data": {
                        "text/html": "(1 row affected)"
                    },
                    "metadata": {}
                },
                {
                    "output_type": "display_data",
                    "data": {
                        "text/html": "(1 row affected)"
                    },
                    "metadata": {}
                },
                {
                    "output_type": "display_data",
                    "data": {
                        "text/html": "(6 rows affected)"
                    },
                    "metadata": {}
                },
                {
                    "output_type": "display_data",
                    "data": {
                        "text/html": "Total execution time: 00:00:00.560"
                    },
                    "metadata": {}
                },
                {
                    "output_type": "execute_result",
                    "metadata": {},
                    "execution_count": 2,
                    "data": {
                        "application/vnd.dataresource+json": {
                            "schema": {
                                "fields": [
                                    {
                                        "name": "OrderID"
                                    },
                                    {
                                        "name": "SalesRep"
                                    },
                                    {
                                        "name": "Product"
                                    },
                                    {
                                        "name": "Qty"
                                    }
                                ]
                            },
                            "data": [
                                {
                                    "0": "1",
                                    "1": "SalesA",
                                    "2": "Valve",
                                    "3": "5"
                                },
                                {
                                    "0": "3",
                                    "1": "SalesA",
                                    "2": "Valve",
                                    "3": "4"
                                },
                                {
                                    "0": "2",
                                    "1": "SalesA",
                                    "2": "Wheel",
                                    "3": "2"
                                },
                                {
                                    "0": "6",
                                    "1": "SalesB",
                                    "2": "Seat",
                                    "3": "5"
                                },
                                {
                                    "0": "4",
                                    "1": "SalesB",
                                    "2": "Bracket",
                                    "3": "2"
                                },
                                {
                                    "0": "5",
                                    "1": "SalesB",
                                    "2": "Wheel",
                                    "3": "5"
                                }
                            ]
                        },
                        "text/html": [
                            "<table>",
                            "<tr><th>OrderID</th><th>SalesRep</th><th>Product</th><th>Qty</th></tr>",
                            "<tr><td>1</td><td>SalesA</td><td>Valve</td><td>5</td></tr>",
                            "<tr><td>3</td><td>SalesA</td><td>Valve</td><td>4</td></tr>",
                            "<tr><td>2</td><td>SalesA</td><td>Wheel</td><td>2</td></tr>",
                            "<tr><td>6</td><td>SalesB</td><td>Seat</td><td>5</td></tr>",
                            "<tr><td>4</td><td>SalesB</td><td>Bracket</td><td>2</td></tr>",
                            "<tr><td>5</td><td>SalesB</td><td>Wheel</td><td>5</td></tr>",
                            "</table>"
                        ]
                    }
                }
            ],
            "execution_count": 2
        },
        {
            "cell_type": "code",
            "source": [
                "--Create some users for future use\r\n",
                "CREATE USER Manager WITHOUT LOGIN;  \r\n",
                "CREATE USER SalesA WITHOUT LOGIN;  \r\n",
                "CREATE USER SalesB WITHOUT LOGIN;\r\n",
                ""
            ],
            "metadata": {
                "azdata_cell_guid": "0375b97b-2ea0-47ca-b715-6aca4d292377"
            },
            "outputs": [
                {
                    "output_type": "display_data",
                    "data": {
                        "text/html": "Commands completed successfully."
                    },
                    "metadata": {}
                },
                {
                    "output_type": "display_data",
                    "data": {
                        "text/html": "Total execution time: 00:00:00.184"
                    },
                    "metadata": {}
                }
            ],
            "execution_count": 3
        },
        {
            "cell_type": "code",
            "source": [
                "--Grant Select on the tables\r\n",
                "GRANT SELECT ON Sales TO Manager;  \r\n",
                "GRANT SELECT ON Sales TO SalesA;  \r\n",
                "GRANT SELECT ON Sales TO SalesB;\r\n",
                ""
            ],
            "metadata": {
                "azdata_cell_guid": "294d7e50-5716-4877-85b2-e5dc5afc829e"
            },
            "outputs": [
                {
                    "output_type": "display_data",
                    "data": {
                        "text/html": "Commands completed successfully."
                    },
                    "metadata": {}
                },
                {
                    "output_type": "display_data",
                    "data": {
                        "text/html": "Total execution time: 00:00:00.204"
                    },
                    "metadata": {}
                }
            ],
            "execution_count": 4
        },
        {
            "cell_type": "markdown",
            "source": [
                "**Run** the following query to create the security function. The function returns 1 when a row in the SalesRep column is the same as the user executing the query (@SalesRep = USER\\_NAME()) or if the user executing the query is the Manager user (USER\\_NAME() = 'Manager'):"
            ],
            "metadata": {
                "azdata_cell_guid": "208294e1-a42f-49ba-a6d3-c4055f1e699e"
            },
            "attachments": {}
        },
        {
            "cell_type": "code",
            "source": [
                "CREATE SCHEMA Security;  \r\n",
                "GO  \r\n",
                "  \r\n",
                "CREATE FUNCTION Security.fn_securitypredicate(@SalesRep AS sysname)  \r\n",
                "    RETURNS TABLE  \r\n",
                "WITH SCHEMABINDING  \r\n",
                "AS  \r\n",
                "    RETURN SELECT 1 AS fn_securitypredicate_result\r\n",
                "WHERE @SalesRep = USER_NAME() OR USER_NAME() = 'Manager';\r\n",
                ""
            ],
            "metadata": {
                "azdata_cell_guid": "ff6f49c4-4c09-4ef0-9c4c-7fe8f7c74443"
            },
            "outputs": [
                {
                    "output_type": "display_data",
                    "data": {
                        "text/html": "Commands completed successfully."
                    },
                    "metadata": {}
                },
                {
                    "output_type": "display_data",
                    "data": {
                        "text/html": "Commands completed successfully."
                    },
                    "metadata": {}
                },
                {
                    "output_type": "display_data",
                    "data": {
                        "text/html": "Total execution time: 00:00:00.438"
                    },
                    "metadata": {}
                }
            ],
            "execution_count": 5
        },
        {
            "cell_type": "markdown",
            "source": [
                "**Run** the following query to create a security policy adding the function as a filter predicate:"
            ],
            "metadata": {
                "azdata_cell_guid": "508ef28f-abd2-47d1-88a3-98087e43e73d"
            },
            "attachments": {}
        },
        {
            "cell_type": "code",
            "source": [
                "CREATE SECURITY POLICY SalesFilter  \r\n",
                "ADD FILTER PREDICATE Security.fn_securitypredicate(SalesRep)\r\n",
                "ON dbo.Sales  \r\n",
                "WITH (STATE = ON);\r\n",
                ""
            ],
            "metadata": {
                "azdata_cell_guid": "05dde517-0f89-4f3b-b58e-5a3299b2abcf",
                "tags": []
            },
            "outputs": [
                {
                    "output_type": "display_data",
                    "data": {
                        "text/html": "Commands completed successfully."
                    },
                    "metadata": {}
                },
                {
                    "output_type": "display_data",
                    "data": {
                        "text/html": "Total execution time: 00:00:00.113"
                    },
                    "metadata": {}
                }
            ],
            "execution_count": 6
        },
        {
            "cell_type": "markdown",
            "source": [
                "Allow SELECT permissions to the fn\\_securitypredicate function"
            ],
            "metadata": {
                "azdata_cell_guid": "2d9eb51d-3c0a-426b-a653-138e14f2a25e"
            },
            "attachments": {}
        },
        {
            "cell_type": "code",
            "source": [
                "GRANT SELECT ON security.fn_securitypredicate TO Manager;  \r\n",
                "GRANT SELECT ON security.fn_securitypredicate TO SalesA;  \r\n",
                "GRANT SELECT ON security.fn_securitypredicate TO SalesB;\r\n",
                ""
            ],
            "metadata": {
                "azdata_cell_guid": "9d7145ae-98dd-4de0-98e7-05feb54e785c"
            },
            "outputs": [
                {
                    "output_type": "display_data",
                    "data": {
                        "text/html": "Commands completed successfully."
                    },
                    "metadata": {}
                },
                {
                    "output_type": "display_data",
                    "data": {
                        "text/html": "Total execution time: 00:00:00.156"
                    },
                    "metadata": {}
                }
            ],
            "execution_count": 7
        },
        {
            "cell_type": "markdown",
            "source": [
                "1. **Run** following query to test the filtering predicate by selected from Sales table as each user."
            ],
            "metadata": {
                "azdata_cell_guid": "d22ae608-ffb4-467b-ba60-bc9f286c35cc"
            },
            "attachments": {}
        },
        {
            "cell_type": "code",
            "source": [
                "EXECUTE AS USER = 'SalesA';  \r\n",
                "SELECT * FROM Sales;\r\n",
                "REVERT;  \r\n",
                "  \r\n",
                "EXECUTE AS USER = 'SalesB';  \r\n",
                "SELECT * FROM Sales;\r\n",
                "REVERT;  \r\n",
                "  \r\n",
                "EXECUTE AS USER = 'Manager';  \r\n",
                "SELECT * FROM Sales;\r\n",
                "REVERT;\r\n",
                ""
            ],
            "metadata": {
                "azdata_cell_guid": "f9411749-d753-4276-8c13-28f38422ad49"
            },
            "outputs": [
                {
                    "output_type": "display_data",
                    "data": {
                        "text/html": "(3 rows affected)"
                    },
                    "metadata": {}
                },
                {
                    "output_type": "display_data",
                    "data": {
                        "text/html": "(3 rows affected)"
                    },
                    "metadata": {}
                },
                {
                    "output_type": "display_data",
                    "data": {
                        "text/html": "(6 rows affected)"
                    },
                    "metadata": {}
                },
                {
                    "output_type": "display_data",
                    "data": {
                        "text/html": "Total execution time: 00:00:01.375"
                    },
                    "metadata": {}
                },
                {
                    "output_type": "execute_result",
                    "metadata": {},
                    "execution_count": 8,
                    "data": {
                        "application/vnd.dataresource+json": {
                            "schema": {
                                "fields": [
                                    {
                                        "name": "OrderID"
                                    },
                                    {
                                        "name": "SalesRep"
                                    },
                                    {
                                        "name": "Product"
                                    },
                                    {
                                        "name": "Qty"
                                    }
                                ]
                            },
                            "data": [
                                {
                                    "0": "1",
                                    "1": "SalesA",
                                    "2": "Valve",
                                    "3": "5"
                                },
                                {
                                    "0": "3",
                                    "1": "SalesA",
                                    "2": "Valve",
                                    "3": "4"
                                },
                                {
                                    "0": "2",
                                    "1": "SalesA",
                                    "2": "Wheel",
                                    "3": "2"
                                }
                            ]
                        },
                        "text/html": [
                            "<table>",
                            "<tr><th>OrderID</th><th>SalesRep</th><th>Product</th><th>Qty</th></tr>",
                            "<tr><td>1</td><td>SalesA</td><td>Valve</td><td>5</td></tr>",
                            "<tr><td>3</td><td>SalesA</td><td>Valve</td><td>4</td></tr>",
                            "<tr><td>2</td><td>SalesA</td><td>Wheel</td><td>2</td></tr>",
                            "</table>"
                        ]
                    }
                },
                {
                    "output_type": "execute_result",
                    "metadata": {},
                    "execution_count": 8,
                    "data": {
                        "application/vnd.dataresource+json": {
                            "schema": {
                                "fields": [
                                    {
                                        "name": "OrderID"
                                    },
                                    {
                                        "name": "SalesRep"
                                    },
                                    {
                                        "name": "Product"
                                    },
                                    {
                                        "name": "Qty"
                                    }
                                ]
                            },
                            "data": [
                                {
                                    "0": "6",
                                    "1": "SalesB",
                                    "2": "Seat",
                                    "3": "5"
                                },
                                {
                                    "0": "4",
                                    "1": "SalesB",
                                    "2": "Bracket",
                                    "3": "2"
                                },
                                {
                                    "0": "5",
                                    "1": "SalesB",
                                    "2": "Wheel",
                                    "3": "5"
                                }
                            ]
                        },
                        "text/html": [
                            "<table>",
                            "<tr><th>OrderID</th><th>SalesRep</th><th>Product</th><th>Qty</th></tr>",
                            "<tr><td>6</td><td>SalesB</td><td>Seat</td><td>5</td></tr>",
                            "<tr><td>4</td><td>SalesB</td><td>Bracket</td><td>2</td></tr>",
                            "<tr><td>5</td><td>SalesB</td><td>Wheel</td><td>5</td></tr>",
                            "</table>"
                        ]
                    }
                },
                {
                    "output_type": "execute_result",
                    "metadata": {},
                    "execution_count": 8,
                    "data": {
                        "application/vnd.dataresource+json": {
                            "schema": {
                                "fields": [
                                    {
                                        "name": "OrderID"
                                    },
                                    {
                                        "name": "SalesRep"
                                    },
                                    {
                                        "name": "Product"
                                    },
                                    {
                                        "name": "Qty"
                                    }
                                ]
                            },
                            "data": [
                                {
                                    "0": "1",
                                    "1": "SalesA",
                                    "2": "Valve",
                                    "3": "5"
                                },
                                {
                                    "0": "3",
                                    "1": "SalesA",
                                    "2": "Valve",
                                    "3": "4"
                                },
                                {
                                    "0": "2",
                                    "1": "SalesA",
                                    "2": "Wheel",
                                    "3": "2"
                                },
                                {
                                    "0": "6",
                                    "1": "SalesB",
                                    "2": "Seat",
                                    "3": "5"
                                },
                                {
                                    "0": "4",
                                    "1": "SalesB",
                                    "2": "Bracket",
                                    "3": "2"
                                },
                                {
                                    "0": "5",
                                    "1": "SalesB",
                                    "2": "Wheel",
                                    "3": "5"
                                }
                            ]
                        },
                        "text/html": [
                            "<table>",
                            "<tr><th>OrderID</th><th>SalesRep</th><th>Product</th><th>Qty</th></tr>",
                            "<tr><td>1</td><td>SalesA</td><td>Valve</td><td>5</td></tr>",
                            "<tr><td>3</td><td>SalesA</td><td>Valve</td><td>4</td></tr>",
                            "<tr><td>2</td><td>SalesA</td><td>Wheel</td><td>2</td></tr>",
                            "<tr><td>6</td><td>SalesB</td><td>Seat</td><td>5</td></tr>",
                            "<tr><td>4</td><td>SalesB</td><td>Bracket</td><td>2</td></tr>",
                            "<tr><td>5</td><td>SalesB</td><td>Wheel</td><td>5</td></tr>",
                            "</table>"
                        ]
                    }
                }
            ],
            "execution_count": 8
        },
        {
            "cell_type": "markdown",
            "source": [
                "\\*\\* The Manager should see all six rows. The Sales1 and Sales2 users should only see their own sales.\n",
                "\n",
                "  \n",
                "\n",
                "Disable the policy and re-run SELECT query."
            ],
            "metadata": {
                "azdata_cell_guid": "73c7a64e-a42f-4c28-af18-603edb6fa222"
            },
            "attachments": {}
        },
        {
            "cell_type": "code",
            "source": [
                "ALTER SECURITY POLICY SalesFilter  \r\n",
                "WITH (STATE = OFF);\r\n",
                "\r\n",
                "\r\n",
                ""
            ],
            "metadata": {
                "azdata_cell_guid": "7a8e26b3-1aea-46fe-97c3-a9b14e675380"
            },
            "outputs": [
                {
                    "output_type": "display_data",
                    "data": {
                        "text/html": "Commands completed successfully."
                    },
                    "metadata": {}
                },
                {
                    "output_type": "display_data",
                    "data": {
                        "text/html": "Total execution time: 00:00:00.093"
                    },
                    "metadata": {}
                }
            ],
            "execution_count": 9
        },
        {
            "cell_type": "code",
            "source": [
                "EXECUTE AS USER = 'SalesA';  \r\n",
                "SELECT * FROM Sales;\r\n",
                "REVERT;  \r\n",
                "  \r\n",
                "EXECUTE AS USER = 'SalesB';  \r\n",
                "SELECT * FROM Sales;\r\n",
                "REVERT;  \r\n",
                "  \r\n",
                "EXECUTE AS USER = 'Manager';  \r\n",
                "SELECT * FROM Sales;\r\n",
                "REVERT;"
            ],
            "metadata": {
                "azdata_cell_guid": "a3ac3ba0-03ef-4ade-a119-21a0fd295c95"
            },
            "outputs": [
                {
                    "output_type": "display_data",
                    "data": {
                        "text/html": "(6 rows affected)"
                    },
                    "metadata": {}
                },
                {
                    "output_type": "display_data",
                    "data": {
                        "text/html": "(6 rows affected)"
                    },
                    "metadata": {}
                },
                {
                    "output_type": "display_data",
                    "data": {
                        "text/html": "(6 rows affected)"
                    },
                    "metadata": {}
                },
                {
                    "output_type": "display_data",
                    "data": {
                        "text/html": "Total execution time: 00:00:00.591"
                    },
                    "metadata": {}
                },
                {
                    "output_type": "execute_result",
                    "metadata": {},
                    "execution_count": 10,
                    "data": {
                        "application/vnd.dataresource+json": {
                            "schema": {
                                "fields": [
                                    {
                                        "name": "OrderID"
                                    },
                                    {
                                        "name": "SalesRep"
                                    },
                                    {
                                        "name": "Product"
                                    },
                                    {
                                        "name": "Qty"
                                    }
                                ]
                            },
                            "data": [
                                {
                                    "0": "1",
                                    "1": "SalesA",
                                    "2": "Valve",
                                    "3": "5"
                                },
                                {
                                    "0": "3",
                                    "1": "SalesA",
                                    "2": "Valve",
                                    "3": "4"
                                },
                                {
                                    "0": "2",
                                    "1": "SalesA",
                                    "2": "Wheel",
                                    "3": "2"
                                },
                                {
                                    "0": "6",
                                    "1": "SalesB",
                                    "2": "Seat",
                                    "3": "5"
                                },
                                {
                                    "0": "4",
                                    "1": "SalesB",
                                    "2": "Bracket",
                                    "3": "2"
                                },
                                {
                                    "0": "5",
                                    "1": "SalesB",
                                    "2": "Wheel",
                                    "3": "5"
                                }
                            ]
                        },
                        "text/html": [
                            "<table>",
                            "<tr><th>OrderID</th><th>SalesRep</th><th>Product</th><th>Qty</th></tr>",
                            "<tr><td>1</td><td>SalesA</td><td>Valve</td><td>5</td></tr>",
                            "<tr><td>3</td><td>SalesA</td><td>Valve</td><td>4</td></tr>",
                            "<tr><td>2</td><td>SalesA</td><td>Wheel</td><td>2</td></tr>",
                            "<tr><td>6</td><td>SalesB</td><td>Seat</td><td>5</td></tr>",
                            "<tr><td>4</td><td>SalesB</td><td>Bracket</td><td>2</td></tr>",
                            "<tr><td>5</td><td>SalesB</td><td>Wheel</td><td>5</td></tr>",
                            "</table>"
                        ]
                    }
                },
                {
                    "output_type": "execute_result",
                    "metadata": {},
                    "execution_count": 10,
                    "data": {
                        "application/vnd.dataresource+json": {
                            "schema": {
                                "fields": [
                                    {
                                        "name": "OrderID"
                                    },
                                    {
                                        "name": "SalesRep"
                                    },
                                    {
                                        "name": "Product"
                                    },
                                    {
                                        "name": "Qty"
                                    }
                                ]
                            },
                            "data": [
                                {
                                    "0": "1",
                                    "1": "SalesA",
                                    "2": "Valve",
                                    "3": "5"
                                },
                                {
                                    "0": "3",
                                    "1": "SalesA",
                                    "2": "Valve",
                                    "3": "4"
                                },
                                {
                                    "0": "2",
                                    "1": "SalesA",
                                    "2": "Wheel",
                                    "3": "2"
                                },
                                {
                                    "0": "6",
                                    "1": "SalesB",
                                    "2": "Seat",
                                    "3": "5"
                                },
                                {
                                    "0": "4",
                                    "1": "SalesB",
                                    "2": "Bracket",
                                    "3": "2"
                                },
                                {
                                    "0": "5",
                                    "1": "SalesB",
                                    "2": "Wheel",
                                    "3": "5"
                                }
                            ]
                        },
                        "text/html": [
                            "<table>",
                            "<tr><th>OrderID</th><th>SalesRep</th><th>Product</th><th>Qty</th></tr>",
                            "<tr><td>1</td><td>SalesA</td><td>Valve</td><td>5</td></tr>",
                            "<tr><td>3</td><td>SalesA</td><td>Valve</td><td>4</td></tr>",
                            "<tr><td>2</td><td>SalesA</td><td>Wheel</td><td>2</td></tr>",
                            "<tr><td>6</td><td>SalesB</td><td>Seat</td><td>5</td></tr>",
                            "<tr><td>4</td><td>SalesB</td><td>Bracket</td><td>2</td></tr>",
                            "<tr><td>5</td><td>SalesB</td><td>Wheel</td><td>5</td></tr>",
                            "</table>"
                        ]
                    }
                },
                {
                    "output_type": "execute_result",
                    "metadata": {},
                    "execution_count": 10,
                    "data": {
                        "application/vnd.dataresource+json": {
                            "schema": {
                                "fields": [
                                    {
                                        "name": "OrderID"
                                    },
                                    {
                                        "name": "SalesRep"
                                    },
                                    {
                                        "name": "Product"
                                    },
                                    {
                                        "name": "Qty"
                                    }
                                ]
                            },
                            "data": [
                                {
                                    "0": "1",
                                    "1": "SalesA",
                                    "2": "Valve",
                                    "3": "5"
                                },
                                {
                                    "0": "3",
                                    "1": "SalesA",
                                    "2": "Valve",
                                    "3": "4"
                                },
                                {
                                    "0": "2",
                                    "1": "SalesA",
                                    "2": "Wheel",
                                    "3": "2"
                                },
                                {
                                    "0": "6",
                                    "1": "SalesB",
                                    "2": "Seat",
                                    "3": "5"
                                },
                                {
                                    "0": "4",
                                    "1": "SalesB",
                                    "2": "Bracket",
                                    "3": "2"
                                },
                                {
                                    "0": "5",
                                    "1": "SalesB",
                                    "2": "Wheel",
                                    "3": "5"
                                }
                            ]
                        },
                        "text/html": [
                            "<table>",
                            "<tr><th>OrderID</th><th>SalesRep</th><th>Product</th><th>Qty</th></tr>",
                            "<tr><td>1</td><td>SalesA</td><td>Valve</td><td>5</td></tr>",
                            "<tr><td>3</td><td>SalesA</td><td>Valve</td><td>4</td></tr>",
                            "<tr><td>2</td><td>SalesA</td><td>Wheel</td><td>2</td></tr>",
                            "<tr><td>6</td><td>SalesB</td><td>Seat</td><td>5</td></tr>",
                            "<tr><td>4</td><td>SalesB</td><td>Bracket</td><td>2</td></tr>",
                            "<tr><td>5</td><td>SalesB</td><td>Wheel</td><td>5</td></tr>",
                            "</table>"
                        ]
                    }
                }
            ],
            "execution_count": 10
        },
        {
            "cell_type": "markdown",
            "source": [
                "\\*\\* Now Sales1 and Sales2 users can see all six rows."
            ],
            "metadata": {
                "azdata_cell_guid": "64714812-d8f0-4d3d-8c68-f9353df13c5a"
            },
            "attachments": {}
        },
        {
            "cell_type": "code",
            "source": [
                "--Clean up objects\r\n",
                "DROP USER SalesA;\r\n",
                "DROP USER SalesB;\r\n",
                "DROP USER Manager;\r\n",
                "\r\n",
                "DROP SECURITY POLICY SalesFilter;\r\n",
                "DROP TABLE Sales;\r\n",
                "DROP FUNCTION Security.fn_securitypredicate;\r\n",
                "DROP SCHEMA Security;\r\n",
                ""
            ],
            "metadata": {
                "azdata_cell_guid": "0ca9817f-871b-42f8-8e5a-db0ecd0cee66"
            },
            "outputs": [
{
    "output_type": "display_data",
    "data": {
        "text/html": "Commands completed successfully."
    },
    "metadata": {}
}, {
    "output_type": "display_data",
    "data": {
        "text/html": "Total execution time: 00:00:00.828"
    },
    "metadata": {}
}
],
            "execution_count": 11
        }
    ]
}