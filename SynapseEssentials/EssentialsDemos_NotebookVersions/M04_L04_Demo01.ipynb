{
    "metadata": {
        "kernelspec": {
            "name": "SQL",
            "display_name": "SQL",
            "language": "sql"
        },
        "language_info": {
            "name": "sql",
            "version": ""
        }
    },
    "nbformat_minor": 2,
    "nbformat": 4,
    "cells": [
        {
            "cell_type": "markdown",
            "source": [
                "# Demo: Implementing Dynamic Data Masking (M04\\_L04\\_Demo01)\n",
                "\n",
                "**<span style=\"color:black;mso-color-alt:windowtext\">Objective<i>:&nbsp; </i></span>** <span style=\"color:black;\n",
                "mso-color-alt:windowtext\">The goal of this demo is to demonstrate how to implement Dynamic Data Masking in Azure Synapse SQL Pool.&nbsp;&nbsp;</span>"
            ],
            "metadata": {
                "azdata_cell_guid": "fa9c687e-0060-4f06-aa15-c2e19c325d8b"
            },
            "attachments": {}
        },
        {
            "cell_type": "code",
            "source": [
                "CREATE TABLE dbo.DDMExample \r\n",
                "(\r\n",
                "    UserID\tINT IDENTITY(1,1) PRIMARY KEY NONCLUSTERED NOT ENFORCED,\r\n",
                "    Firstname VARCHAR(40), \r\n",
                "    Lastname VARCHAR(40), \r\n",
                "    Username VARCHAR(40), \r\n",
                "    UserLoginID bigint MASKED WITH (FUNCTION = 'random(50000, 75000)'), --Notice the Mask functions\r\n",
                "    Email VARCHAR(50) MASKED WITH (FUNCTION = 'email()'), \r\n",
                "    UserPwd VARCHAR(50) MASKED WITH (FUNCTION = 'default()')\r\n",
                "); \r\n",
                "GO"
            ],
            "metadata": {
                "azdata_cell_guid": "e87c1802-5e18-4a93-b8b2-d0e17949475e",
                "tags": []
            },
            "outputs": [
                {
                    "output_type": "display_data",
                    "data": {
                        "text/html": "Commands completed successfully."
                    },
                    "metadata": {}
                },
                {
                    "output_type": "display_data",
                    "data": {
                        "text/html": "Total execution time: 00:00:00.616"
                    },
                    "metadata": {}
                }
            ],
            "execution_count": 11
        },
        {
            "cell_type": "code",
            "source": [
                "--Insert a couple of records to use as an example\r\n",
                "INSERT INTO dbo.DDMExample (Firstname, Lastname, Username, UserLoginID, Email, UserPwd) \r\n",
                "VALUES ('John','Smith','JSmith', 372036854775808, 'johnsmith@gmail.com','123456ABCDE');\r\n",
                " \r\n",
                "INSERT INTO dbo.DDMExample (Firstname, Lastname, Username, UserLoginID, Email, UserPwd) \r\n",
                "VALUES ('Jane','Doe','JDoe', 372032254855106, 'janedoe@gmail.com','112233ZYXWV');\r\n",
                " \r\n",
                "INSERT INTO dbo.DDMExample (Firstname, Lastname, Username, UserLoginID, Email, UserPwd) \r\n",
                "VALUES ('Walt','Disney','WDisney', 372031114679991, 'waltdisney@gmail.com','998877AZBYC'); "
            ],
            "metadata": {
                "azdata_cell_guid": "918a0647-645c-48af-838e-65d5e47cbd60"
            },
            "outputs": [
                {
                    "output_type": "display_data",
                    "data": {
                        "text/html": "(1 row affected)"
                    },
                    "metadata": {}
                },
                {
                    "output_type": "display_data",
                    "data": {
                        "text/html": "(1 row affected)"
                    },
                    "metadata": {}
                },
                {
                    "output_type": "display_data",
                    "data": {
                        "text/html": "(1 row affected)"
                    },
                    "metadata": {}
                },
                {
                    "output_type": "display_data",
                    "data": {
                        "text/html": "Total execution time: 00:00:00.251"
                    },
                    "metadata": {}
                }
            ],
            "execution_count": 12
        },
        {
            "cell_type": "code",
            "source": [
                "--2. Create a test user for Execute AS statements\r\n",
                "CREATE USER TestUser WITHOUT LOGIN; \r\n",
                "GO \r\n",
                "GRANT SELECT ON dbo.DDMExample TO TestUser; \r\n",
                "GO  "
            ],
            "metadata": {
                "azdata_cell_guid": "1b47adf5-25e8-4f0e-92eb-ee10163f6da8"
            },
            "outputs": [
                {
                    "output_type": "display_data",
                    "data": {
                        "text/html": "Commands completed successfully."
                    },
                    "metadata": {}
                },
                {
                    "output_type": "display_data",
                    "data": {
                        "text/html": "Commands completed successfully."
                    },
                    "metadata": {}
                },
                {
                    "output_type": "display_data",
                    "data": {
                        "text/html": "Total execution time: 00:00:00.145"
                    },
                    "metadata": {}
                }
            ],
            "execution_count": 3
        },
        {
            "cell_type": "code",
            "source": [
                "--3. Query the table as Test user - Queries executed the as the TestUser view masked data. \r\n",
                "EXECUTE AS USER = 'TestUser';   \r\n",
                "SELECT * FROM dbo.DDMExample ;   \r\n",
                "REVERT;    \r\n",
                "GO "
            ],
            "metadata": {
                "azdata_cell_guid": "1912122c-cacd-480f-b706-4ca0464a79ca"
            },
            "outputs": [
                {
                    "output_type": "display_data",
                    "data": {
                        "text/html": "(3 rows affected)"
                    },
                    "metadata": {}
                },
                {
                    "output_type": "display_data",
                    "data": {
                        "text/html": "Total execution time: 00:00:00.397"
                    },
                    "metadata": {}
                },
                {
                    "output_type": "execute_result",
                    "metadata": {},
                    "execution_count": 4,
                    "data": {
                        "application/vnd.dataresource+json": {
                            "schema": {
                                "fields": [
                                    {
                                        "name": "UserID"
                                    },
                                    {
                                        "name": "Firstname"
                                    },
                                    {
                                        "name": "Lastname"
                                    },
                                    {
                                        "name": "Username"
                                    },
                                    {
                                        "name": "UserLoginID"
                                    },
                                    {
                                        "name": "Email"
                                    },
                                    {
                                        "name": "UserPwd"
                                    }
                                ]
                            },
                            "data": [
                                {
                                    "0": "3",
                                    "1": "Walt",
                                    "2": "Disney",
                                    "3": "WDisney",
                                    "4": "57858",
                                    "5": "wXXX@XXXX.com",
                                    "6": "xxxx"
                                },
                                {
                                    "0": "26",
                                    "1": "Jane",
                                    "2": "Doe",
                                    "3": "JDoe",
                                    "4": "73828",
                                    "5": "jXXX@XXXX.com",
                                    "6": "xxxx"
                                },
                                {
                                    "0": "37",
                                    "1": "John",
                                    "2": "Smith",
                                    "3": "JSmith",
                                    "4": "50352",
                                    "5": "jXXX@XXXX.com",
                                    "6": "xxxx"
                                }
                            ]
                        },
                        "text/html": [
                            "<table>",
                            "<tr><th>UserID</th><th>Firstname</th><th>Lastname</th><th>Username</th><th>UserLoginID</th><th>Email</th><th>UserPwd</th></tr>",
                            "<tr><td>3</td><td>Walt</td><td>Disney</td><td>WDisney</td><td>57858</td><td>wXXX@XXXX.com</td><td>xxxx</td></tr>",
                            "<tr><td>26</td><td>Jane</td><td>Doe</td><td>JDoe</td><td>73828</td><td>jXXX@XXXX.com</td><td>xxxx</td></tr>",
                            "<tr><td>37</td><td>John</td><td>Smith</td><td>JSmith</td><td>50352</td><td>jXXX@XXXX.com</td><td>xxxx</td></tr>",
                            "</table>"
                        ]
                    }
                }
            ],
            "execution_count": 4
        },
        {
            "cell_type": "code",
            "source": [
                "--4. Remove masking on email column\r\n",
                "ALTER TABLE dbo.DDMExample ALTER COLUMN [Email] DROP MASKED"
            ],
            "metadata": {
                "azdata_cell_guid": "b0276bc5-d358-41c2-9b5a-69587aa5a9ca"
            },
            "outputs": [
                {
                    "output_type": "display_data",
                    "data": {
                        "text/html": "Commands completed successfully."
                    },
                    "metadata": {}
                },
                {
                    "output_type": "display_data",
                    "data": {
                        "text/html": "Total execution time: 00:00:00.109"
                    },
                    "metadata": {}
                }
            ],
            "execution_count": 5
        },
        {
            "cell_type": "code",
            "source": [
                "--5. Run the select against after maksing has been removed from email and know you will be able to see complete email address\r\n",
                "\r\n",
                "EXECUTE AS USER = 'TestUser';   \r\n",
                "SELECT * FROM dbo.DDMExample ;   \r\n",
                "REVERT;    \r\n",
                "GO "
            ],
            "metadata": {
                "azdata_cell_guid": "797d95b2-05d2-4715-a8d2-b993c94c22e1"
            },
            "outputs": [
                {
                    "output_type": "display_data",
                    "data": {
                        "text/html": "(3 rows affected)"
                    },
                    "metadata": {}
                },
                {
                    "output_type": "display_data",
                    "data": {
                        "text/html": "Total execution time: 00:00:00.239"
                    },
                    "metadata": {}
                },
                {
                    "output_type": "execute_result",
                    "metadata": {},
                    "execution_count": 6,
                    "data": {
                        "application/vnd.dataresource+json": {
                            "schema": {
                                "fields": [
                                    {
                                        "name": "UserID"
                                    },
                                    {
                                        "name": "Firstname"
                                    },
                                    {
                                        "name": "Lastname"
                                    },
                                    {
                                        "name": "Username"
                                    },
                                    {
                                        "name": "UserLoginID"
                                    },
                                    {
                                        "name": "Email"
                                    },
                                    {
                                        "name": "UserPwd"
                                    }
                                ]
                            },
                            "data": [
                                {
                                    "0": "3",
                                    "1": "Walt",
                                    "2": "Disney",
                                    "3": "WDisney",
                                    "4": "71439",
                                    "5": "waltdisney@gmail.com",
                                    "6": "xxxx"
                                },
                                {
                                    "0": "26",
                                    "1": "Jane",
                                    "2": "Doe",
                                    "3": "JDoe",
                                    "4": "58687",
                                    "5": "janedoe@gmail.com",
                                    "6": "xxxx"
                                },
                                {
                                    "0": "37",
                                    "1": "John",
                                    "2": "Smith",
                                    "3": "JSmith",
                                    "4": "60122",
                                    "5": "johnsmith@gmail.com",
                                    "6": "xxxx"
                                }
                            ]
                        },
                        "text/html": [
                            "<table>",
                            "<tr><th>UserID</th><th>Firstname</th><th>Lastname</th><th>Username</th><th>UserLoginID</th><th>Email</th><th>UserPwd</th></tr>",
                            "<tr><td>3</td><td>Walt</td><td>Disney</td><td>WDisney</td><td>71439</td><td>waltdisney@gmail.com</td><td>xxxx</td></tr>",
                            "<tr><td>26</td><td>Jane</td><td>Doe</td><td>JDoe</td><td>58687</td><td>janedoe@gmail.com</td><td>xxxx</td></tr>",
                            "<tr><td>37</td><td>John</td><td>Smith</td><td>JSmith</td><td>60122</td><td>johnsmith@gmail.com</td><td>xxxx</td></tr>",
                            "</table>"
                        ]
                    }
                }
            ],
            "execution_count": 6
        },
        {
            "cell_type": "code",
            "source": [
                "--6. Remove masking on Password column\r\n",
                "ALTER TABLE dbo.DDMExample ALTER COLUMN [UserPwd] DROP MASKED"
            ],
            "metadata": {
                "azdata_cell_guid": "7df01a5b-91cb-48ad-a941-cb93abc65afd"
            },
            "outputs": [
                {
                    "output_type": "display_data",
                    "data": {
                        "text/html": "Commands completed successfully."
                    },
                    "metadata": {}
                },
                {
                    "output_type": "display_data",
                    "data": {
                        "text/html": "Total execution time: 00:00:00.091"
                    },
                    "metadata": {}
                }
            ],
            "execution_count": 7
        },
        {
            "cell_type": "code",
            "source": [
                "--7. Run the select against after masking has been removed from Password column and know you will be able to see complete the complete Pasword\r\n",
                "\r\n",
                "EXECUTE AS USER = 'TestUser';   \r\n",
                "SELECT * FROM dbo.DDMExample ;   \r\n",
                "REVERT;    \r\n",
                "GO "
            ],
            "metadata": {
                "azdata_cell_guid": "1f1252f9-86a0-4de2-ac9d-ae56703c9c7b"
            },
            "outputs": [],
            "execution_count": null
        },
        {
            "cell_type": "code",
            "source": [
                "-- 8.  Remove masking on UserID column\r\n",
                "ALTER TABLE dbo.DDMExample ALTER COLUMN [UserLoginID] DROP MASKED"
            ],
            "metadata": {
                "azdata_cell_guid": "9af98b60-b2bd-4c94-b373-aa698977afa8"
            },
            "outputs": [
                {
                    "output_type": "display_data",
                    "data": {
                        "text/html": "Commands completed successfully."
                    },
                    "metadata": {}
                },
                {
                    "output_type": "display_data",
                    "data": {
                        "text/html": "Total execution time: 00:00:00.101"
                    },
                    "metadata": {}
                }
            ],
            "execution_count": 8
        },
        {
            "cell_type": "code",
            "source": [
                "\r\n",
                "--9. Run the select against after masking has been removed from User ID column and know you will be able to see the complete USER ID\r\n",
                "--EXECUTE AS USER = 'TestUser';   \r\n",
                "SELECT * FROM dbo.DDMExample ;   \r\n",
                "REVERT;    \r\n",
                "GO "
            ],
            "metadata": {
                "azdata_cell_guid": "0357a78c-3d91-4f06-97b1-aeee87b45844",
                "tags": []
            },
            "outputs": [
{
    "output_type": "display_data",
    "data": {
        "text/html": "(3 rows affected)"
    },
    "metadata": {}
}, {
    "output_type": "display_data",
    "data": {
        "text/html": "Total execution time: 00:00:00.279"
    },
    "metadata": {}
}, {
    "output_type": "execute_result",
    "metadata": {},
    "execution_count": 13,
    "data": {
        "application/vnd.dataresource+json": {
            "schema": {
                "fields": [
                    {
                        "name": "UserID"
                    },
                    {
                        "name": "Firstname"
                    },
                    {
                        "name": "Lastname"
                    },
                    {
                        "name": "Username"
                    },
                    {
                        "name": "UserLoginID"
                    },
                    {
                        "name": "Email"
                    },
                    {
                        "name": "UserPwd"
                    }
                ]
            },
            "data": [
                {
                    "0": "27",
                    "1": "Walt",
                    "2": "Disney",
                    "3": "WDisney",
                    "4": "372031114679991",
                    "5": "waltdisney@gmail.com",
                    "6": "998877AZBYC"
                },
                {
                    "0": "35",
                    "1": "John",
                    "2": "Smith",
                    "3": "JSmith",
                    "4": "372036854775808",
                    "5": "johnsmith@gmail.com",
                    "6": "123456ABCDE"
                },
                {
                    "0": "52",
                    "1": "Jane",
                    "2": "Doe",
                    "3": "JDoe",
                    "4": "372032254855106",
                    "5": "janedoe@gmail.com",
                    "6": "112233ZYXWV"
                }
            ]
        },
        "text/html": [
            "<table>",
            "<tr><th>UserID</th><th>Firstname</th><th>Lastname</th><th>Username</th><th>UserLoginID</th><th>Email</th><th>UserPwd</th></tr>",
            "<tr><td>27</td><td>Walt</td><td>Disney</td><td>WDisney</td><td>372031114679991</td><td>waltdisney@gmail.com</td><td>998877AZBYC</td></tr>",
            "<tr><td>35</td><td>John</td><td>Smith</td><td>JSmith</td><td>372036854775808</td><td>johnsmith@gmail.com</td><td>123456ABCDE</td></tr>",
            "<tr><td>52</td><td>Jane</td><td>Doe</td><td>JDoe</td><td>372032254855106</td><td>janedoe@gmail.com</td><td>112233ZYXWV</td></tr>",
            "</table>"
        ]
    }
}
],
            "execution_count": 13
        },
        {
            "cell_type": "code",
            "source": [
                "--10. Cleanup\r\n",
                "DROP USER TestUser\r\n",
                "DROP TABLE DDMExample\r\n",
                "\r\n",
                ""
            ],
            "metadata": {
                "azdata_cell_guid": "a1c9e353-af34-4d70-aefc-1658b27eb938"
            },
            "outputs": [
                {
                    "output_type": "display_data",
                    "data": {
                        "text/html": "Commands completed successfully."
                    },
                    "metadata": {}
                },
                {
                    "output_type": "display_data",
                    "data": {
                        "text/html": "Total execution time: 00:00:00.309"
                    },
                    "metadata": {}
                }
            ],
            "execution_count": 10
        }
    ]
}