{
    "metadata": {
        "kernelspec": {
            "name": "SQL",
            "display_name": "SQL",
            "language": "sql"
        },
        "language_info": {
            "name": "sql",
            "version": ""
        }
    },
    "nbformat_minor": 2,
    "nbformat": 4,
    "cells": [
        {
            "cell_type": "markdown",
            "source": [
                "# Demo: Using the Query Store (M05\\_L02\\_Demo03)\n",
                "\n",
                "## \n",
                "\n",
                "**<span style=\"font-size:\n",
                "11.0pt;font-family:&quot;Calibri&quot;,sans-serif;color:black;mso-color-alt:windowtext\">Objective<i>:&nbsp;&nbsp;</i></span>** <span style=\"font-size:11.0pt;font-family:&quot;Calibri&quot;,sans-serif;\n",
                "color:black;mso-color-alt:windowtext\">The goal of this demo is to demonstrate how to use the Query Store with TSQL</span>"
            ],
            "metadata": {
                "azdata_cell_guid": "66d7d3a2-9ff3-4cb5-8d7a-d9f7ad2d9685"
            },
            "attachments": {}
        },
        {
            "cell_type": "code",
            "source": [
                "--Use the following to get your database name and check the query store and other settings: \r\n",
                "SELECT name,is_query_store_on,is_auto_create_stats_on,is_result_set_caching_on FROM sys.databases where name not in ('master')"
            ],
            "metadata": {
                "azdata_cell_guid": "6b5aa2cd-d122-476b-81c9-789c8784d88e"
            },
            "outputs": [
                {
                    "output_type": "display_data",
                    "data": {
                        "text/html": "(1 row affected)"
                    },
                    "metadata": {}
                },
                {
                    "output_type": "display_data",
                    "data": {
                        "text/html": "Total execution time: 00:00:01.086"
                    },
                    "metadata": {}
                },
                {
                    "output_type": "execute_result",
                    "metadata": {},
                    "execution_count": 5,
                    "data": {
                        "application/vnd.dataresource+json": {
                            "schema": {
                                "fields": [
                                    {
                                        "name": "name"
                                    },
                                    {
                                        "name": "is_query_store_on"
                                    },
                                    {
                                        "name": "is_auto_create_stats_on"
                                    },
                                    {
                                        "name": "is_result_set_caching_on"
                                    }
                                ]
                            },
                            "data": [
                                {
                                    "0": "wsplussynapsepool1",
                                    "1": "1",
                                    "2": "1",
                                    "3": "0"
                                }
                            ]
                        },
                        "text/html": [
                            "<table>",
                            "<tr><th>name</th><th>is_query_store_on</th><th>is_auto_create_stats_on</th><th>is_result_set_caching_on</th></tr>",
                            "<tr><td>wsplussynapsepool1</td><td>1</td><td>1</td><td>0</td></tr>",
                            "</table>"
                        ]
                    }
                }
            ],
            "execution_count": 5
        },
        {
            "cell_type": "markdown",
            "source": [
                "## Turn on query store"
            ],
            "metadata": {
                "azdata_cell_guid": "7b101af6-5793-4aab-9e00-f5df309ec427"
            },
            "attachments": {}
        },
        {
            "cell_type": "code",
            "source": [
                "--Fill in the following query with your database name\r\n",
                "ALTER DATABASE wsplussynapsepool1 SET QUERY_STORE = ON;\r\n",
                "\r\n",
                "--Check settings again\r\n",
                "SELECT name,is_query_store_on,is_auto_create_stats_on,is_result_set_caching_on FROM sys.databases where name not in ('master')\r\n",
                ""
            ],
            "metadata": {
                "azdata_cell_guid": "fe65426e-3ef0-44ea-a28a-effb519789e4"
            },
            "outputs": [
                {
                    "output_type": "display_data",
                    "data": {
                        "text/html": "(1 row affected)"
                    },
                    "metadata": {}
                },
                {
                    "output_type": "display_data",
                    "data": {
                        "text/html": "Total execution time: 00:00:02.230"
                    },
                    "metadata": {}
                },
                {
                    "output_type": "execute_result",
                    "metadata": {},
                    "execution_count": 6,
                    "data": {
                        "application/vnd.dataresource+json": {
                            "schema": {
                                "fields": [
                                    {
                                        "name": "name"
                                    },
                                    {
                                        "name": "is_query_store_on"
                                    },
                                    {
                                        "name": "is_auto_create_stats_on"
                                    },
                                    {
                                        "name": "is_result_set_caching_on"
                                    }
                                ]
                            },
                            "data": [
                                {
                                    "0": "wsplussynapsepool1",
                                    "1": "1",
                                    "2": "1",
                                    "3": "0"
                                }
                            ]
                        },
                        "text/html": [
                            "<table>",
                            "<tr><th>name</th><th>is_query_store_on</th><th>is_auto_create_stats_on</th><th>is_result_set_caching_on</th></tr>",
                            "<tr><td>wsplussynapsepool1</td><td>1</td><td>1</td><td>0</td></tr>",
                            "</table>"
                        ]
                    }
                }
            ],
            "execution_count": 6
        },
        {
            "cell_type": "markdown",
            "source": [
                "## Execute a query to be saved in the query store"
            ],
            "metadata": {
                "azdata_cell_guid": "9c04e52a-9565-4b48-b9d1-0dd4ba867639"
            },
            "attachments": {}
        },
        {
            "cell_type": "code",
            "source": [
                "--Execute the following query and wait for it to complete (~1 min @ dw500)\r\n",
                "SELECT TOP 20 G.geographyid,T.TimeID,P.PassengerCount,\r\n",
                "\t  PERCENTILE_CONT (0.5) WITHIN GROUP ( ORDER BY P.PassengerCount DESC)  OVER (PARTITION BY T.TimeID) AS TTT   ,\r\n",
                "      SUM(P.TripDistanceMiles) as SumTripDistance,\r\n",
                "      AVG(P.TripDistanceMiles) as AvgTripDistance,\r\n",
                "      SUM(P.FareAmount) as SumFareAmount,\r\n",
                "      AVG(P.FareAmount) as AvgFareAmount,\r\n",
                "      SUM(P.TaxAmount) as SumTaxAmount,\r\n",
                "      AVG(P.TaxAmount) as AvgTaxAmount,\r\n",
                "      SUM(P.TotalAmount) as SumTotalAmount,\r\n",
                "      AVG(P.TotalAmount) as AvgTotalAmount\r\n",
                "FROM  dbo.Trip P\r\n",
                "\tINNER JOIN [dbo].[Geography] G\r\n",
                "\t\tON P.pickupgeographyid = G.geographyid\r\n",
                "\tINNER JOIN [dbo].[Time] T\r\n",
                "\t\tON T.TimeID = P.PickupTimeId\r\n",
                "GROUP BY P.PassengerCount,G.geographyid,T.TimeID\r\n",
                ""
            ],
            "metadata": {
                "azdata_cell_guid": "c5f76e0a-8b29-4415-8e67-511cb92d1de6"
            },
            "outputs": [],
            "execution_count": 7
        },
        {
            "cell_type": "markdown",
            "source": [
                "## Run the following query to see that the full sql text is now stored in the query store. This text is obfuscated of literals."
            ],
            "metadata": {
                "azdata_cell_guid": "3c83be1e-95ef-4bc0-95d2-9ead51174a8c"
            },
            "attachments": {}
        },
        {
            "cell_type": "code",
            "source": [
                "SELECT\r\n",
                "     q.query_id\r\n",
                "     , t.query_sql_text\r\n",
                "FROM\r\n",
                "     sys.query_store_query q\r\n",
                "       JOIN sys.query_store_query_text t ON q.query_text_id = t.query_text_id;\r\n",
                ""
            ],
            "metadata": {
                "azdata_cell_guid": "04797c87-efae-467f-813a-72cef2d549fd"
            },
            "outputs": [
                {
                    "output_type": "display_data",
                    "data": {
                        "text/html": "(98 rows affected)"
                    },
                    "metadata": {}
                },
                {
                    "output_type": "display_data",
                    "data": {
                        "text/html": "Total execution time: 00:00:00.379"
                    },
                    "metadata": {}
                },
                {
                    "output_type": "execute_result",
                    "metadata": {},
                    "execution_count": 9,
                    "data": {
                        "application/vnd.dataresource+json": {
                            "schema": {
                                "fields": [
                                    {
                                        "name": "query_id"
                                    },
                                    {
                                        "name": "query_sql_text"
                                    }
                                ]
                            },
                            "data": [
                                {
                                    "0": "1",
                                    "1": "SELECT name,is_query_store_on,is_auto_create_stats_on FROM sys.databases"
                                },
                                {
                                    "0": "2",
                                    "1": "SELECT -1"
                                },
                                {
                                    "0": "3",
                                    "1": "select object_id as id, \r\n    null as id2,\r\n    case\r\n        when [is_filetable] = -1 then '#'\r\n        else [type]\r\n    end as [type],\r\n    schema_name(schema_id) as name1,\r\n    name as name2,\r\n    null as name3,\r\n    null as a1,\r\n    null as v1,\r\n    modify_date as mod\r\nfrom sys.tables\r\nwhere \r\n    is_ms_shipped != -1\r\n\r\nunion\r\n\r\nselect object_id as id, \r\n    null as id2,\r\n    case\r\n        when [type] != '#' then [type]\r\n        when parent_object_id != -1 then '#'\r\n        else '#' \r\n    end as [type],\r\n    schema_name(schema_id) as name1,\r\n    name as name2,\r\n    null as name3,\r\n    null as a1,\r\n    null as v1,\r\n    modify_date as mod\r\nfrom sys.objects\r\nwhere \r\n    type != '#'\r\n    and type != '#'\r\n    and type != '#'\r\n    and is_ms_shipped != -1\r\n\r\nunion\r\n\r\nselect principal_id as id, \r\n    null as id2,\r\n    type, \r\n    name as name1, \r\n    null as name2, \r\n    null as name3,\r\n    null as a1,\r\n    null as v1,\r\n    modify_date as mod\r\nfrom sys.database_principals\r\n\r\nunion\r\n\r\nselect schema_id as id, \r\n    null as id2,\r\n    '#' as type, \r\n    name as name1, \r\n    null as name2, \r\n    null as name3,\r\n    principal_id as a1,\r\n    null as v1,\r\n    null as mod\r\nfrom sys.schemas\r\n\r\nunion\r\n\r\nselect \r\n    idx.object_id as id,\r\n    idx.index_id as id2,\r\n    case        \r\n        when idx.type = -1 then '#'\r\n        when idx.type = -1 then '#'\r\n        else '#' \r\n    end as [type],\r\n    schema_name(tab.schema_id) as name,\r\n    tab.name as name2,\r\n    idx.name as name3,\r\n    null as a1,\r\n    binary_checksum(idx.is_unique, idx.data_space_id, idx.ignore_dup_key, idx.is_primary_key, \r\n        idx.is_unique_constraint, idx.fill_factor, idx.is_padded, idx.is_disabled, idx.allow_row_locks, idx.allow_page_locks) as v1,\r\n    null as mod\r\nfrom sys.indexes idx \r\n    inner join sys.tables tab on idx.object_id = tab.object_id\r\nwhere \r\n    idx.is_primary_key = -1\r\n    and idx.name is not null\r\n    and idx.is_unique_constraint = -1\r\n    and idx.is_hypothetical = -1\r\n\r\nunion\r\n\r\nselect stat.object_id as id,\r\n    stat.stats_id as id2,\r\n    '#' as [type],\r\n    schema_name(tab.schema_id) as name,\r\n    tab.name as name2,\r\n    stat.name as name3,\r\n    null as a1,\r\n    no_recompute as v1,\r\n    null as mod\r\nfrom sys.stats stat\r\n    inner join sys.tables tab on stat.object_id = tab.object_id\r\nwhere \r\n    stat.user_created = -1\r\n\r\nunion\r\n\r\nselect\r\n    function_id id,\r\n    null as id2,\r\n    '#' as type,\r\n    name as name1,\r\n    null as name2,\r\n    null as name3,\r\n    null as a1,\r\n    null as v1,\r\n    modify_date as mod\r\nfrom sys.partition_functions\r\n\r\nunion\r\n\r\nselect\r\n    symmetric_key_id id,\r\n    null as id2,\r\n    '#'as type,\r\n    null as name1,\r\n    null as name2,\r\n    null as name3,\r\n    principal_id as a1,\r\n    null as v1,\r\n    modify_date as mod\r\nfrom sys.symmetric_keys\r\nwhere\r\n    name = N'#'"
                                },
                                {
                                    "0": "4",
                                    "1": "select \r\n    perms.class as class,\r\n    objectpropertyex(perms.major_id, '#') as type,\r\n    perms.major_id as majorid,\r\n    perms.minor_id as minorid,\r\n    perms.type + perms.state as name,\r\n    perms.grantee_principal_id as id1,\r\n    perms.grantor_principal_id as id2\r\nfrom sys.database_permissions perms\r\nwhere\r\n    perms.major_id >= -1\r\n\r\nunion\r\n\r\nselect \r\n    cast(-1 as tinyint) as class,\r\n    '#' as type,\r\n    roles.role_principal_id as majorid,\r\n    roles.member_principal_id as minorid,\r\n    '#' as name,\r\n    null as id1,\r\n    null as id2\r\nfrom sys.database_role_members roles"
                                },
                                {
                                    "0": "5",
                                    "1": "select \r\n    cols.object_id as tableid,\r\n    cols.column_id as columnid, \r\n    binary_checksum(cols.name) as checksum\r\nfrom sys.tables tabs \r\n    inner join sys.columns cols  on (tabs.object_id = cols.object_id)\r\n    inner join sys.index_columns idx_cols on (idx_cols.object_id = tabs.object_id and idx_cols.column_id = cols.column_id)\r\nwhere\r\n    tabs.is_ms_shipped = -1"
                                },
                                {
                                    "0": "6",
                                    "1": "SELECT CAST(CASE DATABASEPROPERTYEX(DB_NAME(), N'#') WHEN N'#' THEN -1 ELSE -1 END AS BIT);"
                                },
                                {
                                    "0": "7",
                                    "1": "SELECT CAST(CASE WHEN HAS_PERMS_BY_NAME(NULL, N'#', N'#') = -1\r\n                 THEN -1\r\n                 ELSE -1\r\n            END AS BIT) AS N'#',\r\n       CAST(CASE WHEN\r\n                   -1 = IS_MEMBER(N'#')\r\n                   OR\r\n                   -1 = IS_SRVROLEMEMBER(N'#')  \r\n                   OR\r\n                   -1 =\r\n                   (SELECT COUNT(ALL [p].[state])\r\n                    FROM [sys].[database_permissions] [p] WITH (NOLOCK)\r\n                    LEFT JOIN [sys].[database_principals] [pr] WITH (NOLOCK) ON [pr].[principal_id] = [p].[grantee_principal_id]\r\n                    WHERE ([p].[type] IN (N'#',N'#'))\r\n                          AND [p].[state] = N'#'\r\n                          AND IS_MEMBER([pr].[name]) = -1)\r\n                 THEN -1\r\n                 ELSE -1\r\n            END AS BIT) AS N'#',\r\n       CAST(CASE WHEN HAS_PERMS_BY_NAME (NULL, N'#', N'#') = -1\r\n                 THEN -1\r\n                 ELSE -1\r\n            END AS BIT) AS N'#'"
                                },
                                {
                                    "0": "8",
                                    "1": "SELECT CAST(HAS_PERMS_BY_NAME(N'#', N'#', N'#') AS BIT)"
                                },
                                {
                                    "0": "9",
                                    "1": "SELECT DATABASEPROPERTYEX(N'#' , N'#') AS [Name]"
                                },
                                {
                                    "0": "10",
                                    "1": "SELECT CURRENT_USER"
                                },
                                {
                                    "0": "11",
                                    "1": "SELECT SERVERPROPERTY('#'), SERVERPROPERTY('#'), SERVERPROPERTY ('#'), SERVERPROPERTY ('#'), (SELECT CASE WHEN EXISTS (SELECT TOP -1 -1 from [sys].[all_columns] WITH (NOLOCK) WHERE name = N'#' AND OBJECT_ID(N'#') = object_id) THEN -1 ELSE -1 END AS SXI_PRESENT), @@MICROSOFTVERSION as [MicrosoftVersion]"
                                },
                                {
                                    "0": "12",
                                    "1": "SELECT \r\n    [c].[lcid]\r\nFROM  [dbo].[syslanguages] AS [c] WITH (NOLOCK) \r\nWHERE \r\n    [c].[name] = '#'"
                                },
                                {
                                    "0": "13",
                                    "1": "SELECT CAST(ISNULL(DATABASEPROPERTYEX(DB_NAME(), N'#'), -1) AS BIT)"
                                },
                                {
                                    "0": "14",
                                    "1": "SELECT [name] FROM [sys].[filegroups] [fg] WITH(NOLOCK) WHERE [fg].[is_default] = -1 AND [fg].[type] = N'#'"
                                },
                                {
                                    "0": "15",
                                    "1": "SELECT SCHEMA_NAME()"
                                },
                                {
                                    "0": "16",
                                    "1": "SELECT name FROM sys.system_columns WHERE object_id=object_id('#') AND name ='#'"
                                },
                                {
                                    "0": "17",
                                    "1": "SELECT SERVERPROPERTY('#');"
                                },
                                {
                                    "0": "18",
                                    "1": "select SERVERPROPERTY('#')"
                                },
                                {
                                    "0": "19",
                                    "1": "select @@spid;"
                                },
                                {
                                    "0": "20",
                                    "1": "select SERVERPROPERTY('#');"
                                },
                                {
                                    "0": "21",
                                    "1": "SELECT * FROM (\r\nSELECT\r\n        [db].[is_ansi_null_default_on]          AS [IsAnsiNullDefaultOn]\r\n        ,[db].[is_ansi_nulls_on]                 AS [IsAnsiNullsOn]\r\n        ,[db].[is_ansi_padding_on]               AS [IsAnsiPaddingOn]\r\n        ,[db].[is_ansi_warnings_on]              AS [IsAnsiWarningsOn]\r\n        ,[db].[is_arithabort_on]                 AS [IsArithAbortOn]\r\n        ,[db].[is_auto_close_on]                 AS [IsAutoCloseOn]\r\n        ,[db].[is_auto_create_stats_on]          AS [IsAutoCreateStatisticsOn]\r\n        ,[db].[is_auto_shrink_on]                AS [IsAutoShrinkOn]\r\n        ,[db].[is_auto_update_stats_on]          AS [IsAutoUpdateStatisticsOn]\r\n        ,[db].[is_cursor_close_on_commit_on]     AS [IsCursorCloseOnCommitOn]\r\n        ,[db].[is_fulltext_enabled]              AS [IsFullTextEnabled]\r\n        ,[db].[is_in_standby]                    AS [IsInStandBy]\r\n        ,[db].[is_local_cursor_default]          AS [IsLocalCursorsDefault]\r\n        ,[db].[is_merge_published]               AS [IsMergePublished]\r\n        ,[db].[is_concat_null_yields_null_on]    AS [IsConcatNullYieldsNullOn]\r\n        ,[db].[is_numeric_roundabort_on]         AS [IsNumericRoundAbortOn]\r\n        ,[db].[is_published]                     AS [IsPublished]\r\n        ,[db].[is_quoted_identifier_on]          AS [IsQuotedIdentifierOn]\r\n        ,[db].[is_recursive_triggers_on]         AS [IsRecursiveTriggersOn]\r\n        ,[db].[is_subscribed]                    AS [IsSubscribed]\r\n        ,CONVERT(bit, DATABASEPROPERTYEX([db].[name], N'#'))    AS [IsTornPageProtectionOn]\r\n        ,[db].[collation_name]                   AS [Collation]\r\n        ,[db].[recovery_model_desc]              AS [RecoveryMode]\r\n        ,DATABASEPROPERTYEX([db].[name], N'#')   AS [SQLSortOrder]\r\n        ,[db].[state_desc]                       AS [Status]\r\n        ,DATABASEPROPERTYEX([db].[name], N'#')  AS [Updateability]\r\n        ,[db].[user_access_desc]                    AS [UserAccess]\r\n        ,DATABASEPROPERTYEX([db].[name], N'#')        AS [Version]\r\n        ,[db].[is_db_chaining_on]                AS [IsDbChainingOn]\r\n        ,[db].[is_trustworthy_on]                AS [IsTrustWorthyOn]\r\n        ,[db].[is_auto_update_stats_async_on]    AS [IsAutoUpdateStatisticesAsyncOn]\r\n        ,[db].[page_verify_option]               AS [PageVerifyOption]\r\n        ,[db].[delayed_durability]               AS [DelayedDurabilityMode]\r\n        ,CAST(-1 as BIT)                          AS [MirrongFailOverLsn]\r\n        ,CAST(-1 as BIT)                          AS [MirroringState]\r\n        ,CAST(-1 as BIT)                          AS [MirroringPartnerServer]\r\n        ,CAST(-1 as BIT)                          AS [MirroringSafetyLevel]\r\n        ,CAST(-1 as BIT)                          AS [MirroringRedoQueueSize]\r\n        ,CAST(-1 as BIT)                          AS [MirroringRedoQueueType]\r\n        ,CAST(-1 as BIT)                          AS [MirroringPartnerServerTimeout]\r\n        ,CAST(-1 as BIT)                          AS [MirroringWitnessServer]\r\n        ,CAST(-1 as BIT)                          AS [MirroringWitnessState]\r\n        ,[db].[is_supplemental_logging_enabled]  AS [IsSupplementalLoggingOn]\r\n        ,[db].[is_broker_enabled]                AS [IsServiceBrokerEnabled]\r\n        ,[db].[is_honor_broker_priority_on]      AS [IsBrokerPriorityHonored]\r\n        ,[db].[is_date_correlation_on]           AS [IsDateCorrelationOptimizationOn]\r\n        ,[db].[is_parameterization_forced]       AS [IsParameterizationForced]\r\n        ,[db].[snapshot_isolation_state]         AS [SnapshotIsolationState]\r\n        ,[db].[is_read_committed_snapshot_on]    AS [IsReadCommittedSnapshot]\r\n        ,[db].[is_memory_optimized_elevate_to_snapshot_on]    AS [IsMemoryOptimizedElevatedToSnapshot]\r\n        ,[db].[is_auto_create_stats_incremental_on]    AS [IsAutoCreateStatisticsIncrementalOn]\r\n        ,[db].[compatibility_level]              AS [CompatibilityLevel]\r\n        ,[db].[is_encrypted]                     AS [IsEncrypted]\r\n        ,[db].[containment]                      AS [Containment]\r\n        ,[db].[default_language_lcid]            AS [DefaultLanguageId]\r\n        ,[db].[default_fulltext_language_lcid]   AS [DefaultFulltextLanguageId]\r\n        ,[db].[is_nested_triggers_on]            AS [IsNestedTriggersOn]\r\n        ,[db].[is_transform_noise_words_on]      AS [IsTransformNoiseWordsOn]\r\n        ,[db].[two_digit_year_cutoff]            AS [TwoDigitYearCutoff]\r\n        ,CASE WHEN [fg].[is_default] = -1 THEN [fg].[name] ELSE NULL END AS [DefaultFileGroupName]\r\n        ,CASE WHEN [fg].[is_default] = -1 THEN [fg].[data_space_id] ELSE --1 END AS [DefaultFileGroupId]\r\n        ,CASE WHEN [fsfg].[is_default] = -1 THEN [fsfg].[name] ELSE NULL END AS [DefaultFileStreamFileGroupName]\r\n        ,[db].[target_recovery_time_in_seconds] AS [TargetRecoveryTimeInSeconds]\r\n        ,CAST(-1 as TINYINT)                      AS [NonTransactedAccess]\r\n        ,'#'                                      AS [FileStreamDirectoryName]\r\nFROM [sys].[databases] [db] WITH (NOLOCK)\r\nLEFT JOIN [sys].[filegroups] [fg] WITH (NOLOCK) ON [fg].[is_default] = -1 AND [fg].[type] = N'#'\r\nLEFT JOIN [sys].[filegroups] [fsfg] WITH (NOLOCK) ON [fsfg].[is_default] = -1 AND [fsfg].[type] = N'#'\r\nWHERE [db].[name] = DB_NAME()) AS [_results];"
                                },
                                {
                                    "0": "22",
                                    "1": "SELECT * FROM (\r\nSELECT  [db].[class] AS [TypeId],\r\n        [db].[major_id] AS [MajorId],\r\n        [db].[minor_id] AS [MinorId],\r\n        NULL AS [ObjectType],\r\n        CONVERT(bit, -1) AS [IsMsShipped],\r\n        [db].[grantee_principal_id] AS [GranteeId],\r\n        USER_NAME([db].[grantee_principal_id]) AS [GranteeName],\r\n        [db].[grantor_principal_id] AS [GrantorId],\r\n        CONVERT(BIT, CASE WHEN ([dp].[owning_principal_id] IS NULL OR [dp].[owning_principal_id] <> [db].[grantor_principal_id]) AND ([dp].[is_fixed_role] <> -1 AND [dp].[principal_id] <> -1) THEN -1 ELSE -1 END) AS [ScriptGrantor],\r\n        USER_NAME([db].[grantor_principal_id]) AS [GrantorName],\r\n        [db].[type] AS [PermissionCode],\r\n        [db].[permission_name] AS [PermissionType],\r\n        [db].[state] AS [PermissionState],\r\n        CASE [db].[class]\r\n            WHEN  -1 THEN NULL\r\n            WHEN  -1 THEN SCHEMA_NAME([db].[major_id])\r\n            WHEN  -1 THEN USER_NAME([db].[major_id])\r\n            \r\n        END AS [Level0Name],  \r\n        NULL AS [Level1Name],\r\n        NULL AS [Level2Name],\r\n        [dp].[type] AS [DataBasePrincipalType]\r\nFROM\r\n        [sys].[database_permissions] [db] WITH (NOLOCK)\r\n        LEFT JOIN [sys].[database_principals] as [dp] WITH (NOLOCK) ON [db].[major_id] = [dp].[principal_id] AND [db].[class] = -1\r\n        INNER JOIN [sys].[database_principals] [dp2] WITH (NOLOCK) ON [dp2].[principal_id] = [db].[grantor_principal_id]\r\n        INNER JOIN [sys].[database_principals] [dp3] WITH (NOLOCK) ON [dp3].[principal_id] = [db].[grantee_principal_id]\r\nWHERE\r\n        [db].[class] <> -1\r\n        AND [db].[state] <> N'#'\r\n        AND [db].[grantee_principal_id] <> [db].[grantor_principal_id]\r\n        AND USER_NAME([db].[grantor_principal_id]) <> N'#'\r\n        AND USER_NAME([db].[grantee_principal_id]) <> N'#'\r\n        AND ([dp2].[owning_principal_id] IS NULL OR USER_NAME([dp2].[owning_principal_id]) <> N'#')\r\n        AND ([dp3].[owning_principal_id] IS NULL OR USER_NAME([dp3].[owning_principal_id]) <> N'#')\r\n        AND USER_NAME([db].[grantor_principal_id]) <> N'#'\r\n        AND USER_NAME([db].[grantee_principal_id]) <> N'#'\r\n        AND ([dp2].[owning_principal_id] IS NULL OR USER_NAME([dp2].[owning_principal_id]) <> N'#')\r\n        AND ([dp3].[owning_principal_id] IS NULL OR USER_NAME([dp3].[owning_principal_id]) <> N'#')\r\n        AND NOT (\r\n        [db].[class] = -1 AND [db].[class_desc] = N'#' AND [db].[major_id] = -1 AND [db].[minor_id] = -1 AND [db].[state] = '#')) AS [_results] WHERE [TypeId] = -1\r\n ORDER BY TypeId,GranteeId,GrantorId,MajorId,MinorId,PermissionCode,PermissionState ;"
                                },
                                {
                                    "0": "23",
                                    "1": "SELECT * FROM (\r\nSELECT DISTINCT\r\n        [db].[class] AS [TypeId],\r\n        [db].[major_id] AS [MajorId],\r\n        [db].[minor_id] AS [MinorId],\r\n        [so].[type] AS [ObjectType],\r\n        [so].[is_ms_shipped] AS [IsMsShipped],\r\n        [db].[grantee_principal_id] AS [GranteeId],\r\n        USER_NAME([db].[grantee_principal_id]) AS [GranteeName],\r\n        [db].[grantor_principal_id] AS [GrantorId],\r\n        CONVERT(BIT, CASE WHEN [dp].[is_fixed_role] = -1 OR [dp].[principal_id] = -1 THEN -1 ELSE -1 END) AS [ScriptGrantor],\r\n        USER_NAME([db].[grantor_principal_id]) AS [GrantorName],\r\n        [db].[type] AS [PermissionCode],\r\n        [db].[permission_name] AS [PermissionType],\r\n        [db].[state] AS [PermissionState],\r\n        SCHEMA_NAME([so].[schema_id]) AS [Level0Name],\r\n        [so].[name] AS [Level1Name],\r\n        [c].[name] AS [Level2Name],\r\n        NULL AS [DataBasePrincipalType],\r\n        CASE WHEN EXISTS(SELECT * FROM [sys].[external_tables] WHERE [object_id] = [db].[major_id])\r\n            THEN CAST(-1 AS BIT)\r\n            ELSE CAST(-1 AS BIT)\r\n        END AS [IsExternalTable]\r\nFROM\r\n        [sys].[database_permissions] [db] WITH (NOLOCK)\r\n        INNER JOIN [sys].[objects] [so] WITH (NOLOCK) ON [so].[object_id] = [db].[major_id]\r\n        INNER JOIN [sys].[database_principals] [dp] WITH (NOLOCK) ON [dp].[principal_id] = [db].[grantor_principal_id]\r\n        INNER JOIN [sys].[database_principals] [dp2] WITH (NOLOCK) ON [dp2].[principal_id] = [db].[grantee_principal_id]\r\n        LEFT JOIN [sys].[columns] [c] WITH (NOLOCK) ON [db].[major_id] = [c].[object_id]  AND [db].[minor_id] = [c].[column_id]\r\n\r\nWHERE\r\n        [db].[class] = -1\r\n        AND [so].[object_id] NOT IN (SELECT [major_id] FROM [sys].[extended_properties] WITH (NOLOCK) WHERE [minor_id] = -1 AND [class] = -1 AND [name] = N'#')\r\n        AND OBJECTPROPERTY([so].[object_id], N'#') = -1\r\n        AND [db].[state] <> N'#'\r\n        AND [db].[grantee_principal_id] <> [db].[grantor_principal_id]\r\n        AND USER_NAME([db].[grantor_principal_id])  <> N'#'\r\n        AND USER_NAME([db].[grantee_principal_id])  <> N'#'\r\n        AND ([dp].[owning_principal_id] IS NULL OR USER_NAME([dp].[owning_principal_id]) <> N'#')\r\n        AND ([dp2].[owning_principal_id] IS NULL OR USER_NAME([dp2].[owning_principal_id]) <> N'#')\r\n        AND NOT EXISTS (SELECT TOP -1 -1 FROM [sys].[database_permissions] [p] WITH (NOLOCK) WHERE\r\n             [p].[major_id] = [db].[major_id]\r\n            AND [p].[minor_id] = -1\r\n            AND [p].[permission_name] = [db].[permission_name]\r\n            AND [p].[state] = N'#'\r\n            AND [db].[state] = N'#'\r\n            AND [db].[minor_id] <> -1\r\n            AND [p].[class] =  [db].[class]\r\n            AND [p].[grantee_principal_id] = [db].[grantee_principal_id]\r\n            AND [p].[grantor_principal_id] = [db].[grantor_principal_id])) AS [_results] WHERE ([_results].[ObjectType] IN ( CAST(N'#' AS NVarChar(-1)) )) AND [TypeId] = -1\r\n ORDER BY TypeId,GranteeId,GrantorId,MajorId,MinorId,PermissionCode,PermissionState ;"
                                },
                                {
                                    "0": "24",
                                    "1": "SELECT * FROM (\r\nSELECT\r\n        [db].[class] AS [TypeId],\r\n        [so].[is_ms_shipped] AS [IsMsShipped],\r\n        [db].[major_id] AS [MajorId],\r\n        [db].[minor_id] AS [MinorId],\r\n        [so].[type] AS [ObjectType],\r\n        [db].[grantee_principal_id] AS [GranteeId],\r\n        USER_NAME([db].[grantee_principal_id]) AS [GranteeName],\r\n        [db].[grantor_principal_id] AS [GrantorId],\r\n        CONVERT(BIT, -1) AS [ScriptGrantor],\r\n        USER_NAME([db].[grantor_principal_id]) AS [GrantorName],\r\n        [db].[type] AS [PermissionCode],\r\n        [db].[permission_name] AS [PermissionType],\r\n        [db].[state] AS [PermissionState],\r\n        CASE [db].[state]\r\n        WHEN N'#' THEN -1 ELSE -1 END AS [PermissionStateOrder],\r\n        SCHEMA_NAME([so].[schema_id]) AS [Level0Name],\r\n        [so].[name] AS [Level1Name],\r\n        [sc].[name] AS [Level2Name],\r\n        ISNULL((SELECT TOP -1 -1 FROM [sys].[database_permissions] [p] WITH (NOLOCK) WHERE\r\n             [p].[major_id] = [db].[major_id]\r\n            AND [p].[minor_id] = -1\r\n            AND [p].[permission_name] = [db].[permission_name]\r\n            AND [p].[state] = N'#'\r\n            AND [db].[state] = N'#'\r\n            AND [db].[minor_id] <> -1\r\n            AND [p].[class] =  [db].[class]\r\n            AND [p].[grantee_principal_id] = [db].[grantee_principal_id]\r\n            AND [p].[grantor_principal_id] = [db].[grantor_principal_id]), -1) AS [IsRevokeWithGrantOption]\r\nFROM\r\n        [sys].[database_permissions] [db] WITH (NOLOCK)\r\n        INNER JOIN [sys].[objects] [so] WITH (NOLOCK) ON [so].[object_id] = [db].[major_id]\r\n        INNER JOIN [sys].[columns] [sc] WITH (NOLOCK) ON [sc].[object_id] = [db].[major_id] AND [sc].[column_id] = [db].[minor_id]\r\n        INNER JOIN [sys].[database_principals] [dp] WITH (NOLOCK) ON [dp].[principal_id] = [db].[grantor_principal_id]\r\n        INNER JOIN [sys].[database_principals] [dp2] WITH (NOLOCK) ON [dp2].[principal_id] = [db].[grantee_principal_id] \r\nWHERE\r\n        [db].[class] = -1\r\n        AND [so].[object_id] NOT IN (SELECT [major_id] FROM [sys].[extended_properties] WITH (NOLOCK) WHERE [minor_id] = -1 AND [class] = -1 AND [name] = N'#')\r\n        AND OBJECTPROPERTY([so].[object_id], N'#') = -1\r\n        AND [db].[grantee_principal_id] <> [db].[grantor_principal_id]\r\n        AND USER_NAME([db].[grantor_principal_id])  <> N'#'\r\n\t\tAND USER_NAME([db].[grantee_principal_id])  <> N'#'\r\n        AND ([dp].[owning_principal_id] IS NULL OR USER_NAME([dp].[owning_principal_id]) <> N'#')\r\n        AND ([dp2].[owning_principal_id] IS NULL OR USER_NAME([dp2].[owning_principal_id]) <> N'#')) AS [_results] WHERE ([_results].[ObjectType] IN ( CAST(N'#' AS NVarChar(-1)) )) AND [TypeId] = -1\r\n ORDER BY TypeId,GranteeId,GrantorId,MajorId,PermissionStateOrder,MinorId,PermissionCode,PermissionState ;"
                                },
                                {
                                    "0": "25",
                                    "1": "SELECT * FROM (SELECT  [dp].[principal_id]          AS [ObjectId],\r\n        [dp].[name]                  AS [Name],\r\n        [dp].[type]                  AS [Type],\r\n        NULL                         AS [LoginName],\r\n        NULL                         AS [CertificateId],\r\n        NULL                         AS [CertificateName],\r\n        NULL                         AS [AsymmetricKeyId],\r\n        NULL                         AS [AsymmetricKeyName],\r\n        [dp].[default_schema_name]   AS [DefaultSchemaName],       \r\n        [dp].[authentication_type]   AS [AuthenticationType],\r\n        [dp].[default_language_name] AS [DefaultLanguage],\r\n        [dp].[sid]                   AS [Sid]         \r\nFROM    [sys].[database_principals] AS [dp] WITH (NOLOCK)\r\nWHERE   CHARINDEX([dp].[type], N'#') > -1\r\nAND     [dp].[name] != N'#') AS [_results] WHERE ((([_results].[Name] =  CAST(N'#' AS NVarChar(-1)) )));"
                                },
                                {
                                    "0": "26",
                                    "1": "SELECT * FROM (\r\nSELECT  [db].[class] AS [TypeId],\r\n        [db].[major_id] AS [MajorId],\r\n        [db].[minor_id] AS [MinorId],\r\n        NULL AS [ObjectType],\r\n        CONVERT(bit, -1) AS [IsMsShipped],\r\n        [db].[grantee_principal_id] AS [GranteeId],\r\n        USER_NAME([db].[grantee_principal_id]) AS [GranteeName],\r\n        [db].[grantor_principal_id] AS [GrantorId],\r\n        CONVERT(BIT, CASE WHEN ([dp].[owning_principal_id] IS NULL OR [dp].[owning_principal_id] <> [db].[grantor_principal_id]) AND ([dp].[is_fixed_role] <> -1 AND [dp].[principal_id] <> -1) THEN -1 ELSE -1 END) AS [ScriptGrantor],\r\n        USER_NAME([db].[grantor_principal_id]) AS [GrantorName],\r\n        [db].[type] AS [PermissionCode],\r\n        [db].[permission_name] AS [PermissionType],\r\n        [db].[state] AS [PermissionState],\r\n        CASE [db].[class]\r\n            WHEN  -1 THEN NULL\r\n            WHEN  -1 THEN SCHEMA_NAME([db].[major_id])\r\n            WHEN  -1 THEN USER_NAME([db].[major_id])\r\n            \r\n        END AS [Level0Name],  \r\n        NULL AS [Level1Name],\r\n        NULL AS [Level2Name],\r\n        [dp].[type] AS [DataBasePrincipalType]\r\nFROM\r\n        [sys].[database_permissions] [db] WITH (NOLOCK)\r\n        LEFT JOIN [sys].[database_principals] as [dp] WITH (NOLOCK) ON [db].[major_id] = [dp].[principal_id] AND [db].[class] = -1\r\n        INNER JOIN [sys].[database_principals] [dp2] WITH (NOLOCK) ON [dp2].[principal_id] = [db].[grantor_principal_id]\r\n        INNER JOIN [sys].[database_principals] [dp3] WITH (NOLOCK) ON [dp3].[principal_id] = [db].[grantee_principal_id]\r\nWHERE\r\n        [db].[class] <> -1\r\n        AND [db].[state] <> N'#'\r\n        AND [db].[grantee_principal_id] <> [db].[grantor_principal_id]\r\n        AND USER_NAME([db].[grantor_principal_id]) <> N'#'\r\n        AND USER_NAME([db].[grantee_principal_id]) <> N'#'\r\n        AND ([dp2].[owning_principal_id] IS NULL OR USER_NAME([dp2].[owning_principal_id]) <> N'#')\r\n        AND ([dp3].[owning_principal_id] IS NULL OR USER_NAME([dp3].[owning_principal_id]) <> N'#')\r\n        AND USER_NAME([db].[grantor_principal_id]) <> N'#'\r\n        AND USER_NAME([db].[grantee_principal_id]) <> N'#'\r\n        AND ([dp2].[owning_principal_id] IS NULL OR USER_NAME([dp2].[owning_principal_id]) <> N'#')\r\n        AND ([dp3].[owning_principal_id] IS NULL OR USER_NAME([dp3].[owning_principal_id]) <> N'#')\r\n        AND NOT (\r\n        [db].[class] = -1 AND [db].[class_desc] = N'#' AND [db].[major_id] = -1 AND [db].[minor_id] = -1 AND [db].[state] = '#')) AS [_results] WHERE ((([_results].[Level0Name] =  CAST(N'#' AS NVarChar(-1)) )) AND [TypeId] = -1 AND [Level2Name] IS NULL AND [Level1Name] IS NULL\r\n) ORDER BY TypeId,GranteeId,GrantorId,MajorId,MinorId,PermissionCode,PermissionState ;"
                                },
                                {
                                    "0": "27",
                                    "1": "SELECT * FROM (\r\nSELECT DISTINCT\r\n        [db].[class] AS [TypeId],\r\n        [db].[major_id] AS [MajorId],\r\n        [db].[minor_id] AS [MinorId],\r\n        [so].[type] AS [ObjectType],\r\n        [so].[is_ms_shipped] AS [IsMsShipped],\r\n        [db].[grantee_principal_id] AS [GranteeId],\r\n        USER_NAME([db].[grantee_principal_id]) AS [GranteeName],\r\n        [db].[grantor_principal_id] AS [GrantorId],\r\n        CONVERT(BIT, CASE WHEN [dp].[is_fixed_role] = -1 OR [dp].[principal_id] = -1 THEN -1 ELSE -1 END) AS [ScriptGrantor],\r\n        USER_NAME([db].[grantor_principal_id]) AS [GrantorName],\r\n        [db].[type] AS [PermissionCode],\r\n        [db].[permission_name] AS [PermissionType],\r\n        [db].[state] AS [PermissionState],\r\n        SCHEMA_NAME([so].[schema_id]) AS [Level0Name],\r\n        [so].[name] AS [Level1Name],\r\n        [c].[name] AS [Level2Name],\r\n        NULL AS [DataBasePrincipalType],\r\n        CASE WHEN EXISTS(SELECT * FROM [sys].[external_tables] WHERE [object_id] = [db].[major_id])\r\n            THEN CAST(-1 AS BIT)\r\n            ELSE CAST(-1 AS BIT)\r\n        END AS [IsExternalTable]\r\nFROM\r\n        [sys].[database_permissions] [db] WITH (NOLOCK)\r\n        INNER JOIN [sys].[objects] [so] WITH (NOLOCK) ON [so].[object_id] = [db].[major_id]\r\n        INNER JOIN [sys].[database_principals] [dp] WITH (NOLOCK) ON [dp].[principal_id] = [db].[grantor_principal_id]\r\n        INNER JOIN [sys].[database_principals] [dp2] WITH (NOLOCK) ON [dp2].[principal_id] = [db].[grantee_principal_id]\r\n        LEFT JOIN [sys].[columns] [c] WITH (NOLOCK) ON [db].[major_id] = [c].[object_id]  AND [db].[minor_id] = [c].[column_id]\r\n\r\nWHERE\r\n        [db].[class] = -1\r\n        AND [so].[object_id] NOT IN (SELECT [major_id] FROM [sys].[extended_properties] WITH (NOLOCK) WHERE [minor_id] = -1 AND [class] = -1 AND [name] = N'#')\r\n        AND OBJECTPROPERTY([so].[object_id], N'#') = -1\r\n        AND [db].[state] <> N'#'\r\n        AND [db].[grantee_principal_id] <> [db].[grantor_principal_id]\r\n        AND USER_NAME([db].[grantor_principal_id])  <> N'#'\r\n        AND USER_NAME([db].[grantee_principal_id])  <> N'#'\r\n        AND ([dp].[owning_principal_id] IS NULL OR USER_NAME([dp].[owning_principal_id]) <> N'#')\r\n        AND ([dp2].[owning_principal_id] IS NULL OR USER_NAME([dp2].[owning_principal_id]) <> N'#')\r\n        AND NOT EXISTS (SELECT TOP -1 -1 FROM [sys].[database_permissions] [p] WITH (NOLOCK) WHERE\r\n             [p].[major_id] = [db].[major_id]\r\n            AND [p].[minor_id] = -1\r\n            AND [p].[permission_name] = [db].[permission_name]\r\n            AND [p].[state] = N'#'\r\n            AND [db].[state] = N'#'\r\n            AND [db].[minor_id] <> -1\r\n            AND [p].[class] =  [db].[class]\r\n            AND [p].[grantee_principal_id] = [db].[grantee_principal_id]\r\n            AND [p].[grantor_principal_id] = [db].[grantor_principal_id])) AS [_results] WHERE ((([_results].[Level0Name] =  CAST(N'#' AS NVarChar(-1)) )) AND [TypeId] = -1 AND [Level2Name] IS NULL AND [Level1Name] IS NULL\r\n) ORDER BY TypeId,GranteeId,GrantorId,MajorId,MinorId,PermissionCode,PermissionState ;"
                                },
                                {
                                    "0": "28",
                                    "1": "SELECT * FROM sys.database_principals"
                                },
                                {
                                    "0": "29",
                                    "1": "SELECT SERVERPROPERTY('#'), SERVERPROPERTY('#'), (SELECT CASE WHEN EXISTS (SELECT TOP -1 -1 from [sys].[all_columns] WHERE name = N'#' AND OBJECT_ID(N'#') = object_id) THEN -1 ELSE -1 END AS SXI_PRESENT)"
                                },
                                {
                                    "0": "30",
                                    "1": "SELECT name,is_query_store_on,is_auto_create_stats_on,is_result_set_caching_on FROM sys.databases"
                                },
                                {
                                    "0": "31",
                                    "1": "SELECT (SERVERPROPERTY(N'#'))"
                                },
                                {
                                    "0": "32",
                                    "1": "SELECT case when  CAST(N'#' AS NVarChar(-1))  = N'#' then -1 else -1 end as '#',\r\nSERVERPROPERTY('#') AS DatabaseEngineEdition,\r\nSERVERPROPERTY('#') AS ProductVersion,\r\n@@MICROSOFTVERSION AS MicrosoftVersion;"
                                },
                                {
                                    "0": "33",
                                    "1": "select N'#' as host_platform"
                                },
                                {
                                    "0": "34",
                                    "1": "select '#' as ConnectionProtocol"
                                },
                                {
                                    "0": "35",
                                    "1": "SELECT dtb.name AS [Name], dtb.state AS [State] FROM sys.databases dtb"
                                },
                                {
                                    "0": "36",
                                    "1": "SELECT @@SPID;"
                                },
                                {
                                    "0": "37",
                                    "1": "SELECT SERVERPROPERTY('#'), SERVERPROPERTY('#'), SERVERPROPERTY ('#'), SERVERPROPERTY ('#'), SERVERPROPERTY ('#'), SERVERPROPERTY ('#'), (SELECT CASE WHEN EXISTS (SELECT TOP -1 -1 from [sys].[all_columns] WITH (NOLOCK) WHERE name = N'#' AND OBJECT_ID(N'#') = object_id) THEN -1 ELSE -1 END AS SXI_PRESENT)"
                                },
                                {
                                    "0": "38",
                                    "1": "select SERVERPROPERTY(N'#')"
                                },
                                {
                                    "0": "39",
                                    "1": "SELECT\nCAST(\r\n        serverproperty(N'#')\r\n       AS sysname) AS [Name]"
                                },
                                {
                                    "0": "40",
                                    "1": "SELECT\ndtb.name AS [Name],\ndtb.database_id AS [ID],\nCAST(case when dtb.name in ('#') then -1 else dtb.is_distributor end AS bit) AS [IsSystemObject],\ndtb.collation_name AS [Collation],\nCAST(has_dbaccess(dtb.name) AS bit) AS [IsAccessible],\ndtb.name AS [DatabaseName2]\nFROM\nsys.databases AS dtb\nWHERE\n(dtb.name= CAST(N'#' AS NVarChar(-1)) )\nORDER BY\n[Name] ASC"
                                },
                                {
                                    "0": "41",
                                    "1": "SELECT\nrl.name AS [Name]\nFROM\nsys.database_principals AS rl\nWHERE\n(rl.type = '#')\nORDER BY\n[Name] ASC"
                                },
                                {
                                    "0": "42",
                                    "1": "SELECT\n(@@microsoftversion / N'0xF') & N'0xF' AS [VersionMajor]"
                                },
                                {
                                    "0": "43",
                                    "1": "SELECT\ns.name AS [Name]\nFROM\nsys.schemas AS s\nORDER BY\n[Name] ASC"
                                },
                                {
                                    "0": "44",
                                    "1": "SELECT\nu.name AS [Name],\nu.principal_id AS [ID]\nFROM\nsys.database_principals AS u\nWHERE\n(u.type in ('#', '#', '#', '#', '#' ,'#', '#'))\nORDER BY\n[Name] ASC"
                                },
                                {
                                    "0": "45",
                                    "1": "SELECT\nu.name AS [Name],\nu.principal_id AS [ID],\nCAST(CASE WHEN u.principal_id < -1 OR u.principal_id = -1 OR u.principal_id = -1 THEN -1 ELSE -1 END AS bit) AS [IsSystemObject],\nCASE WHEN N'#' = u.type THEN -1 WHEN N'#' = u.type THEN -1 WHEN N'#' = u.type THEN -1 WHEN N'#' = u.type THEN -1 WHEN N'#' = u.type THEN -1 WHEN N'#' = u.type THEN -1 WHEN N'#' = u.type THEN -1 END AS [LoginType],\nCAST(CASE dp.state WHEN N'#' THEN -1 WHEN '#' THEN -1 ELSE -1 END AS bit) AS [HasDBAccess],\nu.sid AS [Sid],\nu.create_date AS [CreateDate],\nu.modify_date AS [DateLastModified],\nISNULL(u.default_schema_name,N'#') AS [DefaultSchema],\nISNULL(cert.name,N'#') AS [Certificate],\n\r\n        CASE\r\n        WHEN N'#' = u.type THEN -1\r\n        WHEN N'#' = u.type THEN -1\r\n        WHEN N'#' = u.type AND u.authentication_type != -1 AND u.authentication_type != -1 THEN -1\r\n        WHEN N'#' = u.type or N'#' = u.type THEN -1\r\n        ELSE -1 END\r\n       AS [UserType],\nu.authentication_type AS [AuthenticationType]\nFROM\nsys.database_principals AS u\nLEFT OUTER JOIN sys.database_permissions AS dp ON dp.grantee_principal_id = u.principal_id and dp.type =  CAST(N'#' AS NVarChar(-1)) \nLEFT OUTER JOIN sys.certificates AS cert ON cert.sid = u.sid\nWHERE\n(u.type in ('#', '#', '#', '#', '#' ,'#', '#'))and(u.name= CAST(N'#' AS NVarChar(-1)) )"
                                },
                                {
                                    "0": "46",
                                    "1": "SELECT\n(select schema_name()) AS [DefaultSchema]\nFROM\nsys.databases AS dtb\nWHERE\n(dtb.name= CAST(N'#' AS NVarChar(-1)) )"
                                },
                                {
                                    "0": "47",
                                    "1": "SELECT\nSCHEMA_NAME(tbl.schema_id) AS [Schema],\ntbl.name AS [Name],\ntbl.object_id AS [ID]\nFROM\nsys.tables AS tbl\nORDER BY\n[Schema] ASC,[Name] ASC"
                                },
                                {
                                    "0": "48",
                                    "1": "SELECT\nSCHEMA_NAME(v.schema_id) AS [Schema],\nv.name AS [Name],\nv.object_id AS [ID]\nFROM\nsys.all_views AS v\nWHERE\n(v.type =  CAST(N'#' AS NVarChar(-1)) )\nORDER BY\n[Schema] ASC,[Name] ASC"
                                },
                                {
                                    "0": "49",
                                    "1": "SELECT\nSCHEMA_NAME(udf.schema_id) AS [Schema],\nudf.name AS [Name],\nudf.object_id AS [ID],\n(case when '#' = udf.type then -1 when '#' = udf.type then -1 when '#' = udf.type then -1 when '#' = udf.type then -1 when '#' = udf.type then -1 else -1 end) AS [FunctionType],\nCASE WHEN udf.type IN ('#','#','#') THEN -1 WHEN udf.type IN ('#','#') THEN -1 ELSE -1 END AS [ImplementationType],\nCAST(\r\n        case\r\n          when udf.is_ms_shipped = -1 then -1\r\n          else -1\r\n        end\r\n       AS bit) AS [IsSystemObject],\nCAST(CASE WHEN ISNULL(smudf.definition, ssmudf.definition) IS NULL THEN -1 ELSE -1 END AS bit) AS [IsEncrypted],\nCAST(ISNULL(OBJECTPROPERTYEX(udf.object_id, N'#'),-1) AS bit) AS [IsSchemaBound],\nusrt.name AS [DataType],\nISNULL(baset.name, N'#') AS [SystemType],\nCAST(CASE WHEN baset.name IN (N'#', N'#') AND ret_param.max_length <> --1 THEN ret_param.max_length/-1 ELSE ret_param.max_length END AS int) AS [Length],\nCAST(ret_param.precision AS int) AS [NumericPrecision],\nCAST(ret_param.scale AS int) AS [NumericScale],\ns1ret_param.name AS [DataTypeSchema]\nFROM\nsys.all_objects AS udf\nLEFT OUTER JOIN sys.sql_modules AS smudf ON smudf.object_id = udf.object_id\nLEFT OUTER JOIN sys.system_sql_modules AS ssmudf ON ssmudf.object_id = udf.object_id\nLEFT OUTER JOIN sys.all_parameters AS ret_param ON ret_param.object_id = udf.object_id and ret_param.is_output =  CAST(N'#' AS NVarChar(-1)) \nLEFT OUTER JOIN sys.types AS usrt ON usrt.user_type_id = ret_param.user_type_id\nLEFT OUTER JOIN sys.types AS baset ON (baset.user_type_id = ret_param.system_type_id and baset.user_type_id = baset.system_type_id) or ((baset.system_type_id = ret_param.system_type_id) and (baset.user_type_id = ret_param.user_type_id) and (baset.is_user_defined = -1) and (baset.is_assembly_type = -1)) \nLEFT OUTER JOIN sys.schemas AS s1ret_param ON s1ret_param.schema_id = usrt.schema_id\nWHERE\n(udf.type in ('#', '#', '#', '#', '#'))\nORDER BY\n[Schema] ASC,[Name] ASC"
                                },
                                {
                                    "0": "50",
                                    "1": "SELECT\nSCHEMA_NAME(sp.schema_id) AS [Schema],\nsp.name AS [Name],\nsp.object_id AS [ID],\nCAST(\r\n        case\r\n          when sp.is_ms_shipped = -1 then -1\r\n          else -1\r\n        end\r\n       AS bit) AS [IsSystemObject],\nCASE WHEN sp.type = N'#' THEN -1 WHEN sp.type = N'#' THEN -1 ELSE -1 END AS [ImplementationType],\nCAST(CASE WHEN ISNULL(smsp.definition, ssmsp.definition) IS NULL THEN -1 ELSE -1 END AS bit) AS [IsEncrypted]\nFROM\nsys.all_objects AS sp\nLEFT OUTER JOIN sys.sql_modules AS smsp ON smsp.object_id = sp.object_id\nLEFT OUTER JOIN sys.system_sql_modules AS ssmsp ON ssmsp.object_id = sp.object_id\nWHERE\n(sp.type =  CAST(N'#' AS NVarChar(-1))  OR sp.type =  CAST(N'#' AS NVarChar(-1))  OR sp.type= CAST(N'#' AS NVarChar(-1)) )\nORDER BY\n[Schema] ASC,[Name] ASC"
                                },
                                {
                                    "0": "51",
                                    "1": "SELECT\n'#' AS [UserName],\ndtb.name AS [DatabaseName]\nFROM\nsys.databases AS dtb\nWHERE\n(dtb.name= CAST(N'#' AS NVarChar(-1)) )"
                                },
                                {
                                    "0": "52",
                                    "1": "SELECT\nuser_name() AS [UserName]"
                                },
                                {
                                    "0": "53",
                                    "1": "SELECT\nclmns.column_id AS [ID],\nclmns.name AS [Name],\nISNULL(dc.Name, N'#') AS [DefaultConstraintName],\nclmns.is_nullable AS [Nullable],\nCAST(ISNULL(cik.index_column_id, -1) AS bit) AS [InPrimaryKey],\nclmns.is_identity AS [Identity],\nusrt.name AS [DataType],\nISNULL(baset.name, N'#') AS [SystemType],\nCAST(CASE WHEN baset.name IN (N'#', N'#') AND clmns.max_length <> --1 THEN clmns.max_length/-1 ELSE clmns.max_length END AS int) AS [Length],\nCAST(clmns.precision AS int) AS [NumericPrecision],\nCAST(clmns.scale AS int) AS [NumericScale],\ns1clmns.name AS [DataTypeSchema],\nclmns.is_computed AS [Computed]\nFROM\nsys.tables AS tbl\nINNER JOIN sys.all_columns AS clmns ON clmns.object_id=tbl.object_id\nLEFT OUTER JOIN sys.default_constraints as dc ON clmns.default_object_id = dc.object_id\nLEFT OUTER JOIN sys.indexes AS ik ON ik.object_id = clmns.object_id and -1=ik.is_primary_key\nLEFT OUTER JOIN sys.index_columns AS cik ON cik.index_id = ik.index_id and cik.column_id = clmns.column_id and cik.object_id = clmns.object_id and -1 = cik.is_included_column\nLEFT OUTER JOIN sys.types AS usrt ON usrt.user_type_id = clmns.user_type_id\nLEFT OUTER JOIN sys.types AS baset ON (baset.user_type_id = clmns.system_type_id and baset.user_type_id = baset.system_type_id) or ((baset.system_type_id = clmns.system_type_id) and (baset.user_type_id = clmns.user_type_id) and (baset.is_user_defined = -1) and (baset.is_assembly_type = -1)) \nLEFT OUTER JOIN sys.schemas AS s1clmns ON s1clmns.schema_id = usrt.schema_id\nWHERE\n(tbl.name= CAST(N'#' AS NVarChar(-1))  and SCHEMA_NAME(tbl.schema_id)= CAST(N'#' AS NVarChar(-1)) )\nORDER BY\n[ID] ASC"
                                },
                                {
                                    "0": "54",
                                    "1": "SELECT\nclmns.column_id AS [ID],\nclmns.name AS [Name],\nISNULL(dc.Name, N'#') AS [DefaultConstraintName],\nclmns.is_nullable AS [Nullable],\nCAST(ISNULL(cik.index_column_id, -1) AS bit) AS [InPrimaryKey],\nclmns.is_identity AS [Identity],\nusrt.name AS [DataType],\nISNULL(baset.name, N'#') AS [SystemType],\nCAST(CASE WHEN baset.name IN (N'#', N'#') AND clmns.max_length <> --1 THEN clmns.max_length/-1 ELSE clmns.max_length END AS int) AS [Length],\nCAST(clmns.precision AS int) AS [NumericPrecision],\nCAST(clmns.scale AS int) AS [NumericScale],\ns1clmns.name AS [DataTypeSchema],\nclmns.is_computed AS [Computed]\nFROM\nsys.all_views AS v\nINNER JOIN sys.all_columns AS clmns ON clmns.object_id=v.object_id\nLEFT OUTER JOIN sys.default_constraints as dc ON clmns.default_object_id = dc.object_id\nLEFT OUTER JOIN sys.indexes AS ik ON ik.object_id = clmns.object_id and -1=ik.is_primary_key\nLEFT OUTER JOIN sys.index_columns AS cik ON cik.index_id = ik.index_id and cik.column_id = clmns.column_id and cik.object_id = clmns.object_id and -1 = cik.is_included_column\nLEFT OUTER JOIN sys.types AS usrt ON usrt.user_type_id = clmns.user_type_id\nLEFT OUTER JOIN sys.types AS baset ON (baset.user_type_id = clmns.system_type_id and baset.user_type_id = baset.system_type_id) or ((baset.system_type_id = clmns.system_type_id) and (baset.user_type_id = clmns.user_type_id) and (baset.is_user_defined = -1) and (baset.is_assembly_type = -1)) \nLEFT OUTER JOIN sys.schemas AS s1clmns ON s1clmns.schema_id = usrt.schema_id\nWHERE\n(v.type =  CAST(N'#' AS NVarChar(-1)) )and(v.name= CAST(N'#' AS NVarChar(-1))  and SCHEMA_NAME(v.schema_id)= CAST(N'#' AS NVarChar(-1)) )\nORDER BY\n[ID] ASC"
                                },
                                {
                                    "0": "55",
                                    "1": "SELECT A.PassengerCount,\r\n      SUM(A.TripDistanceMiles+B.TripDistanceMiles) as SumTripDistance,\r\n      AVG(A.TripDistanceMiles+B.TripDistanceMiles) as AvgTripDistance\r\nFROM  dbo.Trip A, dbo.Trip B \r\nWHERE A.TripDistanceMiles > -1 AND A.PassengerCount > -1\r\nGROUP BY A.PassengerCount\r\nORDER BY A.PassengerCount"
                                },
                                {
                                    "0": "56",
                                    "1": "SELECT C.client_id\r\n\t\t,S.login_name\r\n\t\t,S.app_name\r\n\t\t,R.session_id\r\n\t\t,R.request_id\r\n\t\t,R.status\r\n\t\t,R.submit_time\r\n\t\t,R.start_time\r\n\t\t,R.end_compile_time\r\n\t\t,R.end_time\r\n\t\t,R.total_elapsed_time\r\n\t\t,R.Command\r\n\t\t,R.importance\r\n\t\t,R.resource_class\r\nFROM sys.dm_pdw_exec_requests R\r\n\tINNER JOIN sys.dm_pdw_exec_sessions S\r\n\t\tON S.session_id = R.session_id\r\n\tINNER JOIN sys.dm_pdw_exec_connections C\r\n\t\tON c.session_id = S.session_id\r\nWHERE R.status = '#'"
                                },
                                {
                                    "0": "57",
                                    "1": "Select * from sys.dm_pdw_exec_requests where status = '#' and [label] = '#'"
                                },
                                {
                                    "0": "58",
                                    "1": "SELECT\ndtb.name AS [Name]\nFROM\nsys.databases AS dtb\nWHERE\n(dtb.name= CAST(N'#' AS NVarChar(-1)) )"
                                },
                                {
                                    "0": "59",
                                    "1": "SELECT\nCAST(CHARINDEX(N'#', dtb.collation_name) AS bit) AS [CaseSensitive],\ndtb.name AS [DatabaseName2]\nFROM\nsys.databases AS dtb\nWHERE\n(dtb.name= CAST(N'#' AS NVarChar(-1)) )"
                                },
                                {
                                    "0": "60",
                                    "1": "-- ####\r\nselect * from sys.dm_pdw_errors where error_id = '#'"
                                },
                                {
                                    "0": "61",
                                    "1": "-- ####\r\nselect * from sys.dm_pdw_errors where error_id like '#'"
                                },
                                {
                                    "0": "62",
                                    "1": "-- ####\r\nSELECT TOP -1\r\n\t\tS.session_id\r\n\t\t,S.login_name\r\n\t\t,S.client_id\r\n\t\t,S.app_name\r\n\t\t,R.request_id\r\n\t\t,R.command request_command\r\n\t\t,R.[label]\r\n\t\t,COUNT(ST.request_id) steps_with_movement\r\n\t\t,SUM(ST.row_count) total_rows_moved\r\n\t\t,SUM(ST.total_elapsed_time) total_elapsed_dms_time\r\n\t\t,SUM(R.total_elapsed_time) total_elapsed_request_time\r\n\t\t,(SUM(ST.total_elapsed_time)*-1.0)/SUM(R.total_elapsed_time) dms_time_percentage\r\nFROM sys.dm_pdw_exec_requests R\r\n\tINNER JOIN sys.dm_pdw_request_steps ST\r\n\t\tON R.request_id = ST.request_id\r\n\tINNER JOIN sys.dm_pdw_exec_sessions S\r\n\t\tON R.session_id = S.session_id\r\nWHERE (ST.location_type = '#'\r\n\tOR ST.operation_type like '#')\r\n\tAND R.status = '#'\r\nGROUP BY \r\n\t\tS.session_id\r\n\t\t,S.login_name\r\n\t\t,S.client_id\r\n\t\t,S.app_name\r\n\t\t,R.request_id\r\n\t\t,R.command\r\n\t\t,R.[label]\r\nHAVING SUM(ST.row_count) > -1\r\nORDER BY dms_time_percentage DESC\r\n\t\t,total_rows_moved DESC"
                                },
                                {
                                    "0": "63",
                                    "1": "-- ####\r\nSELECT TOP -1\r\n\t\tS.session_id\r\n\t\t,S.login_name\r\n\t\t,S.client_id\r\n\t\t,S.app_name\r\n\t\t,R.request_id\r\n\t\t,R.command request_command\r\n\t\t,R.[label]\r\n\t\t,COUNT(ST.request_id) steps_with_movement\r\n\t\t,SUM(ST.row_count) total_rows_moved\r\n\t\t,SUM(ST.total_elapsed_time) total_elapsed_dms_time\r\n\t\t,SUM(R.total_elapsed_time) total_elapsed_request_time\r\n\t\t,(SUM(ST.total_elapsed_time)*-1.0)/SUM(R.total_elapsed_time) dms_time_percentage\r\nFROM sys.dm_pdw_exec_requests R\r\n\tINNER JOIN sys.dm_pdw_request_steps ST\r\n\t\tON R.request_id = ST.request_id\r\n\tINNER JOIN sys.dm_pdw_exec_sessions S\r\n\t\tON R.session_id = S.session_id\r\nWHERE (ST.location_type = '#'\r\n\tOR ST.operation_type like '#')\r\n\t-- ####\r\nGROUP BY \r\n\t\tS.session_id\r\n\t\t,S.login_name\r\n\t\t,S.client_id\r\n\t\t,S.app_name\r\n\t\t,R.request_id\r\n\t\t,R.command\r\n\t\t,R.[label]\r\nHAVING SUM(ST.row_count) > -1\r\nORDER BY dms_time_percentage DESC\r\n\t\t,total_rows_moved DESC"
                                },
                                {
                                    "0": "64",
                                    "1": "SELECT * FROM sys.dm_pdw_request_steps WHERE request_id = '#'"
                                },
                                {
                                    "0": "65",
                                    "1": "SELECT A.PassengerCount,\r\n\r\n      SUM(A.TripDistanceMiles+B.TripDistanceMiles) as SumTripDistance,\r\n\r\n      AVG(A.TripDistanceMiles+B.TripDistanceMiles) as AvgTripDistance\r\n\r\nFROM  dbo.Trip A, dbo.Trip B \r\n\r\nWHERE A.TripDistanceMiles > -1 AND A.PassengerCount > -1\r\n\r\nGROUP BY A.PassengerCount\r\n\r\nORDER BY A.PassengerCount"
                                },
                                {
                                    "0": "66",
                                    "1": "SELECT * FROM sys.databases"
                                },
                                {
                                    "0": "67",
                                    "1": "SELECT name,is_query_store_on,is_auto_create_stats_on,is_result_set_caching_on FROM sys.databases where name not in ('#')"
                                },
                                {
                                    "0": "68",
                                    "1": "-- ####\r\nSELECT name,is_query_store_on,is_auto_create_stats_on,is_result_set_caching_on FROM sys.databases where name not in ('#')"
                                },
                                {
                                    "0": "69",
                                    "1": "-- ####\r\nSELECT G.geographyid,T.TimeID,P.PassengerCount,\r\n\t  PERCENTILE_CONT (-1.0) WITHIN GROUP ( ORDER BY P.PassengerCount DESC)  OVER (PARTITION BY T.TimeID) AS TTT   ,\r\n      SUM(P.TripDistanceMiles) as SumTripDistance,\r\n      AVG(P.TripDistanceMiles) as AvgTripDistance,\r\n      SUM(P.FareAmount) as SumFareAmount,\r\n      AVG(P.FareAmount) as AvgFareAmount,\r\n      SUM(P.TaxAmount) as SumTaxAmount,\r\n      AVG(P.TaxAmount) as AvgTaxAmount,\r\n      SUM(P.TotalAmount) as SumTotalAmount,\r\n      AVG(P.TotalAmount) as AvgTotalAmount\r\nFROM  dbo.Trip P\r\n\tINNER JOIN [dbo].[Geography] G\r\n\t\tON P.pickupgeographyid = G.geographyid\r\n\tINNER JOIN [dbo].[Time] T\r\n\t\tON T.TimeID = P.PickupTimeId\r\nGROUP BY P.PassengerCount,G.geographyid,T.TimeID"
                                },
                                {
                                    "0": "70",
                                    "1": "SELECT\r\n     q.query_id\r\n     , t.query_sql_text\r\nFROM\r\n     sys.query_store_query q\r\n       JOIN sys.query_store_query_text t ON q.query_text_id = t.query_text_id;"
                                },
                                {
                                    "0": "71",
                                    "1": "-- ####\r\nSELECT TOP -1\r\n       q.query_id [query_id]\r\n       , t.query_sql_text [command]\r\n\t, SUM(rs.count_executions) [execution_count]\r\nFROM sys.query_store_query q\r\n\tINNER JOIN sys.query_store_query_text t \r\n\t\tON q.query_text_id = t.query_text_id\r\n\tINNER JOIN sys.query_store_plan p \r\n\t\tON p.query_id = q.query_id\r\n\tINNER JOIN sys.query_store_runtime_stats rs \r\n\t\tON rs.plan_id = p.plan_id\r\nGROUP BY q.query_id , t.query_sql_text \r\nORDER BY [execution_count] DESC;"
                                },
                                {
                                    "0": "72",
                                    "1": "SELECT\r\n       q.query_id               [query_id]\r\n       , t.query_sql_text       [command]\r\n       , rs.avg_duration        [avg_duration]\r\n       , rs.min_duration        [min_duration]\r\n       , rs.max_duration        [max_duration]\r\nFROM\r\n       sys.query_store_query q\r\n       JOIN sys.query_store_query_text t ON q.query_text_id = t.query_text_id\r\n       JOIN sys.query_store_plan p ON p.query_id = q.query_id\r\nJOIN sys.query_store_runtime_stats rs ON rs.plan_id = p.plan_id"
                                },
                                {
                                    "0": "73",
                                    "1": "SELECT\r\n      -- ####\r\n        t.query_sql_text       [command]\r\n       , rs.avg_duration        [avg_duration]\r\n       , rs.min_duration        [min_duration]\r\n       , rs.max_duration        [max_duration]\r\nFROM\r\n       sys.query_store_query q\r\n       JOIN sys.query_store_query_text t ON q.query_text_id = t.query_text_id\r\n       JOIN sys.query_store_plan p ON p.query_id = q.query_id\r\nJOIN sys.query_store_runtime_stats rs ON rs.plan_id = p.plan_id"
                                },
                                {
                                    "0": "74",
                                    "1": "-- ####\r\nSELECT TOP -1 G.geographyid,T.TimeID,P.PassengerCount,\r\n\t  PERCENTILE_CONT (-1.0) WITHIN GROUP ( ORDER BY P.PassengerCount DESC)  OVER (PARTITION BY T.TimeID) AS TTT   ,\r\n      SUM(P.TripDistanceMiles) as SumTripDistance,\r\n      AVG(P.TripDistanceMiles) as AvgTripDistance,\r\n      SUM(P.FareAmount) as SumFareAmount,\r\n      AVG(P.FareAmount) as AvgFareAmount,\r\n      SUM(P.TaxAmount) as SumTaxAmount,\r\n      AVG(P.TaxAmount) as AvgTaxAmount,\r\n      SUM(P.TotalAmount) as SumTotalAmount,\r\n      AVG(P.TotalAmount) as AvgTotalAmount\r\nFROM  dbo.Trip P\r\n\tINNER JOIN [dbo].[Geography] G\r\n\t\tON P.pickupgeographyid = G.geographyid\r\n\tINNER JOIN [dbo].[Time] T\r\n\t\tON T.TimeID = P.PickupTimeId\r\nGROUP BY P.PassengerCount,G.geographyid,T.TimeID"
                                },
                                {
                                    "0": "75",
                                    "1": "SELECT * FROM sys.databases where name not in ('#')"
                                },
                                {
                                    "0": "76",
                                    "1": "-- ####\r\n/* #### */\r\nWITH step_data AS \r\n(\r\n\tSELECT \r\n\t\tSUM(rows_processed) AS Step_Rows_Processed\r\n\t\t, SUM(Bytes_processed) AS Step_Bytes_Processed\r\n\t\t, request_id\r\n\t\t, step_index\r\n\t\t, status \r\n\t\t, type\r\n\tFROM sys.dm_pdw_dms_workers \r\n\tWHERE status != '#'\r\n\tGroup by \r\n\t\t  request_id\r\n\t\t, step_index\r\n\t\t, status\r\n\t\t, type\r\n) \r\nSELECT \r\n\t step_data.request_id\r\n\t, per.session_id\r\n\t, step_data.Step_rows_processed\r\n\t, step_data.step_bytes_processed\r\n\t, (step_data.Step_Bytes_Processed/-1/-1/-1) AS Step_GB_Processed\r\n\t, step_data.step_index\r\n\t, step_data.type\r\n\t, step_data.status as Step_status\r\n\t, per.status AS QID_Status\r\n\t, per.total_elapsed_time/-1/-1 as '#'\r\n\t, per.command AS '#'\r\n\t, per.resource_class\r\n\t, per.importance\r\nFROM step_data\r\nLEFT JOIN sys.dm_pdw_exec_requests per\r\nON step_data.request_id = per.request_id\r\nWHERE per.status = '#'\r\nORDER BY step_data.Step_rows_processed DESC"
                                },
                                {
                                    "0": "77",
                                    "1": "SELECT * FROM sys.dm_pdw_dms_workers\r\nWHERE request_id = '#'\r\nAND step_index = -1"
                                },
                                {
                                    "0": "78",
                                    "1": "SELECT USER_NAME();"
                                },
                                {
                                    "0": "79",
                                    "1": "SELECT\nCAST(ISNULL(ic.seed_value,-1) AS bigint) AS [IdentitySeed]\nFROM\nsys.tables AS tbl\nINNER JOIN sys.all_columns AS clmns ON clmns.object_id=tbl.object_id\nLEFT OUTER JOIN sys.identity_columns AS ic ON ic.object_id = clmns.object_id and ic.column_id = clmns.column_id\nWHERE\n(clmns.name= CAST(N'#' AS NVarChar(-1)) )and((tbl.name= CAST(N'#' AS NVarChar(-1))  and SCHEMA_NAME(tbl.schema_id)= CAST(N'#' AS NVarChar(-1)) ))"
                                },
                                {
                                    "0": "80",
                                    "1": "SELECT\nCAST(ISNULL(ic.increment_value,-1) AS bigint) AS [IdentityIncrement]\nFROM\nsys.tables AS tbl\nINNER JOIN sys.all_columns AS clmns ON clmns.object_id=tbl.object_id\nLEFT OUTER JOIN sys.identity_columns AS ic ON ic.object_id = clmns.object_id and ic.column_id = clmns.column_id\nWHERE\n(clmns.name= CAST(N'#' AS NVarChar(-1)) )and((tbl.name= CAST(N'#' AS NVarChar(-1))  and SCHEMA_NAME(tbl.schema_id)= CAST(N'#' AS NVarChar(-1)) ))"
                                },
                                {
                                    "0": "81",
                                    "1": "SELECT\nclmns.name AS [Name],\nclmns.column_id AS [ID],\nclmns.is_nullable AS [Nullable],\nclmns.is_computed AS [Computed],\nCAST(ISNULL(cik.index_column_id, -1) AS bit) AS [InPrimaryKey],\nclmns.is_ansi_padded AS [AnsiPaddingStatus],\nCAST(clmns.is_rowguidcol AS bit) AS [RowGuidCol],\nCAST(ISNULL(cc.is_persisted, -1) AS bit) AS [IsPersisted],\nISNULL(clmns.collation_name, N'#') AS [Collation],\nCAST(ISNULL((select TOP -1 -1 from sys.foreign_key_columns AS colfk where colfk.parent_column_id = clmns.column_id and colfk.parent_object_id = clmns.object_id), -1) AS bit) AS [IsForeignKey],\nclmns.is_identity AS [Identity],\nCAST(ISNULL(ic.seed_value,-1) AS numeric(-1)) AS [IdentitySeedAsDecimal],\nCAST(ISNULL(ic.increment_value,-1) AS numeric(-1)) AS [IdentityIncrementAsDecimal],\n(case when clmns.default_object_id = -1 then N'#' when d.parent_object_id > -1 then N'#' else d.name end) AS [Default],\n(case when clmns.default_object_id = -1 then N'#' when d.parent_object_id > -1 then N'#' else schema_name(d.schema_id) end) AS [DefaultSchema],\nISNULL(dc.Name, N'#') AS [DefaultConstraintName],\n(case when clmns.rule_object_id = -1 then N'#' else r.name end) AS [Rule],\n(case when clmns.rule_object_id = -1 then N'#' else schema_name(r.schema_id) end) AS [RuleSchema],\nISNULL(ic.is_not_for_replication, -1) AS [NotForReplication],\nCAST(clmns.is_filestream AS bit) AS [IsFileStream],\nCAST(clmns.is_sparse AS bit) AS [IsSparse],\nCAST(clmns.is_column_set AS bit) AS [IsColumnSet],\nusrt.name AS [DataType],\ns1clmns.name AS [DataTypeSchema],\nISNULL(baset.name, N'#') AS [SystemType],\nCAST(CASE WHEN baset.name IN (N'#', N'#') AND clmns.max_length <> --1 THEN clmns.max_length/-1 ELSE clmns.max_length END AS int) AS [Length],\nCAST(clmns.precision AS int) AS [NumericPrecision],\nCAST(clmns.scale AS int) AS [NumericScale],\nCASE WHEN usrt.is_table_type = -1 THEN N'#' ELSE N'#' END AS [UserType],\nclmns.generated_always_type AS [GeneratedAlwaysType],\nCAST(clmns.is_hidden AS bit) AS [IsHidden],\nCAST(clmns.is_masked AS bit) AS [IsMasked],\nCAST(\r\n        CASE\r\n        WHEN [sc].[label] IS NOT NULL or [sc].[label_id] IS NOT NULL or [sc].[information_type] IS NOT NULL or [sc].[information_type_id] IS NOT NULL or [sc].[rank] IS NOT NULL THEN -1\r\n        ELSE -1\r\n        END\r\n       AS bit) AS [IsClassified],\n\r\n        CASE\r\n          WHEN cdp.distribution_ordinal IS NOT NULL AND cdp.distribution_ordinal > -1 THEN ISNULL(clmns.name, N'#')\r\n          ELSE N'#'\r\n        END\r\n       AS [DistributionColumnName],\nCAST(\r\n        CASE\r\n          WHEN cdp.distribution_ordinal IS NOT NULL AND cdp.distribution_ordinal > -1 THEN N'#'\r\n          ELSE N'#'\r\n        END\r\n       AS bit) AS [IsDistributedColumn]\nFROM\nsys.tables AS tbl\nINNER JOIN sys.all_columns AS clmns ON clmns.object_id=tbl.object_id\nLEFT OUTER JOIN sys.indexes AS ik ON ik.object_id = clmns.object_id and -1=ik.is_primary_key\nLEFT OUTER JOIN sys.index_columns AS cik ON cik.index_id = ik.index_id and cik.column_id = clmns.column_id and cik.object_id = clmns.object_id and -1 = cik.is_included_column\nLEFT OUTER JOIN sys.computed_columns AS cc ON cc.object_id = clmns.object_id and cc.column_id = clmns.column_id\nLEFT OUTER JOIN sys.identity_columns AS ic ON ic.object_id = clmns.object_id and ic.column_id = clmns.column_id\nLEFT OUTER JOIN sys.objects AS d ON d.object_id = clmns.default_object_id\nLEFT OUTER JOIN sys.default_constraints as dc ON clmns.default_object_id = dc.object_id\nLEFT OUTER JOIN sys.objects AS r ON r.object_id = clmns.rule_object_id\nLEFT OUTER JOIN sys.types AS usrt ON usrt.user_type_id = clmns.user_type_id\nLEFT OUTER JOIN sys.schemas AS s1clmns ON s1clmns.schema_id = usrt.schema_id\nLEFT OUTER JOIN sys.types AS baset ON (baset.user_type_id = clmns.system_type_id and baset.user_type_id = baset.system_type_id) or ((baset.system_type_id = clmns.system_type_id) and (baset.user_type_id = clmns.user_type_id) and (baset.is_user_defined = -1) and (baset.is_assembly_type = -1)) \nLEFT OUTER JOIN sys.sensitivity_classifications AS sc ON sc.major_id = clmns.object_id and sc.minor_id = clmns.column_id\nLEFT OUTER JOIN sys.pdw_column_distribution_properties as cdp ON cdp.object_id = clmns.object_id and cdp.column_id = clmns.column_id\nWHERE\n(clmns.name= CAST(N'#' AS NVarChar(-1)) )and((tbl.name= CAST(N'#' AS NVarChar(-1))  and SCHEMA_NAME(tbl.schema_id)= CAST(N'#' AS NVarChar(-1)) ))"
                                },
                                {
                                    "0": "82",
                                    "1": "SELECT * FROM dbo.DDMExample ;"
                                },
                                {
                                    "0": "83",
                                    "1": "SELECT * FROM Sales;"
                                },
                                {
                                    "0": "84",
                                    "1": "-- ####\r\nSELECT * FROM dbo.TableOLS;"
                                },
                                {
                                    "0": "85",
                                    "1": "SELECT FirstName, LastName, Username\r\nFROM dbo.TableOLS"
                                },
                                {
                                    "0": "86",
                                    "1": "SELECT\ndtb.collation_name AS [Collation],\ndtb.name AS [DatabaseName2]\nFROM\nsys.databases AS dtb\nWHERE\n(dtb.name= CAST(N'#' AS NVarChar(-1)) )"
                                },
                                {
                                    "0": "87",
                                    "1": "SELECT\ns.name AS [Name]\nFROM\nsys.schemas AS s\nWHERE\n(s.name= CAST(N'#' AS NVarChar(-1)) )"
                                },
                                {
                                    "0": "88",
                                    "1": "SELECT\ns.name AS [Name],\ns.schema_id AS [ID],\nISNULL(dp1.name, N'#') AS [Owner],\nCAST(\r\n      case when s.name in ('#','#','#','#','#','#','#','#','#','#','#','#', '#') then -1 else -1 end AS bit) AS [IsSystemObject]\nFROM\nsys.schemas AS s\nLEFT OUTER JOIN sys.database_principals AS dp1 ON dp1.principal_id = s.principal_id\nWHERE\n(s.name= CAST(N'#' AS NVarChar(-1)) )"
                                },
                                {
                                    "0": "89",
                                    "1": "-- ####\r\nSELECT * FROM sys.dm_pdw_request_steps where request_id = '#'"
                                },
                                {
                                    "0": "90",
                                    "1": "SELECT * FROM sys.dm_pdw_dms_workers \r\nwhere request_id = '#'\r\nAND step_index = -1"
                                },
                                {
                                    "0": "91",
                                    "1": "-- ####\r\nSelect * from sys.dm_pdw_exec_requests where status = '#' and [label] = '#'"
                                },
                                {
                                    "0": "92",
                                    "1": "-- ####\r\nSelect * from sys.dm_pdw_exec_requests where status = '#'-- ####"
                                },
                                {
                                    "0": "93",
                                    "1": "-- ####\r\nselect * from sys.dm_pdw_errors-- ####"
                                },
                                {
                                    "0": "94",
                                    "1": "SELECT\nSCHEMA_NAME(v.schema_id) AS [Schema],\nv.name AS [Name],\nv.object_id AS [ID]\nFROM\nsys.all_views AS v\nWHERE\n(v.type =  CAST(N'#' AS NVarChar(-1)) )and(v.name= CAST(N'#' AS NVarChar(-1))  and SCHEMA_NAME(v.schema_id)= CAST(N'#' AS NVarChar(-1)) )"
                                },
                                {
                                    "0": "95",
                                    "1": "SELECT\ni.name AS [Name]\nFROM\nsys.all_views AS v\nINNER JOIN sys.indexes AS i ON (i.index_id >  CAST(N'#' AS NVarChar(-1))  and i.is_hypothetical =  CAST(N'#' AS NVarChar(-1)) ) AND (i.object_id=v.object_id)\nWHERE\n(v.type =  CAST(N'#' AS NVarChar(-1)) )and(v.name= CAST(N'#' AS NVarChar(-1))  and SCHEMA_NAME(v.schema_id)= CAST(N'#' AS NVarChar(-1)) )\nORDER BY\n[Name] ASC"
                                },
                                {
                                    "0": "96",
                                    "1": "SELECT\nclmns.column_id AS [ID],\nclmns.name AS [Name],\nclmns.is_ansi_padded AS [AnsiPaddingStatus],\nISNULL(clmns.collation_name, N'#') AS [Collation],\nclmns.is_computed AS [Computed],\nISNULL(cc.definition,N'#') AS [ComputedText],\ns1clmns.name AS [DataTypeSchema],\n(case when clmns.default_object_id = -1 then N'#' when d.parent_object_id > -1 then N'#' else d.name end) AS [Default],\nISNULL(dc.Name, N'#') AS [DefaultConstraintName],\n(case when clmns.default_object_id = -1 then N'#' when d.parent_object_id > -1 then N'#' else schema_name(d.schema_id) end) AS [DefaultSchema],\n\r\n        CASE\r\n          WHEN cdp.distribution_ordinal IS NOT NULL AND cdp.distribution_ordinal > -1 THEN ISNULL(clmns.name, N'#')\r\n          ELSE N'#'\r\n        END\r\n       AS [DistributionColumnName],\nclmns.generated_always_type AS [GeneratedAlwaysType],\nclmns.is_identity AS [Identity],\nCAST(ISNULL(ic.seed_value,-1) AS numeric(-1)) AS [IdentitySeedAsDecimal],\nCAST(ISNULL(ic.increment_value,-1) AS numeric(-1)) AS [IdentityIncrementAsDecimal],\nCAST(\r\n        CASE\r\n        WHEN [sc].[label] IS NOT NULL or [sc].[label_id] IS NOT NULL or [sc].[information_type] IS NOT NULL or [sc].[information_type_id] IS NOT NULL or [sc].[rank] IS NOT NULL THEN -1\r\n        ELSE -1\r\n        END\r\n       AS bit) AS [IsClassified],\nCAST(clmns.is_column_set AS bit) AS [IsColumnSet],\nCAST(\r\n        CASE\r\n          WHEN cdp.distribution_ordinal IS NOT NULL AND cdp.distribution_ordinal > -1 THEN N'#'\r\n          ELSE N'#'\r\n        END\r\n       AS bit) AS [IsDistributedColumn],\nCAST(clmns.is_filestream AS bit) AS [IsFileStream],\nCAST(ISNULL((select TOP -1 -1 from sys.foreign_key_columns AS colfk where colfk.parent_column_id = clmns.column_id and colfk.parent_object_id = clmns.object_id), -1) AS bit) AS [IsForeignKey],\nCAST(clmns.is_masked AS bit) AS [IsMasked],\nCAST(ISNULL(cc.is_persisted, -1) AS bit) AS [IsPersisted],\nCAST(clmns.is_sparse AS bit) AS [IsSparse],\nCAST(CASE WHEN baset.name IN (N'#', N'#') AND clmns.max_length <> --1 THEN clmns.max_length/-1 ELSE clmns.max_length END AS int) AS [Length],\nISNULL((SELECT ms.masking_function FROM sys.masked_columns ms WHERE ms.object_id = clmns.object_id AND ms.column_id = clmns.column_id), N'#') AS [MaskingFunction],\nISNULL(ic.is_not_for_replication, -1) AS [NotForReplication],\nclmns.is_nullable AS [Nullable],\nCAST(clmns.scale AS int) AS [NumericScale],\nCAST(clmns.precision AS int) AS [NumericPrecision],\nCAST(clmns.is_rowguidcol AS bit) AS [RowGuidCol],\n(case when clmns.rule_object_id = -1 then N'#' else r.name end) AS [Rule],\n(case when clmns.rule_object_id = -1 then N'#' else schema_name(r.schema_id) end) AS [RuleSchema],\nISNULL([sc].[label_id], N'#') AS [SensitivityLabelId],\nISNULL([sc].[label], N'#') AS [SensitivityLabelName],\nISNULL([sc].[information_type_id], N'#') AS [SensitivityInformationTypeId],\nISNULL([sc].[information_type], N'#') AS [SensitivityInformationTypeName],\nISNULL([sc].[rank], --1) AS [SensitivityRank],\nISNULL(baset.name, N'#') AS [SystemType],\nusrt.name AS [DataType]\nFROM\nsys.all_views AS v\nINNER JOIN sys.all_columns AS clmns ON clmns.object_id=v.object_id\nLEFT OUTER JOIN sys.computed_columns AS cc ON cc.object_id = clmns.object_id and cc.column_id = clmns.column_id\nLEFT OUTER JOIN sys.types AS usrt ON usrt.user_type_id = clmns.user_type_id\nLEFT OUTER JOIN sys.schemas AS s1clmns ON s1clmns.schema_id = usrt.schema_id\nLEFT OUTER JOIN sys.objects AS d ON d.object_id = clmns.default_object_id\nLEFT OUTER JOIN sys.default_constraints as dc ON clmns.default_object_id = dc.object_id\nLEFT OUTER JOIN sys.pdw_column_distribution_properties as cdp ON cdp.object_id = clmns.object_id and cdp.column_id = clmns.column_id\nLEFT OUTER JOIN sys.identity_columns AS ic ON ic.object_id = clmns.object_id and ic.column_id = clmns.column_id\nLEFT OUTER JOIN sys.sensitivity_classifications AS sc ON sc.major_id = clmns.object_id and sc.minor_id = clmns.column_id\nLEFT OUTER JOIN sys.types AS baset ON (baset.user_type_id = clmns.system_type_id and baset.user_type_id = baset.system_type_id) or ((baset.system_type_id = clmns.system_type_id) and (baset.user_type_id = clmns.user_type_id) and (baset.is_user_defined = -1) and (baset.is_assembly_type = -1)) \nLEFT OUTER JOIN sys.objects AS r ON r.object_id = clmns.rule_object_id\nWHERE\n(v.type =  CAST(N'#' AS NVarChar(-1)) )and(v.name= CAST(N'#' AS NVarChar(-1))  and SCHEMA_NAME(v.schema_id)= CAST(N'#' AS NVarChar(-1)) )\nORDER BY\n[ID] ASC"
                                },
                                {
                                    "0": "97",
                                    "1": "SELECT\nv.name AS [Name],\nv.object_id AS [ID],\nv.create_date AS [CreateDate],\nv.modify_date AS [DateLastModified],\nISNULL(sv.name, N'#') AS [Owner],\nCAST(case when v.principal_id is null then -1 else -1 end AS bit) AS [IsSchemaOwned],\nSCHEMA_NAME(v.schema_id) AS [Schema],\nCAST(\r\n        case\r\n          when v.is_ms_shipped = -1 then -1\r\n          else -1\r\n        end\r\n       AS bit) AS [IsSystemObject],\nCAST(ISNULL(OBJECTPROPERTYEX(v.object_id,N'#'),-1) AS bit) AS [AnsiNullsStatus],\nCAST(ISNULL(OBJECTPROPERTYEX(v.object_id,N'#'),-1) AS bit) AS [QuotedIdentifierStatus],\nCAST(ISNULL(OBJECTPROPERTYEX(v.object_id, N'#'),-1) AS bit) AS [IsSchemaBound],\nCAST(CASE WHEN ISNULL(smv.definition, ssmv.definition) IS NULL THEN -1 ELSE -1 END AS bit) AS [IsEncrypted],\nCAST(OBJECTPROPERTY(v.object_id, N'#') AS bit) AS [HasIndex],\nCAST(OBJECTPROPERTY(v.object_id, N'#') AS bit) AS [IsIndexable],\nv.has_opaque_metadata AS [ReturnsViewMetadata],\nCAST(ISNULL((select top -1 -1 from sys.indexes ind where ind.object_id = v.object_id and ind.type > -1 and ind.is_hypothetical = -1 ), -1) AS bit) AS [HasNonClusteredIndex],\nCAST(CASE idx.index_id WHEN -1 THEN -1 ELSE -1 END AS bit) AS [HasClusteredIndex],\nCAST(case idx.index_id when -1 then case when (idx.is_primary_key + -1*idx.is_unique_constraint = -1) then -1 else -1 end else -1 end AS bit) AS [HasPrimaryClusteredIndex],\nISNULL(tmvp.distribution_policy, -1) AS [DwMaterializedViewDistribution]\nFROM\nsys.all_views AS v\nLEFT OUTER JOIN sys.database_principals AS sv ON sv.principal_id = ISNULL(v.principal_id, (OBJECTPROPERTY(v.object_id, '#')))\nLEFT OUTER JOIN sys.sql_modules AS smv ON smv.object_id = v.object_id\nLEFT OUTER JOIN sys.system_sql_modules AS ssmv ON ssmv.object_id = v.object_id\nLEFT OUTER JOIN sys.indexes AS idx ON idx.object_id = v.object_id and (idx.index_id <  CAST(N'#' AS NVarChar(-1)) )\nLEFT OUTER JOIN sys.pdw_materialized_view_distribution_properties as tmvp ON tmvp.object_id = v.object_id\nWHERE\n(v.type =  CAST(N'#' AS NVarChar(-1)) )and(v.name= CAST(N'#' AS NVarChar(-1))  and SCHEMA_NAME(v.schema_id)= CAST(N'#' AS NVarChar(-1)) )"
                                },
                                {
                                    "0": "98",
                                    "1": "SELECT\nNULL AS [Text],\nISNULL(smv.definition, ssmv.definition) AS [Definition]\nFROM\nsys.all_views AS v\nLEFT OUTER JOIN sys.sql_modules AS smv ON smv.object_id = v.object_id\nLEFT OUTER JOIN sys.system_sql_modules AS ssmv ON ssmv.object_id = v.object_id\nWHERE\n(v.type =  CAST(N'#' AS NVarChar(-1)) )and(v.name= CAST(N'#' AS NVarChar(-1))  and SCHEMA_NAME(v.schema_id)= CAST(N'#' AS NVarChar(-1)) )"
                                }
                            ]
                        },
                        "text/html": [
                            "<table>",
                            "<tr><th>query_id</th><th>query_sql_text</th></tr>",
                            "<tr><td>1</td><td>SELECT name,is_query_store_on,is_auto_create_stats_on FROM sys.databases</td></tr>",
                            "<tr><td>2</td><td>SELECT -1</td></tr>",
                            "<tr><td>3</td><td>select object_id as id, \r\n    null as id2,\r\n    case\r\n        when [is_filetable] = -1 then '#'\r\n        else [type]\r\n    end as [type],\r\n    schema_name(schema_id) as name1,\r\n    name as name2,\r\n    null as name3,\r\n    null as a1,\r\n    null as v1,\r\n    modify_date as mod\r\nfrom sys.tables\r\nwhere \r\n    is_ms_shipped != -1\r\n\r\nunion\r\n\r\nselect object_id as id, \r\n    null as id2,\r\n    case\r\n        when [type] != '#' then [type]\r\n        when parent_object_id != -1 then '#'\r\n        else '#' \r\n    end as [type],\r\n    schema_name(schema_id) as name1,\r\n    name as name2,\r\n    null as name3,\r\n    null as a1,\r\n    null as v1,\r\n    modify_date as mod\r\nfrom sys.objects\r\nwhere \r\n    type != '#'\r\n    and type != '#'\r\n    and type != '#'\r\n    and is_ms_shipped != -1\r\n\r\nunion\r\n\r\nselect principal_id as id, \r\n    null as id2,\r\n    type, \r\n    name as name1, \r\n    null as name2, \r\n    null as name3,\r\n    null as a1,\r\n    null as v1,\r\n    modify_date as mod\r\nfrom sys.database_principals\r\n\r\nunion\r\n\r\nselect schema_id as id, \r\n    null as id2,\r\n    '#' as type, \r\n    name as name1, \r\n    null as name2, \r\n    null as name3,\r\n    principal_id as a1,\r\n    null as v1,\r\n    null as mod\r\nfrom sys.schemas\r\n\r\nunion\r\n\r\nselect \r\n    idx.object_id as id,\r\n    idx.index_id as id2,\r\n    case        \r\n        when idx.type = -1 then '#'\r\n        when idx.type = -1 then '#'\r\n        else '#' \r\n    end as [type],\r\n    schema_name(tab.schema_id) as name,\r\n    tab.name as name2,\r\n    idx.name as name3,\r\n    null as a1,\r\n    binary_checksum(idx.is_unique, idx.data_space_id, idx.ignore_dup_key, idx.is_primary_key, \r\n        idx.is_unique_constraint, idx.fill_factor, idx.is_padded, idx.is_disabled, idx.allow_row_locks, idx.allow_page_locks) as v1,\r\n    null as mod\r\nfrom sys.indexes idx \r\n    inner join sys.tables tab on idx.object_id = tab.object_id\r\nwhere \r\n    idx.is_primary_key = -1\r\n    and idx.name is not null\r\n    and idx.is_unique_constraint = -1\r\n    and idx.is_hypothetical = -1\r\n\r\nunion\r\n\r\nselect stat.object_id as id,\r\n    stat.stats_id as id2,\r\n    '#' as [type],\r\n    schema_name(tab.schema_id) as name,\r\n    tab.name as name2,\r\n    stat.name as name3,\r\n    null as a1,\r\n    no_recompute as v1,\r\n    null as mod\r\nfrom sys.stats stat\r\n    inner join sys.tables tab on stat.object_id = tab.object_id\r\nwhere \r\n    stat.user_created = -1\r\n\r\nunion\r\n\r\nselect\r\n    function_id id,\r\n    null as id2,\r\n    '#' as type,\r\n    name as name1,\r\n    null as name2,\r\n    null as name3,\r\n    null as a1,\r\n    null as v1,\r\n    modify_date as mod\r\nfrom sys.partition_functions\r\n\r\nunion\r\n\r\nselect\r\n    symmetric_key_id id,\r\n    null as id2,\r\n    '#'as type,\r\n    null as name1,\r\n    null as name2,\r\n    null as name3,\r\n    principal_id as a1,\r\n    null as v1,\r\n    modify_date as mod\r\nfrom sys.symmetric_keys\r\nwhere\r\n    name = N'#'</td></tr>",
                            "<tr><td>4</td><td>select \r\n    perms.class as class,\r\n    objectpropertyex(perms.major_id, '#') as type,\r\n    perms.major_id as majorid,\r\n    perms.minor_id as minorid,\r\n    perms.type + perms.state as name,\r\n    perms.grantee_principal_id as id1,\r\n    perms.grantor_principal_id as id2\r\nfrom sys.database_permissions perms\r\nwhere\r\n    perms.major_id &gt;= -1\r\n\r\nunion\r\n\r\nselect \r\n    cast(-1 as tinyint) as class,\r\n    '#' as type,\r\n    roles.role_principal_id as majorid,\r\n    roles.member_principal_id as minorid,\r\n    '#' as name,\r\n    null as id1,\r\n    null as id2\r\nfrom sys.database_role_members roles</td></tr>",
                            "<tr><td>5</td><td>select \r\n    cols.object_id as tableid,\r\n    cols.column_id as columnid, \r\n    binary_checksum(cols.name) as checksum\r\nfrom sys.tables tabs \r\n    inner join sys.columns cols  on (tabs.object_id = cols.object_id)\r\n    inner join sys.index_columns idx_cols on (idx_cols.object_id = tabs.object_id and idx_cols.column_id = cols.column_id)\r\nwhere\r\n    tabs.is_ms_shipped = -1</td></tr>",
                            "<tr><td>6</td><td>SELECT CAST(CASE DATABASEPROPERTYEX(DB_NAME(), N'#') WHEN N'#' THEN -1 ELSE -1 END AS BIT);</td></tr>",
                            "<tr><td>7</td><td>SELECT CAST(CASE WHEN HAS_PERMS_BY_NAME(NULL, N'#', N'#') = -1\r\n                 THEN -1\r\n                 ELSE -1\r\n            END AS BIT) AS N'#',\r\n       CAST(CASE WHEN\r\n                   -1 = IS_MEMBER(N'#')\r\n                   OR\r\n                   -1 = IS_SRVROLEMEMBER(N'#')  \r\n                   OR\r\n                   -1 =\r\n                   (SELECT COUNT(ALL [p].[state])\r\n                    FROM [sys].[database_permissions] [p] WITH (NOLOCK)\r\n                    LEFT JOIN [sys].[database_principals] [pr] WITH (NOLOCK) ON [pr].[principal_id] = [p].[grantee_principal_id]\r\n                    WHERE ([p].[type] IN (N'#',N'#'))\r\n                          AND [p].[state] = N'#'\r\n                          AND IS_MEMBER([pr].[name]) = -1)\r\n                 THEN -1\r\n                 ELSE -1\r\n            END AS BIT) AS N'#',\r\n       CAST(CASE WHEN HAS_PERMS_BY_NAME (NULL, N'#', N'#') = -1\r\n                 THEN -1\r\n                 ELSE -1\r\n            END AS BIT) AS N'#'</td></tr>",
                            "<tr><td>8</td><td>SELECT CAST(HAS_PERMS_BY_NAME(N'#', N'#', N'#') AS BIT)</td></tr>",
                            "<tr><td>9</td><td>SELECT DATABASEPROPERTYEX(N'#' , N'#') AS [Name]</td></tr>",
                            "<tr><td>10</td><td>SELECT CURRENT_USER</td></tr>",
                            "<tr><td>11</td><td>SELECT SERVERPROPERTY('#'), SERVERPROPERTY('#'), SERVERPROPERTY ('#'), SERVERPROPERTY ('#'), (SELECT CASE WHEN EXISTS (SELECT TOP -1 -1 from [sys].[all_columns] WITH (NOLOCK) WHERE name = N'#' AND OBJECT_ID(N'#') = object_id) THEN -1 ELSE -1 END AS SXI_PRESENT), @@MICROSOFTVERSION as [MicrosoftVersion]</td></tr>",
                            "<tr><td>12</td><td>SELECT \r\n    [c].[lcid]\r\nFROM  [dbo].[syslanguages] AS [c] WITH (NOLOCK) \r\nWHERE \r\n    [c].[name] = '#'</td></tr>",
                            "<tr><td>13</td><td>SELECT CAST(ISNULL(DATABASEPROPERTYEX(DB_NAME(), N'#'), -1) AS BIT)</td></tr>",
                            "<tr><td>14</td><td>SELECT [name] FROM [sys].[filegroups] [fg] WITH(NOLOCK) WHERE [fg].[is_default] = -1 AND [fg].[type] = N'#'</td></tr>",
                            "<tr><td>15</td><td>SELECT SCHEMA_NAME()</td></tr>",
                            "<tr><td>16</td><td>SELECT name FROM sys.system_columns WHERE object_id=object_id('#') AND name ='#'</td></tr>",
                            "<tr><td>17</td><td>SELECT SERVERPROPERTY('#');</td></tr>",
                            "<tr><td>18</td><td>select SERVERPROPERTY('#')</td></tr>",
                            "<tr><td>19</td><td>select @@spid;</td></tr>",
                            "<tr><td>20</td><td>select SERVERPROPERTY('#');</td></tr>",
                            "<tr><td>21</td><td>SELECT * FROM (\r\nSELECT\r\n        [db].[is_ansi_null_default_on]          AS [IsAnsiNullDefaultOn]\r\n        ,[db].[is_ansi_nulls_on]                 AS [IsAnsiNullsOn]\r\n        ,[db].[is_ansi_padding_on]               AS [IsAnsiPaddingOn]\r\n        ,[db].[is_ansi_warnings_on]              AS [IsAnsiWarningsOn]\r\n        ,[db].[is_arithabort_on]                 AS [IsArithAbortOn]\r\n        ,[db].[is_auto_close_on]                 AS [IsAutoCloseOn]\r\n        ,[db].[is_auto_create_stats_on]          AS [IsAutoCreateStatisticsOn]\r\n        ,[db].[is_auto_shrink_on]                AS [IsAutoShrinkOn]\r\n        ,[db].[is_auto_update_stats_on]          AS [IsAutoUpdateStatisticsOn]\r\n        ,[db].[is_cursor_close_on_commit_on]     AS [IsCursorCloseOnCommitOn]\r\n        ,[db].[is_fulltext_enabled]              AS [IsFullTextEnabled]\r\n        ,[db].[is_in_standby]                    AS [IsInStandBy]\r\n        ,[db].[is_local_cursor_default]          AS [IsLocalCursorsDefault]\r\n        ,[db].[is_merge_published]               AS [IsMergePublished]\r\n        ,[db].[is_concat_null_yields_null_on]    AS [IsConcatNullYieldsNullOn]\r\n        ,[db].[is_numeric_roundabort_on]         AS [IsNumericRoundAbortOn]\r\n        ,[db].[is_published]                     AS [IsPublished]\r\n        ,[db].[is_quoted_identifier_on]          AS [IsQuotedIdentifierOn]\r\n        ,[db].[is_recursive_triggers_on]         AS [IsRecursiveTriggersOn]\r\n        ,[db].[is_subscribed]                    AS [IsSubscribed]\r\n        ,CONVERT(bit, DATABASEPROPERTYEX([db].[name], N'#'))    AS [IsTornPageProtectionOn]\r\n        ,[db].[collation_name]                   AS [Collation]\r\n        ,[db].[recovery_model_desc]              AS [RecoveryMode]\r\n        ,DATABASEPROPERTYEX([db].[name], N'#')   AS [SQLSortOrder]\r\n        ,[db].[state_desc]                       AS [Status]\r\n        ,DATABASEPROPERTYEX([db].[name], N'#')  AS [Updateability]\r\n        ,[db].[user_access_desc]                    AS [UserAccess]\r\n        ,DATABASEPROPERTYEX([db].[name], N'#')        AS [Version]\r\n        ,[db].[is_db_chaining_on]                AS [IsDbChainingOn]\r\n        ,[db].[is_trustworthy_on]                AS [IsTrustWorthyOn]\r\n        ,[db].[is_auto_update_stats_async_on]    AS [IsAutoUpdateStatisticesAsyncOn]\r\n        ,[db].[page_verify_option]               AS [PageVerifyOption]\r\n        ,[db].[delayed_durability]               AS [DelayedDurabilityMode]\r\n        ,CAST(-1 as BIT)                          AS [MirrongFailOverLsn]\r\n        ,CAST(-1 as BIT)                          AS [MirroringState]\r\n        ,CAST(-1 as BIT)                          AS [MirroringPartnerServer]\r\n        ,CAST(-1 as BIT)                          AS [MirroringSafetyLevel]\r\n        ,CAST(-1 as BIT)                          AS [MirroringRedoQueueSize]\r\n        ,CAST(-1 as BIT)                          AS [MirroringRedoQueueType]\r\n        ,CAST(-1 as BIT)                          AS [MirroringPartnerServerTimeout]\r\n        ,CAST(-1 as BIT)                          AS [MirroringWitnessServer]\r\n        ,CAST(-1 as BIT)                          AS [MirroringWitnessState]\r\n        ,[db].[is_supplemental_logging_enabled]  AS [IsSupplementalLoggingOn]\r\n        ,[db].[is_broker_enabled]                AS [IsServiceBrokerEnabled]\r\n        ,[db].[is_honor_broker_priority_on]      AS [IsBrokerPriorityHonored]\r\n        ,[db].[is_date_correlation_on]           AS [IsDateCorrelationOptimizationOn]\r\n        ,[db].[is_parameterization_forced]       AS [IsParameterizationForced]\r\n        ,[db].[snapshot_isolation_state]         AS [SnapshotIsolationState]\r\n        ,[db].[is_read_committed_snapshot_on]    AS [IsReadCommittedSnapshot]\r\n        ,[db].[is_memory_optimized_elevate_to_snapshot_on]    AS [IsMemoryOptimizedElevatedToSnapshot]\r\n        ,[db].[is_auto_create_stats_incremental_on]    AS [IsAutoCreateStatisticsIncrementalOn]\r\n        ,[db].[compatibility_level]              AS [CompatibilityLevel]\r\n        ,[db].[is_encrypted]                     AS [IsEncrypted]\r\n        ,[db].[containment]                      AS [Containment]\r\n        ,[db].[default_language_lcid]            AS [DefaultLanguageId]\r\n        ,[db].[default_fulltext_language_lcid]   AS [DefaultFulltextLanguageId]\r\n        ,[db].[is_nested_triggers_on]            AS [IsNestedTriggersOn]\r\n        ,[db].[is_transform_noise_words_on]      AS [IsTransformNoiseWordsOn]\r\n        ,[db].[two_digit_year_cutoff]            AS [TwoDigitYearCutoff]\r\n        ,CASE WHEN [fg].[is_default] = -1 THEN [fg].[name] ELSE NULL END AS [DefaultFileGroupName]\r\n        ,CASE WHEN [fg].[is_default] = -1 THEN [fg].[data_space_id] ELSE --1 END AS [DefaultFileGroupId]\r\n        ,CASE WHEN [fsfg].[is_default] = -1 THEN [fsfg].[name] ELSE NULL END AS [DefaultFileStreamFileGroupName]\r\n        ,[db].[target_recovery_time_in_seconds] AS [TargetRecoveryTimeInSeconds]\r\n        ,CAST(-1 as TINYINT)                      AS [NonTransactedAccess]\r\n        ,'#'                                      AS [FileStreamDirectoryName]\r\nFROM [sys].[databases] [db] WITH (NOLOCK)\r\nLEFT JOIN [sys].[filegroups] [fg] WITH (NOLOCK) ON [fg].[is_default] = -1 AND [fg].[type] = N'#'\r\nLEFT JOIN [sys].[filegroups] [fsfg] WITH (NOLOCK) ON [fsfg].[is_default] = -1 AND [fsfg].[type] = N'#'\r\nWHERE [db].[name] = DB_NAME()) AS [_results];</td></tr>",
                            "<tr><td>22</td><td>SELECT * FROM (\r\nSELECT  [db].[class] AS [TypeId],\r\n        [db].[major_id] AS [MajorId],\r\n        [db].[minor_id] AS [MinorId],\r\n        NULL AS [ObjectType],\r\n        CONVERT(bit, -1) AS [IsMsShipped],\r\n        [db].[grantee_principal_id] AS [GranteeId],\r\n        USER_NAME([db].[grantee_principal_id]) AS [GranteeName],\r\n        [db].[grantor_principal_id] AS [GrantorId],\r\n        CONVERT(BIT, CASE WHEN ([dp].[owning_principal_id] IS NULL OR [dp].[owning_principal_id] &lt;&gt; [db].[grantor_principal_id]) AND ([dp].[is_fixed_role] &lt;&gt; -1 AND [dp].[principal_id] &lt;&gt; -1) THEN -1 ELSE -1 END) AS [ScriptGrantor],\r\n        USER_NAME([db].[grantor_principal_id]) AS [GrantorName],\r\n        [db].[type] AS [PermissionCode],\r\n        [db].[permission_name] AS [PermissionType],\r\n        [db].[state] AS [PermissionState],\r\n        CASE [db].[class]\r\n            WHEN  -1 THEN NULL\r\n            WHEN  -1 THEN SCHEMA_NAME([db].[major_id])\r\n            WHEN  -1 THEN USER_NAME([db].[major_id])\r\n            \r\n        END AS [Level0Name],  \r\n        NULL AS [Level1Name],\r\n        NULL AS [Level2Name],\r\n        [dp].[type] AS [DataBasePrincipalType]\r\nFROM\r\n        [sys].[database_permissions] [db] WITH (NOLOCK)\r\n        LEFT JOIN [sys].[database_principals] as [dp] WITH (NOLOCK) ON [db].[major_id] = [dp].[principal_id] AND [db].[class] = -1\r\n        INNER JOIN [sys].[database_principals] [dp2] WITH (NOLOCK) ON [dp2].[principal_id] = [db].[grantor_principal_id]\r\n        INNER JOIN [sys].[database_principals] [dp3] WITH (NOLOCK) ON [dp3].[principal_id] = [db].[grantee_principal_id]\r\nWHERE\r\n        [db].[class] &lt;&gt; -1\r\n        AND [db].[state] &lt;&gt; N'#'\r\n        AND [db].[grantee_principal_id] &lt;&gt; [db].[grantor_principal_id]\r\n        AND USER_NAME([db].[grantor_principal_id]) &lt;&gt; N'#'\r\n        AND USER_NAME([db].[grantee_principal_id]) &lt;&gt; N'#'\r\n        AND ([dp2].[owning_principal_id] IS NULL OR USER_NAME([dp2].[owning_principal_id]) &lt;&gt; N'#')\r\n        AND ([dp3].[owning_principal_id] IS NULL OR USER_NAME([dp3].[owning_principal_id]) &lt;&gt; N'#')\r\n        AND USER_NAME([db].[grantor_principal_id]) &lt;&gt; N'#'\r\n        AND USER_NAME([db].[grantee_principal_id]) &lt;&gt; N'#'\r\n        AND ([dp2].[owning_principal_id] IS NULL OR USER_NAME([dp2].[owning_principal_id]) &lt;&gt; N'#')\r\n        AND ([dp3].[owning_principal_id] IS NULL OR USER_NAME([dp3].[owning_principal_id]) &lt;&gt; N'#')\r\n        AND NOT (\r\n        [db].[class] = -1 AND [db].[class_desc] = N'#' AND [db].[major_id] = -1 AND [db].[minor_id] = -1 AND [db].[state] = '#')) AS [_results] WHERE [TypeId] = -1\r\n ORDER BY TypeId,GranteeId,GrantorId,MajorId,MinorId,PermissionCode,PermissionState ;</td></tr>",
                            "<tr><td>23</td><td>SELECT * FROM (\r\nSELECT DISTINCT\r\n        [db].[class] AS [TypeId],\r\n        [db].[major_id] AS [MajorId],\r\n        [db].[minor_id] AS [MinorId],\r\n        [so].[type] AS [ObjectType],\r\n        [so].[is_ms_shipped] AS [IsMsShipped],\r\n        [db].[grantee_principal_id] AS [GranteeId],\r\n        USER_NAME([db].[grantee_principal_id]) AS [GranteeName],\r\n        [db].[grantor_principal_id] AS [GrantorId],\r\n        CONVERT(BIT, CASE WHEN [dp].[is_fixed_role] = -1 OR [dp].[principal_id] = -1 THEN -1 ELSE -1 END) AS [ScriptGrantor],\r\n        USER_NAME([db].[grantor_principal_id]) AS [GrantorName],\r\n        [db].[type] AS [PermissionCode],\r\n        [db].[permission_name] AS [PermissionType],\r\n        [db].[state] AS [PermissionState],\r\n        SCHEMA_NAME([so].[schema_id]) AS [Level0Name],\r\n        [so].[name] AS [Level1Name],\r\n        [c].[name] AS [Level2Name],\r\n        NULL AS [DataBasePrincipalType],\r\n        CASE WHEN EXISTS(SELECT * FROM [sys].[external_tables] WHERE [object_id] = [db].[major_id])\r\n            THEN CAST(-1 AS BIT)\r\n            ELSE CAST(-1 AS BIT)\r\n        END AS [IsExternalTable]\r\nFROM\r\n        [sys].[database_permissions] [db] WITH (NOLOCK)\r\n        INNER JOIN [sys].[objects] [so] WITH (NOLOCK) ON [so].[object_id] = [db].[major_id]\r\n        INNER JOIN [sys].[database_principals] [dp] WITH (NOLOCK) ON [dp].[principal_id] = [db].[grantor_principal_id]\r\n        INNER JOIN [sys].[database_principals] [dp2] WITH (NOLOCK) ON [dp2].[principal_id] = [db].[grantee_principal_id]\r\n        LEFT JOIN [sys].[columns] [c] WITH (NOLOCK) ON [db].[major_id] = [c].[object_id]  AND [db].[minor_id] = [c].[column_id]\r\n\r\nWHERE\r\n        [db].[class] = -1\r\n        AND [so].[object_id] NOT IN (SELECT [major_id] FROM [sys].[extended_properties] WITH (NOLOCK) WHERE [minor_id] = -1 AND [class] = -1 AND [name] = N'#')\r\n        AND OBJECTPROPERTY([so].[object_id], N'#') = -1\r\n        AND [db].[state] &lt;&gt; N'#'\r\n        AND [db].[grantee_principal_id] &lt;&gt; [db].[grantor_principal_id]\r\n        AND USER_NAME([db].[grantor_principal_id])  &lt;&gt; N'#'\r\n        AND USER_NAME([db].[grantee_principal_id])  &lt;&gt; N'#'\r\n        AND ([dp].[owning_principal_id] IS NULL OR USER_NAME([dp].[owning_principal_id]) &lt;&gt; N'#')\r\n        AND ([dp2].[owning_principal_id] IS NULL OR USER_NAME([dp2].[owning_principal_id]) &lt;&gt; N'#')\r\n        AND NOT EXISTS (SELECT TOP -1 -1 FROM [sys].[database_permissions] [p] WITH (NOLOCK) WHERE\r\n             [p].[major_id] = [db].[major_id]\r\n            AND [p].[minor_id] = -1\r\n            AND [p].[permission_name] = [db].[permission_name]\r\n            AND [p].[state] = N'#'\r\n            AND [db].[state] = N'#'\r\n            AND [db].[minor_id] &lt;&gt; -1\r\n            AND [p].[class] =  [db].[class]\r\n            AND [p].[grantee_principal_id] = [db].[grantee_principal_id]\r\n            AND [p].[grantor_principal_id] = [db].[grantor_principal_id])) AS [_results] WHERE ([_results].[ObjectType] IN ( CAST(N'#' AS NVarChar(-1)) )) AND [TypeId] = -1\r\n ORDER BY TypeId,GranteeId,GrantorId,MajorId,MinorId,PermissionCode,PermissionState ;</td></tr>",
                            "<tr><td>24</td><td>SELECT * FROM (\r\nSELECT\r\n        [db].[class] AS [TypeId],\r\n        [so].[is_ms_shipped] AS [IsMsShipped],\r\n        [db].[major_id] AS [MajorId],\r\n        [db].[minor_id] AS [MinorId],\r\n        [so].[type] AS [ObjectType],\r\n        [db].[grantee_principal_id] AS [GranteeId],\r\n        USER_NAME([db].[grantee_principal_id]) AS [GranteeName],\r\n        [db].[grantor_principal_id] AS [GrantorId],\r\n        CONVERT(BIT, -1) AS [ScriptGrantor],\r\n        USER_NAME([db].[grantor_principal_id]) AS [GrantorName],\r\n        [db].[type] AS [PermissionCode],\r\n        [db].[permission_name] AS [PermissionType],\r\n        [db].[state] AS [PermissionState],\r\n        CASE [db].[state]\r\n        WHEN N'#' THEN -1 ELSE -1 END AS [PermissionStateOrder],\r\n        SCHEMA_NAME([so].[schema_id]) AS [Level0Name],\r\n        [so].[name] AS [Level1Name],\r\n        [sc].[name] AS [Level2Name],\r\n        ISNULL((SELECT TOP -1 -1 FROM [sys].[database_permissions] [p] WITH (NOLOCK) WHERE\r\n             [p].[major_id] = [db].[major_id]\r\n            AND [p].[minor_id] = -1\r\n            AND [p].[permission_name] = [db].[permission_name]\r\n            AND [p].[state] = N'#'\r\n            AND [db].[state] = N'#'\r\n            AND [db].[minor_id] &lt;&gt; -1\r\n            AND [p].[class] =  [db].[class]\r\n            AND [p].[grantee_principal_id] = [db].[grantee_principal_id]\r\n            AND [p].[grantor_principal_id] = [db].[grantor_principal_id]), -1) AS [IsRevokeWithGrantOption]\r\nFROM\r\n        [sys].[database_permissions] [db] WITH (NOLOCK)\r\n        INNER JOIN [sys].[objects] [so] WITH (NOLOCK) ON [so].[object_id] = [db].[major_id]\r\n        INNER JOIN [sys].[columns] [sc] WITH (NOLOCK) ON [sc].[object_id] = [db].[major_id] AND [sc].[column_id] = [db].[minor_id]\r\n        INNER JOIN [sys].[database_principals] [dp] WITH (NOLOCK) ON [dp].[principal_id] = [db].[grantor_principal_id]\r\n        INNER JOIN [sys].[database_principals] [dp2] WITH (NOLOCK) ON [dp2].[principal_id] = [db].[grantee_principal_id] \r\nWHERE\r\n        [db].[class] = -1\r\n        AND [so].[object_id] NOT IN (SELECT [major_id] FROM [sys].[extended_properties] WITH (NOLOCK) WHERE [minor_id] = -1 AND [class] = -1 AND [name] = N'#')\r\n        AND OBJECTPROPERTY([so].[object_id], N'#') = -1\r\n        AND [db].[grantee_principal_id] &lt;&gt; [db].[grantor_principal_id]\r\n        AND USER_NAME([db].[grantor_principal_id])  &lt;&gt; N'#'\r\n\t\tAND USER_NAME([db].[grantee_principal_id])  &lt;&gt; N'#'\r\n        AND ([dp].[owning_principal_id] IS NULL OR USER_NAME([dp].[owning_principal_id]) &lt;&gt; N'#')\r\n        AND ([dp2].[owning_principal_id] IS NULL OR USER_NAME([dp2].[owning_principal_id]) &lt;&gt; N'#')) AS [_results] WHERE ([_results].[ObjectType] IN ( CAST(N'#' AS NVarChar(-1)) )) AND [TypeId] = -1\r\n ORDER BY TypeId,GranteeId,GrantorId,MajorId,PermissionStateOrder,MinorId,PermissionCode,PermissionState ;</td></tr>",
                            "<tr><td>25</td><td>SELECT * FROM (SELECT  [dp].[principal_id]          AS [ObjectId],\r\n        [dp].[name]                  AS [Name],\r\n        [dp].[type]                  AS [Type],\r\n        NULL                         AS [LoginName],\r\n        NULL                         AS [CertificateId],\r\n        NULL                         AS [CertificateName],\r\n        NULL                         AS [AsymmetricKeyId],\r\n        NULL                         AS [AsymmetricKeyName],\r\n        [dp].[default_schema_name]   AS [DefaultSchemaName],       \r\n        [dp].[authentication_type]   AS [AuthenticationType],\r\n        [dp].[default_language_name] AS [DefaultLanguage],\r\n        [dp].[sid]                   AS [Sid]         \r\nFROM    [sys].[database_principals] AS [dp] WITH (NOLOCK)\r\nWHERE   CHARINDEX([dp].[type], N'#') &gt; -1\r\nAND     [dp].[name] != N'#') AS [_results] WHERE ((([_results].[Name] =  CAST(N'#' AS NVarChar(-1)) )));</td></tr>",
                            "<tr><td>26</td><td>SELECT * FROM (\r\nSELECT  [db].[class] AS [TypeId],\r\n        [db].[major_id] AS [MajorId],\r\n        [db].[minor_id] AS [MinorId],\r\n        NULL AS [ObjectType],\r\n        CONVERT(bit, -1) AS [IsMsShipped],\r\n        [db].[grantee_principal_id] AS [GranteeId],\r\n        USER_NAME([db].[grantee_principal_id]) AS [GranteeName],\r\n        [db].[grantor_principal_id] AS [GrantorId],\r\n        CONVERT(BIT, CASE WHEN ([dp].[owning_principal_id] IS NULL OR [dp].[owning_principal_id] &lt;&gt; [db].[grantor_principal_id]) AND ([dp].[is_fixed_role] &lt;&gt; -1 AND [dp].[principal_id] &lt;&gt; -1) THEN -1 ELSE -1 END) AS [ScriptGrantor],\r\n        USER_NAME([db].[grantor_principal_id]) AS [GrantorName],\r\n        [db].[type] AS [PermissionCode],\r\n        [db].[permission_name] AS [PermissionType],\r\n        [db].[state] AS [PermissionState],\r\n        CASE [db].[class]\r\n            WHEN  -1 THEN NULL\r\n            WHEN  -1 THEN SCHEMA_NAME([db].[major_id])\r\n            WHEN  -1 THEN USER_NAME([db].[major_id])\r\n            \r\n        END AS [Level0Name],  \r\n        NULL AS [Level1Name],\r\n        NULL AS [Level2Name],\r\n        [dp].[type] AS [DataBasePrincipalType]\r\nFROM\r\n        [sys].[database_permissions] [db] WITH (NOLOCK)\r\n        LEFT JOIN [sys].[database_principals] as [dp] WITH (NOLOCK) ON [db].[major_id] = [dp].[principal_id] AND [db].[class] = -1\r\n        INNER JOIN [sys].[database_principals] [dp2] WITH (NOLOCK) ON [dp2].[principal_id] = [db].[grantor_principal_id]\r\n        INNER JOIN [sys].[database_principals] [dp3] WITH (NOLOCK) ON [dp3].[principal_id] = [db].[grantee_principal_id]\r\nWHERE\r\n        [db].[class] &lt;&gt; -1\r\n        AND [db].[state] &lt;&gt; N'#'\r\n        AND [db].[grantee_principal_id] &lt;&gt; [db].[grantor_principal_id]\r\n        AND USER_NAME([db].[grantor_principal_id]) &lt;&gt; N'#'\r\n        AND USER_NAME([db].[grantee_principal_id]) &lt;&gt; N'#'\r\n        AND ([dp2].[owning_principal_id] IS NULL OR USER_NAME([dp2].[owning_principal_id]) &lt;&gt; N'#')\r\n        AND ([dp3].[owning_principal_id] IS NULL OR USER_NAME([dp3].[owning_principal_id]) &lt;&gt; N'#')\r\n        AND USER_NAME([db].[grantor_principal_id]) &lt;&gt; N'#'\r\n        AND USER_NAME([db].[grantee_principal_id]) &lt;&gt; N'#'\r\n        AND ([dp2].[owning_principal_id] IS NULL OR USER_NAME([dp2].[owning_principal_id]) &lt;&gt; N'#')\r\n        AND ([dp3].[owning_principal_id] IS NULL OR USER_NAME([dp3].[owning_principal_id]) &lt;&gt; N'#')\r\n        AND NOT (\r\n        [db].[class] = -1 AND [db].[class_desc] = N'#' AND [db].[major_id] = -1 AND [db].[minor_id] = -1 AND [db].[state] = '#')) AS [_results] WHERE ((([_results].[Level0Name] =  CAST(N'#' AS NVarChar(-1)) )) AND [TypeId] = -1 AND [Level2Name] IS NULL AND [Level1Name] IS NULL\r\n) ORDER BY TypeId,GranteeId,GrantorId,MajorId,MinorId,PermissionCode,PermissionState ;</td></tr>",
                            "<tr><td>27</td><td>SELECT * FROM (\r\nSELECT DISTINCT\r\n        [db].[class] AS [TypeId],\r\n        [db].[major_id] AS [MajorId],\r\n        [db].[minor_id] AS [MinorId],\r\n        [so].[type] AS [ObjectType],\r\n        [so].[is_ms_shipped] AS [IsMsShipped],\r\n        [db].[grantee_principal_id] AS [GranteeId],\r\n        USER_NAME([db].[grantee_principal_id]) AS [GranteeName],\r\n        [db].[grantor_principal_id] AS [GrantorId],\r\n        CONVERT(BIT, CASE WHEN [dp].[is_fixed_role] = -1 OR [dp].[principal_id] = -1 THEN -1 ELSE -1 END) AS [ScriptGrantor],\r\n        USER_NAME([db].[grantor_principal_id]) AS [GrantorName],\r\n        [db].[type] AS [PermissionCode],\r\n        [db].[permission_name] AS [PermissionType],\r\n        [db].[state] AS [PermissionState],\r\n        SCHEMA_NAME([so].[schema_id]) AS [Level0Name],\r\n        [so].[name] AS [Level1Name],\r\n        [c].[name] AS [Level2Name],\r\n        NULL AS [DataBasePrincipalType],\r\n        CASE WHEN EXISTS(SELECT * FROM [sys].[external_tables] WHERE [object_id] = [db].[major_id])\r\n            THEN CAST(-1 AS BIT)\r\n            ELSE CAST(-1 AS BIT)\r\n        END AS [IsExternalTable]\r\nFROM\r\n        [sys].[database_permissions] [db] WITH (NOLOCK)\r\n        INNER JOIN [sys].[objects] [so] WITH (NOLOCK) ON [so].[object_id] = [db].[major_id]\r\n        INNER JOIN [sys].[database_principals] [dp] WITH (NOLOCK) ON [dp].[principal_id] = [db].[grantor_principal_id]\r\n        INNER JOIN [sys].[database_principals] [dp2] WITH (NOLOCK) ON [dp2].[principal_id] = [db].[grantee_principal_id]\r\n        LEFT JOIN [sys].[columns] [c] WITH (NOLOCK) ON [db].[major_id] = [c].[object_id]  AND [db].[minor_id] = [c].[column_id]\r\n\r\nWHERE\r\n        [db].[class] = -1\r\n        AND [so].[object_id] NOT IN (SELECT [major_id] FROM [sys].[extended_properties] WITH (NOLOCK) WHERE [minor_id] = -1 AND [class] = -1 AND [name] = N'#')\r\n        AND OBJECTPROPERTY([so].[object_id], N'#') = -1\r\n        AND [db].[state] &lt;&gt; N'#'\r\n        AND [db].[grantee_principal_id] &lt;&gt; [db].[grantor_principal_id]\r\n        AND USER_NAME([db].[grantor_principal_id])  &lt;&gt; N'#'\r\n        AND USER_NAME([db].[grantee_principal_id])  &lt;&gt; N'#'\r\n        AND ([dp].[owning_principal_id] IS NULL OR USER_NAME([dp].[owning_principal_id]) &lt;&gt; N'#')\r\n        AND ([dp2].[owning_principal_id] IS NULL OR USER_NAME([dp2].[owning_principal_id]) &lt;&gt; N'#')\r\n        AND NOT EXISTS (SELECT TOP -1 -1 FROM [sys].[database_permissions] [p] WITH (NOLOCK) WHERE\r\n             [p].[major_id] = [db].[major_id]\r\n            AND [p].[minor_id] = -1\r\n            AND [p].[permission_name] = [db].[permission_name]\r\n            AND [p].[state] = N'#'\r\n            AND [db].[state] = N'#'\r\n            AND [db].[minor_id] &lt;&gt; -1\r\n            AND [p].[class] =  [db].[class]\r\n            AND [p].[grantee_principal_id] = [db].[grantee_principal_id]\r\n            AND [p].[grantor_principal_id] = [db].[grantor_principal_id])) AS [_results] WHERE ((([_results].[Level0Name] =  CAST(N'#' AS NVarChar(-1)) )) AND [TypeId] = -1 AND [Level2Name] IS NULL AND [Level1Name] IS NULL\r\n) ORDER BY TypeId,GranteeId,GrantorId,MajorId,MinorId,PermissionCode,PermissionState ;</td></tr>",
                            "<tr><td>28</td><td>SELECT * FROM sys.database_principals</td></tr>",
                            "<tr><td>29</td><td>SELECT SERVERPROPERTY('#'), SERVERPROPERTY('#'), (SELECT CASE WHEN EXISTS (SELECT TOP -1 -1 from [sys].[all_columns] WHERE name = N'#' AND OBJECT_ID(N'#') = object_id) THEN -1 ELSE -1 END AS SXI_PRESENT)</td></tr>",
                            "<tr><td>30</td><td>SELECT name,is_query_store_on,is_auto_create_stats_on,is_result_set_caching_on FROM sys.databases</td></tr>",
                            "<tr><td>31</td><td>SELECT (SERVERPROPERTY(N'#'))</td></tr>",
                            "<tr><td>32</td><td>SELECT case when  CAST(N'#' AS NVarChar(-1))  = N'#' then -1 else -1 end as '#',\r\nSERVERPROPERTY('#') AS DatabaseEngineEdition,\r\nSERVERPROPERTY('#') AS ProductVersion,\r\n@@MICROSOFTVERSION AS MicrosoftVersion;</td></tr>",
                            "<tr><td>33</td><td>select N'#' as host_platform</td></tr>",
                            "<tr><td>34</td><td>select '#' as ConnectionProtocol</td></tr>",
                            "<tr><td>35</td><td>SELECT dtb.name AS [Name], dtb.state AS [State] FROM sys.databases dtb</td></tr>",
                            "<tr><td>36</td><td>SELECT @@SPID;</td></tr>",
                            "<tr><td>37</td><td>SELECT SERVERPROPERTY('#'), SERVERPROPERTY('#'), SERVERPROPERTY ('#'), SERVERPROPERTY ('#'), SERVERPROPERTY ('#'), SERVERPROPERTY ('#'), (SELECT CASE WHEN EXISTS (SELECT TOP -1 -1 from [sys].[all_columns] WITH (NOLOCK) WHERE name = N'#' AND OBJECT_ID(N'#') = object_id) THEN -1 ELSE -1 END AS SXI_PRESENT)</td></tr>",
                            "<tr><td>38</td><td>select SERVERPROPERTY(N'#')</td></tr>",
                            "<tr><td>39</td><td>SELECT\nCAST(\r\n        serverproperty(N'#')\r\n       AS sysname) AS [Name]</td></tr>",
                            "<tr><td>40</td><td>SELECT\ndtb.name AS [Name],\ndtb.database_id AS [ID],\nCAST(case when dtb.name in ('#') then -1 else dtb.is_distributor end AS bit) AS [IsSystemObject],\ndtb.collation_name AS [Collation],\nCAST(has_dbaccess(dtb.name) AS bit) AS [IsAccessible],\ndtb.name AS [DatabaseName2]\nFROM\nsys.databases AS dtb\nWHERE\n(dtb.name= CAST(N'#' AS NVarChar(-1)) )\nORDER BY\n[Name] ASC</td></tr>",
                            "<tr><td>41</td><td>SELECT\nrl.name AS [Name]\nFROM\nsys.database_principals AS rl\nWHERE\n(rl.type = '#')\nORDER BY\n[Name] ASC</td></tr>",
                            "<tr><td>42</td><td>SELECT\n(@@microsoftversion / N'0xF') &amp; N'0xF' AS [VersionMajor]</td></tr>",
                            "<tr><td>43</td><td>SELECT\ns.name AS [Name]\nFROM\nsys.schemas AS s\nORDER BY\n[Name] ASC</td></tr>",
                            "<tr><td>44</td><td>SELECT\nu.name AS [Name],\nu.principal_id AS [ID]\nFROM\nsys.database_principals AS u\nWHERE\n(u.type in ('#', '#', '#', '#', '#' ,'#', '#'))\nORDER BY\n[Name] ASC</td></tr>",
                            "<tr><td>45</td><td>SELECT\nu.name AS [Name],\nu.principal_id AS [ID],\nCAST(CASE WHEN u.principal_id &lt; -1 OR u.principal_id = -1 OR u.principal_id = -1 THEN -1 ELSE -1 END AS bit) AS [IsSystemObject],\nCASE WHEN N'#' = u.type THEN -1 WHEN N'#' = u.type THEN -1 WHEN N'#' = u.type THEN -1 WHEN N'#' = u.type THEN -1 WHEN N'#' = u.type THEN -1 WHEN N'#' = u.type THEN -1 WHEN N'#' = u.type THEN -1 END AS [LoginType],\nCAST(CASE dp.state WHEN N'#' THEN -1 WHEN '#' THEN -1 ELSE -1 END AS bit) AS [HasDBAccess],\nu.sid AS [Sid],\nu.create_date AS [CreateDate],\nu.modify_date AS [DateLastModified],\nISNULL(u.default_schema_name,N'#') AS [DefaultSchema],\nISNULL(cert.name,N'#') AS [Certificate],\n\r\n        CASE\r\n        WHEN N'#' = u.type THEN -1\r\n        WHEN N'#' = u.type THEN -1\r\n        WHEN N'#' = u.type AND u.authentication_type != -1 AND u.authentication_type != -1 THEN -1\r\n        WHEN N'#' = u.type or N'#' = u.type THEN -1\r\n        ELSE -1 END\r\n       AS [UserType],\nu.authentication_type AS [AuthenticationType]\nFROM\nsys.database_principals AS u\nLEFT OUTER JOIN sys.database_permissions AS dp ON dp.grantee_principal_id = u.principal_id and dp.type =  CAST(N'#' AS NVarChar(-1)) \nLEFT OUTER JOIN sys.certificates AS cert ON cert.sid = u.sid\nWHERE\n(u.type in ('#', '#', '#', '#', '#' ,'#', '#'))and(u.name= CAST(N'#' AS NVarChar(-1)) )</td></tr>",
                            "<tr><td>46</td><td>SELECT\n(select schema_name()) AS [DefaultSchema]\nFROM\nsys.databases AS dtb\nWHERE\n(dtb.name= CAST(N'#' AS NVarChar(-1)) )</td></tr>",
                            "<tr><td>47</td><td>SELECT\nSCHEMA_NAME(tbl.schema_id) AS [Schema],\ntbl.name AS [Name],\ntbl.object_id AS [ID]\nFROM\nsys.tables AS tbl\nORDER BY\n[Schema] ASC,[Name] ASC</td></tr>",
                            "<tr><td>48</td><td>SELECT\nSCHEMA_NAME(v.schema_id) AS [Schema],\nv.name AS [Name],\nv.object_id AS [ID]\nFROM\nsys.all_views AS v\nWHERE\n(v.type =  CAST(N'#' AS NVarChar(-1)) )\nORDER BY\n[Schema] ASC,[Name] ASC</td></tr>",
                            "<tr><td>49</td><td>SELECT\nSCHEMA_NAME(udf.schema_id) AS [Schema],\nudf.name AS [Name],\nudf.object_id AS [ID],\n(case when '#' = udf.type then -1 when '#' = udf.type then -1 when '#' = udf.type then -1 when '#' = udf.type then -1 when '#' = udf.type then -1 else -1 end) AS [FunctionType],\nCASE WHEN udf.type IN ('#','#','#') THEN -1 WHEN udf.type IN ('#','#') THEN -1 ELSE -1 END AS [ImplementationType],\nCAST(\r\n        case\r\n          when udf.is_ms_shipped = -1 then -1\r\n          else -1\r\n        end\r\n       AS bit) AS [IsSystemObject],\nCAST(CASE WHEN ISNULL(smudf.definition, ssmudf.definition) IS NULL THEN -1 ELSE -1 END AS bit) AS [IsEncrypted],\nCAST(ISNULL(OBJECTPROPERTYEX(udf.object_id, N'#'),-1) AS bit) AS [IsSchemaBound],\nusrt.name AS [DataType],\nISNULL(baset.name, N'#') AS [SystemType],\nCAST(CASE WHEN baset.name IN (N'#', N'#') AND ret_param.max_length &lt;&gt; --1 THEN ret_param.max_length/-1 ELSE ret_param.max_length END AS int) AS [Length],\nCAST(ret_param.precision AS int) AS [NumericPrecision],\nCAST(ret_param.scale AS int) AS [NumericScale],\ns1ret_param.name AS [DataTypeSchema]\nFROM\nsys.all_objects AS udf\nLEFT OUTER JOIN sys.sql_modules AS smudf ON smudf.object_id = udf.object_id\nLEFT OUTER JOIN sys.system_sql_modules AS ssmudf ON ssmudf.object_id = udf.object_id\nLEFT OUTER JOIN sys.all_parameters AS ret_param ON ret_param.object_id = udf.object_id and ret_param.is_output =  CAST(N'#' AS NVarChar(-1)) \nLEFT OUTER JOIN sys.types AS usrt ON usrt.user_type_id = ret_param.user_type_id\nLEFT OUTER JOIN sys.types AS baset ON (baset.user_type_id = ret_param.system_type_id and baset.user_type_id = baset.system_type_id) or ((baset.system_type_id = ret_param.system_type_id) and (baset.user_type_id = ret_param.user_type_id) and (baset.is_user_defined = -1) and (baset.is_assembly_type = -1)) \nLEFT OUTER JOIN sys.schemas AS s1ret_param ON s1ret_param.schema_id = usrt.schema_id\nWHERE\n(udf.type in ('#', '#', '#', '#', '#'))\nORDER BY\n[Schema] ASC,[Name] ASC</td></tr>",
                            "<tr><td>50</td><td>SELECT\nSCHEMA_NAME(sp.schema_id) AS [Schema],\nsp.name AS [Name],\nsp.object_id AS [ID],\nCAST(\r\n        case\r\n          when sp.is_ms_shipped = -1 then -1\r\n          else -1\r\n        end\r\n       AS bit) AS [IsSystemObject],\nCASE WHEN sp.type = N'#' THEN -1 WHEN sp.type = N'#' THEN -1 ELSE -1 END AS [ImplementationType],\nCAST(CASE WHEN ISNULL(smsp.definition, ssmsp.definition) IS NULL THEN -1 ELSE -1 END AS bit) AS [IsEncrypted]\nFROM\nsys.all_objects AS sp\nLEFT OUTER JOIN sys.sql_modules AS smsp ON smsp.object_id = sp.object_id\nLEFT OUTER JOIN sys.system_sql_modules AS ssmsp ON ssmsp.object_id = sp.object_id\nWHERE\n(sp.type =  CAST(N'#' AS NVarChar(-1))  OR sp.type =  CAST(N'#' AS NVarChar(-1))  OR sp.type= CAST(N'#' AS NVarChar(-1)) )\nORDER BY\n[Schema] ASC,[Name] ASC</td></tr>",
                            "<tr><td>51</td><td>SELECT\n'#' AS [UserName],\ndtb.name AS [DatabaseName]\nFROM\nsys.databases AS dtb\nWHERE\n(dtb.name= CAST(N'#' AS NVarChar(-1)) )</td></tr>",
                            "<tr><td>52</td><td>SELECT\nuser_name() AS [UserName]</td></tr>",
                            "<tr><td>53</td><td>SELECT\nclmns.column_id AS [ID],\nclmns.name AS [Name],\nISNULL(dc.Name, N'#') AS [DefaultConstraintName],\nclmns.is_nullable AS [Nullable],\nCAST(ISNULL(cik.index_column_id, -1) AS bit) AS [InPrimaryKey],\nclmns.is_identity AS [Identity],\nusrt.name AS [DataType],\nISNULL(baset.name, N'#') AS [SystemType],\nCAST(CASE WHEN baset.name IN (N'#', N'#') AND clmns.max_length &lt;&gt; --1 THEN clmns.max_length/-1 ELSE clmns.max_length END AS int) AS [Length],\nCAST(clmns.precision AS int) AS [NumericPrecision],\nCAST(clmns.scale AS int) AS [NumericScale],\ns1clmns.name AS [DataTypeSchema],\nclmns.is_computed AS [Computed]\nFROM\nsys.tables AS tbl\nINNER JOIN sys.all_columns AS clmns ON clmns.object_id=tbl.object_id\nLEFT OUTER JOIN sys.default_constraints as dc ON clmns.default_object_id = dc.object_id\nLEFT OUTER JOIN sys.indexes AS ik ON ik.object_id = clmns.object_id and -1=ik.is_primary_key\nLEFT OUTER JOIN sys.index_columns AS cik ON cik.index_id = ik.index_id and cik.column_id = clmns.column_id and cik.object_id = clmns.object_id and -1 = cik.is_included_column\nLEFT OUTER JOIN sys.types AS usrt ON usrt.user_type_id = clmns.user_type_id\nLEFT OUTER JOIN sys.types AS baset ON (baset.user_type_id = clmns.system_type_id and baset.user_type_id = baset.system_type_id) or ((baset.system_type_id = clmns.system_type_id) and (baset.user_type_id = clmns.user_type_id) and (baset.is_user_defined = -1) and (baset.is_assembly_type = -1)) \nLEFT OUTER JOIN sys.schemas AS s1clmns ON s1clmns.schema_id = usrt.schema_id\nWHERE\n(tbl.name= CAST(N'#' AS NVarChar(-1))  and SCHEMA_NAME(tbl.schema_id)= CAST(N'#' AS NVarChar(-1)) )\nORDER BY\n[ID] ASC</td></tr>",
                            "<tr><td>54</td><td>SELECT\nclmns.column_id AS [ID],\nclmns.name AS [Name],\nISNULL(dc.Name, N'#') AS [DefaultConstraintName],\nclmns.is_nullable AS [Nullable],\nCAST(ISNULL(cik.index_column_id, -1) AS bit) AS [InPrimaryKey],\nclmns.is_identity AS [Identity],\nusrt.name AS [DataType],\nISNULL(baset.name, N'#') AS [SystemType],\nCAST(CASE WHEN baset.name IN (N'#', N'#') AND clmns.max_length &lt;&gt; --1 THEN clmns.max_length/-1 ELSE clmns.max_length END AS int) AS [Length],\nCAST(clmns.precision AS int) AS [NumericPrecision],\nCAST(clmns.scale AS int) AS [NumericScale],\ns1clmns.name AS [DataTypeSchema],\nclmns.is_computed AS [Computed]\nFROM\nsys.all_views AS v\nINNER JOIN sys.all_columns AS clmns ON clmns.object_id=v.object_id\nLEFT OUTER JOIN sys.default_constraints as dc ON clmns.default_object_id = dc.object_id\nLEFT OUTER JOIN sys.indexes AS ik ON ik.object_id = clmns.object_id and -1=ik.is_primary_key\nLEFT OUTER JOIN sys.index_columns AS cik ON cik.index_id = ik.index_id and cik.column_id = clmns.column_id and cik.object_id = clmns.object_id and -1 = cik.is_included_column\nLEFT OUTER JOIN sys.types AS usrt ON usrt.user_type_id = clmns.user_type_id\nLEFT OUTER JOIN sys.types AS baset ON (baset.user_type_id = clmns.system_type_id and baset.user_type_id = baset.system_type_id) or ((baset.system_type_id = clmns.system_type_id) and (baset.user_type_id = clmns.user_type_id) and (baset.is_user_defined = -1) and (baset.is_assembly_type = -1)) \nLEFT OUTER JOIN sys.schemas AS s1clmns ON s1clmns.schema_id = usrt.schema_id\nWHERE\n(v.type =  CAST(N'#' AS NVarChar(-1)) )and(v.name= CAST(N'#' AS NVarChar(-1))  and SCHEMA_NAME(v.schema_id)= CAST(N'#' AS NVarChar(-1)) )\nORDER BY\n[ID] ASC</td></tr>",
                            "<tr><td>55</td><td>SELECT A.PassengerCount,\r\n      SUM(A.TripDistanceMiles+B.TripDistanceMiles) as SumTripDistance,\r\n      AVG(A.TripDistanceMiles+B.TripDistanceMiles) as AvgTripDistance\r\nFROM  dbo.Trip A, dbo.Trip B \r\nWHERE A.TripDistanceMiles &gt; -1 AND A.PassengerCount &gt; -1\r\nGROUP BY A.PassengerCount\r\nORDER BY A.PassengerCount</td></tr>",
                            "<tr><td>56</td><td>SELECT C.client_id\r\n\t\t,S.login_name\r\n\t\t,S.app_name\r\n\t\t,R.session_id\r\n\t\t,R.request_id\r\n\t\t,R.status\r\n\t\t,R.submit_time\r\n\t\t,R.start_time\r\n\t\t,R.end_compile_time\r\n\t\t,R.end_time\r\n\t\t,R.total_elapsed_time\r\n\t\t,R.Command\r\n\t\t,R.importance\r\n\t\t,R.resource_class\r\nFROM sys.dm_pdw_exec_requests R\r\n\tINNER JOIN sys.dm_pdw_exec_sessions S\r\n\t\tON S.session_id = R.session_id\r\n\tINNER JOIN sys.dm_pdw_exec_connections C\r\n\t\tON c.session_id = S.session_id\r\nWHERE R.status = '#'</td></tr>",
                            "<tr><td>57</td><td>Select * from sys.dm_pdw_exec_requests where status = '#' and [label] = '#'</td></tr>",
                            "<tr><td>58</td><td>SELECT\ndtb.name AS [Name]\nFROM\nsys.databases AS dtb\nWHERE\n(dtb.name= CAST(N'#' AS NVarChar(-1)) )</td></tr>",
                            "<tr><td>59</td><td>SELECT\nCAST(CHARINDEX(N'#', dtb.collation_name) AS bit) AS [CaseSensitive],\ndtb.name AS [DatabaseName2]\nFROM\nsys.databases AS dtb\nWHERE\n(dtb.name= CAST(N'#' AS NVarChar(-1)) )</td></tr>",
                            "<tr><td>60</td><td>-- ####\r\nselect * from sys.dm_pdw_errors where error_id = '#'</td></tr>",
                            "<tr><td>61</td><td>-- ####\r\nselect * from sys.dm_pdw_errors where error_id like '#'</td></tr>",
                            "<tr><td>62</td><td>-- ####\r\nSELECT TOP -1\r\n\t\tS.session_id\r\n\t\t,S.login_name\r\n\t\t,S.client_id\r\n\t\t,S.app_name\r\n\t\t,R.request_id\r\n\t\t,R.command request_command\r\n\t\t,R.[label]\r\n\t\t,COUNT(ST.request_id) steps_with_movement\r\n\t\t,SUM(ST.row_count) total_rows_moved\r\n\t\t,SUM(ST.total_elapsed_time) total_elapsed_dms_time\r\n\t\t,SUM(R.total_elapsed_time) total_elapsed_request_time\r\n\t\t,(SUM(ST.total_elapsed_time)*-1.0)/SUM(R.total_elapsed_time) dms_time_percentage\r\nFROM sys.dm_pdw_exec_requests R\r\n\tINNER JOIN sys.dm_pdw_request_steps ST\r\n\t\tON R.request_id = ST.request_id\r\n\tINNER JOIN sys.dm_pdw_exec_sessions S\r\n\t\tON R.session_id = S.session_id\r\nWHERE (ST.location_type = '#'\r\n\tOR ST.operation_type like '#')\r\n\tAND R.status = '#'\r\nGROUP BY \r\n\t\tS.session_id\r\n\t\t,S.login_name\r\n\t\t,S.client_id\r\n\t\t,S.app_name\r\n\t\t,R.request_id\r\n\t\t,R.command\r\n\t\t,R.[label]\r\nHAVING SUM(ST.row_count) &gt; -1\r\nORDER BY dms_time_percentage DESC\r\n\t\t,total_rows_moved DESC</td></tr>",
                            "<tr><td>63</td><td>-- ####\r\nSELECT TOP -1\r\n\t\tS.session_id\r\n\t\t,S.login_name\r\n\t\t,S.client_id\r\n\t\t,S.app_name\r\n\t\t,R.request_id\r\n\t\t,R.command request_command\r\n\t\t,R.[label]\r\n\t\t,COUNT(ST.request_id) steps_with_movement\r\n\t\t,SUM(ST.row_count) total_rows_moved\r\n\t\t,SUM(ST.total_elapsed_time) total_elapsed_dms_time\r\n\t\t,SUM(R.total_elapsed_time) total_elapsed_request_time\r\n\t\t,(SUM(ST.total_elapsed_time)*-1.0)/SUM(R.total_elapsed_time) dms_time_percentage\r\nFROM sys.dm_pdw_exec_requests R\r\n\tINNER JOIN sys.dm_pdw_request_steps ST\r\n\t\tON R.request_id = ST.request_id\r\n\tINNER JOIN sys.dm_pdw_exec_sessions S\r\n\t\tON R.session_id = S.session_id\r\nWHERE (ST.location_type = '#'\r\n\tOR ST.operation_type like '#')\r\n\t-- ####\r\nGROUP BY \r\n\t\tS.session_id\r\n\t\t,S.login_name\r\n\t\t,S.client_id\r\n\t\t,S.app_name\r\n\t\t,R.request_id\r\n\t\t,R.command\r\n\t\t,R.[label]\r\nHAVING SUM(ST.row_count) &gt; -1\r\nORDER BY dms_time_percentage DESC\r\n\t\t,total_rows_moved DESC</td></tr>",
                            "<tr><td>64</td><td>SELECT * FROM sys.dm_pdw_request_steps WHERE request_id = '#'</td></tr>",
                            "<tr><td>65</td><td>SELECT A.PassengerCount,\r\n\r\n      SUM(A.TripDistanceMiles+B.TripDistanceMiles) as SumTripDistance,\r\n\r\n      AVG(A.TripDistanceMiles+B.TripDistanceMiles) as AvgTripDistance\r\n\r\nFROM  dbo.Trip A, dbo.Trip B \r\n\r\nWHERE A.TripDistanceMiles &gt; -1 AND A.PassengerCount &gt; -1\r\n\r\nGROUP BY A.PassengerCount\r\n\r\nORDER BY A.PassengerCount</td></tr>",
                            "<tr><td>66</td><td>SELECT * FROM sys.databases</td></tr>",
                            "<tr><td>67</td><td>SELECT name,is_query_store_on,is_auto_create_stats_on,is_result_set_caching_on FROM sys.databases where name not in ('#')</td></tr>",
                            "<tr><td>68</td><td>-- ####\r\nSELECT name,is_query_store_on,is_auto_create_stats_on,is_result_set_caching_on FROM sys.databases where name not in ('#')</td></tr>",
                            "<tr><td>69</td><td>-- ####\r\nSELECT G.geographyid,T.TimeID,P.PassengerCount,\r\n\t  PERCENTILE_CONT (-1.0) WITHIN GROUP ( ORDER BY P.PassengerCount DESC)  OVER (PARTITION BY T.TimeID) AS TTT   ,\r\n      SUM(P.TripDistanceMiles) as SumTripDistance,\r\n      AVG(P.TripDistanceMiles) as AvgTripDistance,\r\n      SUM(P.FareAmount) as SumFareAmount,\r\n      AVG(P.FareAmount) as AvgFareAmount,\r\n      SUM(P.TaxAmount) as SumTaxAmount,\r\n      AVG(P.TaxAmount) as AvgTaxAmount,\r\n      SUM(P.TotalAmount) as SumTotalAmount,\r\n      AVG(P.TotalAmount) as AvgTotalAmount\r\nFROM  dbo.Trip P\r\n\tINNER JOIN [dbo].[Geography] G\r\n\t\tON P.pickupgeographyid = G.geographyid\r\n\tINNER JOIN [dbo].[Time] T\r\n\t\tON T.TimeID = P.PickupTimeId\r\nGROUP BY P.PassengerCount,G.geographyid,T.TimeID</td></tr>",
                            "<tr><td>70</td><td>SELECT\r\n     q.query_id\r\n     , t.query_sql_text\r\nFROM\r\n     sys.query_store_query q\r\n       JOIN sys.query_store_query_text t ON q.query_text_id = t.query_text_id;</td></tr>",
                            "<tr><td>71</td><td>-- ####\r\nSELECT TOP -1\r\n       q.query_id [query_id]\r\n       , t.query_sql_text [command]\r\n\t, SUM(rs.count_executions) [execution_count]\r\nFROM sys.query_store_query q\r\n\tINNER JOIN sys.query_store_query_text t \r\n\t\tON q.query_text_id = t.query_text_id\r\n\tINNER JOIN sys.query_store_plan p \r\n\t\tON p.query_id = q.query_id\r\n\tINNER JOIN sys.query_store_runtime_stats rs \r\n\t\tON rs.plan_id = p.plan_id\r\nGROUP BY q.query_id , t.query_sql_text \r\nORDER BY [execution_count] DESC;</td></tr>",
                            "<tr><td>72</td><td>SELECT\r\n       q.query_id               [query_id]\r\n       , t.query_sql_text       [command]\r\n       , rs.avg_duration        [avg_duration]\r\n       , rs.min_duration        [min_duration]\r\n       , rs.max_duration        [max_duration]\r\nFROM\r\n       sys.query_store_query q\r\n       JOIN sys.query_store_query_text t ON q.query_text_id = t.query_text_id\r\n       JOIN sys.query_store_plan p ON p.query_id = q.query_id\r\nJOIN sys.query_store_runtime_stats rs ON rs.plan_id = p.plan_id</td></tr>",
                            "<tr><td>73</td><td>SELECT\r\n      -- ####\r\n        t.query_sql_text       [command]\r\n       , rs.avg_duration        [avg_duration]\r\n       , rs.min_duration        [min_duration]\r\n       , rs.max_duration        [max_duration]\r\nFROM\r\n       sys.query_store_query q\r\n       JOIN sys.query_store_query_text t ON q.query_text_id = t.query_text_id\r\n       JOIN sys.query_store_plan p ON p.query_id = q.query_id\r\nJOIN sys.query_store_runtime_stats rs ON rs.plan_id = p.plan_id</td></tr>",
                            "<tr><td>74</td><td>-- ####\r\nSELECT TOP -1 G.geographyid,T.TimeID,P.PassengerCount,\r\n\t  PERCENTILE_CONT (-1.0) WITHIN GROUP ( ORDER BY P.PassengerCount DESC)  OVER (PARTITION BY T.TimeID) AS TTT   ,\r\n      SUM(P.TripDistanceMiles) as SumTripDistance,\r\n      AVG(P.TripDistanceMiles) as AvgTripDistance,\r\n      SUM(P.FareAmount) as SumFareAmount,\r\n      AVG(P.FareAmount) as AvgFareAmount,\r\n      SUM(P.TaxAmount) as SumTaxAmount,\r\n      AVG(P.TaxAmount) as AvgTaxAmount,\r\n      SUM(P.TotalAmount) as SumTotalAmount,\r\n      AVG(P.TotalAmount) as AvgTotalAmount\r\nFROM  dbo.Trip P\r\n\tINNER JOIN [dbo].[Geography] G\r\n\t\tON P.pickupgeographyid = G.geographyid\r\n\tINNER JOIN [dbo].[Time] T\r\n\t\tON T.TimeID = P.PickupTimeId\r\nGROUP BY P.PassengerCount,G.geographyid,T.TimeID</td></tr>",
                            "<tr><td>75</td><td>SELECT * FROM sys.databases where name not in ('#')</td></tr>",
                            "<tr><td>76</td><td>-- ####\r\n/* #### */\r\nWITH step_data AS \r\n(\r\n\tSELECT \r\n\t\tSUM(rows_processed) AS Step_Rows_Processed\r\n\t\t, SUM(Bytes_processed) AS Step_Bytes_Processed\r\n\t\t, request_id\r\n\t\t, step_index\r\n\t\t, status \r\n\t\t, type\r\n\tFROM sys.dm_pdw_dms_workers \r\n\tWHERE status != '#'\r\n\tGroup by \r\n\t\t  request_id\r\n\t\t, step_index\r\n\t\t, status\r\n\t\t, type\r\n) \r\nSELECT \r\n\t step_data.request_id\r\n\t, per.session_id\r\n\t, step_data.Step_rows_processed\r\n\t, step_data.step_bytes_processed\r\n\t, (step_data.Step_Bytes_Processed/-1/-1/-1) AS Step_GB_Processed\r\n\t, step_data.step_index\r\n\t, step_data.type\r\n\t, step_data.status as Step_status\r\n\t, per.status AS QID_Status\r\n\t, per.total_elapsed_time/-1/-1 as '#'\r\n\t, per.command AS '#'\r\n\t, per.resource_class\r\n\t, per.importance\r\nFROM step_data\r\nLEFT JOIN sys.dm_pdw_exec_requests per\r\nON step_data.request_id = per.request_id\r\nWHERE per.status = '#'\r\nORDER BY step_data.Step_rows_processed DESC</td></tr>",
                            "<tr><td>77</td><td>SELECT * FROM sys.dm_pdw_dms_workers\r\nWHERE request_id = '#'\r\nAND step_index = -1</td></tr>",
                            "<tr><td>78</td><td>SELECT USER_NAME();</td></tr>",
                            "<tr><td>79</td><td>SELECT\nCAST(ISNULL(ic.seed_value,-1) AS bigint) AS [IdentitySeed]\nFROM\nsys.tables AS tbl\nINNER JOIN sys.all_columns AS clmns ON clmns.object_id=tbl.object_id\nLEFT OUTER JOIN sys.identity_columns AS ic ON ic.object_id = clmns.object_id and ic.column_id = clmns.column_id\nWHERE\n(clmns.name= CAST(N'#' AS NVarChar(-1)) )and((tbl.name= CAST(N'#' AS NVarChar(-1))  and SCHEMA_NAME(tbl.schema_id)= CAST(N'#' AS NVarChar(-1)) ))</td></tr>",
                            "<tr><td>80</td><td>SELECT\nCAST(ISNULL(ic.increment_value,-1) AS bigint) AS [IdentityIncrement]\nFROM\nsys.tables AS tbl\nINNER JOIN sys.all_columns AS clmns ON clmns.object_id=tbl.object_id\nLEFT OUTER JOIN sys.identity_columns AS ic ON ic.object_id = clmns.object_id and ic.column_id = clmns.column_id\nWHERE\n(clmns.name= CAST(N'#' AS NVarChar(-1)) )and((tbl.name= CAST(N'#' AS NVarChar(-1))  and SCHEMA_NAME(tbl.schema_id)= CAST(N'#' AS NVarChar(-1)) ))</td></tr>",
                            "<tr><td>81</td><td>SELECT\nclmns.name AS [Name],\nclmns.column_id AS [ID],\nclmns.is_nullable AS [Nullable],\nclmns.is_computed AS [Computed],\nCAST(ISNULL(cik.index_column_id, -1) AS bit) AS [InPrimaryKey],\nclmns.is_ansi_padded AS [AnsiPaddingStatus],\nCAST(clmns.is_rowguidcol AS bit) AS [RowGuidCol],\nCAST(ISNULL(cc.is_persisted, -1) AS bit) AS [IsPersisted],\nISNULL(clmns.collation_name, N'#') AS [Collation],\nCAST(ISNULL((select TOP -1 -1 from sys.foreign_key_columns AS colfk where colfk.parent_column_id = clmns.column_id and colfk.parent_object_id = clmns.object_id), -1) AS bit) AS [IsForeignKey],\nclmns.is_identity AS [Identity],\nCAST(ISNULL(ic.seed_value,-1) AS numeric(-1)) AS [IdentitySeedAsDecimal],\nCAST(ISNULL(ic.increment_value,-1) AS numeric(-1)) AS [IdentityIncrementAsDecimal],\n(case when clmns.default_object_id = -1 then N'#' when d.parent_object_id &gt; -1 then N'#' else d.name end) AS [Default],\n(case when clmns.default_object_id = -1 then N'#' when d.parent_object_id &gt; -1 then N'#' else schema_name(d.schema_id) end) AS [DefaultSchema],\nISNULL(dc.Name, N'#') AS [DefaultConstraintName],\n(case when clmns.rule_object_id = -1 then N'#' else r.name end) AS [Rule],\n(case when clmns.rule_object_id = -1 then N'#' else schema_name(r.schema_id) end) AS [RuleSchema],\nISNULL(ic.is_not_for_replication, -1) AS [NotForReplication],\nCAST(clmns.is_filestream AS bit) AS [IsFileStream],\nCAST(clmns.is_sparse AS bit) AS [IsSparse],\nCAST(clmns.is_column_set AS bit) AS [IsColumnSet],\nusrt.name AS [DataType],\ns1clmns.name AS [DataTypeSchema],\nISNULL(baset.name, N'#') AS [SystemType],\nCAST(CASE WHEN baset.name IN (N'#', N'#') AND clmns.max_length &lt;&gt; --1 THEN clmns.max_length/-1 ELSE clmns.max_length END AS int) AS [Length],\nCAST(clmns.precision AS int) AS [NumericPrecision],\nCAST(clmns.scale AS int) AS [NumericScale],\nCASE WHEN usrt.is_table_type = -1 THEN N'#' ELSE N'#' END AS [UserType],\nclmns.generated_always_type AS [GeneratedAlwaysType],\nCAST(clmns.is_hidden AS bit) AS [IsHidden],\nCAST(clmns.is_masked AS bit) AS [IsMasked],\nCAST(\r\n        CASE\r\n        WHEN [sc].[label] IS NOT NULL or [sc].[label_id] IS NOT NULL or [sc].[information_type] IS NOT NULL or [sc].[information_type_id] IS NOT NULL or [sc].[rank] IS NOT NULL THEN -1\r\n        ELSE -1\r\n        END\r\n       AS bit) AS [IsClassified],\n\r\n        CASE\r\n          WHEN cdp.distribution_ordinal IS NOT NULL AND cdp.distribution_ordinal &gt; -1 THEN ISNULL(clmns.name, N'#')\r\n          ELSE N'#'\r\n        END\r\n       AS [DistributionColumnName],\nCAST(\r\n        CASE\r\n          WHEN cdp.distribution_ordinal IS NOT NULL AND cdp.distribution_ordinal &gt; -1 THEN N'#'\r\n          ELSE N'#'\r\n        END\r\n       AS bit) AS [IsDistributedColumn]\nFROM\nsys.tables AS tbl\nINNER JOIN sys.all_columns AS clmns ON clmns.object_id=tbl.object_id\nLEFT OUTER JOIN sys.indexes AS ik ON ik.object_id = clmns.object_id and -1=ik.is_primary_key\nLEFT OUTER JOIN sys.index_columns AS cik ON cik.index_id = ik.index_id and cik.column_id = clmns.column_id and cik.object_id = clmns.object_id and -1 = cik.is_included_column\nLEFT OUTER JOIN sys.computed_columns AS cc ON cc.object_id = clmns.object_id and cc.column_id = clmns.column_id\nLEFT OUTER JOIN sys.identity_columns AS ic ON ic.object_id = clmns.object_id and ic.column_id = clmns.column_id\nLEFT OUTER JOIN sys.objects AS d ON d.object_id = clmns.default_object_id\nLEFT OUTER JOIN sys.default_constraints as dc ON clmns.default_object_id = dc.object_id\nLEFT OUTER JOIN sys.objects AS r ON r.object_id = clmns.rule_object_id\nLEFT OUTER JOIN sys.types AS usrt ON usrt.user_type_id = clmns.user_type_id\nLEFT OUTER JOIN sys.schemas AS s1clmns ON s1clmns.schema_id = usrt.schema_id\nLEFT OUTER JOIN sys.types AS baset ON (baset.user_type_id = clmns.system_type_id and baset.user_type_id = baset.system_type_id) or ((baset.system_type_id = clmns.system_type_id) and (baset.user_type_id = clmns.user_type_id) and (baset.is_user_defined = -1) and (baset.is_assembly_type = -1)) \nLEFT OUTER JOIN sys.sensitivity_classifications AS sc ON sc.major_id = clmns.object_id and sc.minor_id = clmns.column_id\nLEFT OUTER JOIN sys.pdw_column_distribution_properties as cdp ON cdp.object_id = clmns.object_id and cdp.column_id = clmns.column_id\nWHERE\n(clmns.name= CAST(N'#' AS NVarChar(-1)) )and((tbl.name= CAST(N'#' AS NVarChar(-1))  and SCHEMA_NAME(tbl.schema_id)= CAST(N'#' AS NVarChar(-1)) ))</td></tr>",
                            "<tr><td>82</td><td>SELECT * FROM dbo.DDMExample ;</td></tr>",
                            "<tr><td>83</td><td>SELECT * FROM Sales;</td></tr>",
                            "<tr><td>84</td><td>-- ####\r\nSELECT * FROM dbo.TableOLS;</td></tr>",
                            "<tr><td>85</td><td>SELECT FirstName, LastName, Username\r\nFROM dbo.TableOLS</td></tr>",
                            "<tr><td>86</td><td>SELECT\ndtb.collation_name AS [Collation],\ndtb.name AS [DatabaseName2]\nFROM\nsys.databases AS dtb\nWHERE\n(dtb.name= CAST(N'#' AS NVarChar(-1)) )</td></tr>",
                            "<tr><td>87</td><td>SELECT\ns.name AS [Name]\nFROM\nsys.schemas AS s\nWHERE\n(s.name= CAST(N'#' AS NVarChar(-1)) )</td></tr>",
                            "<tr><td>88</td><td>SELECT\ns.name AS [Name],\ns.schema_id AS [ID],\nISNULL(dp1.name, N'#') AS [Owner],\nCAST(\r\n      case when s.name in ('#','#','#','#','#','#','#','#','#','#','#','#', '#') then -1 else -1 end AS bit) AS [IsSystemObject]\nFROM\nsys.schemas AS s\nLEFT OUTER JOIN sys.database_principals AS dp1 ON dp1.principal_id = s.principal_id\nWHERE\n(s.name= CAST(N'#' AS NVarChar(-1)) )</td></tr>",
                            "<tr><td>89</td><td>-- ####\r\nSELECT * FROM sys.dm_pdw_request_steps where request_id = '#'</td></tr>",
                            "<tr><td>90</td><td>SELECT * FROM sys.dm_pdw_dms_workers \r\nwhere request_id = '#'\r\nAND step_index = -1</td></tr>",
                            "<tr><td>91</td><td>-- ####\r\nSelect * from sys.dm_pdw_exec_requests where status = '#' and [label] = '#'</td></tr>",
                            "<tr><td>92</td><td>-- ####\r\nSelect * from sys.dm_pdw_exec_requests where status = '#'-- ####</td></tr>",
                            "<tr><td>93</td><td>-- ####\r\nselect * from sys.dm_pdw_errors-- ####</td></tr>",
                            "<tr><td>94</td><td>SELECT\nSCHEMA_NAME(v.schema_id) AS [Schema],\nv.name AS [Name],\nv.object_id AS [ID]\nFROM\nsys.all_views AS v\nWHERE\n(v.type =  CAST(N'#' AS NVarChar(-1)) )and(v.name= CAST(N'#' AS NVarChar(-1))  and SCHEMA_NAME(v.schema_id)= CAST(N'#' AS NVarChar(-1)) )</td></tr>",
                            "<tr><td>95</td><td>SELECT\ni.name AS [Name]\nFROM\nsys.all_views AS v\nINNER JOIN sys.indexes AS i ON (i.index_id &gt;  CAST(N'#' AS NVarChar(-1))  and i.is_hypothetical =  CAST(N'#' AS NVarChar(-1)) ) AND (i.object_id=v.object_id)\nWHERE\n(v.type =  CAST(N'#' AS NVarChar(-1)) )and(v.name= CAST(N'#' AS NVarChar(-1))  and SCHEMA_NAME(v.schema_id)= CAST(N'#' AS NVarChar(-1)) )\nORDER BY\n[Name] ASC</td></tr>",
                            "<tr><td>96</td><td>SELECT\nclmns.column_id AS [ID],\nclmns.name AS [Name],\nclmns.is_ansi_padded AS [AnsiPaddingStatus],\nISNULL(clmns.collation_name, N'#') AS [Collation],\nclmns.is_computed AS [Computed],\nISNULL(cc.definition,N'#') AS [ComputedText],\ns1clmns.name AS [DataTypeSchema],\n(case when clmns.default_object_id = -1 then N'#' when d.parent_object_id &gt; -1 then N'#' else d.name end) AS [Default],\nISNULL(dc.Name, N'#') AS [DefaultConstraintName],\n(case when clmns.default_object_id = -1 then N'#' when d.parent_object_id &gt; -1 then N'#' else schema_name(d.schema_id) end) AS [DefaultSchema],\n\r\n        CASE\r\n          WHEN cdp.distribution_ordinal IS NOT NULL AND cdp.distribution_ordinal &gt; -1 THEN ISNULL(clmns.name, N'#')\r\n          ELSE N'#'\r\n        END\r\n       AS [DistributionColumnName],\nclmns.generated_always_type AS [GeneratedAlwaysType],\nclmns.is_identity AS [Identity],\nCAST(ISNULL(ic.seed_value,-1) AS numeric(-1)) AS [IdentitySeedAsDecimal],\nCAST(ISNULL(ic.increment_value,-1) AS numeric(-1)) AS [IdentityIncrementAsDecimal],\nCAST(\r\n        CASE\r\n        WHEN [sc].[label] IS NOT NULL or [sc].[label_id] IS NOT NULL or [sc].[information_type] IS NOT NULL or [sc].[information_type_id] IS NOT NULL or [sc].[rank] IS NOT NULL THEN -1\r\n        ELSE -1\r\n        END\r\n       AS bit) AS [IsClassified],\nCAST(clmns.is_column_set AS bit) AS [IsColumnSet],\nCAST(\r\n        CASE\r\n          WHEN cdp.distribution_ordinal IS NOT NULL AND cdp.distribution_ordinal &gt; -1 THEN N'#'\r\n          ELSE N'#'\r\n        END\r\n       AS bit) AS [IsDistributedColumn],\nCAST(clmns.is_filestream AS bit) AS [IsFileStream],\nCAST(ISNULL((select TOP -1 -1 from sys.foreign_key_columns AS colfk where colfk.parent_column_id = clmns.column_id and colfk.parent_object_id = clmns.object_id), -1) AS bit) AS [IsForeignKey],\nCAST(clmns.is_masked AS bit) AS [IsMasked],\nCAST(ISNULL(cc.is_persisted, -1) AS bit) AS [IsPersisted],\nCAST(clmns.is_sparse AS bit) AS [IsSparse],\nCAST(CASE WHEN baset.name IN (N'#', N'#') AND clmns.max_length &lt;&gt; --1 THEN clmns.max_length/-1 ELSE clmns.max_length END AS int) AS [Length],\nISNULL((SELECT ms.masking_function FROM sys.masked_columns ms WHERE ms.object_id = clmns.object_id AND ms.column_id = clmns.column_id), N'#') AS [MaskingFunction],\nISNULL(ic.is_not_for_replication, -1) AS [NotForReplication],\nclmns.is_nullable AS [Nullable],\nCAST(clmns.scale AS int) AS [NumericScale],\nCAST(clmns.precision AS int) AS [NumericPrecision],\nCAST(clmns.is_rowguidcol AS bit) AS [RowGuidCol],\n(case when clmns.rule_object_id = -1 then N'#' else r.name end) AS [Rule],\n(case when clmns.rule_object_id = -1 then N'#' else schema_name(r.schema_id) end) AS [RuleSchema],\nISNULL([sc].[label_id], N'#') AS [SensitivityLabelId],\nISNULL([sc].[label], N'#') AS [SensitivityLabelName],\nISNULL([sc].[information_type_id], N'#') AS [SensitivityInformationTypeId],\nISNULL([sc].[information_type], N'#') AS [SensitivityInformationTypeName],\nISNULL([sc].[rank], --1) AS [SensitivityRank],\nISNULL(baset.name, N'#') AS [SystemType],\nusrt.name AS [DataType]\nFROM\nsys.all_views AS v\nINNER JOIN sys.all_columns AS clmns ON clmns.object_id=v.object_id\nLEFT OUTER JOIN sys.computed_columns AS cc ON cc.object_id = clmns.object_id and cc.column_id = clmns.column_id\nLEFT OUTER JOIN sys.types AS usrt ON usrt.user_type_id = clmns.user_type_id\nLEFT OUTER JOIN sys.schemas AS s1clmns ON s1clmns.schema_id = usrt.schema_id\nLEFT OUTER JOIN sys.objects AS d ON d.object_id = clmns.default_object_id\nLEFT OUTER JOIN sys.default_constraints as dc ON clmns.default_object_id = dc.object_id\nLEFT OUTER JOIN sys.pdw_column_distribution_properties as cdp ON cdp.object_id = clmns.object_id and cdp.column_id = clmns.column_id\nLEFT OUTER JOIN sys.identity_columns AS ic ON ic.object_id = clmns.object_id and ic.column_id = clmns.column_id\nLEFT OUTER JOIN sys.sensitivity_classifications AS sc ON sc.major_id = clmns.object_id and sc.minor_id = clmns.column_id\nLEFT OUTER JOIN sys.types AS baset ON (baset.user_type_id = clmns.system_type_id and baset.user_type_id = baset.system_type_id) or ((baset.system_type_id = clmns.system_type_id) and (baset.user_type_id = clmns.user_type_id) and (baset.is_user_defined = -1) and (baset.is_assembly_type = -1)) \nLEFT OUTER JOIN sys.objects AS r ON r.object_id = clmns.rule_object_id\nWHERE\n(v.type =  CAST(N'#' AS NVarChar(-1)) )and(v.name= CAST(N'#' AS NVarChar(-1))  and SCHEMA_NAME(v.schema_id)= CAST(N'#' AS NVarChar(-1)) )\nORDER BY\n[ID] ASC</td></tr>",
                            "<tr><td>97</td><td>SELECT\nv.name AS [Name],\nv.object_id AS [ID],\nv.create_date AS [CreateDate],\nv.modify_date AS [DateLastModified],\nISNULL(sv.name, N'#') AS [Owner],\nCAST(case when v.principal_id is null then -1 else -1 end AS bit) AS [IsSchemaOwned],\nSCHEMA_NAME(v.schema_id) AS [Schema],\nCAST(\r\n        case\r\n          when v.is_ms_shipped = -1 then -1\r\n          else -1\r\n        end\r\n       AS bit) AS [IsSystemObject],\nCAST(ISNULL(OBJECTPROPERTYEX(v.object_id,N'#'),-1) AS bit) AS [AnsiNullsStatus],\nCAST(ISNULL(OBJECTPROPERTYEX(v.object_id,N'#'),-1) AS bit) AS [QuotedIdentifierStatus],\nCAST(ISNULL(OBJECTPROPERTYEX(v.object_id, N'#'),-1) AS bit) AS [IsSchemaBound],\nCAST(CASE WHEN ISNULL(smv.definition, ssmv.definition) IS NULL THEN -1 ELSE -1 END AS bit) AS [IsEncrypted],\nCAST(OBJECTPROPERTY(v.object_id, N'#') AS bit) AS [HasIndex],\nCAST(OBJECTPROPERTY(v.object_id, N'#') AS bit) AS [IsIndexable],\nv.has_opaque_metadata AS [ReturnsViewMetadata],\nCAST(ISNULL((select top -1 -1 from sys.indexes ind where ind.object_id = v.object_id and ind.type &gt; -1 and ind.is_hypothetical = -1 ), -1) AS bit) AS [HasNonClusteredIndex],\nCAST(CASE idx.index_id WHEN -1 THEN -1 ELSE -1 END AS bit) AS [HasClusteredIndex],\nCAST(case idx.index_id when -1 then case when (idx.is_primary_key + -1*idx.is_unique_constraint = -1) then -1 else -1 end else -1 end AS bit) AS [HasPrimaryClusteredIndex],\nISNULL(tmvp.distribution_policy, -1) AS [DwMaterializedViewDistribution]\nFROM\nsys.all_views AS v\nLEFT OUTER JOIN sys.database_principals AS sv ON sv.principal_id = ISNULL(v.principal_id, (OBJECTPROPERTY(v.object_id, '#')))\nLEFT OUTER JOIN sys.sql_modules AS smv ON smv.object_id = v.object_id\nLEFT OUTER JOIN sys.system_sql_modules AS ssmv ON ssmv.object_id = v.object_id\nLEFT OUTER JOIN sys.indexes AS idx ON idx.object_id = v.object_id and (idx.index_id &lt;  CAST(N'#' AS NVarChar(-1)) )\nLEFT OUTER JOIN sys.pdw_materialized_view_distribution_properties as tmvp ON tmvp.object_id = v.object_id\nWHERE\n(v.type =  CAST(N'#' AS NVarChar(-1)) )and(v.name= CAST(N'#' AS NVarChar(-1))  and SCHEMA_NAME(v.schema_id)= CAST(N'#' AS NVarChar(-1)) )</td></tr>",
                            "<tr><td>98</td><td>SELECT\nNULL AS [Text],\nISNULL(smv.definition, ssmv.definition) AS [Definition]\nFROM\nsys.all_views AS v\nLEFT OUTER JOIN sys.sql_modules AS smv ON smv.object_id = v.object_id\nLEFT OUTER JOIN sys.system_sql_modules AS ssmv ON ssmv.object_id = v.object_id\nWHERE\n(v.type =  CAST(N'#' AS NVarChar(-1)) )and(v.name= CAST(N'#' AS NVarChar(-1))  and SCHEMA_NAME(v.schema_id)= CAST(N'#' AS NVarChar(-1)) )</td></tr>",
                            "</table>"
                        ]
                    }
                }
            ],
            "execution_count": 9
        },
        {
            "cell_type": "markdown",
            "source": [
                "## This query will return the top 20 most executed Query in your Sql pool"
            ],
            "metadata": {
                "azdata_cell_guid": "e4de5355-efa6-4a95-ad4a-9141752ef536"
            },
            "attachments": {}
        },
        {
            "cell_type": "code",
            "source": [
                "--Top 20 most used queries\r\n",
                "SELECT TOP 20\r\n",
                "       q.query_id [query_id]\r\n",
                "       , t.query_sql_text [command]\r\n",
                "\t, SUM(rs.count_executions) [execution_count]\r\n",
                "FROM sys.query_store_query q\r\n",
                "\tINNER JOIN sys.query_store_query_text t \r\n",
                "\t\tON q.query_text_id = t.query_text_id\r\n",
                "\tINNER JOIN sys.query_store_plan p \r\n",
                "\t\tON p.query_id = q.query_id\r\n",
                "\tINNER JOIN sys.query_store_runtime_stats rs \r\n",
                "\t\tON rs.plan_id = p.plan_id\r\n",
                "GROUP BY q.query_id , t.query_sql_text \r\n",
                "ORDER BY [execution_count] DESC;\r\n",
                ""
            ],
            "metadata": {
                "azdata_cell_guid": "73482dc8-c40e-445c-a402-f00958fbcaad"
            },
            "outputs": [
                {
                    "output_type": "display_data",
                    "data": {
                        "text/html": "(20 rows affected)"
                    },
                    "metadata": {}
                },
                {
                    "output_type": "display_data",
                    "data": {
                        "text/html": "Total execution time: 00:00:00.391"
                    },
                    "metadata": {}
                },
                {
                    "output_type": "execute_result",
                    "metadata": {},
                    "execution_count": 10,
                    "data": {
                        "application/vnd.dataresource+json": {
                            "schema": {
                                "fields": [
                                    {
                                        "name": "query_id"
                                    },
                                    {
                                        "name": "command"
                                    },
                                    {
                                        "name": "execution_count"
                                    }
                                ]
                            },
                            "data": [
                                {
                                    "0": "31",
                                    "1": "SELECT (SERVERPROPERTY(N'#'))",
                                    "2": "250"
                                },
                                {
                                    "0": "34",
                                    "1": "select '#' as ConnectionProtocol",
                                    "2": "250"
                                },
                                {
                                    "0": "32",
                                    "1": "SELECT case when  CAST(N'#' AS NVarChar(-1))  = N'#' then -1 else -1 end as '#',\r\nSERVERPROPERTY('#') AS DatabaseEngineEdition,\r\nSERVERPROPERTY('#') AS ProductVersion,\r\n@@MICROSOFTVERSION AS MicrosoftVersion;",
                                    "2": "250"
                                },
                                {
                                    "0": "33",
                                    "1": "select N'#' as host_platform",
                                    "2": "250"
                                },
                                {
                                    "0": "37",
                                    "1": "SELECT SERVERPROPERTY('#'), SERVERPROPERTY('#'), SERVERPROPERTY ('#'), SERVERPROPERTY ('#'), SERVERPROPERTY ('#'), SERVERPROPERTY ('#'), (SELECT CASE WHEN EXISTS (SELECT TOP -1 -1 from [sys].[all_columns] WITH (NOLOCK) WHERE name = N'#' AND OBJECT_ID(N'#') = object_id) THEN -1 ELSE -1 END AS SXI_PRESENT)",
                                    "2": "219"
                                },
                                {
                                    "0": "4",
                                    "1": "select \r\n    perms.class as class,\r\n    objectpropertyex(perms.major_id, '#') as type,\r\n    perms.major_id as majorid,\r\n    perms.minor_id as minorid,\r\n    perms.type + perms.state as name,\r\n    perms.grantee_principal_id as id1,\r\n    perms.grantor_principal_id as id2\r\nfrom sys.database_permissions perms\r\nwhere\r\n    perms.major_id >= -1\r\n\r\nunion\r\n\r\nselect \r\n    cast(-1 as tinyint) as class,\r\n    '#' as type,\r\n    roles.role_principal_id as majorid,\r\n    roles.member_principal_id as minorid,\r\n    '#' as name,\r\n    null as id1,\r\n    null as id2\r\nfrom sys.database_role_members roles",
                                    "2": "43"
                                },
                                {
                                    "0": "5",
                                    "1": "select \r\n    cols.object_id as tableid,\r\n    cols.column_id as columnid, \r\n    binary_checksum(cols.name) as checksum\r\nfrom sys.tables tabs \r\n    inner join sys.columns cols  on (tabs.object_id = cols.object_id)\r\n    inner join sys.index_columns idx_cols on (idx_cols.object_id = tabs.object_id and idx_cols.column_id = cols.column_id)\r\nwhere\r\n    tabs.is_ms_shipped = -1",
                                    "2": "43"
                                },
                                {
                                    "0": "3",
                                    "1": "select object_id as id, \r\n    null as id2,\r\n    case\r\n        when [is_filetable] = -1 then '#'\r\n        else [type]\r\n    end as [type],\r\n    schema_name(schema_id) as name1,\r\n    name as name2,\r\n    null as name3,\r\n    null as a1,\r\n    null as v1,\r\n    modify_date as mod\r\nfrom sys.tables\r\nwhere \r\n    is_ms_shipped != -1\r\n\r\nunion\r\n\r\nselect object_id as id, \r\n    null as id2,\r\n    case\r\n        when [type] != '#' then [type]\r\n        when parent_object_id != -1 then '#'\r\n        else '#' \r\n    end as [type],\r\n    schema_name(schema_id) as name1,\r\n    name as name2,\r\n    null as name3,\r\n    null as a1,\r\n    null as v1,\r\n    modify_date as mod\r\nfrom sys.objects\r\nwhere \r\n    type != '#'\r\n    and type != '#'\r\n    and type != '#'\r\n    and is_ms_shipped != -1\r\n\r\nunion\r\n\r\nselect principal_id as id, \r\n    null as id2,\r\n    type, \r\n    name as name1, \r\n    null as name2, \r\n    null as name3,\r\n    null as a1,\r\n    null as v1,\r\n    modify_date as mod\r\nfrom sys.database_principals\r\n\r\nunion\r\n\r\nselect schema_id as id, \r\n    null as id2,\r\n    '#' as type, \r\n    name as name1, \r\n    null as name2, \r\n    null as name3,\r\n    principal_id as a1,\r\n    null as v1,\r\n    null as mod\r\nfrom sys.schemas\r\n\r\nunion\r\n\r\nselect \r\n    idx.object_id as id,\r\n    idx.index_id as id2,\r\n    case        \r\n        when idx.type = -1 then '#'\r\n        when idx.type = -1 then '#'\r\n        else '#' \r\n    end as [type],\r\n    schema_name(tab.schema_id) as name,\r\n    tab.name as name2,\r\n    idx.name as name3,\r\n    null as a1,\r\n    binary_checksum(idx.is_unique, idx.data_space_id, idx.ignore_dup_key, idx.is_primary_key, \r\n        idx.is_unique_constraint, idx.fill_factor, idx.is_padded, idx.is_disabled, idx.allow_row_locks, idx.allow_page_locks) as v1,\r\n    null as mod\r\nfrom sys.indexes idx \r\n    inner join sys.tables tab on idx.object_id = tab.object_id\r\nwhere \r\n    idx.is_primary_key = -1\r\n    and idx.name is not null\r\n    and idx.is_unique_constraint = -1\r\n    and idx.is_hypothetical = -1\r\n\r\nunion\r\n\r\nselect stat.object_id as id,\r\n    stat.stats_id as id2,\r\n    '#' as [type],\r\n    schema_name(tab.schema_id) as name,\r\n    tab.name as name2,\r\n    stat.name as name3,\r\n    null as a1,\r\n    no_recompute as v1,\r\n    null as mod\r\nfrom sys.stats stat\r\n    inner join sys.tables tab on stat.object_id = tab.object_id\r\nwhere \r\n    stat.user_created = -1\r\n\r\nunion\r\n\r\nselect\r\n    function_id id,\r\n    null as id2,\r\n    '#' as type,\r\n    name as name1,\r\n    null as name2,\r\n    null as name3,\r\n    null as a1,\r\n    null as v1,\r\n    modify_date as mod\r\nfrom sys.partition_functions\r\n\r\nunion\r\n\r\nselect\r\n    symmetric_key_id id,\r\n    null as id2,\r\n    '#'as type,\r\n    null as name1,\r\n    null as name2,\r\n    null as name3,\r\n    principal_id as a1,\r\n    null as v1,\r\n    modify_date as mod\r\nfrom sys.symmetric_keys\r\nwhere\r\n    name = N'#'",
                                    "2": "43"
                                },
                                {
                                    "0": "45",
                                    "1": "SELECT\nu.name AS [Name],\nu.principal_id AS [ID],\nCAST(CASE WHEN u.principal_id < -1 OR u.principal_id = -1 OR u.principal_id = -1 THEN -1 ELSE -1 END AS bit) AS [IsSystemObject],\nCASE WHEN N'#' = u.type THEN -1 WHEN N'#' = u.type THEN -1 WHEN N'#' = u.type THEN -1 WHEN N'#' = u.type THEN -1 WHEN N'#' = u.type THEN -1 WHEN N'#' = u.type THEN -1 WHEN N'#' = u.type THEN -1 END AS [LoginType],\nCAST(CASE dp.state WHEN N'#' THEN -1 WHEN '#' THEN -1 ELSE -1 END AS bit) AS [HasDBAccess],\nu.sid AS [Sid],\nu.create_date AS [CreateDate],\nu.modify_date AS [DateLastModified],\nISNULL(u.default_schema_name,N'#') AS [DefaultSchema],\nISNULL(cert.name,N'#') AS [Certificate],\n\r\n        CASE\r\n        WHEN N'#' = u.type THEN -1\r\n        WHEN N'#' = u.type THEN -1\r\n        WHEN N'#' = u.type AND u.authentication_type != -1 AND u.authentication_type != -1 THEN -1\r\n        WHEN N'#' = u.type or N'#' = u.type THEN -1\r\n        ELSE -1 END\r\n       AS [UserType],\nu.authentication_type AS [AuthenticationType]\nFROM\nsys.database_principals AS u\nLEFT OUTER JOIN sys.database_permissions AS dp ON dp.grantee_principal_id = u.principal_id and dp.type =  CAST(N'#' AS NVarChar(-1)) \nLEFT OUTER JOIN sys.certificates AS cert ON cert.sid = u.sid\nWHERE\n(u.type in ('#', '#', '#', '#', '#' ,'#', '#'))and(u.name= CAST(N'#' AS NVarChar(-1)) )",
                                    "2": "24"
                                },
                                {
                                    "0": "16",
                                    "1": "SELECT name FROM sys.system_columns WHERE object_id=object_id('#') AND name ='#'",
                                    "2": "22"
                                },
                                {
                                    "0": "58",
                                    "1": "SELECT\ndtb.name AS [Name]\nFROM\nsys.databases AS dtb\nWHERE\n(dtb.name= CAST(N'#' AS NVarChar(-1)) )",
                                    "2": "22"
                                },
                                {
                                    "0": "54",
                                    "1": "SELECT\nclmns.column_id AS [ID],\nclmns.name AS [Name],\nISNULL(dc.Name, N'#') AS [DefaultConstraintName],\nclmns.is_nullable AS [Nullable],\nCAST(ISNULL(cik.index_column_id, -1) AS bit) AS [InPrimaryKey],\nclmns.is_identity AS [Identity],\nusrt.name AS [DataType],\nISNULL(baset.name, N'#') AS [SystemType],\nCAST(CASE WHEN baset.name IN (N'#', N'#') AND clmns.max_length <> --1 THEN clmns.max_length/-1 ELSE clmns.max_length END AS int) AS [Length],\nCAST(clmns.precision AS int) AS [NumericPrecision],\nCAST(clmns.scale AS int) AS [NumericScale],\ns1clmns.name AS [DataTypeSchema],\nclmns.is_computed AS [Computed]\nFROM\nsys.all_views AS v\nINNER JOIN sys.all_columns AS clmns ON clmns.object_id=v.object_id\nLEFT OUTER JOIN sys.default_constraints as dc ON clmns.default_object_id = dc.object_id\nLEFT OUTER JOIN sys.indexes AS ik ON ik.object_id = clmns.object_id and -1=ik.is_primary_key\nLEFT OUTER JOIN sys.index_columns AS cik ON cik.index_id = ik.index_id and cik.column_id = clmns.column_id and cik.object_id = clmns.object_id and -1 = cik.is_included_column\nLEFT OUTER JOIN sys.types AS usrt ON usrt.user_type_id = clmns.user_type_id\nLEFT OUTER JOIN sys.types AS baset ON (baset.user_type_id = clmns.system_type_id and baset.user_type_id = baset.system_type_id) or ((baset.system_type_id = clmns.system_type_id) and (baset.user_type_id = clmns.user_type_id) and (baset.is_user_defined = -1) and (baset.is_assembly_type = -1)) \nLEFT OUTER JOIN sys.schemas AS s1clmns ON s1clmns.schema_id = usrt.schema_id\nWHERE\n(v.type =  CAST(N'#' AS NVarChar(-1)) )and(v.name= CAST(N'#' AS NVarChar(-1))  and SCHEMA_NAME(v.schema_id)= CAST(N'#' AS NVarChar(-1)) )\nORDER BY\n[ID] ASC",
                                    "2": "19"
                                },
                                {
                                    "0": "59",
                                    "1": "SELECT\nCAST(CHARINDEX(N'#', dtb.collation_name) AS bit) AS [CaseSensitive],\ndtb.name AS [DatabaseName2]\nFROM\nsys.databases AS dtb\nWHERE\n(dtb.name= CAST(N'#' AS NVarChar(-1)) )",
                                    "2": "18"
                                },
                                {
                                    "0": "11",
                                    "1": "SELECT SERVERPROPERTY('#'), SERVERPROPERTY('#'), SERVERPROPERTY ('#'), SERVERPROPERTY ('#'), (SELECT CASE WHEN EXISTS (SELECT TOP -1 -1 from [sys].[all_columns] WITH (NOLOCK) WHERE name = N'#' AND OBJECT_ID(N'#') = object_id) THEN -1 ELSE -1 END AS SXI_PRESENT), @@MICROSOFTVERSION as [MicrosoftVersion]",
                                    "2": "16"
                                },
                                {
                                    "0": "12",
                                    "1": "SELECT \r\n    [c].[lcid]\r\nFROM  [dbo].[syslanguages] AS [c] WITH (NOLOCK) \r\nWHERE \r\n    [c].[name] = '#'",
                                    "2": "11"
                                },
                                {
                                    "0": "62",
                                    "1": "-- ####\r\nSELECT TOP -1\r\n\t\tS.session_id\r\n\t\t,S.login_name\r\n\t\t,S.client_id\r\n\t\t,S.app_name\r\n\t\t,R.request_id\r\n\t\t,R.command request_command\r\n\t\t,R.[label]\r\n\t\t,COUNT(ST.request_id) steps_with_movement\r\n\t\t,SUM(ST.row_count) total_rows_moved\r\n\t\t,SUM(ST.total_elapsed_time) total_elapsed_dms_time\r\n\t\t,SUM(R.total_elapsed_time) total_elapsed_request_time\r\n\t\t,(SUM(ST.total_elapsed_time)*-1.0)/SUM(R.total_elapsed_time) dms_time_percentage\r\nFROM sys.dm_pdw_exec_requests R\r\n\tINNER JOIN sys.dm_pdw_request_steps ST\r\n\t\tON R.request_id = ST.request_id\r\n\tINNER JOIN sys.dm_pdw_exec_sessions S\r\n\t\tON R.session_id = S.session_id\r\nWHERE (ST.location_type = '#'\r\n\tOR ST.operation_type like '#')\r\n\tAND R.status = '#'\r\nGROUP BY \r\n\t\tS.session_id\r\n\t\t,S.login_name\r\n\t\t,S.client_id\r\n\t\t,S.app_name\r\n\t\t,R.request_id\r\n\t\t,R.command\r\n\t\t,R.[label]\r\nHAVING SUM(ST.row_count) > -1\r\nORDER BY dms_time_percentage DESC\r\n\t\t,total_rows_moved DESC",
                                    "2": "11"
                                },
                                {
                                    "0": "14",
                                    "1": "SELECT [name] FROM [sys].[filegroups] [fg] WITH(NOLOCK) WHERE [fg].[is_default] = -1 AND [fg].[type] = N'#'",
                                    "2": "11"
                                },
                                {
                                    "0": "6",
                                    "1": "SELECT CAST(CASE DATABASEPROPERTYEX(DB_NAME(), N'#') WHEN N'#' THEN -1 ELSE -1 END AS BIT);",
                                    "2": "11"
                                },
                                {
                                    "0": "7",
                                    "1": "SELECT CAST(CASE WHEN HAS_PERMS_BY_NAME(NULL, N'#', N'#') = -1\r\n                 THEN -1\r\n                 ELSE -1\r\n            END AS BIT) AS N'#',\r\n       CAST(CASE WHEN\r\n                   -1 = IS_MEMBER(N'#')\r\n                   OR\r\n                   -1 = IS_SRVROLEMEMBER(N'#')  \r\n                   OR\r\n                   -1 =\r\n                   (SELECT COUNT(ALL [p].[state])\r\n                    FROM [sys].[database_permissions] [p] WITH (NOLOCK)\r\n                    LEFT JOIN [sys].[database_principals] [pr] WITH (NOLOCK) ON [pr].[principal_id] = [p].[grantee_principal_id]\r\n                    WHERE ([p].[type] IN (N'#',N'#'))\r\n                          AND [p].[state] = N'#'\r\n                          AND IS_MEMBER([pr].[name]) = -1)\r\n                 THEN -1\r\n                 ELSE -1\r\n            END AS BIT) AS N'#',\r\n       CAST(CASE WHEN HAS_PERMS_BY_NAME (NULL, N'#', N'#') = -1\r\n                 THEN -1\r\n                 ELSE -1\r\n            END AS BIT) AS N'#'",
                                    "2": "11"
                                },
                                {
                                    "0": "8",
                                    "1": "SELECT CAST(HAS_PERMS_BY_NAME(N'#', N'#', N'#') AS BIT)",
                                    "2": "11"
                                }
                            ]
                        },
                        "text/html": [
                            "<table>",
                            "<tr><th>query_id</th><th>command</th><th>execution_count</th></tr>",
                            "<tr><td>31</td><td>SELECT (SERVERPROPERTY(N'#'))</td><td>250</td></tr>",
                            "<tr><td>34</td><td>select '#' as ConnectionProtocol</td><td>250</td></tr>",
                            "<tr><td>32</td><td>SELECT case when  CAST(N'#' AS NVarChar(-1))  = N'#' then -1 else -1 end as '#',\r\nSERVERPROPERTY('#') AS DatabaseEngineEdition,\r\nSERVERPROPERTY('#') AS ProductVersion,\r\n@@MICROSOFTVERSION AS MicrosoftVersion;</td><td>250</td></tr>",
                            "<tr><td>33</td><td>select N'#' as host_platform</td><td>250</td></tr>",
                            "<tr><td>37</td><td>SELECT SERVERPROPERTY('#'), SERVERPROPERTY('#'), SERVERPROPERTY ('#'), SERVERPROPERTY ('#'), SERVERPROPERTY ('#'), SERVERPROPERTY ('#'), (SELECT CASE WHEN EXISTS (SELECT TOP -1 -1 from [sys].[all_columns] WITH (NOLOCK) WHERE name = N'#' AND OBJECT_ID(N'#') = object_id) THEN -1 ELSE -1 END AS SXI_PRESENT)</td><td>219</td></tr>",
                            "<tr><td>4</td><td>select \r\n    perms.class as class,\r\n    objectpropertyex(perms.major_id, '#') as type,\r\n    perms.major_id as majorid,\r\n    perms.minor_id as minorid,\r\n    perms.type + perms.state as name,\r\n    perms.grantee_principal_id as id1,\r\n    perms.grantor_principal_id as id2\r\nfrom sys.database_permissions perms\r\nwhere\r\n    perms.major_id &gt;= -1\r\n\r\nunion\r\n\r\nselect \r\n    cast(-1 as tinyint) as class,\r\n    '#' as type,\r\n    roles.role_principal_id as majorid,\r\n    roles.member_principal_id as minorid,\r\n    '#' as name,\r\n    null as id1,\r\n    null as id2\r\nfrom sys.database_role_members roles</td><td>43</td></tr>",
                            "<tr><td>5</td><td>select \r\n    cols.object_id as tableid,\r\n    cols.column_id as columnid, \r\n    binary_checksum(cols.name) as checksum\r\nfrom sys.tables tabs \r\n    inner join sys.columns cols  on (tabs.object_id = cols.object_id)\r\n    inner join sys.index_columns idx_cols on (idx_cols.object_id = tabs.object_id and idx_cols.column_id = cols.column_id)\r\nwhere\r\n    tabs.is_ms_shipped = -1</td><td>43</td></tr>",
                            "<tr><td>3</td><td>select object_id as id, \r\n    null as id2,\r\n    case\r\n        when [is_filetable] = -1 then '#'\r\n        else [type]\r\n    end as [type],\r\n    schema_name(schema_id) as name1,\r\n    name as name2,\r\n    null as name3,\r\n    null as a1,\r\n    null as v1,\r\n    modify_date as mod\r\nfrom sys.tables\r\nwhere \r\n    is_ms_shipped != -1\r\n\r\nunion\r\n\r\nselect object_id as id, \r\n    null as id2,\r\n    case\r\n        when [type] != '#' then [type]\r\n        when parent_object_id != -1 then '#'\r\n        else '#' \r\n    end as [type],\r\n    schema_name(schema_id) as name1,\r\n    name as name2,\r\n    null as name3,\r\n    null as a1,\r\n    null as v1,\r\n    modify_date as mod\r\nfrom sys.objects\r\nwhere \r\n    type != '#'\r\n    and type != '#'\r\n    and type != '#'\r\n    and is_ms_shipped != -1\r\n\r\nunion\r\n\r\nselect principal_id as id, \r\n    null as id2,\r\n    type, \r\n    name as name1, \r\n    null as name2, \r\n    null as name3,\r\n    null as a1,\r\n    null as v1,\r\n    modify_date as mod\r\nfrom sys.database_principals\r\n\r\nunion\r\n\r\nselect schema_id as id, \r\n    null as id2,\r\n    '#' as type, \r\n    name as name1, \r\n    null as name2, \r\n    null as name3,\r\n    principal_id as a1,\r\n    null as v1,\r\n    null as mod\r\nfrom sys.schemas\r\n\r\nunion\r\n\r\nselect \r\n    idx.object_id as id,\r\n    idx.index_id as id2,\r\n    case        \r\n        when idx.type = -1 then '#'\r\n        when idx.type = -1 then '#'\r\n        else '#' \r\n    end as [type],\r\n    schema_name(tab.schema_id) as name,\r\n    tab.name as name2,\r\n    idx.name as name3,\r\n    null as a1,\r\n    binary_checksum(idx.is_unique, idx.data_space_id, idx.ignore_dup_key, idx.is_primary_key, \r\n        idx.is_unique_constraint, idx.fill_factor, idx.is_padded, idx.is_disabled, idx.allow_row_locks, idx.allow_page_locks) as v1,\r\n    null as mod\r\nfrom sys.indexes idx \r\n    inner join sys.tables tab on idx.object_id = tab.object_id\r\nwhere \r\n    idx.is_primary_key = -1\r\n    and idx.name is not null\r\n    and idx.is_unique_constraint = -1\r\n    and idx.is_hypothetical = -1\r\n\r\nunion\r\n\r\nselect stat.object_id as id,\r\n    stat.stats_id as id2,\r\n    '#' as [type],\r\n    schema_name(tab.schema_id) as name,\r\n    tab.name as name2,\r\n    stat.name as name3,\r\n    null as a1,\r\n    no_recompute as v1,\r\n    null as mod\r\nfrom sys.stats stat\r\n    inner join sys.tables tab on stat.object_id = tab.object_id\r\nwhere \r\n    stat.user_created = -1\r\n\r\nunion\r\n\r\nselect\r\n    function_id id,\r\n    null as id2,\r\n    '#' as type,\r\n    name as name1,\r\n    null as name2,\r\n    null as name3,\r\n    null as a1,\r\n    null as v1,\r\n    modify_date as mod\r\nfrom sys.partition_functions\r\n\r\nunion\r\n\r\nselect\r\n    symmetric_key_id id,\r\n    null as id2,\r\n    '#'as type,\r\n    null as name1,\r\n    null as name2,\r\n    null as name3,\r\n    principal_id as a1,\r\n    null as v1,\r\n    modify_date as mod\r\nfrom sys.symmetric_keys\r\nwhere\r\n    name = N'#'</td><td>43</td></tr>",
                            "<tr><td>45</td><td>SELECT\nu.name AS [Name],\nu.principal_id AS [ID],\nCAST(CASE WHEN u.principal_id &lt; -1 OR u.principal_id = -1 OR u.principal_id = -1 THEN -1 ELSE -1 END AS bit) AS [IsSystemObject],\nCASE WHEN N'#' = u.type THEN -1 WHEN N'#' = u.type THEN -1 WHEN N'#' = u.type THEN -1 WHEN N'#' = u.type THEN -1 WHEN N'#' = u.type THEN -1 WHEN N'#' = u.type THEN -1 WHEN N'#' = u.type THEN -1 END AS [LoginType],\nCAST(CASE dp.state WHEN N'#' THEN -1 WHEN '#' THEN -1 ELSE -1 END AS bit) AS [HasDBAccess],\nu.sid AS [Sid],\nu.create_date AS [CreateDate],\nu.modify_date AS [DateLastModified],\nISNULL(u.default_schema_name,N'#') AS [DefaultSchema],\nISNULL(cert.name,N'#') AS [Certificate],\n\r\n        CASE\r\n        WHEN N'#' = u.type THEN -1\r\n        WHEN N'#' = u.type THEN -1\r\n        WHEN N'#' = u.type AND u.authentication_type != -1 AND u.authentication_type != -1 THEN -1\r\n        WHEN N'#' = u.type or N'#' = u.type THEN -1\r\n        ELSE -1 END\r\n       AS [UserType],\nu.authentication_type AS [AuthenticationType]\nFROM\nsys.database_principals AS u\nLEFT OUTER JOIN sys.database_permissions AS dp ON dp.grantee_principal_id = u.principal_id and dp.type =  CAST(N'#' AS NVarChar(-1)) \nLEFT OUTER JOIN sys.certificates AS cert ON cert.sid = u.sid\nWHERE\n(u.type in ('#', '#', '#', '#', '#' ,'#', '#'))and(u.name= CAST(N'#' AS NVarChar(-1)) )</td><td>24</td></tr>",
                            "<tr><td>16</td><td>SELECT name FROM sys.system_columns WHERE object_id=object_id('#') AND name ='#'</td><td>22</td></tr>",
                            "<tr><td>58</td><td>SELECT\ndtb.name AS [Name]\nFROM\nsys.databases AS dtb\nWHERE\n(dtb.name= CAST(N'#' AS NVarChar(-1)) )</td><td>22</td></tr>",
                            "<tr><td>54</td><td>SELECT\nclmns.column_id AS [ID],\nclmns.name AS [Name],\nISNULL(dc.Name, N'#') AS [DefaultConstraintName],\nclmns.is_nullable AS [Nullable],\nCAST(ISNULL(cik.index_column_id, -1) AS bit) AS [InPrimaryKey],\nclmns.is_identity AS [Identity],\nusrt.name AS [DataType],\nISNULL(baset.name, N'#') AS [SystemType],\nCAST(CASE WHEN baset.name IN (N'#', N'#') AND clmns.max_length &lt;&gt; --1 THEN clmns.max_length/-1 ELSE clmns.max_length END AS int) AS [Length],\nCAST(clmns.precision AS int) AS [NumericPrecision],\nCAST(clmns.scale AS int) AS [NumericScale],\ns1clmns.name AS [DataTypeSchema],\nclmns.is_computed AS [Computed]\nFROM\nsys.all_views AS v\nINNER JOIN sys.all_columns AS clmns ON clmns.object_id=v.object_id\nLEFT OUTER JOIN sys.default_constraints as dc ON clmns.default_object_id = dc.object_id\nLEFT OUTER JOIN sys.indexes AS ik ON ik.object_id = clmns.object_id and -1=ik.is_primary_key\nLEFT OUTER JOIN sys.index_columns AS cik ON cik.index_id = ik.index_id and cik.column_id = clmns.column_id and cik.object_id = clmns.object_id and -1 = cik.is_included_column\nLEFT OUTER JOIN sys.types AS usrt ON usrt.user_type_id = clmns.user_type_id\nLEFT OUTER JOIN sys.types AS baset ON (baset.user_type_id = clmns.system_type_id and baset.user_type_id = baset.system_type_id) or ((baset.system_type_id = clmns.system_type_id) and (baset.user_type_id = clmns.user_type_id) and (baset.is_user_defined = -1) and (baset.is_assembly_type = -1)) \nLEFT OUTER JOIN sys.schemas AS s1clmns ON s1clmns.schema_id = usrt.schema_id\nWHERE\n(v.type =  CAST(N'#' AS NVarChar(-1)) )and(v.name= CAST(N'#' AS NVarChar(-1))  and SCHEMA_NAME(v.schema_id)= CAST(N'#' AS NVarChar(-1)) )\nORDER BY\n[ID] ASC</td><td>19</td></tr>",
                            "<tr><td>59</td><td>SELECT\nCAST(CHARINDEX(N'#', dtb.collation_name) AS bit) AS [CaseSensitive],\ndtb.name AS [DatabaseName2]\nFROM\nsys.databases AS dtb\nWHERE\n(dtb.name= CAST(N'#' AS NVarChar(-1)) )</td><td>18</td></tr>",
                            "<tr><td>11</td><td>SELECT SERVERPROPERTY('#'), SERVERPROPERTY('#'), SERVERPROPERTY ('#'), SERVERPROPERTY ('#'), (SELECT CASE WHEN EXISTS (SELECT TOP -1 -1 from [sys].[all_columns] WITH (NOLOCK) WHERE name = N'#' AND OBJECT_ID(N'#') = object_id) THEN -1 ELSE -1 END AS SXI_PRESENT), @@MICROSOFTVERSION as [MicrosoftVersion]</td><td>16</td></tr>",
                            "<tr><td>12</td><td>SELECT \r\n    [c].[lcid]\r\nFROM  [dbo].[syslanguages] AS [c] WITH (NOLOCK) \r\nWHERE \r\n    [c].[name] = '#'</td><td>11</td></tr>",
                            "<tr><td>62</td><td>-- ####\r\nSELECT TOP -1\r\n\t\tS.session_id\r\n\t\t,S.login_name\r\n\t\t,S.client_id\r\n\t\t,S.app_name\r\n\t\t,R.request_id\r\n\t\t,R.command request_command\r\n\t\t,R.[label]\r\n\t\t,COUNT(ST.request_id) steps_with_movement\r\n\t\t,SUM(ST.row_count) total_rows_moved\r\n\t\t,SUM(ST.total_elapsed_time) total_elapsed_dms_time\r\n\t\t,SUM(R.total_elapsed_time) total_elapsed_request_time\r\n\t\t,(SUM(ST.total_elapsed_time)*-1.0)/SUM(R.total_elapsed_time) dms_time_percentage\r\nFROM sys.dm_pdw_exec_requests R\r\n\tINNER JOIN sys.dm_pdw_request_steps ST\r\n\t\tON R.request_id = ST.request_id\r\n\tINNER JOIN sys.dm_pdw_exec_sessions S\r\n\t\tON R.session_id = S.session_id\r\nWHERE (ST.location_type = '#'\r\n\tOR ST.operation_type like '#')\r\n\tAND R.status = '#'\r\nGROUP BY \r\n\t\tS.session_id\r\n\t\t,S.login_name\r\n\t\t,S.client_id\r\n\t\t,S.app_name\r\n\t\t,R.request_id\r\n\t\t,R.command\r\n\t\t,R.[label]\r\nHAVING SUM(ST.row_count) &gt; -1\r\nORDER BY dms_time_percentage DESC\r\n\t\t,total_rows_moved DESC</td><td>11</td></tr>",
                            "<tr><td>14</td><td>SELECT [name] FROM [sys].[filegroups] [fg] WITH(NOLOCK) WHERE [fg].[is_default] = -1 AND [fg].[type] = N'#'</td><td>11</td></tr>",
                            "<tr><td>6</td><td>SELECT CAST(CASE DATABASEPROPERTYEX(DB_NAME(), N'#') WHEN N'#' THEN -1 ELSE -1 END AS BIT);</td><td>11</td></tr>",
                            "<tr><td>7</td><td>SELECT CAST(CASE WHEN HAS_PERMS_BY_NAME(NULL, N'#', N'#') = -1\r\n                 THEN -1\r\n                 ELSE -1\r\n            END AS BIT) AS N'#',\r\n       CAST(CASE WHEN\r\n                   -1 = IS_MEMBER(N'#')\r\n                   OR\r\n                   -1 = IS_SRVROLEMEMBER(N'#')  \r\n                   OR\r\n                   -1 =\r\n                   (SELECT COUNT(ALL [p].[state])\r\n                    FROM [sys].[database_permissions] [p] WITH (NOLOCK)\r\n                    LEFT JOIN [sys].[database_principals] [pr] WITH (NOLOCK) ON [pr].[principal_id] = [p].[grantee_principal_id]\r\n                    WHERE ([p].[type] IN (N'#',N'#'))\r\n                          AND [p].[state] = N'#'\r\n                          AND IS_MEMBER([pr].[name]) = -1)\r\n                 THEN -1\r\n                 ELSE -1\r\n            END AS BIT) AS N'#',\r\n       CAST(CASE WHEN HAS_PERMS_BY_NAME (NULL, N'#', N'#') = -1\r\n                 THEN -1\r\n                 ELSE -1\r\n            END AS BIT) AS N'#'</td><td>11</td></tr>",
                            "<tr><td>8</td><td>SELECT CAST(HAS_PERMS_BY_NAME(N'#', N'#', N'#') AS BIT)</td><td>11</td></tr>",
                            "</table>"
                        ]
                    }
                }
            ],
            "execution_count": 10
        },
        {
            "cell_type": "markdown",
            "source": [
                "## This query will return information about the min/max/avg durations of queries"
            ],
            "metadata": {
                "azdata_cell_guid": "d557f44f-2f7d-4230-a844-5aad8ea59bc6"
            },
            "attachments": {}
        },
        {
            "cell_type": "code",
            "source": [
                "SELECT\r\n",
                "       q.query_id               [query_id]\r\n",
                "       , t.query_sql_text       [command]\r\n",
                "       , rs.avg_duration        [avg_duration]\r\n",
                "       , rs.min_duration        [min_duration]\r\n",
                "       , rs.max_duration        [max_duration]\r\n",
                "FROM\r\n",
                "       sys.query_store_query q\r\n",
                "       JOIN sys.query_store_query_text t ON q.query_text_id = t.query_text_id\r\n",
                "       JOIN sys.query_store_plan p ON p.query_id = q.query_id\r\n",
                "JOIN sys.query_store_runtime_stats rs ON rs.plan_id = p.plan_id\r\n",
                ""
            ],
            "metadata": {
                "azdata_cell_guid": "96979ca1-9d33-4cfe-b649-233dec35e6ae"
            },
            "outputs": [
{
    "output_type": "display_data",
    "data": {
        "text/html": "(183 rows affected)"
    },
    "metadata": {}
}, {
    "output_type": "display_data",
    "data": {
        "text/html": "Total execution time: 00:00:00.396"
    },
    "metadata": {}
}, {
    "output_type": "execute_result",
    "metadata": {},
    "execution_count": 11,
    "data": {
        "application/vnd.dataresource+json": {
            "schema": {
                "fields": [
                    {
                        "name": "query_id"
                    },
                    {
                        "name": "command"
                    },
                    {
                        "name": "avg_duration"
                    },
                    {
                        "name": "min_duration"
                    },
                    {
                        "name": "max_duration"
                    }
                ]
            },
            "data": [
                {
                    "0": "32",
                    "1": "SELECT case when  CAST(N'#' AS NVarChar(-1))  = N'#' then -1 else -1 end as '#',\r\nSERVERPROPERTY('#') AS DatabaseEngineEdition,\r\nSERVERPROPERTY('#') AS ProductVersion,\r\n@@MICROSOFTVERSION AS MicrosoftVersion;",
                    "2": "6500",
                    "3": "0",
                    "4": "16000"
                },
                {
                    "0": "32",
                    "1": "SELECT case when  CAST(N'#' AS NVarChar(-1))  = N'#' then -1 else -1 end as '#',\r\nSERVERPROPERTY('#') AS DatabaseEngineEdition,\r\nSERVERPROPERTY('#') AS ProductVersion,\r\n@@MICROSOFTVERSION AS MicrosoftVersion;",
                    "2": "5882.8125",
                    "3": "0",
                    "4": "31000"
                },
                {
                    "0": "32",
                    "1": "SELECT case when  CAST(N'#' AS NVarChar(-1))  = N'#' then -1 else -1 end as '#',\r\nSERVERPROPERTY('#') AS DatabaseEngineEdition,\r\nSERVERPROPERTY('#') AS ProductVersion,\r\n@@MICROSOFTVERSION AS MicrosoftVersion;",
                    "2": "17214.285714285714",
                    "3": "0",
                    "4": "31000"
                },
                {
                    "0": "32",
                    "1": "SELECT case when  CAST(N'#' AS NVarChar(-1))  = N'#' then -1 else -1 end as '#',\r\nSERVERPROPERTY('#') AS DatabaseEngineEdition,\r\nSERVERPROPERTY('#') AS ProductVersion,\r\n@@MICROSOFTVERSION AS MicrosoftVersion;",
                    "2": "31000",
                    "3": "0",
                    "4": "31000"
                },
                {
                    "0": "70",
                    "1": "SELECT\r\n     q.query_id\r\n     , t.query_sql_text\r\nFROM\r\n     sys.query_store_query q\r\n       JOIN sys.query_store_query_text t ON q.query_text_id = t.query_text_id;",
                    "2": "31000",
                    "3": "31000",
                    "4": "31000"
                },
                {
                    "0": "70",
                    "1": "SELECT\r\n     q.query_id\r\n     , t.query_sql_text\r\nFROM\r\n     sys.query_store_query q\r\n       JOIN sys.query_store_query_text t ON q.query_text_id = t.query_text_id;",
                    "2": "78000",
                    "3": "78000",
                    "4": "78000"
                },
                {
                    "0": "68",
                    "1": "-- ####\r\nSELECT name,is_query_store_on,is_auto_create_stats_on,is_result_set_caching_on FROM sys.databases where name not in ('#')",
                    "2": "73750",
                    "3": "62000",
                    "4": "109000"
                },
                {
                    "0": "68",
                    "1": "-- ####\r\nSELECT name,is_query_store_on,is_auto_create_stats_on,is_result_set_caching_on FROM sys.databases where name not in ('#')",
                    "2": "671000",
                    "3": "671000",
                    "4": "671000"
                },
                {
                    "0": "34",
                    "1": "select '#' as ConnectionProtocol",
                    "2": "5270.27027027027",
                    "3": "0",
                    "4": "31000"
                },
                {
                    "0": "34",
                    "1": "select '#' as ConnectionProtocol",
                    "2": "4820.3125",
                    "3": "0",
                    "4": "31000"
                },
                {
                    "0": "34",
                    "1": "select '#' as ConnectionProtocol",
                    "2": "14951.219512195123",
                    "3": "0",
                    "4": "46000"
                },
                {
                    "0": "34",
                    "1": "select '#' as ConnectionProtocol",
                    "2": "26285.714285714286",
                    "3": "0",
                    "4": "46000"
                },
                {
                    "0": "74",
                    "1": "-- ####\r\nSELECT TOP -1 G.geographyid,T.TimeID,P.PassengerCount,\r\n\t  PERCENTILE_CONT (-1.0) WITHIN GROUP ( ORDER BY P.PassengerCount DESC)  OVER (PARTITION BY T.TimeID) AS TTT   ,\r\n      SUM(P.TripDistanceMiles) as SumTripDistance,\r\n      AVG(P.TripDistanceMiles) as AvgTripDistance,\r\n      SUM(P.FareAmount) as SumFareAmount,\r\n      AVG(P.FareAmount) as AvgFareAmount,\r\n      SUM(P.TaxAmount) as SumTaxAmount,\r\n      AVG(P.TaxAmount) as AvgTaxAmount,\r\n      SUM(P.TotalAmount) as SumTotalAmount,\r\n      AVG(P.TotalAmount) as AvgTotalAmount\r\nFROM  dbo.Trip P\r\n\tINNER JOIN [dbo].[Geography] G\r\n\t\tON P.pickupgeographyid = G.geographyid\r\n\tINNER JOIN [dbo].[Time] T\r\n\t\tON T.TimeID = P.PickupTimeId\r\nGROUP BY P.PassengerCount,G.geographyid,T.TimeID",
                    "2": "52562000",
                    "3": "52562000",
                    "4": "52562000"
                },
                {
                    "0": "74",
                    "1": "-- ####\r\nSELECT TOP -1 G.geographyid,T.TimeID,P.PassengerCount,\r\n\t  PERCENTILE_CONT (-1.0) WITHIN GROUP ( ORDER BY P.PassengerCount DESC)  OVER (PARTITION BY T.TimeID) AS TTT   ,\r\n      SUM(P.TripDistanceMiles) as SumTripDistance,\r\n      AVG(P.TripDistanceMiles) as AvgTripDistance,\r\n      SUM(P.FareAmount) as SumFareAmount,\r\n      AVG(P.FareAmount) as AvgFareAmount,\r\n      SUM(P.TaxAmount) as SumTaxAmount,\r\n      AVG(P.TaxAmount) as AvgTaxAmount,\r\n      SUM(P.TotalAmount) as SumTotalAmount,\r\n      AVG(P.TotalAmount) as AvgTotalAmount\r\nFROM  dbo.Trip P\r\n\tINNER JOIN [dbo].[Geography] G\r\n\t\tON P.pickupgeographyid = G.geographyid\r\n\tINNER JOIN [dbo].[Time] T\r\n\t\tON T.TimeID = P.PickupTimeId\r\nGROUP BY P.PassengerCount,G.geographyid,T.TimeID",
                    "2": "110374000",
                    "3": "110374000",
                    "4": "110374000"
                },
                {
                    "0": "67",
                    "1": "SELECT name,is_query_store_on,is_auto_create_stats_on,is_result_set_caching_on FROM sys.databases where name not in ('#')",
                    "2": "62000",
                    "3": "46000",
                    "4": "78000"
                },
                {
                    "0": "67",
                    "1": "SELECT name,is_query_store_on,is_auto_create_stats_on,is_result_set_caching_on FROM sys.databases where name not in ('#')",
                    "2": "593000",
                    "3": "593000",
                    "4": "593000"
                },
                {
                    "0": "37",
                    "1": "SELECT SERVERPROPERTY('#'), SERVERPROPERTY('#'), SERVERPROPERTY ('#'), SERVERPROPERTY ('#'), SERVERPROPERTY ('#'), SERVERPROPERTY ('#'), (SELECT CASE WHEN EXISTS (SELECT TOP -1 -1 from [sys].[all_columns] WITH (NOLOCK) WHERE name = N'#' AND OBJECT_ID(N'#') = object_id) THEN -1 ELSE -1 END AS SXI_PRESENT)",
                    "2": "6833.333333333333",
                    "3": "0",
                    "4": "46000"
                },
                {
                    "0": "37",
                    "1": "SELECT SERVERPROPERTY('#'), SERVERPROPERTY('#'), SERVERPROPERTY ('#'), SERVERPROPERTY ('#'), SERVERPROPERTY ('#'), SERVERPROPERTY ('#'), (SELECT CASE WHEN EXISTS (SELECT TOP -1 -1 from [sys].[all_columns] WITH (NOLOCK) WHERE name = N'#' AND OBJECT_ID(N'#') = object_id) THEN -1 ELSE -1 END AS SXI_PRESENT)",
                    "2": "7646.551724137931",
                    "3": "0",
                    "4": "31000"
                },
                {
                    "0": "37",
                    "1": "SELECT SERVERPROPERTY('#'), SERVERPROPERTY('#'), SERVERPROPERTY ('#'), SERVERPROPERTY ('#'), SERVERPROPERTY ('#'), SERVERPROPERTY ('#'), (SELECT CASE WHEN EXISTS (SELECT TOP -1 -1 from [sys].[all_columns] WITH (NOLOCK) WHERE name = N'#' AND OBJECT_ID(N'#') = object_id) THEN -1 ELSE -1 END AS SXI_PRESENT)",
                    "2": "15193.548387096775",
                    "3": "0",
                    "4": "31000"
                },
                {
                    "0": "37",
                    "1": "SELECT SERVERPROPERTY('#'), SERVERPROPERTY('#'), SERVERPROPERTY ('#'), SERVERPROPERTY ('#'), SERVERPROPERTY ('#'), SERVERPROPERTY ('#'), (SELECT CASE WHEN EXISTS (SELECT TOP -1 -1 from [sys].[all_columns] WITH (NOLOCK) WHERE name = N'#' AND OBJECT_ID(N'#') = object_id) THEN -1 ELSE -1 END AS SXI_PRESENT)",
                    "2": "19571.428571428572",
                    "3": "0",
                    "4": "31000"
                },
                {
                    "0": "31",
                    "1": "SELECT (SERVERPROPERTY(N'#'))",
                    "2": "6297.2972972972975",
                    "3": "0",
                    "4": "31000"
                },
                {
                    "0": "31",
                    "1": "SELECT (SERVERPROPERTY(N'#'))",
                    "2": "4812.5",
                    "3": "0",
                    "4": "31000"
                },
                {
                    "0": "31",
                    "1": "SELECT (SERVERPROPERTY(N'#'))",
                    "2": "16809.52380952381",
                    "3": "0",
                    "4": "46000"
                },
                {
                    "0": "31",
                    "1": "SELECT (SERVERPROPERTY(N'#'))",
                    "2": "28571.428571428572",
                    "3": "0",
                    "4": "62000"
                },
                {
                    "0": "71",
                    "1": "-- ####\r\nSELECT TOP -1\r\n       q.query_id [query_id]\r\n       , t.query_sql_text [command]\r\n\t, SUM(rs.count_executions) [execution_count]\r\nFROM sys.query_store_query q\r\n\tINNER JOIN sys.query_store_query_text t \r\n\t\tON q.query_text_id = t.query_text_id\r\n\tINNER JOIN sys.query_store_plan p \r\n\t\tON p.query_id = q.query_id\r\n\tINNER JOIN sys.query_store_runtime_stats rs \r\n\t\tON rs.plan_id = p.plan_id\r\nGROUP BY q.query_id , t.query_sql_text \r\nORDER BY [execution_count] DESC;",
                    "2": "31000",
                    "3": "31000",
                    "4": "31000"
                },
                {
                    "0": "71",
                    "1": "-- ####\r\nSELECT TOP -1\r\n       q.query_id [query_id]\r\n       , t.query_sql_text [command]\r\n\t, SUM(rs.count_executions) [execution_count]\r\nFROM sys.query_store_query q\r\n\tINNER JOIN sys.query_store_query_text t \r\n\t\tON q.query_text_id = t.query_text_id\r\n\tINNER JOIN sys.query_store_plan p \r\n\t\tON p.query_id = q.query_id\r\n\tINNER JOIN sys.query_store_runtime_stats rs \r\n\t\tON rs.plan_id = p.plan_id\r\nGROUP BY q.query_id , t.query_sql_text \r\nORDER BY [execution_count] DESC;",
                    "2": "62000",
                    "3": "62000",
                    "4": "62000"
                },
                {
                    "0": "33",
                    "1": "select N'#' as host_platform",
                    "2": "4270.27027027027",
                    "3": "0",
                    "4": "46000"
                },
                {
                    "0": "33",
                    "1": "select N'#' as host_platform",
                    "2": "3882.8125",
                    "3": "0",
                    "4": "31000"
                },
                {
                    "0": "33",
                    "1": "select N'#' as host_platform",
                    "2": "16119.047619047618",
                    "3": "0",
                    "4": "46000"
                },
                {
                    "0": "33",
                    "1": "select N'#' as host_platform",
                    "2": "30857.14285714286",
                    "3": "0",
                    "4": "46000"
                },
                {
                    "0": "23",
                    "1": "SELECT * FROM (\r\nSELECT DISTINCT\r\n        [db].[class] AS [TypeId],\r\n        [db].[major_id] AS [MajorId],\r\n        [db].[minor_id] AS [MinorId],\r\n        [so].[type] AS [ObjectType],\r\n        [so].[is_ms_shipped] AS [IsMsShipped],\r\n        [db].[grantee_principal_id] AS [GranteeId],\r\n        USER_NAME([db].[grantee_principal_id]) AS [GranteeName],\r\n        [db].[grantor_principal_id] AS [GrantorId],\r\n        CONVERT(BIT, CASE WHEN [dp].[is_fixed_role] = -1 OR [dp].[principal_id] = -1 THEN -1 ELSE -1 END) AS [ScriptGrantor],\r\n        USER_NAME([db].[grantor_principal_id]) AS [GrantorName],\r\n        [db].[type] AS [PermissionCode],\r\n        [db].[permission_name] AS [PermissionType],\r\n        [db].[state] AS [PermissionState],\r\n        SCHEMA_NAME([so].[schema_id]) AS [Level0Name],\r\n        [so].[name] AS [Level1Name],\r\n        [c].[name] AS [Level2Name],\r\n        NULL AS [DataBasePrincipalType],\r\n        CASE WHEN EXISTS(SELECT * FROM [sys].[external_tables] WHERE [object_id] = [db].[major_id])\r\n            THEN CAST(-1 AS BIT)\r\n            ELSE CAST(-1 AS BIT)\r\n        END AS [IsExternalTable]\r\nFROM\r\n        [sys].[database_permissions] [db] WITH (NOLOCK)\r\n        INNER JOIN [sys].[objects] [so] WITH (NOLOCK) ON [so].[object_id] = [db].[major_id]\r\n        INNER JOIN [sys].[database_principals] [dp] WITH (NOLOCK) ON [dp].[principal_id] = [db].[grantor_principal_id]\r\n        INNER JOIN [sys].[database_principals] [dp2] WITH (NOLOCK) ON [dp2].[principal_id] = [db].[grantee_principal_id]\r\n        LEFT JOIN [sys].[columns] [c] WITH (NOLOCK) ON [db].[major_id] = [c].[object_id]  AND [db].[minor_id] = [c].[column_id]\r\n\r\nWHERE\r\n        [db].[class] = -1\r\n        AND [so].[object_id] NOT IN (SELECT [major_id] FROM [sys].[extended_properties] WITH (NOLOCK) WHERE [minor_id] = -1 AND [class] = -1 AND [name] = N'#')\r\n        AND OBJECTPROPERTY([so].[object_id], N'#') = -1\r\n        AND [db].[state] <> N'#'\r\n        AND [db].[grantee_principal_id] <> [db].[grantor_principal_id]\r\n        AND USER_NAME([db].[grantor_principal_id])  <> N'#'\r\n        AND USER_NAME([db].[grantee_principal_id])  <> N'#'\r\n        AND ([dp].[owning_principal_id] IS NULL OR USER_NAME([dp].[owning_principal_id]) <> N'#')\r\n        AND ([dp2].[owning_principal_id] IS NULL OR USER_NAME([dp2].[owning_principal_id]) <> N'#')\r\n        AND NOT EXISTS (SELECT TOP -1 -1 FROM [sys].[database_permissions] [p] WITH (NOLOCK) WHERE\r\n             [p].[major_id] = [db].[major_id]\r\n            AND [p].[minor_id] = -1\r\n            AND [p].[permission_name] = [db].[permission_name]\r\n            AND [p].[state] = N'#'\r\n            AND [db].[state] = N'#'\r\n            AND [db].[minor_id] <> -1\r\n            AND [p].[class] =  [db].[class]\r\n            AND [p].[grantee_principal_id] = [db].[grantee_principal_id]\r\n            AND [p].[grantor_principal_id] = [db].[grantor_principal_id])) AS [_results] WHERE ([_results].[ObjectType] IN ( CAST(N'#' AS NVarChar(-1)) )) AND [TypeId] = -1\r\n ORDER BY TypeId,GranteeId,GrantorId,MajorId,MinorId,PermissionCode,PermissionState ;",
                    "2": "148000",
                    "3": "140000",
                    "4": "156000"
                },
                {
                    "0": "23",
                    "1": "SELECT * FROM (\r\nSELECT DISTINCT\r\n        [db].[class] AS [TypeId],\r\n        [db].[major_id] AS [MajorId],\r\n        [db].[minor_id] AS [MinorId],\r\n        [so].[type] AS [ObjectType],\r\n        [so].[is_ms_shipped] AS [IsMsShipped],\r\n        [db].[grantee_principal_id] AS [GranteeId],\r\n        USER_NAME([db].[grantee_principal_id]) AS [GranteeName],\r\n        [db].[grantor_principal_id] AS [GrantorId],\r\n        CONVERT(BIT, CASE WHEN [dp].[is_fixed_role] = -1 OR [dp].[principal_id] = -1 THEN -1 ELSE -1 END) AS [ScriptGrantor],\r\n        USER_NAME([db].[grantor_principal_id]) AS [GrantorName],\r\n        [db].[type] AS [PermissionCode],\r\n        [db].[permission_name] AS [PermissionType],\r\n        [db].[state] AS [PermissionState],\r\n        SCHEMA_NAME([so].[schema_id]) AS [Level0Name],\r\n        [so].[name] AS [Level1Name],\r\n        [c].[name] AS [Level2Name],\r\n        NULL AS [DataBasePrincipalType],\r\n        CASE WHEN EXISTS(SELECT * FROM [sys].[external_tables] WHERE [object_id] = [db].[major_id])\r\n            THEN CAST(-1 AS BIT)\r\n            ELSE CAST(-1 AS BIT)\r\n        END AS [IsExternalTable]\r\nFROM\r\n        [sys].[database_permissions] [db] WITH (NOLOCK)\r\n        INNER JOIN [sys].[objects] [so] WITH (NOLOCK) ON [so].[object_id] = [db].[major_id]\r\n        INNER JOIN [sys].[database_principals] [dp] WITH (NOLOCK) ON [dp].[principal_id] = [db].[grantor_principal_id]\r\n        INNER JOIN [sys].[database_principals] [dp2] WITH (NOLOCK) ON [dp2].[principal_id] = [db].[grantee_principal_id]\r\n        LEFT JOIN [sys].[columns] [c] WITH (NOLOCK) ON [db].[major_id] = [c].[object_id]  AND [db].[minor_id] = [c].[column_id]\r\n\r\nWHERE\r\n        [db].[class] = -1\r\n        AND [so].[object_id] NOT IN (SELECT [major_id] FROM [sys].[extended_properties] WITH (NOLOCK) WHERE [minor_id] = -1 AND [class] = -1 AND [name] = N'#')\r\n        AND OBJECTPROPERTY([so].[object_id], N'#') = -1\r\n        AND [db].[state] <> N'#'\r\n        AND [db].[grantee_principal_id] <> [db].[grantor_principal_id]\r\n        AND USER_NAME([db].[grantor_principal_id])  <> N'#'\r\n        AND USER_NAME([db].[grantee_principal_id])  <> N'#'\r\n        AND ([dp].[owning_principal_id] IS NULL OR USER_NAME([dp].[owning_principal_id]) <> N'#')\r\n        AND ([dp2].[owning_principal_id] IS NULL OR USER_NAME([dp2].[owning_principal_id]) <> N'#')\r\n        AND NOT EXISTS (SELECT TOP -1 -1 FROM [sys].[database_permissions] [p] WITH (NOLOCK) WHERE\r\n             [p].[major_id] = [db].[major_id]\r\n            AND [p].[minor_id] = -1\r\n            AND [p].[permission_name] = [db].[permission_name]\r\n            AND [p].[state] = N'#'\r\n            AND [db].[state] = N'#'\r\n            AND [db].[minor_id] <> -1\r\n            AND [p].[class] =  [db].[class]\r\n            AND [p].[grantee_principal_id] = [db].[grantee_principal_id]\r\n            AND [p].[grantor_principal_id] = [db].[grantor_principal_id])) AS [_results] WHERE ([_results].[ObjectType] IN ( CAST(N'#' AS NVarChar(-1)) )) AND [TypeId] = -1\r\n ORDER BY TypeId,GranteeId,GrantorId,MajorId,MinorId,PermissionCode,PermissionState ;",
                    "2": "140000",
                    "3": "140000",
                    "4": "140000"
                },
                {
                    "0": "46",
                    "1": "SELECT\n(select schema_name()) AS [DefaultSchema]\nFROM\nsys.databases AS dtb\nWHERE\n(dtb.name= CAST(N'#' AS NVarChar(-1)) )",
                    "2": "77000",
                    "3": "77000",
                    "4": "77000"
                },
                {
                    "0": "46",
                    "1": "SELECT\n(select schema_name()) AS [DefaultSchema]\nFROM\nsys.databases AS dtb\nWHERE\n(dtb.name= CAST(N'#' AS NVarChar(-1)) )",
                    "2": "62000",
                    "3": "62000",
                    "4": "62000"
                },
                {
                    "0": "69",
                    "1": "-- ####\r\nSELECT G.geographyid,T.TimeID,P.PassengerCount,\r\n\t  PERCENTILE_CONT (-1.0) WITHIN GROUP ( ORDER BY P.PassengerCount DESC)  OVER (PARTITION BY T.TimeID) AS TTT   ,\r\n      SUM(P.TripDistanceMiles) as SumTripDistance,\r\n      AVG(P.TripDistanceMiles) as AvgTripDistance,\r\n      SUM(P.FareAmount) as SumFareAmount,\r\n      AVG(P.FareAmount) as AvgFareAmount,\r\n      SUM(P.TaxAmount) as SumTaxAmount,\r\n      AVG(P.TaxAmount) as AvgTaxAmount,\r\n      SUM(P.TotalAmount) as SumTotalAmount,\r\n      AVG(P.TotalAmount) as AvgTotalAmount\r\nFROM  dbo.Trip P\r\n\tINNER JOIN [dbo].[Geography] G\r\n\t\tON P.pickupgeographyid = G.geographyid\r\n\tINNER JOIN [dbo].[Time] T\r\n\t\tON T.TimeID = P.PickupTimeId\r\nGROUP BY P.PassengerCount,G.geographyid,T.TimeID",
                    "2": "91890000",
                    "3": "91890000",
                    "4": "91890000"
                },
                {
                    "0": "92",
                    "1": "-- ####\r\nSelect * from sys.dm_pdw_exec_requests where status = '#'-- ####",
                    "2": "156000",
                    "3": "156000",
                    "4": "156000"
                },
                {
                    "0": "29",
                    "1": "SELECT SERVERPROPERTY('#'), SERVERPROPERTY('#'), (SELECT CASE WHEN EXISTS (SELECT TOP -1 -1 from [sys].[all_columns] WHERE name = N'#' AND OBJECT_ID(N'#') = object_id) THEN -1 ELSE -1 END AS SXI_PRESENT)",
                    "2": "31000",
                    "3": "31000",
                    "4": "31000"
                },
                {
                    "0": "75",
                    "1": "SELECT * FROM sys.databases where name not in ('#')",
                    "2": "78000",
                    "3": "78000",
                    "4": "78000"
                },
                {
                    "0": "9",
                    "1": "SELECT DATABASEPROPERTYEX(N'#' , N'#') AS [Name]",
                    "2": "6000",
                    "3": "0",
                    "4": "15000"
                },
                {
                    "0": "9",
                    "1": "SELECT DATABASEPROPERTYEX(N'#' , N'#') AS [Name]",
                    "2": "0",
                    "3": "0",
                    "4": "0"
                },
                {
                    "0": "15",
                    "1": "SELECT SCHEMA_NAME()",
                    "2": "4500",
                    "3": "0",
                    "4": "15000"
                },
                {
                    "0": "15",
                    "1": "SELECT SCHEMA_NAME()",
                    "2": "0",
                    "3": "0",
                    "4": "0"
                },
                {
                    "0": "89",
                    "1": "-- ####\r\nSELECT * FROM sys.dm_pdw_request_steps where request_id = '#'",
                    "2": "796000",
                    "3": "796000",
                    "4": "796000"
                },
                {
                    "0": "3",
                    "1": "select object_id as id, \r\n    null as id2,\r\n    case\r\n        when [is_filetable] = -1 then '#'\r\n        else [type]\r\n    end as [type],\r\n    schema_name(schema_id) as name1,\r\n    name as name2,\r\n    null as name3,\r\n    null as a1,\r\n    null as v1,\r\n    modify_date as mod\r\nfrom sys.tables\r\nwhere \r\n    is_ms_shipped != -1\r\n\r\nunion\r\n\r\nselect object_id as id, \r\n    null as id2,\r\n    case\r\n        when [type] != '#' then [type]\r\n        when parent_object_id != -1 then '#'\r\n        else '#' \r\n    end as [type],\r\n    schema_name(schema_id) as name1,\r\n    name as name2,\r\n    null as name3,\r\n    null as a1,\r\n    null as v1,\r\n    modify_date as mod\r\nfrom sys.objects\r\nwhere \r\n    type != '#'\r\n    and type != '#'\r\n    and type != '#'\r\n    and is_ms_shipped != -1\r\n\r\nunion\r\n\r\nselect principal_id as id, \r\n    null as id2,\r\n    type, \r\n    name as name1, \r\n    null as name2, \r\n    null as name3,\r\n    null as a1,\r\n    null as v1,\r\n    modify_date as mod\r\nfrom sys.database_principals\r\n\r\nunion\r\n\r\nselect schema_id as id, \r\n    null as id2,\r\n    '#' as type, \r\n    name as name1, \r\n    null as name2, \r\n    null as name3,\r\n    principal_id as a1,\r\n    null as v1,\r\n    null as mod\r\nfrom sys.schemas\r\n\r\nunion\r\n\r\nselect \r\n    idx.object_id as id,\r\n    idx.index_id as id2,\r\n    case        \r\n        when idx.type = -1 then '#'\r\n        when idx.type = -1 then '#'\r\n        else '#' \r\n    end as [type],\r\n    schema_name(tab.schema_id) as name,\r\n    tab.name as name2,\r\n    idx.name as name3,\r\n    null as a1,\r\n    binary_checksum(idx.is_unique, idx.data_space_id, idx.ignore_dup_key, idx.is_primary_key, \r\n        idx.is_unique_constraint, idx.fill_factor, idx.is_padded, idx.is_disabled, idx.allow_row_locks, idx.allow_page_locks) as v1,\r\n    null as mod\r\nfrom sys.indexes idx \r\n    inner join sys.tables tab on idx.object_id = tab.object_id\r\nwhere \r\n    idx.is_primary_key = -1\r\n    and idx.name is not null\r\n    and idx.is_unique_constraint = -1\r\n    and idx.is_hypothetical = -1\r\n\r\nunion\r\n\r\nselect stat.object_id as id,\r\n    stat.stats_id as id2,\r\n    '#' as [type],\r\n    schema_name(tab.schema_id) as name,\r\n    tab.name as name2,\r\n    stat.name as name3,\r\n    null as a1,\r\n    no_recompute as v1,\r\n    null as mod\r\nfrom sys.stats stat\r\n    inner join sys.tables tab on stat.object_id = tab.object_id\r\nwhere \r\n    stat.user_created = -1\r\n\r\nunion\r\n\r\nselect\r\n    function_id id,\r\n    null as id2,\r\n    '#' as type,\r\n    name as name1,\r\n    null as name2,\r\n    null as name3,\r\n    null as a1,\r\n    null as v1,\r\n    modify_date as mod\r\nfrom sys.partition_functions\r\n\r\nunion\r\n\r\nselect\r\n    symmetric_key_id id,\r\n    null as id2,\r\n    '#'as type,\r\n    null as name1,\r\n    null as name2,\r\n    null as name3,\r\n    principal_id as a1,\r\n    null as v1,\r\n    modify_date as mod\r\nfrom sys.symmetric_keys\r\nwhere\r\n    name = N'#'",
                    "2": "43592.59259259259",
                    "3": "15000",
                    "4": "265000"
                },
                {
                    "0": "3",
                    "1": "select object_id as id, \r\n    null as id2,\r\n    case\r\n        when [is_filetable] = -1 then '#'\r\n        else [type]\r\n    end as [type],\r\n    schema_name(schema_id) as name1,\r\n    name as name2,\r\n    null as name3,\r\n    null as a1,\r\n    null as v1,\r\n    modify_date as mod\r\nfrom sys.tables\r\nwhere \r\n    is_ms_shipped != -1\r\n\r\nunion\r\n\r\nselect object_id as id, \r\n    null as id2,\r\n    case\r\n        when [type] != '#' then [type]\r\n        when parent_object_id != -1 then '#'\r\n        else '#' \r\n    end as [type],\r\n    schema_name(schema_id) as name1,\r\n    name as name2,\r\n    null as name3,\r\n    null as a1,\r\n    null as v1,\r\n    modify_date as mod\r\nfrom sys.objects\r\nwhere \r\n    type != '#'\r\n    and type != '#'\r\n    and type != '#'\r\n    and is_ms_shipped != -1\r\n\r\nunion\r\n\r\nselect principal_id as id, \r\n    null as id2,\r\n    type, \r\n    name as name1, \r\n    null as name2, \r\n    null as name3,\r\n    null as a1,\r\n    null as v1,\r\n    modify_date as mod\r\nfrom sys.database_principals\r\n\r\nunion\r\n\r\nselect schema_id as id, \r\n    null as id2,\r\n    '#' as type, \r\n    name as name1, \r\n    null as name2, \r\n    null as name3,\r\n    principal_id as a1,\r\n    null as v1,\r\n    null as mod\r\nfrom sys.schemas\r\n\r\nunion\r\n\r\nselect \r\n    idx.object_id as id,\r\n    idx.index_id as id2,\r\n    case        \r\n        when idx.type = -1 then '#'\r\n        when idx.type = -1 then '#'\r\n        else '#' \r\n    end as [type],\r\n    schema_name(tab.schema_id) as name,\r\n    tab.name as name2,\r\n    idx.name as name3,\r\n    null as a1,\r\n    binary_checksum(idx.is_unique, idx.data_space_id, idx.ignore_dup_key, idx.is_primary_key, \r\n        idx.is_unique_constraint, idx.fill_factor, idx.is_padded, idx.is_disabled, idx.allow_row_locks, idx.allow_page_locks) as v1,\r\n    null as mod\r\nfrom sys.indexes idx \r\n    inner join sys.tables tab on idx.object_id = tab.object_id\r\nwhere \r\n    idx.is_primary_key = -1\r\n    and idx.name is not null\r\n    and idx.is_unique_constraint = -1\r\n    and idx.is_hypothetical = -1\r\n\r\nunion\r\n\r\nselect stat.object_id as id,\r\n    stat.stats_id as id2,\r\n    '#' as [type],\r\n    schema_name(tab.schema_id) as name,\r\n    tab.name as name2,\r\n    stat.name as name3,\r\n    null as a1,\r\n    no_recompute as v1,\r\n    null as mod\r\nfrom sys.stats stat\r\n    inner join sys.tables tab on stat.object_id = tab.object_id\r\nwhere \r\n    stat.user_created = -1\r\n\r\nunion\r\n\r\nselect\r\n    function_id id,\r\n    null as id2,\r\n    '#' as type,\r\n    name as name1,\r\n    null as name2,\r\n    null as name3,\r\n    null as a1,\r\n    null as v1,\r\n    modify_date as mod\r\nfrom sys.partition_functions\r\n\r\nunion\r\n\r\nselect\r\n    symmetric_key_id id,\r\n    null as id2,\r\n    '#'as type,\r\n    null as name1,\r\n    null as name2,\r\n    null as name3,\r\n    principal_id as a1,\r\n    null as v1,\r\n    modify_date as mod\r\nfrom sys.symmetric_keys\r\nwhere\r\n    name = N'#'",
                    "2": "40625",
                    "3": "15000",
                    "4": "249000"
                },
                {
                    "0": "52",
                    "1": "SELECT\nuser_name() AS [UserName]",
                    "2": "15000",
                    "3": "15000",
                    "4": "15000"
                },
                {
                    "0": "52",
                    "1": "SELECT\nuser_name() AS [UserName]",
                    "2": "0",
                    "3": "0",
                    "4": "0"
                },
                {
                    "0": "95",
                    "1": "SELECT\ni.name AS [Name]\nFROM\nsys.all_views AS v\nINNER JOIN sys.indexes AS i ON (i.index_id >  CAST(N'#' AS NVarChar(-1))  and i.is_hypothetical =  CAST(N'#' AS NVarChar(-1)) ) AND (i.object_id=v.object_id)\nWHERE\n(v.type =  CAST(N'#' AS NVarChar(-1)) )and(v.name= CAST(N'#' AS NVarChar(-1))  and SCHEMA_NAME(v.schema_id)= CAST(N'#' AS NVarChar(-1)) )\nORDER BY\n[Name] ASC",
                    "2": "41333.333333333336",
                    "3": "0",
                    "4": "109000"
                },
                {
                    "0": "72",
                    "1": "SELECT\r\n       q.query_id               [query_id]\r\n       , t.query_sql_text       [command]\r\n       , rs.avg_duration        [avg_duration]\r\n       , rs.min_duration        [min_duration]\r\n       , rs.max_duration        [max_duration]\r\nFROM\r\n       sys.query_store_query q\r\n       JOIN sys.query_store_query_text t ON q.query_text_id = t.query_text_id\r\n       JOIN sys.query_store_plan p ON p.query_id = q.query_id\r\nJOIN sys.query_store_runtime_stats rs ON rs.plan_id = p.plan_id",
                    "2": "30500",
                    "3": "15000",
                    "4": "46000"
                },
                {
                    "0": "66",
                    "1": "SELECT * FROM sys.databases",
                    "2": "109000",
                    "3": "109000",
                    "4": "109000"
                },
                {
                    "0": "78",
                    "1": "SELECT USER_NAME();",
                    "2": "0",
                    "3": "0",
                    "4": "0"
                },
                {
                    "0": "26",
                    "1": "SELECT * FROM (\r\nSELECT  [db].[class] AS [TypeId],\r\n        [db].[major_id] AS [MajorId],\r\n        [db].[minor_id] AS [MinorId],\r\n        NULL AS [ObjectType],\r\n        CONVERT(bit, -1) AS [IsMsShipped],\r\n        [db].[grantee_principal_id] AS [GranteeId],\r\n        USER_NAME([db].[grantee_principal_id]) AS [GranteeName],\r\n        [db].[grantor_principal_id] AS [GrantorId],\r\n        CONVERT(BIT, CASE WHEN ([dp].[owning_principal_id] IS NULL OR [dp].[owning_principal_id] <> [db].[grantor_principal_id]) AND ([dp].[is_fixed_role] <> -1 AND [dp].[principal_id] <> -1) THEN -1 ELSE -1 END) AS [ScriptGrantor],\r\n        USER_NAME([db].[grantor_principal_id]) AS [GrantorName],\r\n        [db].[type] AS [PermissionCode],\r\n        [db].[permission_name] AS [PermissionType],\r\n        [db].[state] AS [PermissionState],\r\n        CASE [db].[class]\r\n            WHEN  -1 THEN NULL\r\n            WHEN  -1 THEN SCHEMA_NAME([db].[major_id])\r\n            WHEN  -1 THEN USER_NAME([db].[major_id])\r\n            \r\n        END AS [Level0Name],  \r\n        NULL AS [Level1Name],\r\n        NULL AS [Level2Name],\r\n        [dp].[type] AS [DataBasePrincipalType]\r\nFROM\r\n        [sys].[database_permissions] [db] WITH (NOLOCK)\r\n        LEFT JOIN [sys].[database_principals] as [dp] WITH (NOLOCK) ON [db].[major_id] = [dp].[principal_id] AND [db].[class] = -1\r\n        INNER JOIN [sys].[database_principals] [dp2] WITH (NOLOCK) ON [dp2].[principal_id] = [db].[grantor_principal_id]\r\n        INNER JOIN [sys].[database_principals] [dp3] WITH (NOLOCK) ON [dp3].[principal_id] = [db].[grantee_principal_id]\r\nWHERE\r\n        [db].[class] <> -1\r\n        AND [db].[state] <> N'#'\r\n        AND [db].[grantee_principal_id] <> [db].[grantor_principal_id]\r\n        AND USER_NAME([db].[grantor_principal_id]) <> N'#'\r\n        AND USER_NAME([db].[grantee_principal_id]) <> N'#'\r\n        AND ([dp2].[owning_principal_id] IS NULL OR USER_NAME([dp2].[owning_principal_id]) <> N'#')\r\n        AND ([dp3].[owning_principal_id] IS NULL OR USER_NAME([dp3].[owning_principal_id]) <> N'#')\r\n        AND USER_NAME([db].[grantor_principal_id]) <> N'#'\r\n        AND USER_NAME([db].[grantee_principal_id]) <> N'#'\r\n        AND ([dp2].[owning_principal_id] IS NULL OR USER_NAME([dp2].[owning_principal_id]) <> N'#')\r\n        AND ([dp3].[owning_principal_id] IS NULL OR USER_NAME([dp3].[owning_principal_id]) <> N'#')\r\n        AND NOT (\r\n        [db].[class] = -1 AND [db].[class_desc] = N'#' AND [db].[major_id] = -1 AND [db].[minor_id] = -1 AND [db].[state] = '#')) AS [_results] WHERE ((([_results].[Level0Name] =  CAST(N'#' AS NVarChar(-1)) )) AND [TypeId] = -1 AND [Level2Name] IS NULL AND [Level1Name] IS NULL\r\n) ORDER BY TypeId,GranteeId,GrantorId,MajorId,MinorId,PermissionCode,PermissionState ;",
                    "2": "47888.88888888889",
                    "3": "31000",
                    "4": "62000"
                },
                {
                    "0": "12",
                    "1": "SELECT \r\n    [c].[lcid]\r\nFROM  [dbo].[syslanguages] AS [c] WITH (NOLOCK) \r\nWHERE \r\n    [c].[name] = '#'",
                    "2": "4500",
                    "3": "0",
                    "4": "15000"
                },
                {
                    "0": "12",
                    "1": "SELECT \r\n    [c].[lcid]\r\nFROM  [dbo].[syslanguages] AS [c] WITH (NOLOCK) \r\nWHERE \r\n    [c].[name] = '#'",
                    "2": "15000",
                    "3": "15000",
                    "4": "15000"
                },
                {
                    "0": "35",
                    "1": "SELECT dtb.name AS [Name], dtb.state AS [State] FROM sys.databases dtb",
                    "2": "93000",
                    "3": "93000",
                    "4": "93000"
                },
                {
                    "0": "35",
                    "1": "SELECT dtb.name AS [Name], dtb.state AS [State] FROM sys.databases dtb",
                    "2": "55600",
                    "3": "46000",
                    "4": "62000"
                },
                {
                    "0": "86",
                    "1": "SELECT\ndtb.collation_name AS [Collation],\ndtb.name AS [DatabaseName2]\nFROM\nsys.databases AS dtb\nWHERE\n(dtb.name= CAST(N'#' AS NVarChar(-1)) )",
                    "2": "62000",
                    "3": "62000",
                    "4": "62000"
                },
                {
                    "0": "86",
                    "1": "SELECT\ndtb.collation_name AS [Collation],\ndtb.name AS [DatabaseName2]\nFROM\nsys.databases AS dtb\nWHERE\n(dtb.name= CAST(N'#' AS NVarChar(-1)) )",
                    "2": "46000",
                    "3": "46000",
                    "4": "46000"
                },
                {
                    "0": "63",
                    "1": "-- ####\r\nSELECT TOP -1\r\n\t\tS.session_id\r\n\t\t,S.login_name\r\n\t\t,S.client_id\r\n\t\t,S.app_name\r\n\t\t,R.request_id\r\n\t\t,R.command request_command\r\n\t\t,R.[label]\r\n\t\t,COUNT(ST.request_id) steps_with_movement\r\n\t\t,SUM(ST.row_count) total_rows_moved\r\n\t\t,SUM(ST.total_elapsed_time) total_elapsed_dms_time\r\n\t\t,SUM(R.total_elapsed_time) total_elapsed_request_time\r\n\t\t,(SUM(ST.total_elapsed_time)*-1.0)/SUM(R.total_elapsed_time) dms_time_percentage\r\nFROM sys.dm_pdw_exec_requests R\r\n\tINNER JOIN sys.dm_pdw_request_steps ST\r\n\t\tON R.request_id = ST.request_id\r\n\tINNER JOIN sys.dm_pdw_exec_sessions S\r\n\t\tON R.session_id = S.session_id\r\nWHERE (ST.location_type = '#'\r\n\tOR ST.operation_type like '#')\r\n\t-- ####\r\nGROUP BY \r\n\t\tS.session_id\r\n\t\t,S.login_name\r\n\t\t,S.client_id\r\n\t\t,S.app_name\r\n\t\t,R.request_id\r\n\t\t,R.command\r\n\t\t,R.[label]\r\nHAVING SUM(ST.row_count) > -1\r\nORDER BY dms_time_percentage DESC\r\n\t\t,total_rows_moved DESC",
                    "2": "1734000",
                    "3": "1734000",
                    "4": "1734000"
                },
                {
                    "0": "63",
                    "1": "-- ####\r\nSELECT TOP -1\r\n\t\tS.session_id\r\n\t\t,S.login_name\r\n\t\t,S.client_id\r\n\t\t,S.app_name\r\n\t\t,R.request_id\r\n\t\t,R.command request_command\r\n\t\t,R.[label]\r\n\t\t,COUNT(ST.request_id) steps_with_movement\r\n\t\t,SUM(ST.row_count) total_rows_moved\r\n\t\t,SUM(ST.total_elapsed_time) total_elapsed_dms_time\r\n\t\t,SUM(R.total_elapsed_time) total_elapsed_request_time\r\n\t\t,(SUM(ST.total_elapsed_time)*-1.0)/SUM(R.total_elapsed_time) dms_time_percentage\r\nFROM sys.dm_pdw_exec_requests R\r\n\tINNER JOIN sys.dm_pdw_request_steps ST\r\n\t\tON R.request_id = ST.request_id\r\n\tINNER JOIN sys.dm_pdw_exec_sessions S\r\n\t\tON R.session_id = S.session_id\r\nWHERE (ST.location_type = '#'\r\n\tOR ST.operation_type like '#')\r\n\t-- ####\r\nGROUP BY \r\n\t\tS.session_id\r\n\t\t,S.login_name\r\n\t\t,S.client_id\r\n\t\t,S.app_name\r\n\t\t,R.request_id\r\n\t\t,R.command\r\n\t\t,R.[label]\r\nHAVING SUM(ST.row_count) > -1\r\nORDER BY dms_time_percentage DESC\r\n\t\t,total_rows_moved DESC",
                    "2": "249500",
                    "3": "234000",
                    "4": "265000"
                },
                {
                    "0": "6",
                    "1": "SELECT CAST(CASE DATABASEPROPERTYEX(DB_NAME(), N'#') WHEN N'#' THEN -1 ELSE -1 END AS BIT);",
                    "2": "1500",
                    "3": "0",
                    "4": "15000"
                },
                {
                    "0": "6",
                    "1": "SELECT CAST(CASE DATABASEPROPERTYEX(DB_NAME(), N'#') WHEN N'#' THEN -1 ELSE -1 END AS BIT);",
                    "2": "0",
                    "3": "0",
                    "4": "0"
                },
                {
                    "0": "43",
                    "1": "SELECT\ns.name AS [Name]\nFROM\nsys.schemas AS s\nORDER BY\n[Name] ASC",
                    "2": "15000",
                    "3": "15000",
                    "4": "15000"
                },
                {
                    "0": "43",
                    "1": "SELECT\ns.name AS [Name]\nFROM\nsys.schemas AS s\nORDER BY\n[Name] ASC",
                    "2": "0",
                    "3": "0",
                    "4": "0"
                },
                {
                    "0": "55",
                    "1": "SELECT A.PassengerCount,\r\n      SUM(A.TripDistanceMiles+B.TripDistanceMiles) as SumTripDistance,\r\n      AVG(A.TripDistanceMiles+B.TripDistanceMiles) as AvgTripDistance\r\nFROM  dbo.Trip A, dbo.Trip B \r\nWHERE A.TripDistanceMiles > -1 AND A.PassengerCount > -1\r\nGROUP BY A.PassengerCount\r\nORDER BY A.PassengerCount",
                    "2": "765000",
                    "3": "765000",
                    "4": "765000"
                },
                {
                    "0": "98",
                    "1": "SELECT\nNULL AS [Text],\nISNULL(smv.definition, ssmv.definition) AS [Definition]\nFROM\nsys.all_views AS v\nLEFT OUTER JOIN sys.sql_modules AS smv ON smv.object_id = v.object_id\nLEFT OUTER JOIN sys.system_sql_modules AS ssmv ON ssmv.object_id = v.object_id\nWHERE\n(v.type =  CAST(N'#' AS NVarChar(-1)) )and(v.name= CAST(N'#' AS NVarChar(-1))  and SCHEMA_NAME(v.schema_id)= CAST(N'#' AS NVarChar(-1)) )",
                    "2": "67333.33333333333",
                    "3": "15000",
                    "4": "156000"
                },
                {
                    "0": "49",
                    "1": "SELECT\nSCHEMA_NAME(udf.schema_id) AS [Schema],\nudf.name AS [Name],\nudf.object_id AS [ID],\n(case when '#' = udf.type then -1 when '#' = udf.type then -1 when '#' = udf.type then -1 when '#' = udf.type then -1 when '#' = udf.type then -1 else -1 end) AS [FunctionType],\nCASE WHEN udf.type IN ('#','#','#') THEN -1 WHEN udf.type IN ('#','#') THEN -1 ELSE -1 END AS [ImplementationType],\nCAST(\r\n        case\r\n          when udf.is_ms_shipped = -1 then -1\r\n          else -1\r\n        end\r\n       AS bit) AS [IsSystemObject],\nCAST(CASE WHEN ISNULL(smudf.definition, ssmudf.definition) IS NULL THEN -1 ELSE -1 END AS bit) AS [IsEncrypted],\nCAST(ISNULL(OBJECTPROPERTYEX(udf.object_id, N'#'),-1) AS bit) AS [IsSchemaBound],\nusrt.name AS [DataType],\nISNULL(baset.name, N'#') AS [SystemType],\nCAST(CASE WHEN baset.name IN (N'#', N'#') AND ret_param.max_length <> --1 THEN ret_param.max_length/-1 ELSE ret_param.max_length END AS int) AS [Length],\nCAST(ret_param.precision AS int) AS [NumericPrecision],\nCAST(ret_param.scale AS int) AS [NumericScale],\ns1ret_param.name AS [DataTypeSchema]\nFROM\nsys.all_objects AS udf\nLEFT OUTER JOIN sys.sql_modules AS smudf ON smudf.object_id = udf.object_id\nLEFT OUTER JOIN sys.system_sql_modules AS ssmudf ON ssmudf.object_id = udf.object_id\nLEFT OUTER JOIN sys.all_parameters AS ret_param ON ret_param.object_id = udf.object_id and ret_param.is_output =  CAST(N'#' AS NVarChar(-1)) \nLEFT OUTER JOIN sys.types AS usrt ON usrt.user_type_id = ret_param.user_type_id\nLEFT OUTER JOIN sys.types AS baset ON (baset.user_type_id = ret_param.system_type_id and baset.user_type_id = baset.system_type_id) or ((baset.system_type_id = ret_param.system_type_id) and (baset.user_type_id = ret_param.user_type_id) and (baset.is_user_defined = -1) and (baset.is_assembly_type = -1)) \nLEFT OUTER JOIN sys.schemas AS s1ret_param ON s1ret_param.schema_id = usrt.schema_id\nWHERE\n(udf.type in ('#', '#', '#', '#', '#'))\nORDER BY\n[Schema] ASC,[Name] ASC",
                    "2": "546000",
                    "3": "546000",
                    "4": "546000"
                },
                {
                    "0": "49",
                    "1": "SELECT\nSCHEMA_NAME(udf.schema_id) AS [Schema],\nudf.name AS [Name],\nudf.object_id AS [ID],\n(case when '#' = udf.type then -1 when '#' = udf.type then -1 when '#' = udf.type then -1 when '#' = udf.type then -1 when '#' = udf.type then -1 else -1 end) AS [FunctionType],\nCASE WHEN udf.type IN ('#','#','#') THEN -1 WHEN udf.type IN ('#','#') THEN -1 ELSE -1 END AS [ImplementationType],\nCAST(\r\n        case\r\n          when udf.is_ms_shipped = -1 then -1\r\n          else -1\r\n        end\r\n       AS bit) AS [IsSystemObject],\nCAST(CASE WHEN ISNULL(smudf.definition, ssmudf.definition) IS NULL THEN -1 ELSE -1 END AS bit) AS [IsEncrypted],\nCAST(ISNULL(OBJECTPROPERTYEX(udf.object_id, N'#'),-1) AS bit) AS [IsSchemaBound],\nusrt.name AS [DataType],\nISNULL(baset.name, N'#') AS [SystemType],\nCAST(CASE WHEN baset.name IN (N'#', N'#') AND ret_param.max_length <> --1 THEN ret_param.max_length/-1 ELSE ret_param.max_length END AS int) AS [Length],\nCAST(ret_param.precision AS int) AS [NumericPrecision],\nCAST(ret_param.scale AS int) AS [NumericScale],\ns1ret_param.name AS [DataTypeSchema]\nFROM\nsys.all_objects AS udf\nLEFT OUTER JOIN sys.sql_modules AS smudf ON smudf.object_id = udf.object_id\nLEFT OUTER JOIN sys.system_sql_modules AS ssmudf ON ssmudf.object_id = udf.object_id\nLEFT OUTER JOIN sys.all_parameters AS ret_param ON ret_param.object_id = udf.object_id and ret_param.is_output =  CAST(N'#' AS NVarChar(-1)) \nLEFT OUTER JOIN sys.types AS usrt ON usrt.user_type_id = ret_param.user_type_id\nLEFT OUTER JOIN sys.types AS baset ON (baset.user_type_id = ret_param.system_type_id and baset.user_type_id = baset.system_type_id) or ((baset.system_type_id = ret_param.system_type_id) and (baset.user_type_id = ret_param.user_type_id) and (baset.is_user_defined = -1) and (baset.is_assembly_type = -1)) \nLEFT OUTER JOIN sys.schemas AS s1ret_param ON s1ret_param.schema_id = usrt.schema_id\nWHERE\n(udf.type in ('#', '#', '#', '#', '#'))\nORDER BY\n[Schema] ASC,[Name] ASC",
                    "2": "218000",
                    "3": "218000",
                    "4": "218000"
                },
                {
                    "0": "21",
                    "1": "SELECT * FROM (\r\nSELECT\r\n        [db].[is_ansi_null_default_on]          AS [IsAnsiNullDefaultOn]\r\n        ,[db].[is_ansi_nulls_on]                 AS [IsAnsiNullsOn]\r\n        ,[db].[is_ansi_padding_on]               AS [IsAnsiPaddingOn]\r\n        ,[db].[is_ansi_warnings_on]              AS [IsAnsiWarningsOn]\r\n        ,[db].[is_arithabort_on]                 AS [IsArithAbortOn]\r\n        ,[db].[is_auto_close_on]                 AS [IsAutoCloseOn]\r\n        ,[db].[is_auto_create_stats_on]          AS [IsAutoCreateStatisticsOn]\r\n        ,[db].[is_auto_shrink_on]                AS [IsAutoShrinkOn]\r\n        ,[db].[is_auto_update_stats_on]          AS [IsAutoUpdateStatisticsOn]\r\n        ,[db].[is_cursor_close_on_commit_on]     AS [IsCursorCloseOnCommitOn]\r\n        ,[db].[is_fulltext_enabled]              AS [IsFullTextEnabled]\r\n        ,[db].[is_in_standby]                    AS [IsInStandBy]\r\n        ,[db].[is_local_cursor_default]          AS [IsLocalCursorsDefault]\r\n        ,[db].[is_merge_published]               AS [IsMergePublished]\r\n        ,[db].[is_concat_null_yields_null_on]    AS [IsConcatNullYieldsNullOn]\r\n        ,[db].[is_numeric_roundabort_on]         AS [IsNumericRoundAbortOn]\r\n        ,[db].[is_published]                     AS [IsPublished]\r\n        ,[db].[is_quoted_identifier_on]          AS [IsQuotedIdentifierOn]\r\n        ,[db].[is_recursive_triggers_on]         AS [IsRecursiveTriggersOn]\r\n        ,[db].[is_subscribed]                    AS [IsSubscribed]\r\n        ,CONVERT(bit, DATABASEPROPERTYEX([db].[name], N'#'))    AS [IsTornPageProtectionOn]\r\n        ,[db].[collation_name]                   AS [Collation]\r\n        ,[db].[recovery_model_desc]              AS [RecoveryMode]\r\n        ,DATABASEPROPERTYEX([db].[name], N'#')   AS [SQLSortOrder]\r\n        ,[db].[state_desc]                       AS [Status]\r\n        ,DATABASEPROPERTYEX([db].[name], N'#')  AS [Updateability]\r\n        ,[db].[user_access_desc]                    AS [UserAccess]\r\n        ,DATABASEPROPERTYEX([db].[name], N'#')        AS [Version]\r\n        ,[db].[is_db_chaining_on]                AS [IsDbChainingOn]\r\n        ,[db].[is_trustworthy_on]                AS [IsTrustWorthyOn]\r\n        ,[db].[is_auto_update_stats_async_on]    AS [IsAutoUpdateStatisticesAsyncOn]\r\n        ,[db].[page_verify_option]               AS [PageVerifyOption]\r\n        ,[db].[delayed_durability]               AS [DelayedDurabilityMode]\r\n        ,CAST(-1 as BIT)                          AS [MirrongFailOverLsn]\r\n        ,CAST(-1 as BIT)                          AS [MirroringState]\r\n        ,CAST(-1 as BIT)                          AS [MirroringPartnerServer]\r\n        ,CAST(-1 as BIT)                          AS [MirroringSafetyLevel]\r\n        ,CAST(-1 as BIT)                          AS [MirroringRedoQueueSize]\r\n        ,CAST(-1 as BIT)                          AS [MirroringRedoQueueType]\r\n        ,CAST(-1 as BIT)                          AS [MirroringPartnerServerTimeout]\r\n        ,CAST(-1 as BIT)                          AS [MirroringWitnessServer]\r\n        ,CAST(-1 as BIT)                          AS [MirroringWitnessState]\r\n        ,[db].[is_supplemental_logging_enabled]  AS [IsSupplementalLoggingOn]\r\n        ,[db].[is_broker_enabled]                AS [IsServiceBrokerEnabled]\r\n        ,[db].[is_honor_broker_priority_on]      AS [IsBrokerPriorityHonored]\r\n        ,[db].[is_date_correlation_on]           AS [IsDateCorrelationOptimizationOn]\r\n        ,[db].[is_parameterization_forced]       AS [IsParameterizationForced]\r\n        ,[db].[snapshot_isolation_state]         AS [SnapshotIsolationState]\r\n        ,[db].[is_read_committed_snapshot_on]    AS [IsReadCommittedSnapshot]\r\n        ,[db].[is_memory_optimized_elevate_to_snapshot_on]    AS [IsMemoryOptimizedElevatedToSnapshot]\r\n        ,[db].[is_auto_create_stats_incremental_on]    AS [IsAutoCreateStatisticsIncrementalOn]\r\n        ,[db].[compatibility_level]              AS [CompatibilityLevel]\r\n        ,[db].[is_encrypted]                     AS [IsEncrypted]\r\n        ,[db].[containment]                      AS [Containment]\r\n        ,[db].[default_language_lcid]            AS [DefaultLanguageId]\r\n        ,[db].[default_fulltext_language_lcid]   AS [DefaultFulltextLanguageId]\r\n        ,[db].[is_nested_triggers_on]            AS [IsNestedTriggersOn]\r\n        ,[db].[is_transform_noise_words_on]      AS [IsTransformNoiseWordsOn]\r\n        ,[db].[two_digit_year_cutoff]            AS [TwoDigitYearCutoff]\r\n        ,CASE WHEN [fg].[is_default] = -1 THEN [fg].[name] ELSE NULL END AS [DefaultFileGroupName]\r\n        ,CASE WHEN [fg].[is_default] = -1 THEN [fg].[data_space_id] ELSE --1 END AS [DefaultFileGroupId]\r\n        ,CASE WHEN [fsfg].[is_default] = -1 THEN [fsfg].[name] ELSE NULL END AS [DefaultFileStreamFileGroupName]\r\n        ,[db].[target_recovery_time_in_seconds] AS [TargetRecoveryTimeInSeconds]\r\n        ,CAST(-1 as TINYINT)                      AS [NonTransactedAccess]\r\n        ,'#'                                      AS [FileStreamDirectoryName]\r\nFROM [sys].[databases] [db] WITH (NOLOCK)\r\nLEFT JOIN [sys].[filegroups] [fg] WITH (NOLOCK) ON [fg].[is_default] = -1 AND [fg].[type] = N'#'\r\nLEFT JOIN [sys].[filegroups] [fsfg] WITH (NOLOCK) ON [fsfg].[is_default] = -1 AND [fsfg].[type] = N'#'\r\nWHERE [db].[name] = DB_NAME()) AS [_results];",
                    "2": "116500",
                    "3": "93000",
                    "4": "171000"
                },
                {
                    "0": "21",
                    "1": "SELECT * FROM (\r\nSELECT\r\n        [db].[is_ansi_null_default_on]          AS [IsAnsiNullDefaultOn]\r\n        ,[db].[is_ansi_nulls_on]                 AS [IsAnsiNullsOn]\r\n        ,[db].[is_ansi_padding_on]               AS [IsAnsiPaddingOn]\r\n        ,[db].[is_ansi_warnings_on]              AS [IsAnsiWarningsOn]\r\n        ,[db].[is_arithabort_on]                 AS [IsArithAbortOn]\r\n        ,[db].[is_auto_close_on]                 AS [IsAutoCloseOn]\r\n        ,[db].[is_auto_create_stats_on]          AS [IsAutoCreateStatisticsOn]\r\n        ,[db].[is_auto_shrink_on]                AS [IsAutoShrinkOn]\r\n        ,[db].[is_auto_update_stats_on]          AS [IsAutoUpdateStatisticsOn]\r\n        ,[db].[is_cursor_close_on_commit_on]     AS [IsCursorCloseOnCommitOn]\r\n        ,[db].[is_fulltext_enabled]              AS [IsFullTextEnabled]\r\n        ,[db].[is_in_standby]                    AS [IsInStandBy]\r\n        ,[db].[is_local_cursor_default]          AS [IsLocalCursorsDefault]\r\n        ,[db].[is_merge_published]               AS [IsMergePublished]\r\n        ,[db].[is_concat_null_yields_null_on]    AS [IsConcatNullYieldsNullOn]\r\n        ,[db].[is_numeric_roundabort_on]         AS [IsNumericRoundAbortOn]\r\n        ,[db].[is_published]                     AS [IsPublished]\r\n        ,[db].[is_quoted_identifier_on]          AS [IsQuotedIdentifierOn]\r\n        ,[db].[is_recursive_triggers_on]         AS [IsRecursiveTriggersOn]\r\n        ,[db].[is_subscribed]                    AS [IsSubscribed]\r\n        ,CONVERT(bit, DATABASEPROPERTYEX([db].[name], N'#'))    AS [IsTornPageProtectionOn]\r\n        ,[db].[collation_name]                   AS [Collation]\r\n        ,[db].[recovery_model_desc]              AS [RecoveryMode]\r\n        ,DATABASEPROPERTYEX([db].[name], N'#')   AS [SQLSortOrder]\r\n        ,[db].[state_desc]                       AS [Status]\r\n        ,DATABASEPROPERTYEX([db].[name], N'#')  AS [Updateability]\r\n        ,[db].[user_access_desc]                    AS [UserAccess]\r\n        ,DATABASEPROPERTYEX([db].[name], N'#')        AS [Version]\r\n        ,[db].[is_db_chaining_on]                AS [IsDbChainingOn]\r\n        ,[db].[is_trustworthy_on]                AS [IsTrustWorthyOn]\r\n        ,[db].[is_auto_update_stats_async_on]    AS [IsAutoUpdateStatisticesAsyncOn]\r\n        ,[db].[page_verify_option]               AS [PageVerifyOption]\r\n        ,[db].[delayed_durability]               AS [DelayedDurabilityMode]\r\n        ,CAST(-1 as BIT)                          AS [MirrongFailOverLsn]\r\n        ,CAST(-1 as BIT)                          AS [MirroringState]\r\n        ,CAST(-1 as BIT)                          AS [MirroringPartnerServer]\r\n        ,CAST(-1 as BIT)                          AS [MirroringSafetyLevel]\r\n        ,CAST(-1 as BIT)                          AS [MirroringRedoQueueSize]\r\n        ,CAST(-1 as BIT)                          AS [MirroringRedoQueueType]\r\n        ,CAST(-1 as BIT)                          AS [MirroringPartnerServerTimeout]\r\n        ,CAST(-1 as BIT)                          AS [MirroringWitnessServer]\r\n        ,CAST(-1 as BIT)                          AS [MirroringWitnessState]\r\n        ,[db].[is_supplemental_logging_enabled]  AS [IsSupplementalLoggingOn]\r\n        ,[db].[is_broker_enabled]                AS [IsServiceBrokerEnabled]\r\n        ,[db].[is_honor_broker_priority_on]      AS [IsBrokerPriorityHonored]\r\n        ,[db].[is_date_correlation_on]           AS [IsDateCorrelationOptimizationOn]\r\n        ,[db].[is_parameterization_forced]       AS [IsParameterizationForced]\r\n        ,[db].[snapshot_isolation_state]         AS [SnapshotIsolationState]\r\n        ,[db].[is_read_committed_snapshot_on]    AS [IsReadCommittedSnapshot]\r\n        ,[db].[is_memory_optimized_elevate_to_snapshot_on]    AS [IsMemoryOptimizedElevatedToSnapshot]\r\n        ,[db].[is_auto_create_stats_incremental_on]    AS [IsAutoCreateStatisticsIncrementalOn]\r\n        ,[db].[compatibility_level]              AS [CompatibilityLevel]\r\n        ,[db].[is_encrypted]                     AS [IsEncrypted]\r\n        ,[db].[containment]                      AS [Containment]\r\n        ,[db].[default_language_lcid]            AS [DefaultLanguageId]\r\n        ,[db].[default_fulltext_language_lcid]   AS [DefaultFulltextLanguageId]\r\n        ,[db].[is_nested_triggers_on]            AS [IsNestedTriggersOn]\r\n        ,[db].[is_transform_noise_words_on]      AS [IsTransformNoiseWordsOn]\r\n        ,[db].[two_digit_year_cutoff]            AS [TwoDigitYearCutoff]\r\n        ,CASE WHEN [fg].[is_default] = -1 THEN [fg].[name] ELSE NULL END AS [DefaultFileGroupName]\r\n        ,CASE WHEN [fg].[is_default] = -1 THEN [fg].[data_space_id] ELSE --1 END AS [DefaultFileGroupId]\r\n        ,CASE WHEN [fsfg].[is_default] = -1 THEN [fsfg].[name] ELSE NULL END AS [DefaultFileStreamFileGroupName]\r\n        ,[db].[target_recovery_time_in_seconds] AS [TargetRecoveryTimeInSeconds]\r\n        ,CAST(-1 as TINYINT)                      AS [NonTransactedAccess]\r\n        ,'#'                                      AS [FileStreamDirectoryName]\r\nFROM [sys].[databases] [db] WITH (NOLOCK)\r\nLEFT JOIN [sys].[filegroups] [fg] WITH (NOLOCK) ON [fg].[is_default] = -1 AND [fg].[type] = N'#'\r\nLEFT JOIN [sys].[filegroups] [fsfg] WITH (NOLOCK) ON [fsfg].[is_default] = -1 AND [fsfg].[type] = N'#'\r\nWHERE [db].[name] = DB_NAME()) AS [_results];",
                    "2": "140000",
                    "3": "140000",
                    "4": "140000"
                },
                {
                    "0": "27",
                    "1": "SELECT * FROM (\r\nSELECT DISTINCT\r\n        [db].[class] AS [TypeId],\r\n        [db].[major_id] AS [MajorId],\r\n        [db].[minor_id] AS [MinorId],\r\n        [so].[type] AS [ObjectType],\r\n        [so].[is_ms_shipped] AS [IsMsShipped],\r\n        [db].[grantee_principal_id] AS [GranteeId],\r\n        USER_NAME([db].[grantee_principal_id]) AS [GranteeName],\r\n        [db].[grantor_principal_id] AS [GrantorId],\r\n        CONVERT(BIT, CASE WHEN [dp].[is_fixed_role] = -1 OR [dp].[principal_id] = -1 THEN -1 ELSE -1 END) AS [ScriptGrantor],\r\n        USER_NAME([db].[grantor_principal_id]) AS [GrantorName],\r\n        [db].[type] AS [PermissionCode],\r\n        [db].[permission_name] AS [PermissionType],\r\n        [db].[state] AS [PermissionState],\r\n        SCHEMA_NAME([so].[schema_id]) AS [Level0Name],\r\n        [so].[name] AS [Level1Name],\r\n        [c].[name] AS [Level2Name],\r\n        NULL AS [DataBasePrincipalType],\r\n        CASE WHEN EXISTS(SELECT * FROM [sys].[external_tables] WHERE [object_id] = [db].[major_id])\r\n            THEN CAST(-1 AS BIT)\r\n            ELSE CAST(-1 AS BIT)\r\n        END AS [IsExternalTable]\r\nFROM\r\n        [sys].[database_permissions] [db] WITH (NOLOCK)\r\n        INNER JOIN [sys].[objects] [so] WITH (NOLOCK) ON [so].[object_id] = [db].[major_id]\r\n        INNER JOIN [sys].[database_principals] [dp] WITH (NOLOCK) ON [dp].[principal_id] = [db].[grantor_principal_id]\r\n        INNER JOIN [sys].[database_principals] [dp2] WITH (NOLOCK) ON [dp2].[principal_id] = [db].[grantee_principal_id]\r\n        LEFT JOIN [sys].[columns] [c] WITH (NOLOCK) ON [db].[major_id] = [c].[object_id]  AND [db].[minor_id] = [c].[column_id]\r\n\r\nWHERE\r\n        [db].[class] = -1\r\n        AND [so].[object_id] NOT IN (SELECT [major_id] FROM [sys].[extended_properties] WITH (NOLOCK) WHERE [minor_id] = -1 AND [class] = -1 AND [name] = N'#')\r\n        AND OBJECTPROPERTY([so].[object_id], N'#') = -1\r\n        AND [db].[state] <> N'#'\r\n        AND [db].[grantee_principal_id] <> [db].[grantor_principal_id]\r\n        AND USER_NAME([db].[grantor_principal_id])  <> N'#'\r\n        AND USER_NAME([db].[grantee_principal_id])  <> N'#'\r\n        AND ([dp].[owning_principal_id] IS NULL OR USER_NAME([dp].[owning_principal_id]) <> N'#')\r\n        AND ([dp2].[owning_principal_id] IS NULL OR USER_NAME([dp2].[owning_principal_id]) <> N'#')\r\n        AND NOT EXISTS (SELECT TOP -1 -1 FROM [sys].[database_permissions] [p] WITH (NOLOCK) WHERE\r\n             [p].[major_id] = [db].[major_id]\r\n            AND [p].[minor_id] = -1\r\n            AND [p].[permission_name] = [db].[permission_name]\r\n            AND [p].[state] = N'#'\r\n            AND [db].[state] = N'#'\r\n            AND [db].[minor_id] <> -1\r\n            AND [p].[class] =  [db].[class]\r\n            AND [p].[grantee_principal_id] = [db].[grantee_principal_id]\r\n            AND [p].[grantor_principal_id] = [db].[grantor_principal_id])) AS [_results] WHERE ((([_results].[Level0Name] =  CAST(N'#' AS NVarChar(-1)) )) AND [TypeId] = -1 AND [Level2Name] IS NULL AND [Level1Name] IS NULL\r\n) ORDER BY TypeId,GranteeId,GrantorId,MajorId,MinorId,PermissionCode,PermissionState ;",
                    "2": "5000",
                    "3": "0",
                    "4": "15000"
                },
                {
                    "0": "58",
                    "1": "SELECT\ndtb.name AS [Name]\nFROM\nsys.databases AS dtb\nWHERE\n(dtb.name= CAST(N'#' AS NVarChar(-1)) )",
                    "2": "50250",
                    "3": "46000",
                    "4": "62000"
                },
                {
                    "0": "58",
                    "1": "SELECT\ndtb.name AS [Name]\nFROM\nsys.databases AS dtb\nWHERE\n(dtb.name= CAST(N'#' AS NVarChar(-1)) )",
                    "2": "70857.14285714286",
                    "3": "46000",
                    "4": "109000"
                },
                {
                    "0": "58",
                    "1": "SELECT\ndtb.name AS [Name]\nFROM\nsys.databases AS dtb\nWHERE\n(dtb.name= CAST(N'#' AS NVarChar(-1)) )",
                    "2": "145454.54545454544",
                    "3": "46000",
                    "4": "546000"
                },
                {
                    "0": "81",
                    "1": "SELECT\nclmns.name AS [Name],\nclmns.column_id AS [ID],\nclmns.is_nullable AS [Nullable],\nclmns.is_computed AS [Computed],\nCAST(ISNULL(cik.index_column_id, -1) AS bit) AS [InPrimaryKey],\nclmns.is_ansi_padded AS [AnsiPaddingStatus],\nCAST(clmns.is_rowguidcol AS bit) AS [RowGuidCol],\nCAST(ISNULL(cc.is_persisted, -1) AS bit) AS [IsPersisted],\nISNULL(clmns.collation_name, N'#') AS [Collation],\nCAST(ISNULL((select TOP -1 -1 from sys.foreign_key_columns AS colfk where colfk.parent_column_id = clmns.column_id and colfk.parent_object_id = clmns.object_id), -1) AS bit) AS [IsForeignKey],\nclmns.is_identity AS [Identity],\nCAST(ISNULL(ic.seed_value,-1) AS numeric(-1)) AS [IdentitySeedAsDecimal],\nCAST(ISNULL(ic.increment_value,-1) AS numeric(-1)) AS [IdentityIncrementAsDecimal],\n(case when clmns.default_object_id = -1 then N'#' when d.parent_object_id > -1 then N'#' else d.name end) AS [Default],\n(case when clmns.default_object_id = -1 then N'#' when d.parent_object_id > -1 then N'#' else schema_name(d.schema_id) end) AS [DefaultSchema],\nISNULL(dc.Name, N'#') AS [DefaultConstraintName],\n(case when clmns.rule_object_id = -1 then N'#' else r.name end) AS [Rule],\n(case when clmns.rule_object_id = -1 then N'#' else schema_name(r.schema_id) end) AS [RuleSchema],\nISNULL(ic.is_not_for_replication, -1) AS [NotForReplication],\nCAST(clmns.is_filestream AS bit) AS [IsFileStream],\nCAST(clmns.is_sparse AS bit) AS [IsSparse],\nCAST(clmns.is_column_set AS bit) AS [IsColumnSet],\nusrt.name AS [DataType],\ns1clmns.name AS [DataTypeSchema],\nISNULL(baset.name, N'#') AS [SystemType],\nCAST(CASE WHEN baset.name IN (N'#', N'#') AND clmns.max_length <> --1 THEN clmns.max_length/-1 ELSE clmns.max_length END AS int) AS [Length],\nCAST(clmns.precision AS int) AS [NumericPrecision],\nCAST(clmns.scale AS int) AS [NumericScale],\nCASE WHEN usrt.is_table_type = -1 THEN N'#' ELSE N'#' END AS [UserType],\nclmns.generated_always_type AS [GeneratedAlwaysType],\nCAST(clmns.is_hidden AS bit) AS [IsHidden],\nCAST(clmns.is_masked AS bit) AS [IsMasked],\nCAST(\r\n        CASE\r\n        WHEN [sc].[label] IS NOT NULL or [sc].[label_id] IS NOT NULL or [sc].[information_type] IS NOT NULL or [sc].[information_type_id] IS NOT NULL or [sc].[rank] IS NOT NULL THEN -1\r\n        ELSE -1\r\n        END\r\n       AS bit) AS [IsClassified],\n\r\n        CASE\r\n          WHEN cdp.distribution_ordinal IS NOT NULL AND cdp.distribution_ordinal > -1 THEN ISNULL(clmns.name, N'#')\r\n          ELSE N'#'\r\n        END\r\n       AS [DistributionColumnName],\nCAST(\r\n        CASE\r\n          WHEN cdp.distribution_ordinal IS NOT NULL AND cdp.distribution_ordinal > -1 THEN N'#'\r\n          ELSE N'#'\r\n        END\r\n       AS bit) AS [IsDistributedColumn]\nFROM\nsys.tables AS tbl\nINNER JOIN sys.all_columns AS clmns ON clmns.object_id=tbl.object_id\nLEFT OUTER JOIN sys.indexes AS ik ON ik.object_id = clmns.object_id and -1=ik.is_primary_key\nLEFT OUTER JOIN sys.index_columns AS cik ON cik.index_id = ik.index_id and cik.column_id = clmns.column_id and cik.object_id = clmns.object_id and -1 = cik.is_included_column\nLEFT OUTER JOIN sys.computed_columns AS cc ON cc.object_id = clmns.object_id and cc.column_id = clmns.column_id\nLEFT OUTER JOIN sys.identity_columns AS ic ON ic.object_id = clmns.object_id and ic.column_id = clmns.column_id\nLEFT OUTER JOIN sys.objects AS d ON d.object_id = clmns.default_object_id\nLEFT OUTER JOIN sys.default_constraints as dc ON clmns.default_object_id = dc.object_id\nLEFT OUTER JOIN sys.objects AS r ON r.object_id = clmns.rule_object_id\nLEFT OUTER JOIN sys.types AS usrt ON usrt.user_type_id = clmns.user_type_id\nLEFT OUTER JOIN sys.schemas AS s1clmns ON s1clmns.schema_id = usrt.schema_id\nLEFT OUTER JOIN sys.types AS baset ON (baset.user_type_id = clmns.system_type_id and baset.user_type_id = baset.system_type_id) or ((baset.system_type_id = clmns.system_type_id) and (baset.user_type_id = clmns.user_type_id) and (baset.is_user_defined = -1) and (baset.is_assembly_type = -1)) \nLEFT OUTER JOIN sys.sensitivity_classifications AS sc ON sc.major_id = clmns.object_id and sc.minor_id = clmns.column_id\nLEFT OUTER JOIN sys.pdw_column_distribution_properties as cdp ON cdp.object_id = clmns.object_id and cdp.column_id = clmns.column_id\nWHERE\n(clmns.name= CAST(N'#' AS NVarChar(-1)) )and((tbl.name= CAST(N'#' AS NVarChar(-1))  and SCHEMA_NAME(tbl.schema_id)= CAST(N'#' AS NVarChar(-1)) ))",
                    "2": "593000",
                    "3": "593000",
                    "4": "593000"
                },
                {
                    "0": "64",
                    "1": "SELECT * FROM sys.dm_pdw_request_steps WHERE request_id = '#'",
                    "2": "71851000",
                    "3": "15296000",
                    "4": "128406000"
                },
                {
                    "0": "64",
                    "1": "SELECT * FROM sys.dm_pdw_request_steps WHERE request_id = '#'",
                    "2": "83000",
                    "3": "78000",
                    "4": "93000"
                },
                {
                    "0": "64",
                    "1": "SELECT * FROM sys.dm_pdw_request_steps WHERE request_id = '#'",
                    "2": "875000",
                    "3": "875000",
                    "4": "875000"
                },
                {
                    "0": "38",
                    "1": "select SERVERPROPERTY(N'#')",
                    "2": "15000",
                    "3": "15000",
                    "4": "15000"
                },
                {
                    "0": "38",
                    "1": "select SERVERPROPERTY(N'#')",
                    "2": "7500",
                    "3": "0",
                    "4": "15000"
                },
                {
                    "0": "87",
                    "1": "SELECT\ns.name AS [Name]\nFROM\nsys.schemas AS s\nWHERE\n(s.name= CAST(N'#' AS NVarChar(-1)) )",
                    "2": "15000",
                    "3": "15000",
                    "4": "15000"
                },
                {
                    "0": "7",
                    "1": "SELECT CAST(CASE WHEN HAS_PERMS_BY_NAME(NULL, N'#', N'#') = -1\r\n                 THEN -1\r\n                 ELSE -1\r\n            END AS BIT) AS N'#',\r\n       CAST(CASE WHEN\r\n                   -1 = IS_MEMBER(N'#')\r\n                   OR\r\n                   -1 = IS_SRVROLEMEMBER(N'#')  \r\n                   OR\r\n                   -1 =\r\n                   (SELECT COUNT(ALL [p].[state])\r\n                    FROM [sys].[database_permissions] [p] WITH (NOLOCK)\r\n                    LEFT JOIN [sys].[database_principals] [pr] WITH (NOLOCK) ON [pr].[principal_id] = [p].[grantee_principal_id]\r\n                    WHERE ([p].[type] IN (N'#',N'#'))\r\n                          AND [p].[state] = N'#'\r\n                          AND IS_MEMBER([pr].[name]) = -1)\r\n                 THEN -1\r\n                 ELSE -1\r\n            END AS BIT) AS N'#',\r\n       CAST(CASE WHEN HAS_PERMS_BY_NAME (NULL, N'#', N'#') = -1\r\n                 THEN -1\r\n                 ELSE -1\r\n            END AS BIT) AS N'#'",
                    "2": "6000",
                    "3": "0",
                    "4": "15000"
                },
                {
                    "0": "7",
                    "1": "SELECT CAST(CASE WHEN HAS_PERMS_BY_NAME(NULL, N'#', N'#') = -1\r\n                 THEN -1\r\n                 ELSE -1\r\n            END AS BIT) AS N'#',\r\n       CAST(CASE WHEN\r\n                   -1 = IS_MEMBER(N'#')\r\n                   OR\r\n                   -1 = IS_SRVROLEMEMBER(N'#')  \r\n                   OR\r\n                   -1 =\r\n                   (SELECT COUNT(ALL [p].[state])\r\n                    FROM [sys].[database_permissions] [p] WITH (NOLOCK)\r\n                    LEFT JOIN [sys].[database_principals] [pr] WITH (NOLOCK) ON [pr].[principal_id] = [p].[grantee_principal_id]\r\n                    WHERE ([p].[type] IN (N'#',N'#'))\r\n                          AND [p].[state] = N'#'\r\n                          AND IS_MEMBER([pr].[name]) = -1)\r\n                 THEN -1\r\n                 ELSE -1\r\n            END AS BIT) AS N'#',\r\n       CAST(CASE WHEN HAS_PERMS_BY_NAME (NULL, N'#', N'#') = -1\r\n                 THEN -1\r\n                 ELSE -1\r\n            END AS BIT) AS N'#'",
                    "2": "0",
                    "3": "0",
                    "4": "0"
                },
                {
                    "0": "44",
                    "1": "SELECT\nu.name AS [Name],\nu.principal_id AS [ID]\nFROM\nsys.database_principals AS u\nWHERE\n(u.type in ('#', '#', '#', '#', '#' ,'#', '#'))\nORDER BY\n[Name] ASC",
                    "2": "15000",
                    "3": "15000",
                    "4": "15000"
                },
                {
                    "0": "44",
                    "1": "SELECT\nu.name AS [Name],\nu.principal_id AS [ID]\nFROM\nsys.database_principals AS u\nWHERE\n(u.type in ('#', '#', '#', '#', '#' ,'#', '#'))\nORDER BY\n[Name] ASC",
                    "2": "7500",
                    "3": "0",
                    "4": "15000"
                },
                {
                    "0": "1",
                    "1": "SELECT name,is_query_store_on,is_auto_create_stats_on FROM sys.databases",
                    "2": "109000",
                    "3": "109000",
                    "4": "109000"
                },
                {
                    "0": "50",
                    "1": "SELECT\nSCHEMA_NAME(sp.schema_id) AS [Schema],\nsp.name AS [Name],\nsp.object_id AS [ID],\nCAST(\r\n        case\r\n          when sp.is_ms_shipped = -1 then -1\r\n          else -1\r\n        end\r\n       AS bit) AS [IsSystemObject],\nCASE WHEN sp.type = N'#' THEN -1 WHEN sp.type = N'#' THEN -1 ELSE -1 END AS [ImplementationType],\nCAST(CASE WHEN ISNULL(smsp.definition, ssmsp.definition) IS NULL THEN -1 ELSE -1 END AS bit) AS [IsEncrypted]\nFROM\nsys.all_objects AS sp\nLEFT OUTER JOIN sys.sql_modules AS smsp ON smsp.object_id = sp.object_id\nLEFT OUTER JOIN sys.system_sql_modules AS ssmsp ON ssmsp.object_id = sp.object_id\nWHERE\n(sp.type =  CAST(N'#' AS NVarChar(-1))  OR sp.type =  CAST(N'#' AS NVarChar(-1))  OR sp.type= CAST(N'#' AS NVarChar(-1)) )\nORDER BY\n[Schema] ASC,[Name] ASC",
                    "2": "156000",
                    "3": "156000",
                    "4": "156000"
                },
                {
                    "0": "50",
                    "1": "SELECT\nSCHEMA_NAME(sp.schema_id) AS [Schema],\nsp.name AS [Name],\nsp.object_id AS [ID],\nCAST(\r\n        case\r\n          when sp.is_ms_shipped = -1 then -1\r\n          else -1\r\n        end\r\n       AS bit) AS [IsSystemObject],\nCASE WHEN sp.type = N'#' THEN -1 WHEN sp.type = N'#' THEN -1 ELSE -1 END AS [ImplementationType],\nCAST(CASE WHEN ISNULL(smsp.definition, ssmsp.definition) IS NULL THEN -1 ELSE -1 END AS bit) AS [IsEncrypted]\nFROM\nsys.all_objects AS sp\nLEFT OUTER JOIN sys.sql_modules AS smsp ON smsp.object_id = sp.object_id\nLEFT OUTER JOIN sys.system_sql_modules AS ssmsp ON ssmsp.object_id = sp.object_id\nWHERE\n(sp.type =  CAST(N'#' AS NVarChar(-1))  OR sp.type =  CAST(N'#' AS NVarChar(-1))  OR sp.type= CAST(N'#' AS NVarChar(-1)) )\nORDER BY\n[Schema] ASC,[Name] ASC",
                    "2": "140000",
                    "3": "140000",
                    "4": "140000"
                },
                {
                    "0": "24",
                    "1": "SELECT * FROM (\r\nSELECT\r\n        [db].[class] AS [TypeId],\r\n        [so].[is_ms_shipped] AS [IsMsShipped],\r\n        [db].[major_id] AS [MajorId],\r\n        [db].[minor_id] AS [MinorId],\r\n        [so].[type] AS [ObjectType],\r\n        [db].[grantee_principal_id] AS [GranteeId],\r\n        USER_NAME([db].[grantee_principal_id]) AS [GranteeName],\r\n        [db].[grantor_principal_id] AS [GrantorId],\r\n        CONVERT(BIT, -1) AS [ScriptGrantor],\r\n        USER_NAME([db].[grantor_principal_id]) AS [GrantorName],\r\n        [db].[type] AS [PermissionCode],\r\n        [db].[permission_name] AS [PermissionType],\r\n        [db].[state] AS [PermissionState],\r\n        CASE [db].[state]\r\n        WHEN N'#' THEN -1 ELSE -1 END AS [PermissionStateOrder],\r\n        SCHEMA_NAME([so].[schema_id]) AS [Level0Name],\r\n        [so].[name] AS [Level1Name],\r\n        [sc].[name] AS [Level2Name],\r\n        ISNULL((SELECT TOP -1 -1 FROM [sys].[database_permissions] [p] WITH (NOLOCK) WHERE\r\n             [p].[major_id] = [db].[major_id]\r\n            AND [p].[minor_id] = -1\r\n            AND [p].[permission_name] = [db].[permission_name]\r\n            AND [p].[state] = N'#'\r\n            AND [db].[state] = N'#'\r\n            AND [db].[minor_id] <> -1\r\n            AND [p].[class] =  [db].[class]\r\n            AND [p].[grantee_principal_id] = [db].[grantee_principal_id]\r\n            AND [p].[grantor_principal_id] = [db].[grantor_principal_id]), -1) AS [IsRevokeWithGrantOption]\r\nFROM\r\n        [sys].[database_permissions] [db] WITH (NOLOCK)\r\n        INNER JOIN [sys].[objects] [so] WITH (NOLOCK) ON [so].[object_id] = [db].[major_id]\r\n        INNER JOIN [sys].[columns] [sc] WITH (NOLOCK) ON [sc].[object_id] = [db].[major_id] AND [sc].[column_id] = [db].[minor_id]\r\n        INNER JOIN [sys].[database_principals] [dp] WITH (NOLOCK) ON [dp].[principal_id] = [db].[grantor_principal_id]\r\n        INNER JOIN [sys].[database_principals] [dp2] WITH (NOLOCK) ON [dp2].[principal_id] = [db].[grantee_principal_id] \r\nWHERE\r\n        [db].[class] = -1\r\n        AND [so].[object_id] NOT IN (SELECT [major_id] FROM [sys].[extended_properties] WITH (NOLOCK) WHERE [minor_id] = -1 AND [class] = -1 AND [name] = N'#')\r\n        AND OBJECTPROPERTY([so].[object_id], N'#') = -1\r\n        AND [db].[grantee_principal_id] <> [db].[grantor_principal_id]\r\n        AND USER_NAME([db].[grantor_principal_id])  <> N'#'\r\n\t\tAND USER_NAME([db].[grantee_principal_id])  <> N'#'\r\n        AND ([dp].[owning_principal_id] IS NULL OR USER_NAME([dp].[owning_principal_id]) <> N'#')\r\n        AND ([dp2].[owning_principal_id] IS NULL OR USER_NAME([dp2].[owning_principal_id]) <> N'#')) AS [_results] WHERE ([_results].[ObjectType] IN ( CAST(N'#' AS NVarChar(-1)) )) AND [TypeId] = -1\r\n ORDER BY TypeId,GranteeId,GrantorId,MajorId,PermissionStateOrder,MinorId,PermissionCode,PermissionState ;",
                    "2": "132500",
                    "3": "125000",
                    "4": "140000"
                },
                {
                    "0": "24",
                    "1": "SELECT * FROM (\r\nSELECT\r\n        [db].[class] AS [TypeId],\r\n        [so].[is_ms_shipped] AS [IsMsShipped],\r\n        [db].[major_id] AS [MajorId],\r\n        [db].[minor_id] AS [MinorId],\r\n        [so].[type] AS [ObjectType],\r\n        [db].[grantee_principal_id] AS [GranteeId],\r\n        USER_NAME([db].[grantee_principal_id]) AS [GranteeName],\r\n        [db].[grantor_principal_id] AS [GrantorId],\r\n        CONVERT(BIT, -1) AS [ScriptGrantor],\r\n        USER_NAME([db].[grantor_principal_id]) AS [GrantorName],\r\n        [db].[type] AS [PermissionCode],\r\n        [db].[permission_name] AS [PermissionType],\r\n        [db].[state] AS [PermissionState],\r\n        CASE [db].[state]\r\n        WHEN N'#' THEN -1 ELSE -1 END AS [PermissionStateOrder],\r\n        SCHEMA_NAME([so].[schema_id]) AS [Level0Name],\r\n        [so].[name] AS [Level1Name],\r\n        [sc].[name] AS [Level2Name],\r\n        ISNULL((SELECT TOP -1 -1 FROM [sys].[database_permissions] [p] WITH (NOLOCK) WHERE\r\n             [p].[major_id] = [db].[major_id]\r\n            AND [p].[minor_id] = -1\r\n            AND [p].[permission_name] = [db].[permission_name]\r\n            AND [p].[state] = N'#'\r\n            AND [db].[state] = N'#'\r\n            AND [db].[minor_id] <> -1\r\n            AND [p].[class] =  [db].[class]\r\n            AND [p].[grantee_principal_id] = [db].[grantee_principal_id]\r\n            AND [p].[grantor_principal_id] = [db].[grantor_principal_id]), -1) AS [IsRevokeWithGrantOption]\r\nFROM\r\n        [sys].[database_permissions] [db] WITH (NOLOCK)\r\n        INNER JOIN [sys].[objects] [so] WITH (NOLOCK) ON [so].[object_id] = [db].[major_id]\r\n        INNER JOIN [sys].[columns] [sc] WITH (NOLOCK) ON [sc].[object_id] = [db].[major_id] AND [sc].[column_id] = [db].[minor_id]\r\n        INNER JOIN [sys].[database_principals] [dp] WITH (NOLOCK) ON [dp].[principal_id] = [db].[grantor_principal_id]\r\n        INNER JOIN [sys].[database_principals] [dp2] WITH (NOLOCK) ON [dp2].[principal_id] = [db].[grantee_principal_id] \r\nWHERE\r\n        [db].[class] = -1\r\n        AND [so].[object_id] NOT IN (SELECT [major_id] FROM [sys].[extended_properties] WITH (NOLOCK) WHERE [minor_id] = -1 AND [class] = -1 AND [name] = N'#')\r\n        AND OBJECTPROPERTY([so].[object_id], N'#') = -1\r\n        AND [db].[grantee_principal_id] <> [db].[grantor_principal_id]\r\n        AND USER_NAME([db].[grantor_principal_id])  <> N'#'\r\n\t\tAND USER_NAME([db].[grantee_principal_id])  <> N'#'\r\n        AND ([dp].[owning_principal_id] IS NULL OR USER_NAME([dp].[owning_principal_id]) <> N'#')\r\n        AND ([dp2].[owning_principal_id] IS NULL OR USER_NAME([dp2].[owning_principal_id]) <> N'#')) AS [_results] WHERE ([_results].[ObjectType] IN ( CAST(N'#' AS NVarChar(-1)) )) AND [TypeId] = -1\r\n ORDER BY TypeId,GranteeId,GrantorId,MajorId,PermissionStateOrder,MinorId,PermissionCode,PermissionState ;",
                    "2": "140000",
                    "3": "140000",
                    "4": "140000"
                },
                {
                    "0": "47",
                    "1": "SELECT\nSCHEMA_NAME(tbl.schema_id) AS [Schema],\ntbl.name AS [Name],\ntbl.object_id AS [ID]\nFROM\nsys.tables AS tbl\nORDER BY\n[Schema] ASC,[Name] ASC",
                    "2": "31000",
                    "3": "31000",
                    "4": "31000"
                },
                {
                    "0": "47",
                    "1": "SELECT\nSCHEMA_NAME(tbl.schema_id) AS [Schema],\ntbl.name AS [Name],\ntbl.object_id AS [ID]\nFROM\nsys.tables AS tbl\nORDER BY\n[Schema] ASC,[Name] ASC",
                    "2": "0",
                    "3": "0",
                    "4": "0"
                },
                {
                    "0": "93",
                    "1": "-- ####\r\nselect * from sys.dm_pdw_errors-- ####",
                    "2": "218000",
                    "3": "218000",
                    "4": "218000"
                },
                {
                    "0": "18",
                    "1": "select SERVERPROPERTY('#')",
                    "2": "15000",
                    "3": "15000",
                    "4": "15000"
                },
                {
                    "0": "18",
                    "1": "select SERVERPROPERTY('#')",
                    "2": "0",
                    "3": "0",
                    "4": "0"
                },
                {
                    "0": "30",
                    "1": "SELECT name,is_query_store_on,is_auto_create_stats_on,is_result_set_caching_on FROM sys.databases",
                    "2": "296000",
                    "3": "296000",
                    "4": "296000"
                },
                {
                    "0": "30",
                    "1": "SELECT name,is_query_store_on,is_auto_create_stats_on,is_result_set_caching_on FROM sys.databases",
                    "2": "62000",
                    "3": "62000",
                    "4": "62000"
                },
                {
                    "0": "84",
                    "1": "-- ####\r\nSELECT * FROM dbo.TableOLS;",
                    "2": "93000",
                    "3": "93000",
                    "4": "93000"
                },
                {
                    "0": "10",
                    "1": "SELECT CURRENT_USER",
                    "2": "6000",
                    "3": "0",
                    "4": "15000"
                },
                {
                    "0": "10",
                    "1": "SELECT CURRENT_USER",
                    "2": "0",
                    "3": "0",
                    "4": "0"
                },
                {
                    "0": "61",
                    "1": "-- ####\r\nselect * from sys.dm_pdw_errors where error_id like '#'",
                    "2": "78000",
                    "3": "78000",
                    "4": "78000"
                },
                {
                    "0": "41",
                    "1": "SELECT\nrl.name AS [Name]\nFROM\nsys.database_principals AS rl\nWHERE\n(rl.type = '#')\nORDER BY\n[Name] ASC",
                    "2": "15000",
                    "3": "15000",
                    "4": "15000"
                },
                {
                    "0": "41",
                    "1": "SELECT\nrl.name AS [Name]\nFROM\nsys.database_principals AS rl\nWHERE\n(rl.type = '#')\nORDER BY\n[Name] ASC",
                    "2": "3750",
                    "3": "0",
                    "4": "15000"
                },
                {
                    "0": "90",
                    "1": "SELECT * FROM sys.dm_pdw_dms_workers \r\nwhere request_id = '#'\r\nAND step_index = -1",
                    "2": "9375000",
                    "3": "9250000",
                    "4": "9500000"
                },
                {
                    "0": "4",
                    "1": "select \r\n    perms.class as class,\r\n    objectpropertyex(perms.major_id, '#') as type,\r\n    perms.major_id as majorid,\r\n    perms.minor_id as minorid,\r\n    perms.type + perms.state as name,\r\n    perms.grantee_principal_id as id1,\r\n    perms.grantor_principal_id as id2\r\nfrom sys.database_permissions perms\r\nwhere\r\n    perms.major_id >= -1\r\n\r\nunion\r\n\r\nselect \r\n    cast(-1 as tinyint) as class,\r\n    '#' as type,\r\n    roles.role_principal_id as majorid,\r\n    roles.member_principal_id as minorid,\r\n    '#' as name,\r\n    null as id1,\r\n    null as id2\r\nfrom sys.database_role_members roles",
                    "2": "5555.555555555556",
                    "3": "0",
                    "4": "15000"
                },
                {
                    "0": "4",
                    "1": "select \r\n    perms.class as class,\r\n    objectpropertyex(perms.major_id, '#') as type,\r\n    perms.major_id as majorid,\r\n    perms.minor_id as minorid,\r\n    perms.type + perms.state as name,\r\n    perms.grantee_principal_id as id1,\r\n    perms.grantor_principal_id as id2\r\nfrom sys.database_permissions perms\r\nwhere\r\n    perms.major_id >= -1\r\n\r\nunion\r\n\r\nselect \r\n    cast(-1 as tinyint) as class,\r\n    '#' as type,\r\n    roles.role_principal_id as majorid,\r\n    roles.member_principal_id as minorid,\r\n    '#' as name,\r\n    null as id1,\r\n    null as id2\r\nfrom sys.database_role_members roles",
                    "2": "8437.5",
                    "3": "0",
                    "4": "15000"
                },
                {
                    "0": "96",
                    "1": "SELECT\nclmns.column_id AS [ID],\nclmns.name AS [Name],\nclmns.is_ansi_padded AS [AnsiPaddingStatus],\nISNULL(clmns.collation_name, N'#') AS [Collation],\nclmns.is_computed AS [Computed],\nISNULL(cc.definition,N'#') AS [ComputedText],\ns1clmns.name AS [DataTypeSchema],\n(case when clmns.default_object_id = -1 then N'#' when d.parent_object_id > -1 then N'#' else d.name end) AS [Default],\nISNULL(dc.Name, N'#') AS [DefaultConstraintName],\n(case when clmns.default_object_id = -1 then N'#' when d.parent_object_id > -1 then N'#' else schema_name(d.schema_id) end) AS [DefaultSchema],\n\r\n        CASE\r\n          WHEN cdp.distribution_ordinal IS NOT NULL AND cdp.distribution_ordinal > -1 THEN ISNULL(clmns.name, N'#')\r\n          ELSE N'#'\r\n        END\r\n       AS [DistributionColumnName],\nclmns.generated_always_type AS [GeneratedAlwaysType],\nclmns.is_identity AS [Identity],\nCAST(ISNULL(ic.seed_value,-1) AS numeric(-1)) AS [IdentitySeedAsDecimal],\nCAST(ISNULL(ic.increment_value,-1) AS numeric(-1)) AS [IdentityIncrementAsDecimal],\nCAST(\r\n        CASE\r\n        WHEN [sc].[label] IS NOT NULL or [sc].[label_id] IS NOT NULL or [sc].[information_type] IS NOT NULL or [sc].[information_type_id] IS NOT NULL or [sc].[rank] IS NOT NULL THEN -1\r\n        ELSE -1\r\n        END\r\n       AS bit) AS [IsClassified],\nCAST(clmns.is_column_set AS bit) AS [IsColumnSet],\nCAST(\r\n        CASE\r\n          WHEN cdp.distribution_ordinal IS NOT NULL AND cdp.distribution_ordinal > -1 THEN N'#'\r\n          ELSE N'#'\r\n        END\r\n       AS bit) AS [IsDistributedColumn],\nCAST(clmns.is_filestream AS bit) AS [IsFileStream],\nCAST(ISNULL((select TOP -1 -1 from sys.foreign_key_columns AS colfk where colfk.parent_column_id = clmns.column_id and colfk.parent_object_id = clmns.object_id), -1) AS bit) AS [IsForeignKey],\nCAST(clmns.is_masked AS bit) AS [IsMasked],\nCAST(ISNULL(cc.is_persisted, -1) AS bit) AS [IsPersisted],\nCAST(clmns.is_sparse AS bit) AS [IsSparse],\nCAST(CASE WHEN baset.name IN (N'#', N'#') AND clmns.max_length <> --1 THEN clmns.max_length/-1 ELSE clmns.max_length END AS int) AS [Length],\nISNULL((SELECT ms.masking_function FROM sys.masked_columns ms WHERE ms.object_id = clmns.object_id AND ms.column_id = clmns.column_id), N'#') AS [MaskingFunction],\nISNULL(ic.is_not_for_replication, -1) AS [NotForReplication],\nclmns.is_nullable AS [Nullable],\nCAST(clmns.scale AS int) AS [NumericScale],\nCAST(clmns.precision AS int) AS [NumericPrecision],\nCAST(clmns.is_rowguidcol AS bit) AS [RowGuidCol],\n(case when clmns.rule_object_id = -1 then N'#' else r.name end) AS [Rule],\n(case when clmns.rule_object_id = -1 then N'#' else schema_name(r.schema_id) end) AS [RuleSchema],\nISNULL([sc].[label_id], N'#') AS [SensitivityLabelId],\nISNULL([sc].[label], N'#') AS [SensitivityLabelName],\nISNULL([sc].[information_type_id], N'#') AS [SensitivityInformationTypeId],\nISNULL([sc].[information_type], N'#') AS [SensitivityInformationTypeName],\nISNULL([sc].[rank], --1) AS [SensitivityRank],\nISNULL(baset.name, N'#') AS [SystemType],\nusrt.name AS [DataType]\nFROM\nsys.all_views AS v\nINNER JOIN sys.all_columns AS clmns ON clmns.object_id=v.object_id\nLEFT OUTER JOIN sys.computed_columns AS cc ON cc.object_id = clmns.object_id and cc.column_id = clmns.column_id\nLEFT OUTER JOIN sys.types AS usrt ON usrt.user_type_id = clmns.user_type_id\nLEFT OUTER JOIN sys.schemas AS s1clmns ON s1clmns.schema_id = usrt.schema_id\nLEFT OUTER JOIN sys.objects AS d ON d.object_id = clmns.default_object_id\nLEFT OUTER JOIN sys.default_constraints as dc ON clmns.default_object_id = dc.object_id\nLEFT OUTER JOIN sys.pdw_column_distribution_properties as cdp ON cdp.object_id = clmns.object_id and cdp.column_id = clmns.column_id\nLEFT OUTER JOIN sys.identity_columns AS ic ON ic.object_id = clmns.object_id and ic.column_id = clmns.column_id\nLEFT OUTER JOIN sys.sensitivity_classifications AS sc ON sc.major_id = clmns.object_id and sc.minor_id = clmns.column_id\nLEFT OUTER JOIN sys.types AS baset ON (baset.user_type_id = clmns.system_type_id and baset.user_type_id = baset.system_type_id) or ((baset.system_type_id = clmns.system_type_id) and (baset.user_type_id = clmns.user_type_id) and (baset.is_user_defined = -1) and (baset.is_assembly_type = -1)) \nLEFT OUTER JOIN sys.objects AS r ON r.object_id = clmns.rule_object_id\nWHERE\n(v.type =  CAST(N'#' AS NVarChar(-1)) )and(v.name= CAST(N'#' AS NVarChar(-1))  and SCHEMA_NAME(v.schema_id)= CAST(N'#' AS NVarChar(-1)) )\nORDER BY\n[ID] ASC",
                    "2": "484000",
                    "3": "468000",
                    "4": "500000"
                },
                {
                    "0": "65",
                    "1": "SELECT A.PassengerCount,\r\n\r\n      SUM(A.TripDistanceMiles+B.TripDistanceMiles) as SumTripDistance,\r\n\r\n      AVG(A.TripDistanceMiles+B.TripDistanceMiles) as AvgTripDistance\r\n\r\nFROM  dbo.Trip A, dbo.Trip B \r\n\r\nWHERE A.TripDistanceMiles > -1 AND A.PassengerCount > -1\r\n\r\nGROUP BY A.PassengerCount\r\n\r\nORDER BY A.PassengerCount",
                    "2": "276578000",
                    "3": "276578000",
                    "4": "276578000"
                },
                {
                    "0": "65",
                    "1": "SELECT A.PassengerCount,\r\n\r\n      SUM(A.TripDistanceMiles+B.TripDistanceMiles) as SumTripDistance,\r\n\r\n      AVG(A.TripDistanceMiles+B.TripDistanceMiles) as AvgTripDistance\r\n\r\nFROM  dbo.Trip A, dbo.Trip B \r\n\r\nWHERE A.TripDistanceMiles > -1 AND A.PassengerCount > -1\r\n\r\nGROUP BY A.PassengerCount\r\n\r\nORDER BY A.PassengerCount",
                    "2": "96031000",
                    "3": "96031000",
                    "4": "96031000"
                },
                {
                    "0": "65",
                    "1": "SELECT A.PassengerCount,\r\n\r\n      SUM(A.TripDistanceMiles+B.TripDistanceMiles) as SumTripDistance,\r\n\r\n      AVG(A.TripDistanceMiles+B.TripDistanceMiles) as AvgTripDistance\r\n\r\nFROM  dbo.Trip A, dbo.Trip B \r\n\r\nWHERE A.TripDistanceMiles > -1 AND A.PassengerCount > -1\r\n\r\nGROUP BY A.PassengerCount\r\n\r\nORDER BY A.PassengerCount",
                    "2": "415874000",
                    "3": "415874000",
                    "4": "415874000"
                },
                {
                    "0": "79",
                    "1": "SELECT\nCAST(ISNULL(ic.seed_value,-1) AS bigint) AS [IdentitySeed]\nFROM\nsys.tables AS tbl\nINNER JOIN sys.all_columns AS clmns ON clmns.object_id=tbl.object_id\nLEFT OUTER JOIN sys.identity_columns AS ic ON ic.object_id = clmns.object_id and ic.column_id = clmns.column_id\nWHERE\n(clmns.name= CAST(N'#' AS NVarChar(-1)) )and((tbl.name= CAST(N'#' AS NVarChar(-1))  and SCHEMA_NAME(tbl.schema_id)= CAST(N'#' AS NVarChar(-1)) ))",
                    "2": "93000",
                    "3": "93000",
                    "4": "93000"
                },
                {
                    "0": "19",
                    "1": "select @@spid;",
                    "2": "5000",
                    "3": "0",
                    "4": "15000"
                },
                {
                    "0": "19",
                    "1": "select @@spid;",
                    "2": "15000",
                    "3": "15000",
                    "4": "15000"
                },
                {
                    "0": "19",
                    "1": "select @@spid;",
                    "2": "5000",
                    "3": "0",
                    "4": "15000"
                },
                {
                    "0": "19",
                    "1": "select @@spid;",
                    "2": "0",
                    "3": "0",
                    "4": "0"
                },
                {
                    "0": "73",
                    "1": "SELECT\r\n      -- ####\r\n        t.query_sql_text       [command]\r\n       , rs.avg_duration        [avg_duration]\r\n       , rs.min_duration        [min_duration]\r\n       , rs.max_duration        [max_duration]\r\nFROM\r\n       sys.query_store_query q\r\n       JOIN sys.query_store_query_text t ON q.query_text_id = t.query_text_id\r\n       JOIN sys.query_store_plan p ON p.query_id = q.query_id\r\nJOIN sys.query_store_runtime_stats rs ON rs.plan_id = p.plan_id",
                    "2": "31000",
                    "3": "31000",
                    "4": "31000"
                },
                {
                    "0": "25",
                    "1": "SELECT * FROM (SELECT  [dp].[principal_id]          AS [ObjectId],\r\n        [dp].[name]                  AS [Name],\r\n        [dp].[type]                  AS [Type],\r\n        NULL                         AS [LoginName],\r\n        NULL                         AS [CertificateId],\r\n        NULL                         AS [CertificateName],\r\n        NULL                         AS [AsymmetricKeyId],\r\n        NULL                         AS [AsymmetricKeyName],\r\n        [dp].[default_schema_name]   AS [DefaultSchemaName],       \r\n        [dp].[authentication_type]   AS [AuthenticationType],\r\n        [dp].[default_language_name] AS [DefaultLanguage],\r\n        [dp].[sid]                   AS [Sid]         \r\nFROM    [sys].[database_principals] AS [dp] WITH (NOLOCK)\r\nWHERE   CHARINDEX([dp].[type], N'#') > -1\r\nAND     [dp].[name] != N'#') AS [_results] WHERE ((([_results].[Name] =  CAST(N'#' AS NVarChar(-1)) )));",
                    "2": "15000",
                    "3": "15000",
                    "4": "15000"
                },
                {
                    "0": "36",
                    "1": "SELECT @@SPID;",
                    "2": "15000",
                    "3": "15000",
                    "4": "15000"
                },
                {
                    "0": "36",
                    "1": "SELECT @@SPID;",
                    "2": "5000",
                    "3": "0",
                    "4": "15000"
                },
                {
                    "0": "36",
                    "1": "SELECT @@SPID;",
                    "2": "5000",
                    "3": "0",
                    "4": "15000"
                },
                {
                    "0": "85",
                    "1": "SELECT FirstName, LastName, Username\r\nFROM dbo.TableOLS",
                    "2": "93500",
                    "3": "78000",
                    "4": "109000"
                },
                {
                    "0": "13",
                    "1": "SELECT CAST(ISNULL(DATABASEPROPERTYEX(DB_NAME(), N'#'), -1) AS BIT)",
                    "2": "7500",
                    "3": "0",
                    "4": "15000"
                },
                {
                    "0": "13",
                    "1": "SELECT CAST(ISNULL(DATABASEPROPERTYEX(DB_NAME(), N'#'), -1) AS BIT)",
                    "2": "0",
                    "3": "0",
                    "4": "0"
                },
                {
                    "0": "62",
                    "1": "-- ####\r\nSELECT TOP -1\r\n\t\tS.session_id\r\n\t\t,S.login_name\r\n\t\t,S.client_id\r\n\t\t,S.app_name\r\n\t\t,R.request_id\r\n\t\t,R.command request_command\r\n\t\t,R.[label]\r\n\t\t,COUNT(ST.request_id) steps_with_movement\r\n\t\t,SUM(ST.row_count) total_rows_moved\r\n\t\t,SUM(ST.total_elapsed_time) total_elapsed_dms_time\r\n\t\t,SUM(R.total_elapsed_time) total_elapsed_request_time\r\n\t\t,(SUM(ST.total_elapsed_time)*-1.0)/SUM(R.total_elapsed_time) dms_time_percentage\r\nFROM sys.dm_pdw_exec_requests R\r\n\tINNER JOIN sys.dm_pdw_request_steps ST\r\n\t\tON R.request_id = ST.request_id\r\n\tINNER JOIN sys.dm_pdw_exec_sessions S\r\n\t\tON R.session_id = S.session_id\r\nWHERE (ST.location_type = '#'\r\n\tOR ST.operation_type like '#')\r\n\tAND R.status = '#'\r\nGROUP BY \r\n\t\tS.session_id\r\n\t\t,S.login_name\r\n\t\t,S.client_id\r\n\t\t,S.app_name\r\n\t\t,R.request_id\r\n\t\t,R.command\r\n\t\t,R.[label]\r\nHAVING SUM(ST.row_count) > -1\r\nORDER BY dms_time_percentage DESC\r\n\t\t,total_rows_moved DESC",
                    "2": "8840000",
                    "3": "234000",
                    "4": "21515000"
                },
                {
                    "0": "62",
                    "1": "-- ####\r\nSELECT TOP -1\r\n\t\tS.session_id\r\n\t\t,S.login_name\r\n\t\t,S.client_id\r\n\t\t,S.app_name\r\n\t\t,R.request_id\r\n\t\t,R.command request_command\r\n\t\t,R.[label]\r\n\t\t,COUNT(ST.request_id) steps_with_movement\r\n\t\t,SUM(ST.row_count) total_rows_moved\r\n\t\t,SUM(ST.total_elapsed_time) total_elapsed_dms_time\r\n\t\t,SUM(R.total_elapsed_time) total_elapsed_request_time\r\n\t\t,(SUM(ST.total_elapsed_time)*-1.0)/SUM(R.total_elapsed_time) dms_time_percentage\r\nFROM sys.dm_pdw_exec_requests R\r\n\tINNER JOIN sys.dm_pdw_request_steps ST\r\n\t\tON R.request_id = ST.request_id\r\n\tINNER JOIN sys.dm_pdw_exec_sessions S\r\n\t\tON R.session_id = S.session_id\r\nWHERE (ST.location_type = '#'\r\n\tOR ST.operation_type like '#')\r\n\tAND R.status = '#'\r\nGROUP BY \r\n\t\tS.session_id\r\n\t\t,S.login_name\r\n\t\t,S.client_id\r\n\t\t,S.app_name\r\n\t\t,R.request_id\r\n\t\t,R.command\r\n\t\t,R.[label]\r\nHAVING SUM(ST.row_count) > -1\r\nORDER BY dms_time_percentage DESC\r\n\t\t,total_rows_moved DESC",
                    "2": "1353666.6666666667",
                    "3": "203000",
                    "4": "1937000"
                },
                {
                    "0": "62",
                    "1": "-- ####\r\nSELECT TOP -1\r\n\t\tS.session_id\r\n\t\t,S.login_name\r\n\t\t,S.client_id\r\n\t\t,S.app_name\r\n\t\t,R.request_id\r\n\t\t,R.command request_command\r\n\t\t,R.[label]\r\n\t\t,COUNT(ST.request_id) steps_with_movement\r\n\t\t,SUM(ST.row_count) total_rows_moved\r\n\t\t,SUM(ST.total_elapsed_time) total_elapsed_dms_time\r\n\t\t,SUM(R.total_elapsed_time) total_elapsed_request_time\r\n\t\t,(SUM(ST.total_elapsed_time)*-1.0)/SUM(R.total_elapsed_time) dms_time_percentage\r\nFROM sys.dm_pdw_exec_requests R\r\n\tINNER JOIN sys.dm_pdw_request_steps ST\r\n\t\tON R.request_id = ST.request_id\r\n\tINNER JOIN sys.dm_pdw_exec_sessions S\r\n\t\tON R.session_id = S.session_id\r\nWHERE (ST.location_type = '#'\r\n\tOR ST.operation_type like '#')\r\n\tAND R.status = '#'\r\nGROUP BY \r\n\t\tS.session_id\r\n\t\t,S.login_name\r\n\t\t,S.client_id\r\n\t\t,S.app_name\r\n\t\t,R.request_id\r\n\t\t,R.command\r\n\t\t,R.[label]\r\nHAVING SUM(ST.row_count) > -1\r\nORDER BY dms_time_percentage DESC\r\n\t\t,total_rows_moved DESC",
                    "2": "2244333.3333333335",
                    "3": "2109000",
                    "4": "2406000"
                },
                {
                    "0": "42",
                    "1": "SELECT\n(@@microsoftversion / N'0xF') & N'0xF' AS [VersionMajor]",
                    "2": "0",
                    "3": "0",
                    "4": "0"
                },
                {
                    "0": "42",
                    "1": "SELECT\n(@@microsoftversion / N'0xF') & N'0xF' AS [VersionMajor]",
                    "2": "15000",
                    "3": "15000",
                    "4": "15000"
                },
                {
                    "0": "5",
                    "1": "select \r\n    cols.object_id as tableid,\r\n    cols.column_id as columnid, \r\n    binary_checksum(cols.name) as checksum\r\nfrom sys.tables tabs \r\n    inner join sys.columns cols  on (tabs.object_id = cols.object_id)\r\n    inner join sys.index_columns idx_cols on (idx_cols.object_id = tabs.object_id and idx_cols.column_id = cols.column_id)\r\nwhere\r\n    tabs.is_ms_shipped = -1",
                    "2": "11814.814814814816",
                    "3": "0",
                    "4": "109000"
                },
                {
                    "0": "5",
                    "1": "select \r\n    cols.object_id as tableid,\r\n    cols.column_id as columnid, \r\n    binary_checksum(cols.name) as checksum\r\nfrom sys.tables tabs \r\n    inner join sys.columns cols  on (tabs.object_id = cols.object_id)\r\n    inner join sys.index_columns idx_cols on (idx_cols.object_id = tabs.object_id and idx_cols.column_id = cols.column_id)\r\nwhere\r\n    tabs.is_ms_shipped = -1",
                    "2": "10500",
                    "3": "0",
                    "4": "93000"
                },
                {
                    "0": "56",
                    "1": "SELECT C.client_id\r\n\t\t,S.login_name\r\n\t\t,S.app_name\r\n\t\t,R.session_id\r\n\t\t,R.request_id\r\n\t\t,R.status\r\n\t\t,R.submit_time\r\n\t\t,R.start_time\r\n\t\t,R.end_compile_time\r\n\t\t,R.end_time\r\n\t\t,R.total_elapsed_time\r\n\t\t,R.Command\r\n\t\t,R.importance\r\n\t\t,R.resource_class\r\nFROM sys.dm_pdw_exec_requests R\r\n\tINNER JOIN sys.dm_pdw_exec_sessions S\r\n\t\tON S.session_id = R.session_id\r\n\tINNER JOIN sys.dm_pdw_exec_connections C\r\n\t\tON c.session_id = S.session_id\r\nWHERE R.status = '#'",
                    "2": "234000",
                    "3": "234000",
                    "4": "234000"
                },
                {
                    "0": "56",
                    "1": "SELECT C.client_id\r\n\t\t,S.login_name\r\n\t\t,S.app_name\r\n\t\t,R.session_id\r\n\t\t,R.request_id\r\n\t\t,R.status\r\n\t\t,R.submit_time\r\n\t\t,R.start_time\r\n\t\t,R.end_compile_time\r\n\t\t,R.end_time\r\n\t\t,R.total_elapsed_time\r\n\t\t,R.Command\r\n\t\t,R.importance\r\n\t\t,R.resource_class\r\nFROM sys.dm_pdw_exec_requests R\r\n\tINNER JOIN sys.dm_pdw_exec_sessions S\r\n\t\tON S.session_id = R.session_id\r\n\tINNER JOIN sys.dm_pdw_exec_connections C\r\n\t\tON c.session_id = S.session_id\r\nWHERE R.status = '#'",
                    "2": "2093000",
                    "3": "2093000",
                    "4": "2093000"
                },
                {
                    "0": "22",
                    "1": "SELECT * FROM (\r\nSELECT  [db].[class] AS [TypeId],\r\n        [db].[major_id] AS [MajorId],\r\n        [db].[minor_id] AS [MinorId],\r\n        NULL AS [ObjectType],\r\n        CONVERT(bit, -1) AS [IsMsShipped],\r\n        [db].[grantee_principal_id] AS [GranteeId],\r\n        USER_NAME([db].[grantee_principal_id]) AS [GranteeName],\r\n        [db].[grantor_principal_id] AS [GrantorId],\r\n        CONVERT(BIT, CASE WHEN ([dp].[owning_principal_id] IS NULL OR [dp].[owning_principal_id] <> [db].[grantor_principal_id]) AND ([dp].[is_fixed_role] <> -1 AND [dp].[principal_id] <> -1) THEN -1 ELSE -1 END) AS [ScriptGrantor],\r\n        USER_NAME([db].[grantor_principal_id]) AS [GrantorName],\r\n        [db].[type] AS [PermissionCode],\r\n        [db].[permission_name] AS [PermissionType],\r\n        [db].[state] AS [PermissionState],\r\n        CASE [db].[class]\r\n            WHEN  -1 THEN NULL\r\n            WHEN  -1 THEN SCHEMA_NAME([db].[major_id])\r\n            WHEN  -1 THEN USER_NAME([db].[major_id])\r\n            \r\n        END AS [Level0Name],  \r\n        NULL AS [Level1Name],\r\n        NULL AS [Level2Name],\r\n        [dp].[type] AS [DataBasePrincipalType]\r\nFROM\r\n        [sys].[database_permissions] [db] WITH (NOLOCK)\r\n        LEFT JOIN [sys].[database_principals] as [dp] WITH (NOLOCK) ON [db].[major_id] = [dp].[principal_id] AND [db].[class] = -1\r\n        INNER JOIN [sys].[database_principals] [dp2] WITH (NOLOCK) ON [dp2].[principal_id] = [db].[grantor_principal_id]\r\n        INNER JOIN [sys].[database_principals] [dp3] WITH (NOLOCK) ON [dp3].[principal_id] = [db].[grantee_principal_id]\r\nWHERE\r\n        [db].[class] <> -1\r\n        AND [db].[state] <> N'#'\r\n        AND [db].[grantee_principal_id] <> [db].[grantor_principal_id]\r\n        AND USER_NAME([db].[grantor_principal_id]) <> N'#'\r\n        AND USER_NAME([db].[grantee_principal_id]) <> N'#'\r\n        AND ([dp2].[owning_principal_id] IS NULL OR USER_NAME([dp2].[owning_principal_id]) <> N'#')\r\n        AND ([dp3].[owning_principal_id] IS NULL OR USER_NAME([dp3].[owning_principal_id]) <> N'#')\r\n        AND USER_NAME([db].[grantor_principal_id]) <> N'#'\r\n        AND USER_NAME([db].[grantee_principal_id]) <> N'#'\r\n        AND ([dp2].[owning_principal_id] IS NULL OR USER_NAME([dp2].[owning_principal_id]) <> N'#')\r\n        AND ([dp3].[owning_principal_id] IS NULL OR USER_NAME([dp3].[owning_principal_id]) <> N'#')\r\n        AND NOT (\r\n        [db].[class] = -1 AND [db].[class_desc] = N'#' AND [db].[major_id] = -1 AND [db].[minor_id] = -1 AND [db].[state] = '#')) AS [_results] WHERE [TypeId] = -1\r\n ORDER BY TypeId,GranteeId,GrantorId,MajorId,MinorId,PermissionCode,PermissionState ;",
                    "2": "19000",
                    "3": "15000",
                    "4": "31000"
                },
                {
                    "0": "22",
                    "1": "SELECT * FROM (\r\nSELECT  [db].[class] AS [TypeId],\r\n        [db].[major_id] AS [MajorId],\r\n        [db].[minor_id] AS [MinorId],\r\n        NULL AS [ObjectType],\r\n        CONVERT(bit, -1) AS [IsMsShipped],\r\n        [db].[grantee_principal_id] AS [GranteeId],\r\n        USER_NAME([db].[grantee_principal_id]) AS [GranteeName],\r\n        [db].[grantor_principal_id] AS [GrantorId],\r\n        CONVERT(BIT, CASE WHEN ([dp].[owning_principal_id] IS NULL OR [dp].[owning_principal_id] <> [db].[grantor_principal_id]) AND ([dp].[is_fixed_role] <> -1 AND [dp].[principal_id] <> -1) THEN -1 ELSE -1 END) AS [ScriptGrantor],\r\n        USER_NAME([db].[grantor_principal_id]) AS [GrantorName],\r\n        [db].[type] AS [PermissionCode],\r\n        [db].[permission_name] AS [PermissionType],\r\n        [db].[state] AS [PermissionState],\r\n        CASE [db].[class]\r\n            WHEN  -1 THEN NULL\r\n            WHEN  -1 THEN SCHEMA_NAME([db].[major_id])\r\n            WHEN  -1 THEN USER_NAME([db].[major_id])\r\n            \r\n        END AS [Level0Name],  \r\n        NULL AS [Level1Name],\r\n        NULL AS [Level2Name],\r\n        [dp].[type] AS [DataBasePrincipalType]\r\nFROM\r\n        [sys].[database_permissions] [db] WITH (NOLOCK)\r\n        LEFT JOIN [sys].[database_principals] as [dp] WITH (NOLOCK) ON [db].[major_id] = [dp].[principal_id] AND [db].[class] = -1\r\n        INNER JOIN [sys].[database_principals] [dp2] WITH (NOLOCK) ON [dp2].[principal_id] = [db].[grantor_principal_id]\r\n        INNER JOIN [sys].[database_principals] [dp3] WITH (NOLOCK) ON [dp3].[principal_id] = [db].[grantee_principal_id]\r\nWHERE\r\n        [db].[class] <> -1\r\n        AND [db].[state] <> N'#'\r\n        AND [db].[grantee_principal_id] <> [db].[grantor_principal_id]\r\n        AND USER_NAME([db].[grantor_principal_id]) <> N'#'\r\n        AND USER_NAME([db].[grantee_principal_id]) <> N'#'\r\n        AND ([dp2].[owning_principal_id] IS NULL OR USER_NAME([dp2].[owning_principal_id]) <> N'#')\r\n        AND ([dp3].[owning_principal_id] IS NULL OR USER_NAME([dp3].[owning_principal_id]) <> N'#')\r\n        AND USER_NAME([db].[grantor_principal_id]) <> N'#'\r\n        AND USER_NAME([db].[grantee_principal_id]) <> N'#'\r\n        AND ([dp2].[owning_principal_id] IS NULL OR USER_NAME([dp2].[owning_principal_id]) <> N'#')\r\n        AND ([dp3].[owning_principal_id] IS NULL OR USER_NAME([dp3].[owning_principal_id]) <> N'#')\r\n        AND NOT (\r\n        [db].[class] = -1 AND [db].[class_desc] = N'#' AND [db].[major_id] = -1 AND [db].[minor_id] = -1 AND [db].[state] = '#')) AS [_results] WHERE [TypeId] = -1\r\n ORDER BY TypeId,GranteeId,GrantorId,MajorId,MinorId,PermissionCode,PermissionState ;",
                    "2": "15000",
                    "3": "15000",
                    "4": "15000"
                },
                {
                    "0": "76",
                    "1": "-- ####\r\n/* #### */\r\nWITH step_data AS \r\n(\r\n\tSELECT \r\n\t\tSUM(rows_processed) AS Step_Rows_Processed\r\n\t\t, SUM(Bytes_processed) AS Step_Bytes_Processed\r\n\t\t, request_id\r\n\t\t, step_index\r\n\t\t, status \r\n\t\t, type\r\n\tFROM sys.dm_pdw_dms_workers \r\n\tWHERE status != '#'\r\n\tGroup by \r\n\t\t  request_id\r\n\t\t, step_index\r\n\t\t, status\r\n\t\t, type\r\n) \r\nSELECT \r\n\t step_data.request_id\r\n\t, per.session_id\r\n\t, step_data.Step_rows_processed\r\n\t, step_data.step_bytes_processed\r\n\t, (step_data.Step_Bytes_Processed/-1/-1/-1) AS Step_GB_Processed\r\n\t, step_data.step_index\r\n\t, step_data.type\r\n\t, step_data.status as Step_status\r\n\t, per.status AS QID_Status\r\n\t, per.total_elapsed_time/-1/-1 as '#'\r\n\t, per.command AS '#'\r\n\t, per.resource_class\r\n\t, per.importance\r\nFROM step_data\r\nLEFT JOIN sys.dm_pdw_exec_requests per\r\nON step_data.request_id = per.request_id\r\nWHERE per.status = '#'\r\nORDER BY step_data.Step_rows_processed DESC",
                    "2": "3614333.3333333335",
                    "3": "1656000",
                    "4": "4750000"
                },
                {
                    "0": "76",
                    "1": "-- ####\r\n/* #### */\r\nWITH step_data AS \r\n(\r\n\tSELECT \r\n\t\tSUM(rows_processed) AS Step_Rows_Processed\r\n\t\t, SUM(Bytes_processed) AS Step_Bytes_Processed\r\n\t\t, request_id\r\n\t\t, step_index\r\n\t\t, status \r\n\t\t, type\r\n\tFROM sys.dm_pdw_dms_workers \r\n\tWHERE status != '#'\r\n\tGroup by \r\n\t\t  request_id\r\n\t\t, step_index\r\n\t\t, status\r\n\t\t, type\r\n) \r\nSELECT \r\n\t step_data.request_id\r\n\t, per.session_id\r\n\t, step_data.Step_rows_processed\r\n\t, step_data.step_bytes_processed\r\n\t, (step_data.Step_Bytes_Processed/-1/-1/-1) AS Step_GB_Processed\r\n\t, step_data.step_index\r\n\t, step_data.type\r\n\t, step_data.status as Step_status\r\n\t, per.status AS QID_Status\r\n\t, per.total_elapsed_time/-1/-1 as '#'\r\n\t, per.command AS '#'\r\n\t, per.resource_class\r\n\t, per.importance\r\nFROM step_data\r\nLEFT JOIN sys.dm_pdw_exec_requests per\r\nON step_data.request_id = per.request_id\r\nWHERE per.status = '#'\r\nORDER BY step_data.Step_rows_processed DESC",
                    "2": "5375000",
                    "3": "5375000",
                    "4": "5375000"
                },
                {
                    "0": "59",
                    "1": "SELECT\nCAST(CHARINDEX(N'#', dtb.collation_name) AS bit) AS [CaseSensitive],\ndtb.name AS [DatabaseName2]\nFROM\nsys.databases AS dtb\nWHERE\n(dtb.name= CAST(N'#' AS NVarChar(-1)) )",
                    "2": "50000",
                    "3": "46000",
                    "4": "62000"
                },
                {
                    "0": "59",
                    "1": "SELECT\nCAST(CHARINDEX(N'#', dtb.collation_name) AS bit) AS [CaseSensitive],\ndtb.name AS [DatabaseName2]\nFROM\nsys.databases AS dtb\nWHERE\n(dtb.name= CAST(N'#' AS NVarChar(-1)) )",
                    "2": "46000",
                    "3": "46000",
                    "4": "46000"
                },
                {
                    "0": "59",
                    "1": "SELECT\nCAST(CHARINDEX(N'#', dtb.collation_name) AS bit) AS [CaseSensitive],\ndtb.name AS [DatabaseName2]\nFROM\nsys.databases AS dtb\nWHERE\n(dtb.name= CAST(N'#' AS NVarChar(-1)) )",
                    "2": "167250",
                    "3": "46000",
                    "4": "546000"
                },
                {
                    "0": "82",
                    "1": "SELECT * FROM dbo.DDMExample ;",
                    "2": "112750",
                    "3": "93000",
                    "4": "140000"
                },
                {
                    "0": "39",
                    "1": "SELECT\nCAST(\r\n        serverproperty(N'#')\r\n       AS sysname) AS [Name]",
                    "2": "0",
                    "3": "0",
                    "4": "0"
                },
                {
                    "0": "39",
                    "1": "SELECT\nCAST(\r\n        serverproperty(N'#')\r\n       AS sysname) AS [Name]",
                    "2": "7500",
                    "3": "0",
                    "4": "15000"
                },
                {
                    "0": "16",
                    "1": "SELECT name FROM sys.system_columns WHERE object_id=object_id('#') AND name ='#'",
                    "2": "4500",
                    "3": "0",
                    "4": "15000"
                },
                {
                    "0": "16",
                    "1": "SELECT name FROM sys.system_columns WHERE object_id=object_id('#') AND name ='#'",
                    "2": "0",
                    "3": "0",
                    "4": "0"
                },
                {
                    "0": "88",
                    "1": "SELECT\ns.name AS [Name],\ns.schema_id AS [ID],\nISNULL(dp1.name, N'#') AS [Owner],\nCAST(\r\n      case when s.name in ('#','#','#','#','#','#','#','#','#','#','#','#', '#') then -1 else -1 end AS bit) AS [IsSystemObject]\nFROM\nsys.schemas AS s\nLEFT OUTER JOIN sys.database_principals AS dp1 ON dp1.principal_id = s.principal_id\nWHERE\n(s.name= CAST(N'#' AS NVarChar(-1)) )",
                    "2": "15000",
                    "3": "15000",
                    "4": "15000"
                },
                {
                    "0": "53",
                    "1": "SELECT\nclmns.column_id AS [ID],\nclmns.name AS [Name],\nISNULL(dc.Name, N'#') AS [DefaultConstraintName],\nclmns.is_nullable AS [Nullable],\nCAST(ISNULL(cik.index_column_id, -1) AS bit) AS [InPrimaryKey],\nclmns.is_identity AS [Identity],\nusrt.name AS [DataType],\nISNULL(baset.name, N'#') AS [SystemType],\nCAST(CASE WHEN baset.name IN (N'#', N'#') AND clmns.max_length <> --1 THEN clmns.max_length/-1 ELSE clmns.max_length END AS int) AS [Length],\nCAST(clmns.precision AS int) AS [NumericPrecision],\nCAST(clmns.scale AS int) AS [NumericScale],\ns1clmns.name AS [DataTypeSchema],\nclmns.is_computed AS [Computed]\nFROM\nsys.tables AS tbl\nINNER JOIN sys.all_columns AS clmns ON clmns.object_id=tbl.object_id\nLEFT OUTER JOIN sys.default_constraints as dc ON clmns.default_object_id = dc.object_id\nLEFT OUTER JOIN sys.indexes AS ik ON ik.object_id = clmns.object_id and -1=ik.is_primary_key\nLEFT OUTER JOIN sys.index_columns AS cik ON cik.index_id = ik.index_id and cik.column_id = clmns.column_id and cik.object_id = clmns.object_id and -1 = cik.is_included_column\nLEFT OUTER JOIN sys.types AS usrt ON usrt.user_type_id = clmns.user_type_id\nLEFT OUTER JOIN sys.types AS baset ON (baset.user_type_id = clmns.system_type_id and baset.user_type_id = baset.system_type_id) or ((baset.system_type_id = clmns.system_type_id) and (baset.user_type_id = clmns.user_type_id) and (baset.is_user_defined = -1) and (baset.is_assembly_type = -1)) \nLEFT OUTER JOIN sys.schemas AS s1clmns ON s1clmns.schema_id = usrt.schema_id\nWHERE\n(tbl.name= CAST(N'#' AS NVarChar(-1))  and SCHEMA_NAME(tbl.schema_id)= CAST(N'#' AS NVarChar(-1)) )\nORDER BY\n[ID] ASC",
                    "2": "281000",
                    "3": "281000",
                    "4": "281000"
                },
                {
                    "0": "53",
                    "1": "SELECT\nclmns.column_id AS [ID],\nclmns.name AS [Name],\nISNULL(dc.Name, N'#') AS [DefaultConstraintName],\nclmns.is_nullable AS [Nullable],\nCAST(ISNULL(cik.index_column_id, -1) AS bit) AS [InPrimaryKey],\nclmns.is_identity AS [Identity],\nusrt.name AS [DataType],\nISNULL(baset.name, N'#') AS [SystemType],\nCAST(CASE WHEN baset.name IN (N'#', N'#') AND clmns.max_length <> --1 THEN clmns.max_length/-1 ELSE clmns.max_length END AS int) AS [Length],\nCAST(clmns.precision AS int) AS [NumericPrecision],\nCAST(clmns.scale AS int) AS [NumericScale],\ns1clmns.name AS [DataTypeSchema],\nclmns.is_computed AS [Computed]\nFROM\nsys.tables AS tbl\nINNER JOIN sys.all_columns AS clmns ON clmns.object_id=tbl.object_id\nLEFT OUTER JOIN sys.default_constraints as dc ON clmns.default_object_id = dc.object_id\nLEFT OUTER JOIN sys.indexes AS ik ON ik.object_id = clmns.object_id and -1=ik.is_primary_key\nLEFT OUTER JOIN sys.index_columns AS cik ON cik.index_id = ik.index_id and cik.column_id = clmns.column_id and cik.object_id = clmns.object_id and -1 = cik.is_included_column\nLEFT OUTER JOIN sys.types AS usrt ON usrt.user_type_id = clmns.user_type_id\nLEFT OUTER JOIN sys.types AS baset ON (baset.user_type_id = clmns.system_type_id and baset.user_type_id = baset.system_type_id) or ((baset.system_type_id = clmns.system_type_id) and (baset.user_type_id = clmns.user_type_id) and (baset.is_user_defined = -1) and (baset.is_assembly_type = -1)) \nLEFT OUTER JOIN sys.schemas AS s1clmns ON s1clmns.schema_id = usrt.schema_id\nWHERE\n(tbl.name= CAST(N'#' AS NVarChar(-1))  and SCHEMA_NAME(tbl.schema_id)= CAST(N'#' AS NVarChar(-1)) )\nORDER BY\n[ID] ASC",
                    "2": "249750",
                    "3": "249000",
                    "4": "250000"
                },
                {
                    "0": "45",
                    "1": "SELECT\nu.name AS [Name],\nu.principal_id AS [ID],\nCAST(CASE WHEN u.principal_id < -1 OR u.principal_id = -1 OR u.principal_id = -1 THEN -1 ELSE -1 END AS bit) AS [IsSystemObject],\nCASE WHEN N'#' = u.type THEN -1 WHEN N'#' = u.type THEN -1 WHEN N'#' = u.type THEN -1 WHEN N'#' = u.type THEN -1 WHEN N'#' = u.type THEN -1 WHEN N'#' = u.type THEN -1 WHEN N'#' = u.type THEN -1 END AS [LoginType],\nCAST(CASE dp.state WHEN N'#' THEN -1 WHEN '#' THEN -1 ELSE -1 END AS bit) AS [HasDBAccess],\nu.sid AS [Sid],\nu.create_date AS [CreateDate],\nu.modify_date AS [DateLastModified],\nISNULL(u.default_schema_name,N'#') AS [DefaultSchema],\nISNULL(cert.name,N'#') AS [Certificate],\n\r\n        CASE\r\n        WHEN N'#' = u.type THEN -1\r\n        WHEN N'#' = u.type THEN -1\r\n        WHEN N'#' = u.type AND u.authentication_type != -1 AND u.authentication_type != -1 THEN -1\r\n        WHEN N'#' = u.type or N'#' = u.type THEN -1\r\n        ELSE -1 END\r\n       AS [UserType],\nu.authentication_type AS [AuthenticationType]\nFROM\nsys.database_principals AS u\nLEFT OUTER JOIN sys.database_permissions AS dp ON dp.grantee_principal_id = u.principal_id and dp.type =  CAST(N'#' AS NVarChar(-1)) \nLEFT OUTER JOIN sys.certificates AS cert ON cert.sid = u.sid\nWHERE\n(u.type in ('#', '#', '#', '#', '#' ,'#', '#'))and(u.name= CAST(N'#' AS NVarChar(-1)) )",
                    "2": "31000",
                    "3": "31000",
                    "4": "31000"
                },
                {
                    "0": "45",
                    "1": "SELECT\nu.name AS [Name],\nu.principal_id AS [ID],\nCAST(CASE WHEN u.principal_id < -1 OR u.principal_id = -1 OR u.principal_id = -1 THEN -1 ELSE -1 END AS bit) AS [IsSystemObject],\nCASE WHEN N'#' = u.type THEN -1 WHEN N'#' = u.type THEN -1 WHEN N'#' = u.type THEN -1 WHEN N'#' = u.type THEN -1 WHEN N'#' = u.type THEN -1 WHEN N'#' = u.type THEN -1 WHEN N'#' = u.type THEN -1 END AS [LoginType],\nCAST(CASE dp.state WHEN N'#' THEN -1 WHEN '#' THEN -1 ELSE -1 END AS bit) AS [HasDBAccess],\nu.sid AS [Sid],\nu.create_date AS [CreateDate],\nu.modify_date AS [DateLastModified],\nISNULL(u.default_schema_name,N'#') AS [DefaultSchema],\nISNULL(cert.name,N'#') AS [Certificate],\n\r\n        CASE\r\n        WHEN N'#' = u.type THEN -1\r\n        WHEN N'#' = u.type THEN -1\r\n        WHEN N'#' = u.type AND u.authentication_type != -1 AND u.authentication_type != -1 THEN -1\r\n        WHEN N'#' = u.type or N'#' = u.type THEN -1\r\n        ELSE -1 END\r\n       AS [UserType],\nu.authentication_type AS [AuthenticationType]\nFROM\nsys.database_principals AS u\nLEFT OUTER JOIN sys.database_permissions AS dp ON dp.grantee_principal_id = u.principal_id and dp.type =  CAST(N'#' AS NVarChar(-1)) \nLEFT OUTER JOIN sys.certificates AS cert ON cert.sid = u.sid\nWHERE\n(u.type in ('#', '#', '#', '#', '#' ,'#', '#'))and(u.name= CAST(N'#' AS NVarChar(-1)) )",
                    "2": "10312.5",
                    "3": "0",
                    "4": "15000"
                },
                {
                    "0": "2",
                    "1": "SELECT -1",
                    "2": "0",
                    "3": "0",
                    "4": "0"
                },
                {
                    "0": "2",
                    "1": "SELECT -1",
                    "2": "0",
                    "3": "0",
                    "4": "0"
                },
                {
                    "0": "48",
                    "1": "SELECT\nSCHEMA_NAME(v.schema_id) AS [Schema],\nv.name AS [Name],\nv.object_id AS [ID]\nFROM\nsys.all_views AS v\nWHERE\n(v.type =  CAST(N'#' AS NVarChar(-1)) )\nORDER BY\n[Schema] ASC,[Name] ASC",
                    "2": "203000",
                    "3": "203000",
                    "4": "203000"
                },
                {
                    "0": "48",
                    "1": "SELECT\nSCHEMA_NAME(v.schema_id) AS [Schema],\nv.name AS [Name],\nv.object_id AS [ID]\nFROM\nsys.all_views AS v\nWHERE\n(v.type =  CAST(N'#' AS NVarChar(-1)) )\nORDER BY\n[Schema] ASC,[Name] ASC",
                    "2": "23000",
                    "3": "15000",
                    "4": "31000"
                },
                {
                    "0": "94",
                    "1": "SELECT\nSCHEMA_NAME(v.schema_id) AS [Schema],\nv.name AS [Name],\nv.object_id AS [ID]\nFROM\nsys.all_views AS v\nWHERE\n(v.type =  CAST(N'#' AS NVarChar(-1)) )and(v.name= CAST(N'#' AS NVarChar(-1))  and SCHEMA_NAME(v.schema_id)= CAST(N'#' AS NVarChar(-1)) )",
                    "2": "41000",
                    "3": "15000",
                    "4": "93000"
                },
                {
                    "0": "77",
                    "1": "SELECT * FROM sys.dm_pdw_dms_workers\r\nWHERE request_id = '#'\r\nAND step_index = -1",
                    "2": "1187000",
                    "3": "1187000",
                    "4": "1187000"
                },
                {
                    "0": "77",
                    "1": "SELECT * FROM sys.dm_pdw_dms_workers\r\nWHERE request_id = '#'\r\nAND step_index = -1",
                    "2": "5609000",
                    "3": "5609000",
                    "4": "5609000"
                },
                {
                    "0": "17",
                    "1": "SELECT SERVERPROPERTY('#');",
                    "2": "5333.333333333333",
                    "3": "0",
                    "4": "16000"
                },
                {
                    "0": "17",
                    "1": "SELECT SERVERPROPERTY('#');",
                    "2": "0",
                    "3": "0",
                    "4": "0"
                },
                {
                    "0": "60",
                    "1": "-- ####\r\nselect * from sys.dm_pdw_errors where error_id = '#'",
                    "2": "89500",
                    "3": "62000",
                    "4": "140000"
                },
                {
                    "0": "60",
                    "1": "-- ####\r\nselect * from sys.dm_pdw_errors where error_id = '#'",
                    "2": "197666.66666666666",
                    "3": "187000",
                    "4": "203000"
                },
                {
                    "0": "83",
                    "1": "SELECT * FROM Sales;",
                    "2": "101100",
                    "3": "78000",
                    "4": "171000"
                },
                {
                    "0": "40",
                    "1": "SELECT\ndtb.name AS [Name],\ndtb.database_id AS [ID],\nCAST(case when dtb.name in ('#') then -1 else dtb.is_distributor end AS bit) AS [IsSystemObject],\ndtb.collation_name AS [Collation],\nCAST(has_dbaccess(dtb.name) AS bit) AS [IsAccessible],\ndtb.name AS [DatabaseName2]\nFROM\nsys.databases AS dtb\nWHERE\n(dtb.name= CAST(N'#' AS NVarChar(-1)) )\nORDER BY\n[Name] ASC",
                    "2": "140000",
                    "3": "140000",
                    "4": "140000"
                },
                {
                    "0": "40",
                    "1": "SELECT\ndtb.name AS [Name],\ndtb.database_id AS [ID],\nCAST(case when dtb.name in ('#') then -1 else dtb.is_distributor end AS bit) AS [IsSystemObject],\ndtb.collation_name AS [Collation],\nCAST(has_dbaccess(dtb.name) AS bit) AS [IsAccessible],\ndtb.name AS [DatabaseName2]\nFROM\nsys.databases AS dtb\nWHERE\n(dtb.name= CAST(N'#' AS NVarChar(-1)) )\nORDER BY\n[Name] ASC",
                    "2": "101000",
                    "3": "93000",
                    "4": "109000"
                },
                {
                    "0": "11",
                    "1": "SELECT SERVERPROPERTY('#'), SERVERPROPERTY('#'), SERVERPROPERTY ('#'), SERVERPROPERTY ('#'), (SELECT CASE WHEN EXISTS (SELECT TOP -1 -1 from [sys].[all_columns] WITH (NOLOCK) WHERE name = N'#' AND OBJECT_ID(N'#') = object_id) THEN -1 ELSE -1 END AS SXI_PRESENT), @@MICROSOFTVERSION as [MicrosoftVersion]",
                    "2": "10785.714285714286",
                    "3": "0",
                    "4": "46000"
                },
                {
                    "0": "11",
                    "1": "SELECT SERVERPROPERTY('#'), SERVERPROPERTY('#'), SERVERPROPERTY ('#'), SERVERPROPERTY ('#'), (SELECT CASE WHEN EXISTS (SELECT TOP -1 -1 from [sys].[all_columns] WITH (NOLOCK) WHERE name = N'#' AND OBJECT_ID(N'#') = object_id) THEN -1 ELSE -1 END AS SXI_PRESENT), @@MICROSOFTVERSION as [MicrosoftVersion]",
                    "2": "38500",
                    "3": "15000",
                    "4": "62000"
                },
                {
                    "0": "54",
                    "1": "SELECT\nclmns.column_id AS [ID],\nclmns.name AS [Name],\nISNULL(dc.Name, N'#') AS [DefaultConstraintName],\nclmns.is_nullable AS [Nullable],\nCAST(ISNULL(cik.index_column_id, -1) AS bit) AS [InPrimaryKey],\nclmns.is_identity AS [Identity],\nusrt.name AS [DataType],\nISNULL(baset.name, N'#') AS [SystemType],\nCAST(CASE WHEN baset.name IN (N'#', N'#') AND clmns.max_length <> --1 THEN clmns.max_length/-1 ELSE clmns.max_length END AS int) AS [Length],\nCAST(clmns.precision AS int) AS [NumericPrecision],\nCAST(clmns.scale AS int) AS [NumericScale],\ns1clmns.name AS [DataTypeSchema],\nclmns.is_computed AS [Computed]\nFROM\nsys.all_views AS v\nINNER JOIN sys.all_columns AS clmns ON clmns.object_id=v.object_id\nLEFT OUTER JOIN sys.default_constraints as dc ON clmns.default_object_id = dc.object_id\nLEFT OUTER JOIN sys.indexes AS ik ON ik.object_id = clmns.object_id and -1=ik.is_primary_key\nLEFT OUTER JOIN sys.index_columns AS cik ON cik.index_id = ik.index_id and cik.column_id = clmns.column_id and cik.object_id = clmns.object_id and -1 = cik.is_included_column\nLEFT OUTER JOIN sys.types AS usrt ON usrt.user_type_id = clmns.user_type_id\nLEFT OUTER JOIN sys.types AS baset ON (baset.user_type_id = clmns.system_type_id and baset.user_type_id = baset.system_type_id) or ((baset.system_type_id = clmns.system_type_id) and (baset.user_type_id = clmns.user_type_id) and (baset.is_user_defined = -1) and (baset.is_assembly_type = -1)) \nLEFT OUTER JOIN sys.schemas AS s1clmns ON s1clmns.schema_id = usrt.schema_id\nWHERE\n(v.type =  CAST(N'#' AS NVarChar(-1)) )and(v.name= CAST(N'#' AS NVarChar(-1))  and SCHEMA_NAME(v.schema_id)= CAST(N'#' AS NVarChar(-1)) )\nORDER BY\n[ID] ASC",
                    "2": "280800",
                    "3": "265000",
                    "4": "312000"
                },
                {
                    "0": "54",
                    "1": "SELECT\nclmns.column_id AS [ID],\nclmns.name AS [Name],\nISNULL(dc.Name, N'#') AS [DefaultConstraintName],\nclmns.is_nullable AS [Nullable],\nCAST(ISNULL(cik.index_column_id, -1) AS bit) AS [InPrimaryKey],\nclmns.is_identity AS [Identity],\nusrt.name AS [DataType],\nISNULL(baset.name, N'#') AS [SystemType],\nCAST(CASE WHEN baset.name IN (N'#', N'#') AND clmns.max_length <> --1 THEN clmns.max_length/-1 ELSE clmns.max_length END AS int) AS [Length],\nCAST(clmns.precision AS int) AS [NumericPrecision],\nCAST(clmns.scale AS int) AS [NumericScale],\ns1clmns.name AS [DataTypeSchema],\nclmns.is_computed AS [Computed]\nFROM\nsys.all_views AS v\nINNER JOIN sys.all_columns AS clmns ON clmns.object_id=v.object_id\nLEFT OUTER JOIN sys.default_constraints as dc ON clmns.default_object_id = dc.object_id\nLEFT OUTER JOIN sys.indexes AS ik ON ik.object_id = clmns.object_id and -1=ik.is_primary_key\nLEFT OUTER JOIN sys.index_columns AS cik ON cik.index_id = ik.index_id and cik.column_id = clmns.column_id and cik.object_id = clmns.object_id and -1 = cik.is_included_column\nLEFT OUTER JOIN sys.types AS usrt ON usrt.user_type_id = clmns.user_type_id\nLEFT OUTER JOIN sys.types AS baset ON (baset.user_type_id = clmns.system_type_id and baset.user_type_id = baset.system_type_id) or ((baset.system_type_id = clmns.system_type_id) and (baset.user_type_id = clmns.user_type_id) and (baset.is_user_defined = -1) and (baset.is_assembly_type = -1)) \nLEFT OUTER JOIN sys.schemas AS s1clmns ON s1clmns.schema_id = usrt.schema_id\nWHERE\n(v.type =  CAST(N'#' AS NVarChar(-1)) )and(v.name= CAST(N'#' AS NVarChar(-1))  and SCHEMA_NAME(v.schema_id)= CAST(N'#' AS NVarChar(-1)) )\nORDER BY\n[ID] ASC",
                    "2": "296416.6666666667",
                    "3": "249000",
                    "4": "453000"
                },
                {
                    "0": "54",
                    "1": "SELECT\nclmns.column_id AS [ID],\nclmns.name AS [Name],\nISNULL(dc.Name, N'#') AS [DefaultConstraintName],\nclmns.is_nullable AS [Nullable],\nCAST(ISNULL(cik.index_column_id, -1) AS bit) AS [InPrimaryKey],\nclmns.is_identity AS [Identity],\nusrt.name AS [DataType],\nISNULL(baset.name, N'#') AS [SystemType],\nCAST(CASE WHEN baset.name IN (N'#', N'#') AND clmns.max_length <> --1 THEN clmns.max_length/-1 ELSE clmns.max_length END AS int) AS [Length],\nCAST(clmns.precision AS int) AS [NumericPrecision],\nCAST(clmns.scale AS int) AS [NumericScale],\ns1clmns.name AS [DataTypeSchema],\nclmns.is_computed AS [Computed]\nFROM\nsys.all_views AS v\nINNER JOIN sys.all_columns AS clmns ON clmns.object_id=v.object_id\nLEFT OUTER JOIN sys.default_constraints as dc ON clmns.default_object_id = dc.object_id\nLEFT OUTER JOIN sys.indexes AS ik ON ik.object_id = clmns.object_id and -1=ik.is_primary_key\nLEFT OUTER JOIN sys.index_columns AS cik ON cik.index_id = ik.index_id and cik.column_id = clmns.column_id and cik.object_id = clmns.object_id and -1 = cik.is_included_column\nLEFT OUTER JOIN sys.types AS usrt ON usrt.user_type_id = clmns.user_type_id\nLEFT OUTER JOIN sys.types AS baset ON (baset.user_type_id = clmns.system_type_id and baset.user_type_id = baset.system_type_id) or ((baset.system_type_id = clmns.system_type_id) and (baset.user_type_id = clmns.user_type_id) and (baset.is_user_defined = -1) and (baset.is_assembly_type = -1)) \nLEFT OUTER JOIN sys.schemas AS s1clmns ON s1clmns.schema_id = usrt.schema_id\nWHERE\n(v.type =  CAST(N'#' AS NVarChar(-1)) )and(v.name= CAST(N'#' AS NVarChar(-1))  and SCHEMA_NAME(v.schema_id)= CAST(N'#' AS NVarChar(-1)) )\nORDER BY\n[ID] ASC",
                    "2": "648000",
                    "3": "265000",
                    "4": "1031000"
                },
                {
                    "0": "91",
                    "1": "-- ####\r\nSelect * from sys.dm_pdw_exec_requests where status = '#' and [label] = '#'",
                    "2": "1250000",
                    "3": "1250000",
                    "4": "1250000"
                },
                {
                    "0": "97",
                    "1": "SELECT\nv.name AS [Name],\nv.object_id AS [ID],\nv.create_date AS [CreateDate],\nv.modify_date AS [DateLastModified],\nISNULL(sv.name, N'#') AS [Owner],\nCAST(case when v.principal_id is null then -1 else -1 end AS bit) AS [IsSchemaOwned],\nSCHEMA_NAME(v.schema_id) AS [Schema],\nCAST(\r\n        case\r\n          when v.is_ms_shipped = -1 then -1\r\n          else -1\r\n        end\r\n       AS bit) AS [IsSystemObject],\nCAST(ISNULL(OBJECTPROPERTYEX(v.object_id,N'#'),-1) AS bit) AS [AnsiNullsStatus],\nCAST(ISNULL(OBJECTPROPERTYEX(v.object_id,N'#'),-1) AS bit) AS [QuotedIdentifierStatus],\nCAST(ISNULL(OBJECTPROPERTYEX(v.object_id, N'#'),-1) AS bit) AS [IsSchemaBound],\nCAST(CASE WHEN ISNULL(smv.definition, ssmv.definition) IS NULL THEN -1 ELSE -1 END AS bit) AS [IsEncrypted],\nCAST(OBJECTPROPERTY(v.object_id, N'#') AS bit) AS [HasIndex],\nCAST(OBJECTPROPERTY(v.object_id, N'#') AS bit) AS [IsIndexable],\nv.has_opaque_metadata AS [ReturnsViewMetadata],\nCAST(ISNULL((select top -1 -1 from sys.indexes ind where ind.object_id = v.object_id and ind.type > -1 and ind.is_hypothetical = -1 ), -1) AS bit) AS [HasNonClusteredIndex],\nCAST(CASE idx.index_id WHEN -1 THEN -1 ELSE -1 END AS bit) AS [HasClusteredIndex],\nCAST(case idx.index_id when -1 then case when (idx.is_primary_key + -1*idx.is_unique_constraint = -1) then -1 else -1 end else -1 end AS bit) AS [HasPrimaryClusteredIndex],\nISNULL(tmvp.distribution_policy, -1) AS [DwMaterializedViewDistribution]\nFROM\nsys.all_views AS v\nLEFT OUTER JOIN sys.database_principals AS sv ON sv.principal_id = ISNULL(v.principal_id, (OBJECTPROPERTY(v.object_id, '#')))\nLEFT OUTER JOIN sys.sql_modules AS smv ON smv.object_id = v.object_id\nLEFT OUTER JOIN sys.system_sql_modules AS ssmv ON ssmv.object_id = v.object_id\nLEFT OUTER JOIN sys.indexes AS idx ON idx.object_id = v.object_id and (idx.index_id <  CAST(N'#' AS NVarChar(-1)) )\nLEFT OUTER JOIN sys.pdw_materialized_view_distribution_properties as tmvp ON tmvp.object_id = v.object_id\nWHERE\n(v.type =  CAST(N'#' AS NVarChar(-1)) )and(v.name= CAST(N'#' AS NVarChar(-1))  and SCHEMA_NAME(v.schema_id)= CAST(N'#' AS NVarChar(-1)) )",
                    "2": "104000",
                    "3": "31000",
                    "4": "250000"
                },
                {
                    "0": "20",
                    "1": "select SERVERPROPERTY('#');",
                    "2": "10000",
                    "3": "0",
                    "4": "15000"
                },
                {
                    "0": "20",
                    "1": "select SERVERPROPERTY('#');",
                    "2": "0",
                    "3": "0",
                    "4": "0"
                },
                {
                    "0": "20",
                    "1": "select SERVERPROPERTY('#');",
                    "2": "5000",
                    "3": "0",
                    "4": "15000"
                },
                {
                    "0": "20",
                    "1": "select SERVERPROPERTY('#');",
                    "2": "0",
                    "3": "0",
                    "4": "0"
                },
                {
                    "0": "80",
                    "1": "SELECT\nCAST(ISNULL(ic.increment_value,-1) AS bigint) AS [IdentityIncrement]\nFROM\nsys.tables AS tbl\nINNER JOIN sys.all_columns AS clmns ON clmns.object_id=tbl.object_id\nLEFT OUTER JOIN sys.identity_columns AS ic ON ic.object_id = clmns.object_id and ic.column_id = clmns.column_id\nWHERE\n(clmns.name= CAST(N'#' AS NVarChar(-1)) )and((tbl.name= CAST(N'#' AS NVarChar(-1))  and SCHEMA_NAME(tbl.schema_id)= CAST(N'#' AS NVarChar(-1)) ))",
                    "2": "93000",
                    "3": "93000",
                    "4": "93000"
                },
                {
                    "0": "28",
                    "1": "SELECT * FROM sys.database_principals",
                    "2": "15000",
                    "3": "15000",
                    "4": "15000"
                },
                {
                    "0": "57",
                    "1": "Select * from sys.dm_pdw_exec_requests where status = '#' and [label] = '#'",
                    "2": "119333.33333333333",
                    "3": "93000",
                    "4": "140000"
                },
                {
                    "0": "14",
                    "1": "SELECT [name] FROM [sys].[filegroups] [fg] WITH(NOLOCK) WHERE [fg].[is_default] = -1 AND [fg].[type] = N'#'",
                    "2": "7500",
                    "3": "0",
                    "4": "15000"
                },
                {
                    "0": "14",
                    "1": "SELECT [name] FROM [sys].[filegroups] [fg] WITH(NOLOCK) WHERE [fg].[is_default] = -1 AND [fg].[type] = N'#'",
                    "2": "0",
                    "3": "0",
                    "4": "0"
                },
                {
                    "0": "8",
                    "1": "SELECT CAST(HAS_PERMS_BY_NAME(N'#', N'#', N'#') AS BIT)",
                    "2": "7500",
                    "3": "0",
                    "4": "15000"
                },
                {
                    "0": "8",
                    "1": "SELECT CAST(HAS_PERMS_BY_NAME(N'#', N'#', N'#') AS BIT)",
                    "2": "0",
                    "3": "0",
                    "4": "0"
                },
                {
                    "0": "51",
                    "1": "SELECT\n'#' AS [UserName],\ndtb.name AS [DatabaseName]\nFROM\nsys.databases AS dtb\nWHERE\n(dtb.name= CAST(N'#' AS NVarChar(-1)) )",
                    "2": "109000",
                    "3": "109000",
                    "4": "109000"
                },
                {
                    "0": "51",
                    "1": "SELECT\n'#' AS [UserName],\ndtb.name AS [DatabaseName]\nFROM\nsys.databases AS dtb\nWHERE\n(dtb.name= CAST(N'#' AS NVarChar(-1)) )",
                    "2": "93000",
                    "3": "93000",
                    "4": "93000"
                }
            ]
        },
        "text/html": [
            "<table>",
            "<tr><th>query_id</th><th>command</th><th>avg_duration</th><th>min_duration</th><th>max_duration</th></tr>",
            "<tr><td>32</td><td>SELECT case when  CAST(N'#' AS NVarChar(-1))  = N'#' then -1 else -1 end as '#',\r\nSERVERPROPERTY('#') AS DatabaseEngineEdition,\r\nSERVERPROPERTY('#') AS ProductVersion,\r\n@@MICROSOFTVERSION AS MicrosoftVersion;</td><td>6500</td><td>0</td><td>16000</td></tr>",
            "<tr><td>32</td><td>SELECT case when  CAST(N'#' AS NVarChar(-1))  = N'#' then -1 else -1 end as '#',\r\nSERVERPROPERTY('#') AS DatabaseEngineEdition,\r\nSERVERPROPERTY('#') AS ProductVersion,\r\n@@MICROSOFTVERSION AS MicrosoftVersion;</td><td>5882.8125</td><td>0</td><td>31000</td></tr>",
            "<tr><td>32</td><td>SELECT case when  CAST(N'#' AS NVarChar(-1))  = N'#' then -1 else -1 end as '#',\r\nSERVERPROPERTY('#') AS DatabaseEngineEdition,\r\nSERVERPROPERTY('#') AS ProductVersion,\r\n@@MICROSOFTVERSION AS MicrosoftVersion;</td><td>17214.285714285714</td><td>0</td><td>31000</td></tr>",
            "<tr><td>32</td><td>SELECT case when  CAST(N'#' AS NVarChar(-1))  = N'#' then -1 else -1 end as '#',\r\nSERVERPROPERTY('#') AS DatabaseEngineEdition,\r\nSERVERPROPERTY('#') AS ProductVersion,\r\n@@MICROSOFTVERSION AS MicrosoftVersion;</td><td>31000</td><td>0</td><td>31000</td></tr>",
            "<tr><td>70</td><td>SELECT\r\n     q.query_id\r\n     , t.query_sql_text\r\nFROM\r\n     sys.query_store_query q\r\n       JOIN sys.query_store_query_text t ON q.query_text_id = t.query_text_id;</td><td>31000</td><td>31000</td><td>31000</td></tr>",
            "<tr><td>70</td><td>SELECT\r\n     q.query_id\r\n     , t.query_sql_text\r\nFROM\r\n     sys.query_store_query q\r\n       JOIN sys.query_store_query_text t ON q.query_text_id = t.query_text_id;</td><td>78000</td><td>78000</td><td>78000</td></tr>",
            "<tr><td>68</td><td>-- ####\r\nSELECT name,is_query_store_on,is_auto_create_stats_on,is_result_set_caching_on FROM sys.databases where name not in ('#')</td><td>73750</td><td>62000</td><td>109000</td></tr>",
            "<tr><td>68</td><td>-- ####\r\nSELECT name,is_query_store_on,is_auto_create_stats_on,is_result_set_caching_on FROM sys.databases where name not in ('#')</td><td>671000</td><td>671000</td><td>671000</td></tr>",
            "<tr><td>34</td><td>select '#' as ConnectionProtocol</td><td>5270.27027027027</td><td>0</td><td>31000</td></tr>",
            "<tr><td>34</td><td>select '#' as ConnectionProtocol</td><td>4820.3125</td><td>0</td><td>31000</td></tr>",
            "<tr><td>34</td><td>select '#' as ConnectionProtocol</td><td>14951.219512195123</td><td>0</td><td>46000</td></tr>",
            "<tr><td>34</td><td>select '#' as ConnectionProtocol</td><td>26285.714285714286</td><td>0</td><td>46000</td></tr>",
            "<tr><td>74</td><td>-- ####\r\nSELECT TOP -1 G.geographyid,T.TimeID,P.PassengerCount,\r\n\t  PERCENTILE_CONT (-1.0) WITHIN GROUP ( ORDER BY P.PassengerCount DESC)  OVER (PARTITION BY T.TimeID) AS TTT   ,\r\n      SUM(P.TripDistanceMiles) as SumTripDistance,\r\n      AVG(P.TripDistanceMiles) as AvgTripDistance,\r\n      SUM(P.FareAmount) as SumFareAmount,\r\n      AVG(P.FareAmount) as AvgFareAmount,\r\n      SUM(P.TaxAmount) as SumTaxAmount,\r\n      AVG(P.TaxAmount) as AvgTaxAmount,\r\n      SUM(P.TotalAmount) as SumTotalAmount,\r\n      AVG(P.TotalAmount) as AvgTotalAmount\r\nFROM  dbo.Trip P\r\n\tINNER JOIN [dbo].[Geography] G\r\n\t\tON P.pickupgeographyid = G.geographyid\r\n\tINNER JOIN [dbo].[Time] T\r\n\t\tON T.TimeID = P.PickupTimeId\r\nGROUP BY P.PassengerCount,G.geographyid,T.TimeID</td><td>52562000</td><td>52562000</td><td>52562000</td></tr>",
            "<tr><td>74</td><td>-- ####\r\nSELECT TOP -1 G.geographyid,T.TimeID,P.PassengerCount,\r\n\t  PERCENTILE_CONT (-1.0) WITHIN GROUP ( ORDER BY P.PassengerCount DESC)  OVER (PARTITION BY T.TimeID) AS TTT   ,\r\n      SUM(P.TripDistanceMiles) as SumTripDistance,\r\n      AVG(P.TripDistanceMiles) as AvgTripDistance,\r\n      SUM(P.FareAmount) as SumFareAmount,\r\n      AVG(P.FareAmount) as AvgFareAmount,\r\n      SUM(P.TaxAmount) as SumTaxAmount,\r\n      AVG(P.TaxAmount) as AvgTaxAmount,\r\n      SUM(P.TotalAmount) as SumTotalAmount,\r\n      AVG(P.TotalAmount) as AvgTotalAmount\r\nFROM  dbo.Trip P\r\n\tINNER JOIN [dbo].[Geography] G\r\n\t\tON P.pickupgeographyid = G.geographyid\r\n\tINNER JOIN [dbo].[Time] T\r\n\t\tON T.TimeID = P.PickupTimeId\r\nGROUP BY P.PassengerCount,G.geographyid,T.TimeID</td><td>110374000</td><td>110374000</td><td>110374000</td></tr>",
            "<tr><td>67</td><td>SELECT name,is_query_store_on,is_auto_create_stats_on,is_result_set_caching_on FROM sys.databases where name not in ('#')</td><td>62000</td><td>46000</td><td>78000</td></tr>",
            "<tr><td>67</td><td>SELECT name,is_query_store_on,is_auto_create_stats_on,is_result_set_caching_on FROM sys.databases where name not in ('#')</td><td>593000</td><td>593000</td><td>593000</td></tr>",
            "<tr><td>37</td><td>SELECT SERVERPROPERTY('#'), SERVERPROPERTY('#'), SERVERPROPERTY ('#'), SERVERPROPERTY ('#'), SERVERPROPERTY ('#'), SERVERPROPERTY ('#'), (SELECT CASE WHEN EXISTS (SELECT TOP -1 -1 from [sys].[all_columns] WITH (NOLOCK) WHERE name = N'#' AND OBJECT_ID(N'#') = object_id) THEN -1 ELSE -1 END AS SXI_PRESENT)</td><td>6833.333333333333</td><td>0</td><td>46000</td></tr>",
            "<tr><td>37</td><td>SELECT SERVERPROPERTY('#'), SERVERPROPERTY('#'), SERVERPROPERTY ('#'), SERVERPROPERTY ('#'), SERVERPROPERTY ('#'), SERVERPROPERTY ('#'), (SELECT CASE WHEN EXISTS (SELECT TOP -1 -1 from [sys].[all_columns] WITH (NOLOCK) WHERE name = N'#' AND OBJECT_ID(N'#') = object_id) THEN -1 ELSE -1 END AS SXI_PRESENT)</td><td>7646.551724137931</td><td>0</td><td>31000</td></tr>",
            "<tr><td>37</td><td>SELECT SERVERPROPERTY('#'), SERVERPROPERTY('#'), SERVERPROPERTY ('#'), SERVERPROPERTY ('#'), SERVERPROPERTY ('#'), SERVERPROPERTY ('#'), (SELECT CASE WHEN EXISTS (SELECT TOP -1 -1 from [sys].[all_columns] WITH (NOLOCK) WHERE name = N'#' AND OBJECT_ID(N'#') = object_id) THEN -1 ELSE -1 END AS SXI_PRESENT)</td><td>15193.548387096775</td><td>0</td><td>31000</td></tr>",
            "<tr><td>37</td><td>SELECT SERVERPROPERTY('#'), SERVERPROPERTY('#'), SERVERPROPERTY ('#'), SERVERPROPERTY ('#'), SERVERPROPERTY ('#'), SERVERPROPERTY ('#'), (SELECT CASE WHEN EXISTS (SELECT TOP -1 -1 from [sys].[all_columns] WITH (NOLOCK) WHERE name = N'#' AND OBJECT_ID(N'#') = object_id) THEN -1 ELSE -1 END AS SXI_PRESENT)</td><td>19571.428571428572</td><td>0</td><td>31000</td></tr>",
            "<tr><td>31</td><td>SELECT (SERVERPROPERTY(N'#'))</td><td>6297.2972972972975</td><td>0</td><td>31000</td></tr>",
            "<tr><td>31</td><td>SELECT (SERVERPROPERTY(N'#'))</td><td>4812.5</td><td>0</td><td>31000</td></tr>",
            "<tr><td>31</td><td>SELECT (SERVERPROPERTY(N'#'))</td><td>16809.52380952381</td><td>0</td><td>46000</td></tr>",
            "<tr><td>31</td><td>SELECT (SERVERPROPERTY(N'#'))</td><td>28571.428571428572</td><td>0</td><td>62000</td></tr>",
            "<tr><td>71</td><td>-- ####\r\nSELECT TOP -1\r\n       q.query_id [query_id]\r\n       , t.query_sql_text [command]\r\n\t, SUM(rs.count_executions) [execution_count]\r\nFROM sys.query_store_query q\r\n\tINNER JOIN sys.query_store_query_text t \r\n\t\tON q.query_text_id = t.query_text_id\r\n\tINNER JOIN sys.query_store_plan p \r\n\t\tON p.query_id = q.query_id\r\n\tINNER JOIN sys.query_store_runtime_stats rs \r\n\t\tON rs.plan_id = p.plan_id\r\nGROUP BY q.query_id , t.query_sql_text \r\nORDER BY [execution_count] DESC;</td><td>31000</td><td>31000</td><td>31000</td></tr>",
            "<tr><td>71</td><td>-- ####\r\nSELECT TOP -1\r\n       q.query_id [query_id]\r\n       , t.query_sql_text [command]\r\n\t, SUM(rs.count_executions) [execution_count]\r\nFROM sys.query_store_query q\r\n\tINNER JOIN sys.query_store_query_text t \r\n\t\tON q.query_text_id = t.query_text_id\r\n\tINNER JOIN sys.query_store_plan p \r\n\t\tON p.query_id = q.query_id\r\n\tINNER JOIN sys.query_store_runtime_stats rs \r\n\t\tON rs.plan_id = p.plan_id\r\nGROUP BY q.query_id , t.query_sql_text \r\nORDER BY [execution_count] DESC;</td><td>62000</td><td>62000</td><td>62000</td></tr>",
            "<tr><td>33</td><td>select N'#' as host_platform</td><td>4270.27027027027</td><td>0</td><td>46000</td></tr>",
            "<tr><td>33</td><td>select N'#' as host_platform</td><td>3882.8125</td><td>0</td><td>31000</td></tr>",
            "<tr><td>33</td><td>select N'#' as host_platform</td><td>16119.047619047618</td><td>0</td><td>46000</td></tr>",
            "<tr><td>33</td><td>select N'#' as host_platform</td><td>30857.14285714286</td><td>0</td><td>46000</td></tr>",
            "<tr><td>23</td><td>SELECT * FROM (\r\nSELECT DISTINCT\r\n        [db].[class] AS [TypeId],\r\n        [db].[major_id] AS [MajorId],\r\n        [db].[minor_id] AS [MinorId],\r\n        [so].[type] AS [ObjectType],\r\n        [so].[is_ms_shipped] AS [IsMsShipped],\r\n        [db].[grantee_principal_id] AS [GranteeId],\r\n        USER_NAME([db].[grantee_principal_id]) AS [GranteeName],\r\n        [db].[grantor_principal_id] AS [GrantorId],\r\n        CONVERT(BIT, CASE WHEN [dp].[is_fixed_role] = -1 OR [dp].[principal_id] = -1 THEN -1 ELSE -1 END) AS [ScriptGrantor],\r\n        USER_NAME([db].[grantor_principal_id]) AS [GrantorName],\r\n        [db].[type] AS [PermissionCode],\r\n        [db].[permission_name] AS [PermissionType],\r\n        [db].[state] AS [PermissionState],\r\n        SCHEMA_NAME([so].[schema_id]) AS [Level0Name],\r\n        [so].[name] AS [Level1Name],\r\n        [c].[name] AS [Level2Name],\r\n        NULL AS [DataBasePrincipalType],\r\n        CASE WHEN EXISTS(SELECT * FROM [sys].[external_tables] WHERE [object_id] = [db].[major_id])\r\n            THEN CAST(-1 AS BIT)\r\n            ELSE CAST(-1 AS BIT)\r\n        END AS [IsExternalTable]\r\nFROM\r\n        [sys].[database_permissions] [db] WITH (NOLOCK)\r\n        INNER JOIN [sys].[objects] [so] WITH (NOLOCK) ON [so].[object_id] = [db].[major_id]\r\n        INNER JOIN [sys].[database_principals] [dp] WITH (NOLOCK) ON [dp].[principal_id] = [db].[grantor_principal_id]\r\n        INNER JOIN [sys].[database_principals] [dp2] WITH (NOLOCK) ON [dp2].[principal_id] = [db].[grantee_principal_id]\r\n        LEFT JOIN [sys].[columns] [c] WITH (NOLOCK) ON [db].[major_id] = [c].[object_id]  AND [db].[minor_id] = [c].[column_id]\r\n\r\nWHERE\r\n        [db].[class] = -1\r\n        AND [so].[object_id] NOT IN (SELECT [major_id] FROM [sys].[extended_properties] WITH (NOLOCK) WHERE [minor_id] = -1 AND [class] = -1 AND [name] = N'#')\r\n        AND OBJECTPROPERTY([so].[object_id], N'#') = -1\r\n        AND [db].[state] &lt;&gt; N'#'\r\n        AND [db].[grantee_principal_id] &lt;&gt; [db].[grantor_principal_id]\r\n        AND USER_NAME([db].[grantor_principal_id])  &lt;&gt; N'#'\r\n        AND USER_NAME([db].[grantee_principal_id])  &lt;&gt; N'#'\r\n        AND ([dp].[owning_principal_id] IS NULL OR USER_NAME([dp].[owning_principal_id]) &lt;&gt; N'#')\r\n        AND ([dp2].[owning_principal_id] IS NULL OR USER_NAME([dp2].[owning_principal_id]) &lt;&gt; N'#')\r\n        AND NOT EXISTS (SELECT TOP -1 -1 FROM [sys].[database_permissions] [p] WITH (NOLOCK) WHERE\r\n             [p].[major_id] = [db].[major_id]\r\n            AND [p].[minor_id] = -1\r\n            AND [p].[permission_name] = [db].[permission_name]\r\n            AND [p].[state] = N'#'\r\n            AND [db].[state] = N'#'\r\n            AND [db].[minor_id] &lt;&gt; -1\r\n            AND [p].[class] =  [db].[class]\r\n            AND [p].[grantee_principal_id] = [db].[grantee_principal_id]\r\n            AND [p].[grantor_principal_id] = [db].[grantor_principal_id])) AS [_results] WHERE ([_results].[ObjectType] IN ( CAST(N'#' AS NVarChar(-1)) )) AND [TypeId] = -1\r\n ORDER BY TypeId,GranteeId,GrantorId,MajorId,MinorId,PermissionCode,PermissionState ;</td><td>148000</td><td>140000</td><td>156000</td></tr>",
            "<tr><td>23</td><td>SELECT * FROM (\r\nSELECT DISTINCT\r\n        [db].[class] AS [TypeId],\r\n        [db].[major_id] AS [MajorId],\r\n        [db].[minor_id] AS [MinorId],\r\n        [so].[type] AS [ObjectType],\r\n        [so].[is_ms_shipped] AS [IsMsShipped],\r\n        [db].[grantee_principal_id] AS [GranteeId],\r\n        USER_NAME([db].[grantee_principal_id]) AS [GranteeName],\r\n        [db].[grantor_principal_id] AS [GrantorId],\r\n        CONVERT(BIT, CASE WHEN [dp].[is_fixed_role] = -1 OR [dp].[principal_id] = -1 THEN -1 ELSE -1 END) AS [ScriptGrantor],\r\n        USER_NAME([db].[grantor_principal_id]) AS [GrantorName],\r\n        [db].[type] AS [PermissionCode],\r\n        [db].[permission_name] AS [PermissionType],\r\n        [db].[state] AS [PermissionState],\r\n        SCHEMA_NAME([so].[schema_id]) AS [Level0Name],\r\n        [so].[name] AS [Level1Name],\r\n        [c].[name] AS [Level2Name],\r\n        NULL AS [DataBasePrincipalType],\r\n        CASE WHEN EXISTS(SELECT * FROM [sys].[external_tables] WHERE [object_id] = [db].[major_id])\r\n            THEN CAST(-1 AS BIT)\r\n            ELSE CAST(-1 AS BIT)\r\n        END AS [IsExternalTable]\r\nFROM\r\n        [sys].[database_permissions] [db] WITH (NOLOCK)\r\n        INNER JOIN [sys].[objects] [so] WITH (NOLOCK) ON [so].[object_id] = [db].[major_id]\r\n        INNER JOIN [sys].[database_principals] [dp] WITH (NOLOCK) ON [dp].[principal_id] = [db].[grantor_principal_id]\r\n        INNER JOIN [sys].[database_principals] [dp2] WITH (NOLOCK) ON [dp2].[principal_id] = [db].[grantee_principal_id]\r\n        LEFT JOIN [sys].[columns] [c] WITH (NOLOCK) ON [db].[major_id] = [c].[object_id]  AND [db].[minor_id] = [c].[column_id]\r\n\r\nWHERE\r\n        [db].[class] = -1\r\n        AND [so].[object_id] NOT IN (SELECT [major_id] FROM [sys].[extended_properties] WITH (NOLOCK) WHERE [minor_id] = -1 AND [class] = -1 AND [name] = N'#')\r\n        AND OBJECTPROPERTY([so].[object_id], N'#') = -1\r\n        AND [db].[state] &lt;&gt; N'#'\r\n        AND [db].[grantee_principal_id] &lt;&gt; [db].[grantor_principal_id]\r\n        AND USER_NAME([db].[grantor_principal_id])  &lt;&gt; N'#'\r\n        AND USER_NAME([db].[grantee_principal_id])  &lt;&gt; N'#'\r\n        AND ([dp].[owning_principal_id] IS NULL OR USER_NAME([dp].[owning_principal_id]) &lt;&gt; N'#')\r\n        AND ([dp2].[owning_principal_id] IS NULL OR USER_NAME([dp2].[owning_principal_id]) &lt;&gt; N'#')\r\n        AND NOT EXISTS (SELECT TOP -1 -1 FROM [sys].[database_permissions] [p] WITH (NOLOCK) WHERE\r\n             [p].[major_id] = [db].[major_id]\r\n            AND [p].[minor_id] = -1\r\n            AND [p].[permission_name] = [db].[permission_name]\r\n            AND [p].[state] = N'#'\r\n            AND [db].[state] = N'#'\r\n            AND [db].[minor_id] &lt;&gt; -1\r\n            AND [p].[class] =  [db].[class]\r\n            AND [p].[grantee_principal_id] = [db].[grantee_principal_id]\r\n            AND [p].[grantor_principal_id] = [db].[grantor_principal_id])) AS [_results] WHERE ([_results].[ObjectType] IN ( CAST(N'#' AS NVarChar(-1)) )) AND [TypeId] = -1\r\n ORDER BY TypeId,GranteeId,GrantorId,MajorId,MinorId,PermissionCode,PermissionState ;</td><td>140000</td><td>140000</td><td>140000</td></tr>",
            "<tr><td>46</td><td>SELECT\n(select schema_name()) AS [DefaultSchema]\nFROM\nsys.databases AS dtb\nWHERE\n(dtb.name= CAST(N'#' AS NVarChar(-1)) )</td><td>77000</td><td>77000</td><td>77000</td></tr>",
            "<tr><td>46</td><td>SELECT\n(select schema_name()) AS [DefaultSchema]\nFROM\nsys.databases AS dtb\nWHERE\n(dtb.name= CAST(N'#' AS NVarChar(-1)) )</td><td>62000</td><td>62000</td><td>62000</td></tr>",
            "<tr><td>69</td><td>-- ####\r\nSELECT G.geographyid,T.TimeID,P.PassengerCount,\r\n\t  PERCENTILE_CONT (-1.0) WITHIN GROUP ( ORDER BY P.PassengerCount DESC)  OVER (PARTITION BY T.TimeID) AS TTT   ,\r\n      SUM(P.TripDistanceMiles) as SumTripDistance,\r\n      AVG(P.TripDistanceMiles) as AvgTripDistance,\r\n      SUM(P.FareAmount) as SumFareAmount,\r\n      AVG(P.FareAmount) as AvgFareAmount,\r\n      SUM(P.TaxAmount) as SumTaxAmount,\r\n      AVG(P.TaxAmount) as AvgTaxAmount,\r\n      SUM(P.TotalAmount) as SumTotalAmount,\r\n      AVG(P.TotalAmount) as AvgTotalAmount\r\nFROM  dbo.Trip P\r\n\tINNER JOIN [dbo].[Geography] G\r\n\t\tON P.pickupgeographyid = G.geographyid\r\n\tINNER JOIN [dbo].[Time] T\r\n\t\tON T.TimeID = P.PickupTimeId\r\nGROUP BY P.PassengerCount,G.geographyid,T.TimeID</td><td>91890000</td><td>91890000</td><td>91890000</td></tr>",
            "<tr><td>92</td><td>-- ####\r\nSelect * from sys.dm_pdw_exec_requests where status = '#'-- ####</td><td>156000</td><td>156000</td><td>156000</td></tr>",
            "<tr><td>29</td><td>SELECT SERVERPROPERTY('#'), SERVERPROPERTY('#'), (SELECT CASE WHEN EXISTS (SELECT TOP -1 -1 from [sys].[all_columns] WHERE name = N'#' AND OBJECT_ID(N'#') = object_id) THEN -1 ELSE -1 END AS SXI_PRESENT)</td><td>31000</td><td>31000</td><td>31000</td></tr>",
            "<tr><td>75</td><td>SELECT * FROM sys.databases where name not in ('#')</td><td>78000</td><td>78000</td><td>78000</td></tr>",
            "<tr><td>9</td><td>SELECT DATABASEPROPERTYEX(N'#' , N'#') AS [Name]</td><td>6000</td><td>0</td><td>15000</td></tr>",
            "<tr><td>9</td><td>SELECT DATABASEPROPERTYEX(N'#' , N'#') AS [Name]</td><td>0</td><td>0</td><td>0</td></tr>",
            "<tr><td>15</td><td>SELECT SCHEMA_NAME()</td><td>4500</td><td>0</td><td>15000</td></tr>",
            "<tr><td>15</td><td>SELECT SCHEMA_NAME()</td><td>0</td><td>0</td><td>0</td></tr>",
            "<tr><td>89</td><td>-- ####\r\nSELECT * FROM sys.dm_pdw_request_steps where request_id = '#'</td><td>796000</td><td>796000</td><td>796000</td></tr>",
            "<tr><td>3</td><td>select object_id as id, \r\n    null as id2,\r\n    case\r\n        when [is_filetable] = -1 then '#'\r\n        else [type]\r\n    end as [type],\r\n    schema_name(schema_id) as name1,\r\n    name as name2,\r\n    null as name3,\r\n    null as a1,\r\n    null as v1,\r\n    modify_date as mod\r\nfrom sys.tables\r\nwhere \r\n    is_ms_shipped != -1\r\n\r\nunion\r\n\r\nselect object_id as id, \r\n    null as id2,\r\n    case\r\n        when [type] != '#' then [type]\r\n        when parent_object_id != -1 then '#'\r\n        else '#' \r\n    end as [type],\r\n    schema_name(schema_id) as name1,\r\n    name as name2,\r\n    null as name3,\r\n    null as a1,\r\n    null as v1,\r\n    modify_date as mod\r\nfrom sys.objects\r\nwhere \r\n    type != '#'\r\n    and type != '#'\r\n    and type != '#'\r\n    and is_ms_shipped != -1\r\n\r\nunion\r\n\r\nselect principal_id as id, \r\n    null as id2,\r\n    type, \r\n    name as name1, \r\n    null as name2, \r\n    null as name3,\r\n    null as a1,\r\n    null as v1,\r\n    modify_date as mod\r\nfrom sys.database_principals\r\n\r\nunion\r\n\r\nselect schema_id as id, \r\n    null as id2,\r\n    '#' as type, \r\n    name as name1, \r\n    null as name2, \r\n    null as name3,\r\n    principal_id as a1,\r\n    null as v1,\r\n    null as mod\r\nfrom sys.schemas\r\n\r\nunion\r\n\r\nselect \r\n    idx.object_id as id,\r\n    idx.index_id as id2,\r\n    case        \r\n        when idx.type = -1 then '#'\r\n        when idx.type = -1 then '#'\r\n        else '#' \r\n    end as [type],\r\n    schema_name(tab.schema_id) as name,\r\n    tab.name as name2,\r\n    idx.name as name3,\r\n    null as a1,\r\n    binary_checksum(idx.is_unique, idx.data_space_id, idx.ignore_dup_key, idx.is_primary_key, \r\n        idx.is_unique_constraint, idx.fill_factor, idx.is_padded, idx.is_disabled, idx.allow_row_locks, idx.allow_page_locks) as v1,\r\n    null as mod\r\nfrom sys.indexes idx \r\n    inner join sys.tables tab on idx.object_id = tab.object_id\r\nwhere \r\n    idx.is_primary_key = -1\r\n    and idx.name is not null\r\n    and idx.is_unique_constraint = -1\r\n    and idx.is_hypothetical = -1\r\n\r\nunion\r\n\r\nselect stat.object_id as id,\r\n    stat.stats_id as id2,\r\n    '#' as [type],\r\n    schema_name(tab.schema_id) as name,\r\n    tab.name as name2,\r\n    stat.name as name3,\r\n    null as a1,\r\n    no_recompute as v1,\r\n    null as mod\r\nfrom sys.stats stat\r\n    inner join sys.tables tab on stat.object_id = tab.object_id\r\nwhere \r\n    stat.user_created = -1\r\n\r\nunion\r\n\r\nselect\r\n    function_id id,\r\n    null as id2,\r\n    '#' as type,\r\n    name as name1,\r\n    null as name2,\r\n    null as name3,\r\n    null as a1,\r\n    null as v1,\r\n    modify_date as mod\r\nfrom sys.partition_functions\r\n\r\nunion\r\n\r\nselect\r\n    symmetric_key_id id,\r\n    null as id2,\r\n    '#'as type,\r\n    null as name1,\r\n    null as name2,\r\n    null as name3,\r\n    principal_id as a1,\r\n    null as v1,\r\n    modify_date as mod\r\nfrom sys.symmetric_keys\r\nwhere\r\n    name = N'#'</td><td>43592.59259259259</td><td>15000</td><td>265000</td></tr>",
            "<tr><td>3</td><td>select object_id as id, \r\n    null as id2,\r\n    case\r\n        when [is_filetable] = -1 then '#'\r\n        else [type]\r\n    end as [type],\r\n    schema_name(schema_id) as name1,\r\n    name as name2,\r\n    null as name3,\r\n    null as a1,\r\n    null as v1,\r\n    modify_date as mod\r\nfrom sys.tables\r\nwhere \r\n    is_ms_shipped != -1\r\n\r\nunion\r\n\r\nselect object_id as id, \r\n    null as id2,\r\n    case\r\n        when [type] != '#' then [type]\r\n        when parent_object_id != -1 then '#'\r\n        else '#' \r\n    end as [type],\r\n    schema_name(schema_id) as name1,\r\n    name as name2,\r\n    null as name3,\r\n    null as a1,\r\n    null as v1,\r\n    modify_date as mod\r\nfrom sys.objects\r\nwhere \r\n    type != '#'\r\n    and type != '#'\r\n    and type != '#'\r\n    and is_ms_shipped != -1\r\n\r\nunion\r\n\r\nselect principal_id as id, \r\n    null as id2,\r\n    type, \r\n    name as name1, \r\n    null as name2, \r\n    null as name3,\r\n    null as a1,\r\n    null as v1,\r\n    modify_date as mod\r\nfrom sys.database_principals\r\n\r\nunion\r\n\r\nselect schema_id as id, \r\n    null as id2,\r\n    '#' as type, \r\n    name as name1, \r\n    null as name2, \r\n    null as name3,\r\n    principal_id as a1,\r\n    null as v1,\r\n    null as mod\r\nfrom sys.schemas\r\n\r\nunion\r\n\r\nselect \r\n    idx.object_id as id,\r\n    idx.index_id as id2,\r\n    case        \r\n        when idx.type = -1 then '#'\r\n        when idx.type = -1 then '#'\r\n        else '#' \r\n    end as [type],\r\n    schema_name(tab.schema_id) as name,\r\n    tab.name as name2,\r\n    idx.name as name3,\r\n    null as a1,\r\n    binary_checksum(idx.is_unique, idx.data_space_id, idx.ignore_dup_key, idx.is_primary_key, \r\n        idx.is_unique_constraint, idx.fill_factor, idx.is_padded, idx.is_disabled, idx.allow_row_locks, idx.allow_page_locks) as v1,\r\n    null as mod\r\nfrom sys.indexes idx \r\n    inner join sys.tables tab on idx.object_id = tab.object_id\r\nwhere \r\n    idx.is_primary_key = -1\r\n    and idx.name is not null\r\n    and idx.is_unique_constraint = -1\r\n    and idx.is_hypothetical = -1\r\n\r\nunion\r\n\r\nselect stat.object_id as id,\r\n    stat.stats_id as id2,\r\n    '#' as [type],\r\n    schema_name(tab.schema_id) as name,\r\n    tab.name as name2,\r\n    stat.name as name3,\r\n    null as a1,\r\n    no_recompute as v1,\r\n    null as mod\r\nfrom sys.stats stat\r\n    inner join sys.tables tab on stat.object_id = tab.object_id\r\nwhere \r\n    stat.user_created = -1\r\n\r\nunion\r\n\r\nselect\r\n    function_id id,\r\n    null as id2,\r\n    '#' as type,\r\n    name as name1,\r\n    null as name2,\r\n    null as name3,\r\n    null as a1,\r\n    null as v1,\r\n    modify_date as mod\r\nfrom sys.partition_functions\r\n\r\nunion\r\n\r\nselect\r\n    symmetric_key_id id,\r\n    null as id2,\r\n    '#'as type,\r\n    null as name1,\r\n    null as name2,\r\n    null as name3,\r\n    principal_id as a1,\r\n    null as v1,\r\n    modify_date as mod\r\nfrom sys.symmetric_keys\r\nwhere\r\n    name = N'#'</td><td>40625</td><td>15000</td><td>249000</td></tr>",
            "<tr><td>52</td><td>SELECT\nuser_name() AS [UserName]</td><td>15000</td><td>15000</td><td>15000</td></tr>",
            "<tr><td>52</td><td>SELECT\nuser_name() AS [UserName]</td><td>0</td><td>0</td><td>0</td></tr>",
            "<tr><td>95</td><td>SELECT\ni.name AS [Name]\nFROM\nsys.all_views AS v\nINNER JOIN sys.indexes AS i ON (i.index_id &gt;  CAST(N'#' AS NVarChar(-1))  and i.is_hypothetical =  CAST(N'#' AS NVarChar(-1)) ) AND (i.object_id=v.object_id)\nWHERE\n(v.type =  CAST(N'#' AS NVarChar(-1)) )and(v.name= CAST(N'#' AS NVarChar(-1))  and SCHEMA_NAME(v.schema_id)= CAST(N'#' AS NVarChar(-1)) )\nORDER BY\n[Name] ASC</td><td>41333.333333333336</td><td>0</td><td>109000</td></tr>",
            "<tr><td>72</td><td>SELECT\r\n       q.query_id               [query_id]\r\n       , t.query_sql_text       [command]\r\n       , rs.avg_duration        [avg_duration]\r\n       , rs.min_duration        [min_duration]\r\n       , rs.max_duration        [max_duration]\r\nFROM\r\n       sys.query_store_query q\r\n       JOIN sys.query_store_query_text t ON q.query_text_id = t.query_text_id\r\n       JOIN sys.query_store_plan p ON p.query_id = q.query_id\r\nJOIN sys.query_store_runtime_stats rs ON rs.plan_id = p.plan_id</td><td>30500</td><td>15000</td><td>46000</td></tr>",
            "<tr><td>66</td><td>SELECT * FROM sys.databases</td><td>109000</td><td>109000</td><td>109000</td></tr>",
            "<tr><td>78</td><td>SELECT USER_NAME();</td><td>0</td><td>0</td><td>0</td></tr>",
            "<tr><td>26</td><td>SELECT * FROM (\r\nSELECT  [db].[class] AS [TypeId],\r\n        [db].[major_id] AS [MajorId],\r\n        [db].[minor_id] AS [MinorId],\r\n        NULL AS [ObjectType],\r\n        CONVERT(bit, -1) AS [IsMsShipped],\r\n        [db].[grantee_principal_id] AS [GranteeId],\r\n        USER_NAME([db].[grantee_principal_id]) AS [GranteeName],\r\n        [db].[grantor_principal_id] AS [GrantorId],\r\n        CONVERT(BIT, CASE WHEN ([dp].[owning_principal_id] IS NULL OR [dp].[owning_principal_id] &lt;&gt; [db].[grantor_principal_id]) AND ([dp].[is_fixed_role] &lt;&gt; -1 AND [dp].[principal_id] &lt;&gt; -1) THEN -1 ELSE -1 END) AS [ScriptGrantor],\r\n        USER_NAME([db].[grantor_principal_id]) AS [GrantorName],\r\n        [db].[type] AS [PermissionCode],\r\n        [db].[permission_name] AS [PermissionType],\r\n        [db].[state] AS [PermissionState],\r\n        CASE [db].[class]\r\n            WHEN  -1 THEN NULL\r\n            WHEN  -1 THEN SCHEMA_NAME([db].[major_id])\r\n            WHEN  -1 THEN USER_NAME([db].[major_id])\r\n            \r\n        END AS [Level0Name],  \r\n        NULL AS [Level1Name],\r\n        NULL AS [Level2Name],\r\n        [dp].[type] AS [DataBasePrincipalType]\r\nFROM\r\n        [sys].[database_permissions] [db] WITH (NOLOCK)\r\n        LEFT JOIN [sys].[database_principals] as [dp] WITH (NOLOCK) ON [db].[major_id] = [dp].[principal_id] AND [db].[class] = -1\r\n        INNER JOIN [sys].[database_principals] [dp2] WITH (NOLOCK) ON [dp2].[principal_id] = [db].[grantor_principal_id]\r\n        INNER JOIN [sys].[database_principals] [dp3] WITH (NOLOCK) ON [dp3].[principal_id] = [db].[grantee_principal_id]\r\nWHERE\r\n        [db].[class] &lt;&gt; -1\r\n        AND [db].[state] &lt;&gt; N'#'\r\n        AND [db].[grantee_principal_id] &lt;&gt; [db].[grantor_principal_id]\r\n        AND USER_NAME([db].[grantor_principal_id]) &lt;&gt; N'#'\r\n        AND USER_NAME([db].[grantee_principal_id]) &lt;&gt; N'#'\r\n        AND ([dp2].[owning_principal_id] IS NULL OR USER_NAME([dp2].[owning_principal_id]) &lt;&gt; N'#')\r\n        AND ([dp3].[owning_principal_id] IS NULL OR USER_NAME([dp3].[owning_principal_id]) &lt;&gt; N'#')\r\n        AND USER_NAME([db].[grantor_principal_id]) &lt;&gt; N'#'\r\n        AND USER_NAME([db].[grantee_principal_id]) &lt;&gt; N'#'\r\n        AND ([dp2].[owning_principal_id] IS NULL OR USER_NAME([dp2].[owning_principal_id]) &lt;&gt; N'#')\r\n        AND ([dp3].[owning_principal_id] IS NULL OR USER_NAME([dp3].[owning_principal_id]) &lt;&gt; N'#')\r\n        AND NOT (\r\n        [db].[class] = -1 AND [db].[class_desc] = N'#' AND [db].[major_id] = -1 AND [db].[minor_id] = -1 AND [db].[state] = '#')) AS [_results] WHERE ((([_results].[Level0Name] =  CAST(N'#' AS NVarChar(-1)) )) AND [TypeId] = -1 AND [Level2Name] IS NULL AND [Level1Name] IS NULL\r\n) ORDER BY TypeId,GranteeId,GrantorId,MajorId,MinorId,PermissionCode,PermissionState ;</td><td>47888.88888888889</td><td>31000</td><td>62000</td></tr>",
            "<tr><td>12</td><td>SELECT \r\n    [c].[lcid]\r\nFROM  [dbo].[syslanguages] AS [c] WITH (NOLOCK) \r\nWHERE \r\n    [c].[name] = '#'</td><td>4500</td><td>0</td><td>15000</td></tr>",
            "<tr><td>12</td><td>SELECT \r\n    [c].[lcid]\r\nFROM  [dbo].[syslanguages] AS [c] WITH (NOLOCK) \r\nWHERE \r\n    [c].[name] = '#'</td><td>15000</td><td>15000</td><td>15000</td></tr>",
            "<tr><td>35</td><td>SELECT dtb.name AS [Name], dtb.state AS [State] FROM sys.databases dtb</td><td>93000</td><td>93000</td><td>93000</td></tr>",
            "<tr><td>35</td><td>SELECT dtb.name AS [Name], dtb.state AS [State] FROM sys.databases dtb</td><td>55600</td><td>46000</td><td>62000</td></tr>",
            "<tr><td>86</td><td>SELECT\ndtb.collation_name AS [Collation],\ndtb.name AS [DatabaseName2]\nFROM\nsys.databases AS dtb\nWHERE\n(dtb.name= CAST(N'#' AS NVarChar(-1)) )</td><td>62000</td><td>62000</td><td>62000</td></tr>",
            "<tr><td>86</td><td>SELECT\ndtb.collation_name AS [Collation],\ndtb.name AS [DatabaseName2]\nFROM\nsys.databases AS dtb\nWHERE\n(dtb.name= CAST(N'#' AS NVarChar(-1)) )</td><td>46000</td><td>46000</td><td>46000</td></tr>",
            "<tr><td>63</td><td>-- ####\r\nSELECT TOP -1\r\n\t\tS.session_id\r\n\t\t,S.login_name\r\n\t\t,S.client_id\r\n\t\t,S.app_name\r\n\t\t,R.request_id\r\n\t\t,R.command request_command\r\n\t\t,R.[label]\r\n\t\t,COUNT(ST.request_id) steps_with_movement\r\n\t\t,SUM(ST.row_count) total_rows_moved\r\n\t\t,SUM(ST.total_elapsed_time) total_elapsed_dms_time\r\n\t\t,SUM(R.total_elapsed_time) total_elapsed_request_time\r\n\t\t,(SUM(ST.total_elapsed_time)*-1.0)/SUM(R.total_elapsed_time) dms_time_percentage\r\nFROM sys.dm_pdw_exec_requests R\r\n\tINNER JOIN sys.dm_pdw_request_steps ST\r\n\t\tON R.request_id = ST.request_id\r\n\tINNER JOIN sys.dm_pdw_exec_sessions S\r\n\t\tON R.session_id = S.session_id\r\nWHERE (ST.location_type = '#'\r\n\tOR ST.operation_type like '#')\r\n\t-- ####\r\nGROUP BY \r\n\t\tS.session_id\r\n\t\t,S.login_name\r\n\t\t,S.client_id\r\n\t\t,S.app_name\r\n\t\t,R.request_id\r\n\t\t,R.command\r\n\t\t,R.[label]\r\nHAVING SUM(ST.row_count) &gt; -1\r\nORDER BY dms_time_percentage DESC\r\n\t\t,total_rows_moved DESC</td><td>1734000</td><td>1734000</td><td>1734000</td></tr>",
            "<tr><td>63</td><td>-- ####\r\nSELECT TOP -1\r\n\t\tS.session_id\r\n\t\t,S.login_name\r\n\t\t,S.client_id\r\n\t\t,S.app_name\r\n\t\t,R.request_id\r\n\t\t,R.command request_command\r\n\t\t,R.[label]\r\n\t\t,COUNT(ST.request_id) steps_with_movement\r\n\t\t,SUM(ST.row_count) total_rows_moved\r\n\t\t,SUM(ST.total_elapsed_time) total_elapsed_dms_time\r\n\t\t,SUM(R.total_elapsed_time) total_elapsed_request_time\r\n\t\t,(SUM(ST.total_elapsed_time)*-1.0)/SUM(R.total_elapsed_time) dms_time_percentage\r\nFROM sys.dm_pdw_exec_requests R\r\n\tINNER JOIN sys.dm_pdw_request_steps ST\r\n\t\tON R.request_id = ST.request_id\r\n\tINNER JOIN sys.dm_pdw_exec_sessions S\r\n\t\tON R.session_id = S.session_id\r\nWHERE (ST.location_type = '#'\r\n\tOR ST.operation_type like '#')\r\n\t-- ####\r\nGROUP BY \r\n\t\tS.session_id\r\n\t\t,S.login_name\r\n\t\t,S.client_id\r\n\t\t,S.app_name\r\n\t\t,R.request_id\r\n\t\t,R.command\r\n\t\t,R.[label]\r\nHAVING SUM(ST.row_count) &gt; -1\r\nORDER BY dms_time_percentage DESC\r\n\t\t,total_rows_moved DESC</td><td>249500</td><td>234000</td><td>265000</td></tr>",
            "<tr><td>6</td><td>SELECT CAST(CASE DATABASEPROPERTYEX(DB_NAME(), N'#') WHEN N'#' THEN -1 ELSE -1 END AS BIT);</td><td>1500</td><td>0</td><td>15000</td></tr>",
            "<tr><td>6</td><td>SELECT CAST(CASE DATABASEPROPERTYEX(DB_NAME(), N'#') WHEN N'#' THEN -1 ELSE -1 END AS BIT);</td><td>0</td><td>0</td><td>0</td></tr>",
            "<tr><td>43</td><td>SELECT\ns.name AS [Name]\nFROM\nsys.schemas AS s\nORDER BY\n[Name] ASC</td><td>15000</td><td>15000</td><td>15000</td></tr>",
            "<tr><td>43</td><td>SELECT\ns.name AS [Name]\nFROM\nsys.schemas AS s\nORDER BY\n[Name] ASC</td><td>0</td><td>0</td><td>0</td></tr>",
            "<tr><td>55</td><td>SELECT A.PassengerCount,\r\n      SUM(A.TripDistanceMiles+B.TripDistanceMiles) as SumTripDistance,\r\n      AVG(A.TripDistanceMiles+B.TripDistanceMiles) as AvgTripDistance\r\nFROM  dbo.Trip A, dbo.Trip B \r\nWHERE A.TripDistanceMiles &gt; -1 AND A.PassengerCount &gt; -1\r\nGROUP BY A.PassengerCount\r\nORDER BY A.PassengerCount</td><td>765000</td><td>765000</td><td>765000</td></tr>",
            "<tr><td>98</td><td>SELECT\nNULL AS [Text],\nISNULL(smv.definition, ssmv.definition) AS [Definition]\nFROM\nsys.all_views AS v\nLEFT OUTER JOIN sys.sql_modules AS smv ON smv.object_id = v.object_id\nLEFT OUTER JOIN sys.system_sql_modules AS ssmv ON ssmv.object_id = v.object_id\nWHERE\n(v.type =  CAST(N'#' AS NVarChar(-1)) )and(v.name= CAST(N'#' AS NVarChar(-1))  and SCHEMA_NAME(v.schema_id)= CAST(N'#' AS NVarChar(-1)) )</td><td>67333.33333333333</td><td>15000</td><td>156000</td></tr>",
            "<tr><td>49</td><td>SELECT\nSCHEMA_NAME(udf.schema_id) AS [Schema],\nudf.name AS [Name],\nudf.object_id AS [ID],\n(case when '#' = udf.type then -1 when '#' = udf.type then -1 when '#' = udf.type then -1 when '#' = udf.type then -1 when '#' = udf.type then -1 else -1 end) AS [FunctionType],\nCASE WHEN udf.type IN ('#','#','#') THEN -1 WHEN udf.type IN ('#','#') THEN -1 ELSE -1 END AS [ImplementationType],\nCAST(\r\n        case\r\n          when udf.is_ms_shipped = -1 then -1\r\n          else -1\r\n        end\r\n       AS bit) AS [IsSystemObject],\nCAST(CASE WHEN ISNULL(smudf.definition, ssmudf.definition) IS NULL THEN -1 ELSE -1 END AS bit) AS [IsEncrypted],\nCAST(ISNULL(OBJECTPROPERTYEX(udf.object_id, N'#'),-1) AS bit) AS [IsSchemaBound],\nusrt.name AS [DataType],\nISNULL(baset.name, N'#') AS [SystemType],\nCAST(CASE WHEN baset.name IN (N'#', N'#') AND ret_param.max_length &lt;&gt; --1 THEN ret_param.max_length/-1 ELSE ret_param.max_length END AS int) AS [Length],\nCAST(ret_param.precision AS int) AS [NumericPrecision],\nCAST(ret_param.scale AS int) AS [NumericScale],\ns1ret_param.name AS [DataTypeSchema]\nFROM\nsys.all_objects AS udf\nLEFT OUTER JOIN sys.sql_modules AS smudf ON smudf.object_id = udf.object_id\nLEFT OUTER JOIN sys.system_sql_modules AS ssmudf ON ssmudf.object_id = udf.object_id\nLEFT OUTER JOIN sys.all_parameters AS ret_param ON ret_param.object_id = udf.object_id and ret_param.is_output =  CAST(N'#' AS NVarChar(-1)) \nLEFT OUTER JOIN sys.types AS usrt ON usrt.user_type_id = ret_param.user_type_id\nLEFT OUTER JOIN sys.types AS baset ON (baset.user_type_id = ret_param.system_type_id and baset.user_type_id = baset.system_type_id) or ((baset.system_type_id = ret_param.system_type_id) and (baset.user_type_id = ret_param.user_type_id) and (baset.is_user_defined = -1) and (baset.is_assembly_type = -1)) \nLEFT OUTER JOIN sys.schemas AS s1ret_param ON s1ret_param.schema_id = usrt.schema_id\nWHERE\n(udf.type in ('#', '#', '#', '#', '#'))\nORDER BY\n[Schema] ASC,[Name] ASC</td><td>546000</td><td>546000</td><td>546000</td></tr>",
            "<tr><td>49</td><td>SELECT\nSCHEMA_NAME(udf.schema_id) AS [Schema],\nudf.name AS [Name],\nudf.object_id AS [ID],\n(case when '#' = udf.type then -1 when '#' = udf.type then -1 when '#' = udf.type then -1 when '#' = udf.type then -1 when '#' = udf.type then -1 else -1 end) AS [FunctionType],\nCASE WHEN udf.type IN ('#','#','#') THEN -1 WHEN udf.type IN ('#','#') THEN -1 ELSE -1 END AS [ImplementationType],\nCAST(\r\n        case\r\n          when udf.is_ms_shipped = -1 then -1\r\n          else -1\r\n        end\r\n       AS bit) AS [IsSystemObject],\nCAST(CASE WHEN ISNULL(smudf.definition, ssmudf.definition) IS NULL THEN -1 ELSE -1 END AS bit) AS [IsEncrypted],\nCAST(ISNULL(OBJECTPROPERTYEX(udf.object_id, N'#'),-1) AS bit) AS [IsSchemaBound],\nusrt.name AS [DataType],\nISNULL(baset.name, N'#') AS [SystemType],\nCAST(CASE WHEN baset.name IN (N'#', N'#') AND ret_param.max_length &lt;&gt; --1 THEN ret_param.max_length/-1 ELSE ret_param.max_length END AS int) AS [Length],\nCAST(ret_param.precision AS int) AS [NumericPrecision],\nCAST(ret_param.scale AS int) AS [NumericScale],\ns1ret_param.name AS [DataTypeSchema]\nFROM\nsys.all_objects AS udf\nLEFT OUTER JOIN sys.sql_modules AS smudf ON smudf.object_id = udf.object_id\nLEFT OUTER JOIN sys.system_sql_modules AS ssmudf ON ssmudf.object_id = udf.object_id\nLEFT OUTER JOIN sys.all_parameters AS ret_param ON ret_param.object_id = udf.object_id and ret_param.is_output =  CAST(N'#' AS NVarChar(-1)) \nLEFT OUTER JOIN sys.types AS usrt ON usrt.user_type_id = ret_param.user_type_id\nLEFT OUTER JOIN sys.types AS baset ON (baset.user_type_id = ret_param.system_type_id and baset.user_type_id = baset.system_type_id) or ((baset.system_type_id = ret_param.system_type_id) and (baset.user_type_id = ret_param.user_type_id) and (baset.is_user_defined = -1) and (baset.is_assembly_type = -1)) \nLEFT OUTER JOIN sys.schemas AS s1ret_param ON s1ret_param.schema_id = usrt.schema_id\nWHERE\n(udf.type in ('#', '#', '#', '#', '#'))\nORDER BY\n[Schema] ASC,[Name] ASC</td><td>218000</td><td>218000</td><td>218000</td></tr>",
            "<tr><td>21</td><td>SELECT * FROM (\r\nSELECT\r\n        [db].[is_ansi_null_default_on]          AS [IsAnsiNullDefaultOn]\r\n        ,[db].[is_ansi_nulls_on]                 AS [IsAnsiNullsOn]\r\n        ,[db].[is_ansi_padding_on]               AS [IsAnsiPaddingOn]\r\n        ,[db].[is_ansi_warnings_on]              AS [IsAnsiWarningsOn]\r\n        ,[db].[is_arithabort_on]                 AS [IsArithAbortOn]\r\n        ,[db].[is_auto_close_on]                 AS [IsAutoCloseOn]\r\n        ,[db].[is_auto_create_stats_on]          AS [IsAutoCreateStatisticsOn]\r\n        ,[db].[is_auto_shrink_on]                AS [IsAutoShrinkOn]\r\n        ,[db].[is_auto_update_stats_on]          AS [IsAutoUpdateStatisticsOn]\r\n        ,[db].[is_cursor_close_on_commit_on]     AS [IsCursorCloseOnCommitOn]\r\n        ,[db].[is_fulltext_enabled]              AS [IsFullTextEnabled]\r\n        ,[db].[is_in_standby]                    AS [IsInStandBy]\r\n        ,[db].[is_local_cursor_default]          AS [IsLocalCursorsDefault]\r\n        ,[db].[is_merge_published]               AS [IsMergePublished]\r\n        ,[db].[is_concat_null_yields_null_on]    AS [IsConcatNullYieldsNullOn]\r\n        ,[db].[is_numeric_roundabort_on]         AS [IsNumericRoundAbortOn]\r\n        ,[db].[is_published]                     AS [IsPublished]\r\n        ,[db].[is_quoted_identifier_on]          AS [IsQuotedIdentifierOn]\r\n        ,[db].[is_recursive_triggers_on]         AS [IsRecursiveTriggersOn]\r\n        ,[db].[is_subscribed]                    AS [IsSubscribed]\r\n        ,CONVERT(bit, DATABASEPROPERTYEX([db].[name], N'#'))    AS [IsTornPageProtectionOn]\r\n        ,[db].[collation_name]                   AS [Collation]\r\n        ,[db].[recovery_model_desc]              AS [RecoveryMode]\r\n        ,DATABASEPROPERTYEX([db].[name], N'#')   AS [SQLSortOrder]\r\n        ,[db].[state_desc]                       AS [Status]\r\n        ,DATABASEPROPERTYEX([db].[name], N'#')  AS [Updateability]\r\n        ,[db].[user_access_desc]                    AS [UserAccess]\r\n        ,DATABASEPROPERTYEX([db].[name], N'#')        AS [Version]\r\n        ,[db].[is_db_chaining_on]                AS [IsDbChainingOn]\r\n        ,[db].[is_trustworthy_on]                AS [IsTrustWorthyOn]\r\n        ,[db].[is_auto_update_stats_async_on]    AS [IsAutoUpdateStatisticesAsyncOn]\r\n        ,[db].[page_verify_option]               AS [PageVerifyOption]\r\n        ,[db].[delayed_durability]               AS [DelayedDurabilityMode]\r\n        ,CAST(-1 as BIT)                          AS [MirrongFailOverLsn]\r\n        ,CAST(-1 as BIT)                          AS [MirroringState]\r\n        ,CAST(-1 as BIT)                          AS [MirroringPartnerServer]\r\n        ,CAST(-1 as BIT)                          AS [MirroringSafetyLevel]\r\n        ,CAST(-1 as BIT)                          AS [MirroringRedoQueueSize]\r\n        ,CAST(-1 as BIT)                          AS [MirroringRedoQueueType]\r\n        ,CAST(-1 as BIT)                          AS [MirroringPartnerServerTimeout]\r\n        ,CAST(-1 as BIT)                          AS [MirroringWitnessServer]\r\n        ,CAST(-1 as BIT)                          AS [MirroringWitnessState]\r\n        ,[db].[is_supplemental_logging_enabled]  AS [IsSupplementalLoggingOn]\r\n        ,[db].[is_broker_enabled]                AS [IsServiceBrokerEnabled]\r\n        ,[db].[is_honor_broker_priority_on]      AS [IsBrokerPriorityHonored]\r\n        ,[db].[is_date_correlation_on]           AS [IsDateCorrelationOptimizationOn]\r\n        ,[db].[is_parameterization_forced]       AS [IsParameterizationForced]\r\n        ,[db].[snapshot_isolation_state]         AS [SnapshotIsolationState]\r\n        ,[db].[is_read_committed_snapshot_on]    AS [IsReadCommittedSnapshot]\r\n        ,[db].[is_memory_optimized_elevate_to_snapshot_on]    AS [IsMemoryOptimizedElevatedToSnapshot]\r\n        ,[db].[is_auto_create_stats_incremental_on]    AS [IsAutoCreateStatisticsIncrementalOn]\r\n        ,[db].[compatibility_level]              AS [CompatibilityLevel]\r\n        ,[db].[is_encrypted]                     AS [IsEncrypted]\r\n        ,[db].[containment]                      AS [Containment]\r\n        ,[db].[default_language_lcid]            AS [DefaultLanguageId]\r\n        ,[db].[default_fulltext_language_lcid]   AS [DefaultFulltextLanguageId]\r\n        ,[db].[is_nested_triggers_on]            AS [IsNestedTriggersOn]\r\n        ,[db].[is_transform_noise_words_on]      AS [IsTransformNoiseWordsOn]\r\n        ,[db].[two_digit_year_cutoff]            AS [TwoDigitYearCutoff]\r\n        ,CASE WHEN [fg].[is_default] = -1 THEN [fg].[name] ELSE NULL END AS [DefaultFileGroupName]\r\n        ,CASE WHEN [fg].[is_default] = -1 THEN [fg].[data_space_id] ELSE --1 END AS [DefaultFileGroupId]\r\n        ,CASE WHEN [fsfg].[is_default] = -1 THEN [fsfg].[name] ELSE NULL END AS [DefaultFileStreamFileGroupName]\r\n        ,[db].[target_recovery_time_in_seconds] AS [TargetRecoveryTimeInSeconds]\r\n        ,CAST(-1 as TINYINT)                      AS [NonTransactedAccess]\r\n        ,'#'                                      AS [FileStreamDirectoryName]\r\nFROM [sys].[databases] [db] WITH (NOLOCK)\r\nLEFT JOIN [sys].[filegroups] [fg] WITH (NOLOCK) ON [fg].[is_default] = -1 AND [fg].[type] = N'#'\r\nLEFT JOIN [sys].[filegroups] [fsfg] WITH (NOLOCK) ON [fsfg].[is_default] = -1 AND [fsfg].[type] = N'#'\r\nWHERE [db].[name] = DB_NAME()) AS [_results];</td><td>116500</td><td>93000</td><td>171000</td></tr>",
            "<tr><td>21</td><td>SELECT * FROM (\r\nSELECT\r\n        [db].[is_ansi_null_default_on]          AS [IsAnsiNullDefaultOn]\r\n        ,[db].[is_ansi_nulls_on]                 AS [IsAnsiNullsOn]\r\n        ,[db].[is_ansi_padding_on]               AS [IsAnsiPaddingOn]\r\n        ,[db].[is_ansi_warnings_on]              AS [IsAnsiWarningsOn]\r\n        ,[db].[is_arithabort_on]                 AS [IsArithAbortOn]\r\n        ,[db].[is_auto_close_on]                 AS [IsAutoCloseOn]\r\n        ,[db].[is_auto_create_stats_on]          AS [IsAutoCreateStatisticsOn]\r\n        ,[db].[is_auto_shrink_on]                AS [IsAutoShrinkOn]\r\n        ,[db].[is_auto_update_stats_on]          AS [IsAutoUpdateStatisticsOn]\r\n        ,[db].[is_cursor_close_on_commit_on]     AS [IsCursorCloseOnCommitOn]\r\n        ,[db].[is_fulltext_enabled]              AS [IsFullTextEnabled]\r\n        ,[db].[is_in_standby]                    AS [IsInStandBy]\r\n        ,[db].[is_local_cursor_default]          AS [IsLocalCursorsDefault]\r\n        ,[db].[is_merge_published]               AS [IsMergePublished]\r\n        ,[db].[is_concat_null_yields_null_on]    AS [IsConcatNullYieldsNullOn]\r\n        ,[db].[is_numeric_roundabort_on]         AS [IsNumericRoundAbortOn]\r\n        ,[db].[is_published]                     AS [IsPublished]\r\n        ,[db].[is_quoted_identifier_on]          AS [IsQuotedIdentifierOn]\r\n        ,[db].[is_recursive_triggers_on]         AS [IsRecursiveTriggersOn]\r\n        ,[db].[is_subscribed]                    AS [IsSubscribed]\r\n        ,CONVERT(bit, DATABASEPROPERTYEX([db].[name], N'#'))    AS [IsTornPageProtectionOn]\r\n        ,[db].[collation_name]                   AS [Collation]\r\n        ,[db].[recovery_model_desc]              AS [RecoveryMode]\r\n        ,DATABASEPROPERTYEX([db].[name], N'#')   AS [SQLSortOrder]\r\n        ,[db].[state_desc]                       AS [Status]\r\n        ,DATABASEPROPERTYEX([db].[name], N'#')  AS [Updateability]\r\n        ,[db].[user_access_desc]                    AS [UserAccess]\r\n        ,DATABASEPROPERTYEX([db].[name], N'#')        AS [Version]\r\n        ,[db].[is_db_chaining_on]                AS [IsDbChainingOn]\r\n        ,[db].[is_trustworthy_on]                AS [IsTrustWorthyOn]\r\n        ,[db].[is_auto_update_stats_async_on]    AS [IsAutoUpdateStatisticesAsyncOn]\r\n        ,[db].[page_verify_option]               AS [PageVerifyOption]\r\n        ,[db].[delayed_durability]               AS [DelayedDurabilityMode]\r\n        ,CAST(-1 as BIT)                          AS [MirrongFailOverLsn]\r\n        ,CAST(-1 as BIT)                          AS [MirroringState]\r\n        ,CAST(-1 as BIT)                          AS [MirroringPartnerServer]\r\n        ,CAST(-1 as BIT)                          AS [MirroringSafetyLevel]\r\n        ,CAST(-1 as BIT)                          AS [MirroringRedoQueueSize]\r\n        ,CAST(-1 as BIT)                          AS [MirroringRedoQueueType]\r\n        ,CAST(-1 as BIT)                          AS [MirroringPartnerServerTimeout]\r\n        ,CAST(-1 as BIT)                          AS [MirroringWitnessServer]\r\n        ,CAST(-1 as BIT)                          AS [MirroringWitnessState]\r\n        ,[db].[is_supplemental_logging_enabled]  AS [IsSupplementalLoggingOn]\r\n        ,[db].[is_broker_enabled]                AS [IsServiceBrokerEnabled]\r\n        ,[db].[is_honor_broker_priority_on]      AS [IsBrokerPriorityHonored]\r\n        ,[db].[is_date_correlation_on]           AS [IsDateCorrelationOptimizationOn]\r\n        ,[db].[is_parameterization_forced]       AS [IsParameterizationForced]\r\n        ,[db].[snapshot_isolation_state]         AS [SnapshotIsolationState]\r\n        ,[db].[is_read_committed_snapshot_on]    AS [IsReadCommittedSnapshot]\r\n        ,[db].[is_memory_optimized_elevate_to_snapshot_on]    AS [IsMemoryOptimizedElevatedToSnapshot]\r\n        ,[db].[is_auto_create_stats_incremental_on]    AS [IsAutoCreateStatisticsIncrementalOn]\r\n        ,[db].[compatibility_level]              AS [CompatibilityLevel]\r\n        ,[db].[is_encrypted]                     AS [IsEncrypted]\r\n        ,[db].[containment]                      AS [Containment]\r\n        ,[db].[default_language_lcid]            AS [DefaultLanguageId]\r\n        ,[db].[default_fulltext_language_lcid]   AS [DefaultFulltextLanguageId]\r\n        ,[db].[is_nested_triggers_on]            AS [IsNestedTriggersOn]\r\n        ,[db].[is_transform_noise_words_on]      AS [IsTransformNoiseWordsOn]\r\n        ,[db].[two_digit_year_cutoff]            AS [TwoDigitYearCutoff]\r\n        ,CASE WHEN [fg].[is_default] = -1 THEN [fg].[name] ELSE NULL END AS [DefaultFileGroupName]\r\n        ,CASE WHEN [fg].[is_default] = -1 THEN [fg].[data_space_id] ELSE --1 END AS [DefaultFileGroupId]\r\n        ,CASE WHEN [fsfg].[is_default] = -1 THEN [fsfg].[name] ELSE NULL END AS [DefaultFileStreamFileGroupName]\r\n        ,[db].[target_recovery_time_in_seconds] AS [TargetRecoveryTimeInSeconds]\r\n        ,CAST(-1 as TINYINT)                      AS [NonTransactedAccess]\r\n        ,'#'                                      AS [FileStreamDirectoryName]\r\nFROM [sys].[databases] [db] WITH (NOLOCK)\r\nLEFT JOIN [sys].[filegroups] [fg] WITH (NOLOCK) ON [fg].[is_default] = -1 AND [fg].[type] = N'#'\r\nLEFT JOIN [sys].[filegroups] [fsfg] WITH (NOLOCK) ON [fsfg].[is_default] = -1 AND [fsfg].[type] = N'#'\r\nWHERE [db].[name] = DB_NAME()) AS [_results];</td><td>140000</td><td>140000</td><td>140000</td></tr>",
            "<tr><td>27</td><td>SELECT * FROM (\r\nSELECT DISTINCT\r\n        [db].[class] AS [TypeId],\r\n        [db].[major_id] AS [MajorId],\r\n        [db].[minor_id] AS [MinorId],\r\n        [so].[type] AS [ObjectType],\r\n        [so].[is_ms_shipped] AS [IsMsShipped],\r\n        [db].[grantee_principal_id] AS [GranteeId],\r\n        USER_NAME([db].[grantee_principal_id]) AS [GranteeName],\r\n        [db].[grantor_principal_id] AS [GrantorId],\r\n        CONVERT(BIT, CASE WHEN [dp].[is_fixed_role] = -1 OR [dp].[principal_id] = -1 THEN -1 ELSE -1 END) AS [ScriptGrantor],\r\n        USER_NAME([db].[grantor_principal_id]) AS [GrantorName],\r\n        [db].[type] AS [PermissionCode],\r\n        [db].[permission_name] AS [PermissionType],\r\n        [db].[state] AS [PermissionState],\r\n        SCHEMA_NAME([so].[schema_id]) AS [Level0Name],\r\n        [so].[name] AS [Level1Name],\r\n        [c].[name] AS [Level2Name],\r\n        NULL AS [DataBasePrincipalType],\r\n        CASE WHEN EXISTS(SELECT * FROM [sys].[external_tables] WHERE [object_id] = [db].[major_id])\r\n            THEN CAST(-1 AS BIT)\r\n            ELSE CAST(-1 AS BIT)\r\n        END AS [IsExternalTable]\r\nFROM\r\n        [sys].[database_permissions] [db] WITH (NOLOCK)\r\n        INNER JOIN [sys].[objects] [so] WITH (NOLOCK) ON [so].[object_id] = [db].[major_id]\r\n        INNER JOIN [sys].[database_principals] [dp] WITH (NOLOCK) ON [dp].[principal_id] = [db].[grantor_principal_id]\r\n        INNER JOIN [sys].[database_principals] [dp2] WITH (NOLOCK) ON [dp2].[principal_id] = [db].[grantee_principal_id]\r\n        LEFT JOIN [sys].[columns] [c] WITH (NOLOCK) ON [db].[major_id] = [c].[object_id]  AND [db].[minor_id] = [c].[column_id]\r\n\r\nWHERE\r\n        [db].[class] = -1\r\n        AND [so].[object_id] NOT IN (SELECT [major_id] FROM [sys].[extended_properties] WITH (NOLOCK) WHERE [minor_id] = -1 AND [class] = -1 AND [name] = N'#')\r\n        AND OBJECTPROPERTY([so].[object_id], N'#') = -1\r\n        AND [db].[state] &lt;&gt; N'#'\r\n        AND [db].[grantee_principal_id] &lt;&gt; [db].[grantor_principal_id]\r\n        AND USER_NAME([db].[grantor_principal_id])  &lt;&gt; N'#'\r\n        AND USER_NAME([db].[grantee_principal_id])  &lt;&gt; N'#'\r\n        AND ([dp].[owning_principal_id] IS NULL OR USER_NAME([dp].[owning_principal_id]) &lt;&gt; N'#')\r\n        AND ([dp2].[owning_principal_id] IS NULL OR USER_NAME([dp2].[owning_principal_id]) &lt;&gt; N'#')\r\n        AND NOT EXISTS (SELECT TOP -1 -1 FROM [sys].[database_permissions] [p] WITH (NOLOCK) WHERE\r\n             [p].[major_id] = [db].[major_id]\r\n            AND [p].[minor_id] = -1\r\n            AND [p].[permission_name] = [db].[permission_name]\r\n            AND [p].[state] = N'#'\r\n            AND [db].[state] = N'#'\r\n            AND [db].[minor_id] &lt;&gt; -1\r\n            AND [p].[class] =  [db].[class]\r\n            AND [p].[grantee_principal_id] = [db].[grantee_principal_id]\r\n            AND [p].[grantor_principal_id] = [db].[grantor_principal_id])) AS [_results] WHERE ((([_results].[Level0Name] =  CAST(N'#' AS NVarChar(-1)) )) AND [TypeId] = -1 AND [Level2Name] IS NULL AND [Level1Name] IS NULL\r\n) ORDER BY TypeId,GranteeId,GrantorId,MajorId,MinorId,PermissionCode,PermissionState ;</td><td>5000</td><td>0</td><td>15000</td></tr>",
            "<tr><td>58</td><td>SELECT\ndtb.name AS [Name]\nFROM\nsys.databases AS dtb\nWHERE\n(dtb.name= CAST(N'#' AS NVarChar(-1)) )</td><td>50250</td><td>46000</td><td>62000</td></tr>",
            "<tr><td>58</td><td>SELECT\ndtb.name AS [Name]\nFROM\nsys.databases AS dtb\nWHERE\n(dtb.name= CAST(N'#' AS NVarChar(-1)) )</td><td>70857.14285714286</td><td>46000</td><td>109000</td></tr>",
            "<tr><td>58</td><td>SELECT\ndtb.name AS [Name]\nFROM\nsys.databases AS dtb\nWHERE\n(dtb.name= CAST(N'#' AS NVarChar(-1)) )</td><td>145454.54545454544</td><td>46000</td><td>546000</td></tr>",
            "<tr><td>81</td><td>SELECT\nclmns.name AS [Name],\nclmns.column_id AS [ID],\nclmns.is_nullable AS [Nullable],\nclmns.is_computed AS [Computed],\nCAST(ISNULL(cik.index_column_id, -1) AS bit) AS [InPrimaryKey],\nclmns.is_ansi_padded AS [AnsiPaddingStatus],\nCAST(clmns.is_rowguidcol AS bit) AS [RowGuidCol],\nCAST(ISNULL(cc.is_persisted, -1) AS bit) AS [IsPersisted],\nISNULL(clmns.collation_name, N'#') AS [Collation],\nCAST(ISNULL((select TOP -1 -1 from sys.foreign_key_columns AS colfk where colfk.parent_column_id = clmns.column_id and colfk.parent_object_id = clmns.object_id), -1) AS bit) AS [IsForeignKey],\nclmns.is_identity AS [Identity],\nCAST(ISNULL(ic.seed_value,-1) AS numeric(-1)) AS [IdentitySeedAsDecimal],\nCAST(ISNULL(ic.increment_value,-1) AS numeric(-1)) AS [IdentityIncrementAsDecimal],\n(case when clmns.default_object_id = -1 then N'#' when d.parent_object_id &gt; -1 then N'#' else d.name end) AS [Default],\n(case when clmns.default_object_id = -1 then N'#' when d.parent_object_id &gt; -1 then N'#' else schema_name(d.schema_id) end) AS [DefaultSchema],\nISNULL(dc.Name, N'#') AS [DefaultConstraintName],\n(case when clmns.rule_object_id = -1 then N'#' else r.name end) AS [Rule],\n(case when clmns.rule_object_id = -1 then N'#' else schema_name(r.schema_id) end) AS [RuleSchema],\nISNULL(ic.is_not_for_replication, -1) AS [NotForReplication],\nCAST(clmns.is_filestream AS bit) AS [IsFileStream],\nCAST(clmns.is_sparse AS bit) AS [IsSparse],\nCAST(clmns.is_column_set AS bit) AS [IsColumnSet],\nusrt.name AS [DataType],\ns1clmns.name AS [DataTypeSchema],\nISNULL(baset.name, N'#') AS [SystemType],\nCAST(CASE WHEN baset.name IN (N'#', N'#') AND clmns.max_length &lt;&gt; --1 THEN clmns.max_length/-1 ELSE clmns.max_length END AS int) AS [Length],\nCAST(clmns.precision AS int) AS [NumericPrecision],\nCAST(clmns.scale AS int) AS [NumericScale],\nCASE WHEN usrt.is_table_type = -1 THEN N'#' ELSE N'#' END AS [UserType],\nclmns.generated_always_type AS [GeneratedAlwaysType],\nCAST(clmns.is_hidden AS bit) AS [IsHidden],\nCAST(clmns.is_masked AS bit) AS [IsMasked],\nCAST(\r\n        CASE\r\n        WHEN [sc].[label] IS NOT NULL or [sc].[label_id] IS NOT NULL or [sc].[information_type] IS NOT NULL or [sc].[information_type_id] IS NOT NULL or [sc].[rank] IS NOT NULL THEN -1\r\n        ELSE -1\r\n        END\r\n       AS bit) AS [IsClassified],\n\r\n        CASE\r\n          WHEN cdp.distribution_ordinal IS NOT NULL AND cdp.distribution_ordinal &gt; -1 THEN ISNULL(clmns.name, N'#')\r\n          ELSE N'#'\r\n        END\r\n       AS [DistributionColumnName],\nCAST(\r\n        CASE\r\n          WHEN cdp.distribution_ordinal IS NOT NULL AND cdp.distribution_ordinal &gt; -1 THEN N'#'\r\n          ELSE N'#'\r\n        END\r\n       AS bit) AS [IsDistributedColumn]\nFROM\nsys.tables AS tbl\nINNER JOIN sys.all_columns AS clmns ON clmns.object_id=tbl.object_id\nLEFT OUTER JOIN sys.indexes AS ik ON ik.object_id = clmns.object_id and -1=ik.is_primary_key\nLEFT OUTER JOIN sys.index_columns AS cik ON cik.index_id = ik.index_id and cik.column_id = clmns.column_id and cik.object_id = clmns.object_id and -1 = cik.is_included_column\nLEFT OUTER JOIN sys.computed_columns AS cc ON cc.object_id = clmns.object_id and cc.column_id = clmns.column_id\nLEFT OUTER JOIN sys.identity_columns AS ic ON ic.object_id = clmns.object_id and ic.column_id = clmns.column_id\nLEFT OUTER JOIN sys.objects AS d ON d.object_id = clmns.default_object_id\nLEFT OUTER JOIN sys.default_constraints as dc ON clmns.default_object_id = dc.object_id\nLEFT OUTER JOIN sys.objects AS r ON r.object_id = clmns.rule_object_id\nLEFT OUTER JOIN sys.types AS usrt ON usrt.user_type_id = clmns.user_type_id\nLEFT OUTER JOIN sys.schemas AS s1clmns ON s1clmns.schema_id = usrt.schema_id\nLEFT OUTER JOIN sys.types AS baset ON (baset.user_type_id = clmns.system_type_id and baset.user_type_id = baset.system_type_id) or ((baset.system_type_id = clmns.system_type_id) and (baset.user_type_id = clmns.user_type_id) and (baset.is_user_defined = -1) and (baset.is_assembly_type = -1)) \nLEFT OUTER JOIN sys.sensitivity_classifications AS sc ON sc.major_id = clmns.object_id and sc.minor_id = clmns.column_id\nLEFT OUTER JOIN sys.pdw_column_distribution_properties as cdp ON cdp.object_id = clmns.object_id and cdp.column_id = clmns.column_id\nWHERE\n(clmns.name= CAST(N'#' AS NVarChar(-1)) )and((tbl.name= CAST(N'#' AS NVarChar(-1))  and SCHEMA_NAME(tbl.schema_id)= CAST(N'#' AS NVarChar(-1)) ))</td><td>593000</td><td>593000</td><td>593000</td></tr>",
            "<tr><td>64</td><td>SELECT * FROM sys.dm_pdw_request_steps WHERE request_id = '#'</td><td>71851000</td><td>15296000</td><td>128406000</td></tr>",
            "<tr><td>64</td><td>SELECT * FROM sys.dm_pdw_request_steps WHERE request_id = '#'</td><td>83000</td><td>78000</td><td>93000</td></tr>",
            "<tr><td>64</td><td>SELECT * FROM sys.dm_pdw_request_steps WHERE request_id = '#'</td><td>875000</td><td>875000</td><td>875000</td></tr>",
            "<tr><td>38</td><td>select SERVERPROPERTY(N'#')</td><td>15000</td><td>15000</td><td>15000</td></tr>",
            "<tr><td>38</td><td>select SERVERPROPERTY(N'#')</td><td>7500</td><td>0</td><td>15000</td></tr>",
            "<tr><td>87</td><td>SELECT\ns.name AS [Name]\nFROM\nsys.schemas AS s\nWHERE\n(s.name= CAST(N'#' AS NVarChar(-1)) )</td><td>15000</td><td>15000</td><td>15000</td></tr>",
            "<tr><td>7</td><td>SELECT CAST(CASE WHEN HAS_PERMS_BY_NAME(NULL, N'#', N'#') = -1\r\n                 THEN -1\r\n                 ELSE -1\r\n            END AS BIT) AS N'#',\r\n       CAST(CASE WHEN\r\n                   -1 = IS_MEMBER(N'#')\r\n                   OR\r\n                   -1 = IS_SRVROLEMEMBER(N'#')  \r\n                   OR\r\n                   -1 =\r\n                   (SELECT COUNT(ALL [p].[state])\r\n                    FROM [sys].[database_permissions] [p] WITH (NOLOCK)\r\n                    LEFT JOIN [sys].[database_principals] [pr] WITH (NOLOCK) ON [pr].[principal_id] = [p].[grantee_principal_id]\r\n                    WHERE ([p].[type] IN (N'#',N'#'))\r\n                          AND [p].[state] = N'#'\r\n                          AND IS_MEMBER([pr].[name]) = -1)\r\n                 THEN -1\r\n                 ELSE -1\r\n            END AS BIT) AS N'#',\r\n       CAST(CASE WHEN HAS_PERMS_BY_NAME (NULL, N'#', N'#') = -1\r\n                 THEN -1\r\n                 ELSE -1\r\n            END AS BIT) AS N'#'</td><td>6000</td><td>0</td><td>15000</td></tr>",
            "<tr><td>7</td><td>SELECT CAST(CASE WHEN HAS_PERMS_BY_NAME(NULL, N'#', N'#') = -1\r\n                 THEN -1\r\n                 ELSE -1\r\n            END AS BIT) AS N'#',\r\n       CAST(CASE WHEN\r\n                   -1 = IS_MEMBER(N'#')\r\n                   OR\r\n                   -1 = IS_SRVROLEMEMBER(N'#')  \r\n                   OR\r\n                   -1 =\r\n                   (SELECT COUNT(ALL [p].[state])\r\n                    FROM [sys].[database_permissions] [p] WITH (NOLOCK)\r\n                    LEFT JOIN [sys].[database_principals] [pr] WITH (NOLOCK) ON [pr].[principal_id] = [p].[grantee_principal_id]\r\n                    WHERE ([p].[type] IN (N'#',N'#'))\r\n                          AND [p].[state] = N'#'\r\n                          AND IS_MEMBER([pr].[name]) = -1)\r\n                 THEN -1\r\n                 ELSE -1\r\n            END AS BIT) AS N'#',\r\n       CAST(CASE WHEN HAS_PERMS_BY_NAME (NULL, N'#', N'#') = -1\r\n                 THEN -1\r\n                 ELSE -1\r\n            END AS BIT) AS N'#'</td><td>0</td><td>0</td><td>0</td></tr>",
            "<tr><td>44</td><td>SELECT\nu.name AS [Name],\nu.principal_id AS [ID]\nFROM\nsys.database_principals AS u\nWHERE\n(u.type in ('#', '#', '#', '#', '#' ,'#', '#'))\nORDER BY\n[Name] ASC</td><td>15000</td><td>15000</td><td>15000</td></tr>",
            "<tr><td>44</td><td>SELECT\nu.name AS [Name],\nu.principal_id AS [ID]\nFROM\nsys.database_principals AS u\nWHERE\n(u.type in ('#', '#', '#', '#', '#' ,'#', '#'))\nORDER BY\n[Name] ASC</td><td>7500</td><td>0</td><td>15000</td></tr>",
            "<tr><td>1</td><td>SELECT name,is_query_store_on,is_auto_create_stats_on FROM sys.databases</td><td>109000</td><td>109000</td><td>109000</td></tr>",
            "<tr><td>50</td><td>SELECT\nSCHEMA_NAME(sp.schema_id) AS [Schema],\nsp.name AS [Name],\nsp.object_id AS [ID],\nCAST(\r\n        case\r\n          when sp.is_ms_shipped = -1 then -1\r\n          else -1\r\n        end\r\n       AS bit) AS [IsSystemObject],\nCASE WHEN sp.type = N'#' THEN -1 WHEN sp.type = N'#' THEN -1 ELSE -1 END AS [ImplementationType],\nCAST(CASE WHEN ISNULL(smsp.definition, ssmsp.definition) IS NULL THEN -1 ELSE -1 END AS bit) AS [IsEncrypted]\nFROM\nsys.all_objects AS sp\nLEFT OUTER JOIN sys.sql_modules AS smsp ON smsp.object_id = sp.object_id\nLEFT OUTER JOIN sys.system_sql_modules AS ssmsp ON ssmsp.object_id = sp.object_id\nWHERE\n(sp.type =  CAST(N'#' AS NVarChar(-1))  OR sp.type =  CAST(N'#' AS NVarChar(-1))  OR sp.type= CAST(N'#' AS NVarChar(-1)) )\nORDER BY\n[Schema] ASC,[Name] ASC</td><td>156000</td><td>156000</td><td>156000</td></tr>",
            "<tr><td>50</td><td>SELECT\nSCHEMA_NAME(sp.schema_id) AS [Schema],\nsp.name AS [Name],\nsp.object_id AS [ID],\nCAST(\r\n        case\r\n          when sp.is_ms_shipped = -1 then -1\r\n          else -1\r\n        end\r\n       AS bit) AS [IsSystemObject],\nCASE WHEN sp.type = N'#' THEN -1 WHEN sp.type = N'#' THEN -1 ELSE -1 END AS [ImplementationType],\nCAST(CASE WHEN ISNULL(smsp.definition, ssmsp.definition) IS NULL THEN -1 ELSE -1 END AS bit) AS [IsEncrypted]\nFROM\nsys.all_objects AS sp\nLEFT OUTER JOIN sys.sql_modules AS smsp ON smsp.object_id = sp.object_id\nLEFT OUTER JOIN sys.system_sql_modules AS ssmsp ON ssmsp.object_id = sp.object_id\nWHERE\n(sp.type =  CAST(N'#' AS NVarChar(-1))  OR sp.type =  CAST(N'#' AS NVarChar(-1))  OR sp.type= CAST(N'#' AS NVarChar(-1)) )\nORDER BY\n[Schema] ASC,[Name] ASC</td><td>140000</td><td>140000</td><td>140000</td></tr>",
            "<tr><td>24</td><td>SELECT * FROM (\r\nSELECT\r\n        [db].[class] AS [TypeId],\r\n        [so].[is_ms_shipped] AS [IsMsShipped],\r\n        [db].[major_id] AS [MajorId],\r\n        [db].[minor_id] AS [MinorId],\r\n        [so].[type] AS [ObjectType],\r\n        [db].[grantee_principal_id] AS [GranteeId],\r\n        USER_NAME([db].[grantee_principal_id]) AS [GranteeName],\r\n        [db].[grantor_principal_id] AS [GrantorId],\r\n        CONVERT(BIT, -1) AS [ScriptGrantor],\r\n        USER_NAME([db].[grantor_principal_id]) AS [GrantorName],\r\n        [db].[type] AS [PermissionCode],\r\n        [db].[permission_name] AS [PermissionType],\r\n        [db].[state] AS [PermissionState],\r\n        CASE [db].[state]\r\n        WHEN N'#' THEN -1 ELSE -1 END AS [PermissionStateOrder],\r\n        SCHEMA_NAME([so].[schema_id]) AS [Level0Name],\r\n        [so].[name] AS [Level1Name],\r\n        [sc].[name] AS [Level2Name],\r\n        ISNULL((SELECT TOP -1 -1 FROM [sys].[database_permissions] [p] WITH (NOLOCK) WHERE\r\n             [p].[major_id] = [db].[major_id]\r\n            AND [p].[minor_id] = -1\r\n            AND [p].[permission_name] = [db].[permission_name]\r\n            AND [p].[state] = N'#'\r\n            AND [db].[state] = N'#'\r\n            AND [db].[minor_id] &lt;&gt; -1\r\n            AND [p].[class] =  [db].[class]\r\n            AND [p].[grantee_principal_id] = [db].[grantee_principal_id]\r\n            AND [p].[grantor_principal_id] = [db].[grantor_principal_id]), -1) AS [IsRevokeWithGrantOption]\r\nFROM\r\n        [sys].[database_permissions] [db] WITH (NOLOCK)\r\n        INNER JOIN [sys].[objects] [so] WITH (NOLOCK) ON [so].[object_id] = [db].[major_id]\r\n        INNER JOIN [sys].[columns] [sc] WITH (NOLOCK) ON [sc].[object_id] = [db].[major_id] AND [sc].[column_id] = [db].[minor_id]\r\n        INNER JOIN [sys].[database_principals] [dp] WITH (NOLOCK) ON [dp].[principal_id] = [db].[grantor_principal_id]\r\n        INNER JOIN [sys].[database_principals] [dp2] WITH (NOLOCK) ON [dp2].[principal_id] = [db].[grantee_principal_id] \r\nWHERE\r\n        [db].[class] = -1\r\n        AND [so].[object_id] NOT IN (SELECT [major_id] FROM [sys].[extended_properties] WITH (NOLOCK) WHERE [minor_id] = -1 AND [class] = -1 AND [name] = N'#')\r\n        AND OBJECTPROPERTY([so].[object_id], N'#') = -1\r\n        AND [db].[grantee_principal_id] &lt;&gt; [db].[grantor_principal_id]\r\n        AND USER_NAME([db].[grantor_principal_id])  &lt;&gt; N'#'\r\n\t\tAND USER_NAME([db].[grantee_principal_id])  &lt;&gt; N'#'\r\n        AND ([dp].[owning_principal_id] IS NULL OR USER_NAME([dp].[owning_principal_id]) &lt;&gt; N'#')\r\n        AND ([dp2].[owning_principal_id] IS NULL OR USER_NAME([dp2].[owning_principal_id]) &lt;&gt; N'#')) AS [_results] WHERE ([_results].[ObjectType] IN ( CAST(N'#' AS NVarChar(-1)) )) AND [TypeId] = -1\r\n ORDER BY TypeId,GranteeId,GrantorId,MajorId,PermissionStateOrder,MinorId,PermissionCode,PermissionState ;</td><td>132500</td><td>125000</td><td>140000</td></tr>",
            "<tr><td>24</td><td>SELECT * FROM (\r\nSELECT\r\n        [db].[class] AS [TypeId],\r\n        [so].[is_ms_shipped] AS [IsMsShipped],\r\n        [db].[major_id] AS [MajorId],\r\n        [db].[minor_id] AS [MinorId],\r\n        [so].[type] AS [ObjectType],\r\n        [db].[grantee_principal_id] AS [GranteeId],\r\n        USER_NAME([db].[grantee_principal_id]) AS [GranteeName],\r\n        [db].[grantor_principal_id] AS [GrantorId],\r\n        CONVERT(BIT, -1) AS [ScriptGrantor],\r\n        USER_NAME([db].[grantor_principal_id]) AS [GrantorName],\r\n        [db].[type] AS [PermissionCode],\r\n        [db].[permission_name] AS [PermissionType],\r\n        [db].[state] AS [PermissionState],\r\n        CASE [db].[state]\r\n        WHEN N'#' THEN -1 ELSE -1 END AS [PermissionStateOrder],\r\n        SCHEMA_NAME([so].[schema_id]) AS [Level0Name],\r\n        [so].[name] AS [Level1Name],\r\n        [sc].[name] AS [Level2Name],\r\n        ISNULL((SELECT TOP -1 -1 FROM [sys].[database_permissions] [p] WITH (NOLOCK) WHERE\r\n             [p].[major_id] = [db].[major_id]\r\n            AND [p].[minor_id] = -1\r\n            AND [p].[permission_name] = [db].[permission_name]\r\n            AND [p].[state] = N'#'\r\n            AND [db].[state] = N'#'\r\n            AND [db].[minor_id] &lt;&gt; -1\r\n            AND [p].[class] =  [db].[class]\r\n            AND [p].[grantee_principal_id] = [db].[grantee_principal_id]\r\n            AND [p].[grantor_principal_id] = [db].[grantor_principal_id]), -1) AS [IsRevokeWithGrantOption]\r\nFROM\r\n        [sys].[database_permissions] [db] WITH (NOLOCK)\r\n        INNER JOIN [sys].[objects] [so] WITH (NOLOCK) ON [so].[object_id] = [db].[major_id]\r\n        INNER JOIN [sys].[columns] [sc] WITH (NOLOCK) ON [sc].[object_id] = [db].[major_id] AND [sc].[column_id] = [db].[minor_id]\r\n        INNER JOIN [sys].[database_principals] [dp] WITH (NOLOCK) ON [dp].[principal_id] = [db].[grantor_principal_id]\r\n        INNER JOIN [sys].[database_principals] [dp2] WITH (NOLOCK) ON [dp2].[principal_id] = [db].[grantee_principal_id] \r\nWHERE\r\n        [db].[class] = -1\r\n        AND [so].[object_id] NOT IN (SELECT [major_id] FROM [sys].[extended_properties] WITH (NOLOCK) WHERE [minor_id] = -1 AND [class] = -1 AND [name] = N'#')\r\n        AND OBJECTPROPERTY([so].[object_id], N'#') = -1\r\n        AND [db].[grantee_principal_id] &lt;&gt; [db].[grantor_principal_id]\r\n        AND USER_NAME([db].[grantor_principal_id])  &lt;&gt; N'#'\r\n\t\tAND USER_NAME([db].[grantee_principal_id])  &lt;&gt; N'#'\r\n        AND ([dp].[owning_principal_id] IS NULL OR USER_NAME([dp].[owning_principal_id]) &lt;&gt; N'#')\r\n        AND ([dp2].[owning_principal_id] IS NULL OR USER_NAME([dp2].[owning_principal_id]) &lt;&gt; N'#')) AS [_results] WHERE ([_results].[ObjectType] IN ( CAST(N'#' AS NVarChar(-1)) )) AND [TypeId] = -1\r\n ORDER BY TypeId,GranteeId,GrantorId,MajorId,PermissionStateOrder,MinorId,PermissionCode,PermissionState ;</td><td>140000</td><td>140000</td><td>140000</td></tr>",
            "<tr><td>47</td><td>SELECT\nSCHEMA_NAME(tbl.schema_id) AS [Schema],\ntbl.name AS [Name],\ntbl.object_id AS [ID]\nFROM\nsys.tables AS tbl\nORDER BY\n[Schema] ASC,[Name] ASC</td><td>31000</td><td>31000</td><td>31000</td></tr>",
            "<tr><td>47</td><td>SELECT\nSCHEMA_NAME(tbl.schema_id) AS [Schema],\ntbl.name AS [Name],\ntbl.object_id AS [ID]\nFROM\nsys.tables AS tbl\nORDER BY\n[Schema] ASC,[Name] ASC</td><td>0</td><td>0</td><td>0</td></tr>",
            "<tr><td>93</td><td>-- ####\r\nselect * from sys.dm_pdw_errors-- ####</td><td>218000</td><td>218000</td><td>218000</td></tr>",
            "<tr><td>18</td><td>select SERVERPROPERTY('#')</td><td>15000</td><td>15000</td><td>15000</td></tr>",
            "<tr><td>18</td><td>select SERVERPROPERTY('#')</td><td>0</td><td>0</td><td>0</td></tr>",
            "<tr><td>30</td><td>SELECT name,is_query_store_on,is_auto_create_stats_on,is_result_set_caching_on FROM sys.databases</td><td>296000</td><td>296000</td><td>296000</td></tr>",
            "<tr><td>30</td><td>SELECT name,is_query_store_on,is_auto_create_stats_on,is_result_set_caching_on FROM sys.databases</td><td>62000</td><td>62000</td><td>62000</td></tr>",
            "<tr><td>84</td><td>-- ####\r\nSELECT * FROM dbo.TableOLS;</td><td>93000</td><td>93000</td><td>93000</td></tr>",
            "<tr><td>10</td><td>SELECT CURRENT_USER</td><td>6000</td><td>0</td><td>15000</td></tr>",
            "<tr><td>10</td><td>SELECT CURRENT_USER</td><td>0</td><td>0</td><td>0</td></tr>",
            "<tr><td>61</td><td>-- ####\r\nselect * from sys.dm_pdw_errors where error_id like '#'</td><td>78000</td><td>78000</td><td>78000</td></tr>",
            "<tr><td>41</td><td>SELECT\nrl.name AS [Name]\nFROM\nsys.database_principals AS rl\nWHERE\n(rl.type = '#')\nORDER BY\n[Name] ASC</td><td>15000</td><td>15000</td><td>15000</td></tr>",
            "<tr><td>41</td><td>SELECT\nrl.name AS [Name]\nFROM\nsys.database_principals AS rl\nWHERE\n(rl.type = '#')\nORDER BY\n[Name] ASC</td><td>3750</td><td>0</td><td>15000</td></tr>",
            "<tr><td>90</td><td>SELECT * FROM sys.dm_pdw_dms_workers \r\nwhere request_id = '#'\r\nAND step_index = -1</td><td>9375000</td><td>9250000</td><td>9500000</td></tr>",
            "<tr><td>4</td><td>select \r\n    perms.class as class,\r\n    objectpropertyex(perms.major_id, '#') as type,\r\n    perms.major_id as majorid,\r\n    perms.minor_id as minorid,\r\n    perms.type + perms.state as name,\r\n    perms.grantee_principal_id as id1,\r\n    perms.grantor_principal_id as id2\r\nfrom sys.database_permissions perms\r\nwhere\r\n    perms.major_id &gt;= -1\r\n\r\nunion\r\n\r\nselect \r\n    cast(-1 as tinyint) as class,\r\n    '#' as type,\r\n    roles.role_principal_id as majorid,\r\n    roles.member_principal_id as minorid,\r\n    '#' as name,\r\n    null as id1,\r\n    null as id2\r\nfrom sys.database_role_members roles</td><td>5555.555555555556</td><td>0</td><td>15000</td></tr>",
            "<tr><td>4</td><td>select \r\n    perms.class as class,\r\n    objectpropertyex(perms.major_id, '#') as type,\r\n    perms.major_id as majorid,\r\n    perms.minor_id as minorid,\r\n    perms.type + perms.state as name,\r\n    perms.grantee_principal_id as id1,\r\n    perms.grantor_principal_id as id2\r\nfrom sys.database_permissions perms\r\nwhere\r\n    perms.major_id &gt;= -1\r\n\r\nunion\r\n\r\nselect \r\n    cast(-1 as tinyint) as class,\r\n    '#' as type,\r\n    roles.role_principal_id as majorid,\r\n    roles.member_principal_id as minorid,\r\n    '#' as name,\r\n    null as id1,\r\n    null as id2\r\nfrom sys.database_role_members roles</td><td>8437.5</td><td>0</td><td>15000</td></tr>",
            "<tr><td>96</td><td>SELECT\nclmns.column_id AS [ID],\nclmns.name AS [Name],\nclmns.is_ansi_padded AS [AnsiPaddingStatus],\nISNULL(clmns.collation_name, N'#') AS [Collation],\nclmns.is_computed AS [Computed],\nISNULL(cc.definition,N'#') AS [ComputedText],\ns1clmns.name AS [DataTypeSchema],\n(case when clmns.default_object_id = -1 then N'#' when d.parent_object_id &gt; -1 then N'#' else d.name end) AS [Default],\nISNULL(dc.Name, N'#') AS [DefaultConstraintName],\n(case when clmns.default_object_id = -1 then N'#' when d.parent_object_id &gt; -1 then N'#' else schema_name(d.schema_id) end) AS [DefaultSchema],\n\r\n        CASE\r\n          WHEN cdp.distribution_ordinal IS NOT NULL AND cdp.distribution_ordinal &gt; -1 THEN ISNULL(clmns.name, N'#')\r\n          ELSE N'#'\r\n        END\r\n       AS [DistributionColumnName],\nclmns.generated_always_type AS [GeneratedAlwaysType],\nclmns.is_identity AS [Identity],\nCAST(ISNULL(ic.seed_value,-1) AS numeric(-1)) AS [IdentitySeedAsDecimal],\nCAST(ISNULL(ic.increment_value,-1) AS numeric(-1)) AS [IdentityIncrementAsDecimal],\nCAST(\r\n        CASE\r\n        WHEN [sc].[label] IS NOT NULL or [sc].[label_id] IS NOT NULL or [sc].[information_type] IS NOT NULL or [sc].[information_type_id] IS NOT NULL or [sc].[rank] IS NOT NULL THEN -1\r\n        ELSE -1\r\n        END\r\n       AS bit) AS [IsClassified],\nCAST(clmns.is_column_set AS bit) AS [IsColumnSet],\nCAST(\r\n        CASE\r\n          WHEN cdp.distribution_ordinal IS NOT NULL AND cdp.distribution_ordinal &gt; -1 THEN N'#'\r\n          ELSE N'#'\r\n        END\r\n       AS bit) AS [IsDistributedColumn],\nCAST(clmns.is_filestream AS bit) AS [IsFileStream],\nCAST(ISNULL((select TOP -1 -1 from sys.foreign_key_columns AS colfk where colfk.parent_column_id = clmns.column_id and colfk.parent_object_id = clmns.object_id), -1) AS bit) AS [IsForeignKey],\nCAST(clmns.is_masked AS bit) AS [IsMasked],\nCAST(ISNULL(cc.is_persisted, -1) AS bit) AS [IsPersisted],\nCAST(clmns.is_sparse AS bit) AS [IsSparse],\nCAST(CASE WHEN baset.name IN (N'#', N'#') AND clmns.max_length &lt;&gt; --1 THEN clmns.max_length/-1 ELSE clmns.max_length END AS int) AS [Length],\nISNULL((SELECT ms.masking_function FROM sys.masked_columns ms WHERE ms.object_id = clmns.object_id AND ms.column_id = clmns.column_id), N'#') AS [MaskingFunction],\nISNULL(ic.is_not_for_replication, -1) AS [NotForReplication],\nclmns.is_nullable AS [Nullable],\nCAST(clmns.scale AS int) AS [NumericScale],\nCAST(clmns.precision AS int) AS [NumericPrecision],\nCAST(clmns.is_rowguidcol AS bit) AS [RowGuidCol],\n(case when clmns.rule_object_id = -1 then N'#' else r.name end) AS [Rule],\n(case when clmns.rule_object_id = -1 then N'#' else schema_name(r.schema_id) end) AS [RuleSchema],\nISNULL([sc].[label_id], N'#') AS [SensitivityLabelId],\nISNULL([sc].[label], N'#') AS [SensitivityLabelName],\nISNULL([sc].[information_type_id], N'#') AS [SensitivityInformationTypeId],\nISNULL([sc].[information_type], N'#') AS [SensitivityInformationTypeName],\nISNULL([sc].[rank], --1) AS [SensitivityRank],\nISNULL(baset.name, N'#') AS [SystemType],\nusrt.name AS [DataType]\nFROM\nsys.all_views AS v\nINNER JOIN sys.all_columns AS clmns ON clmns.object_id=v.object_id\nLEFT OUTER JOIN sys.computed_columns AS cc ON cc.object_id = clmns.object_id and cc.column_id = clmns.column_id\nLEFT OUTER JOIN sys.types AS usrt ON usrt.user_type_id = clmns.user_type_id\nLEFT OUTER JOIN sys.schemas AS s1clmns ON s1clmns.schema_id = usrt.schema_id\nLEFT OUTER JOIN sys.objects AS d ON d.object_id = clmns.default_object_id\nLEFT OUTER JOIN sys.default_constraints as dc ON clmns.default_object_id = dc.object_id\nLEFT OUTER JOIN sys.pdw_column_distribution_properties as cdp ON cdp.object_id = clmns.object_id and cdp.column_id = clmns.column_id\nLEFT OUTER JOIN sys.identity_columns AS ic ON ic.object_id = clmns.object_id and ic.column_id = clmns.column_id\nLEFT OUTER JOIN sys.sensitivity_classifications AS sc ON sc.major_id = clmns.object_id and sc.minor_id = clmns.column_id\nLEFT OUTER JOIN sys.types AS baset ON (baset.user_type_id = clmns.system_type_id and baset.user_type_id = baset.system_type_id) or ((baset.system_type_id = clmns.system_type_id) and (baset.user_type_id = clmns.user_type_id) and (baset.is_user_defined = -1) and (baset.is_assembly_type = -1)) \nLEFT OUTER JOIN sys.objects AS r ON r.object_id = clmns.rule_object_id\nWHERE\n(v.type =  CAST(N'#' AS NVarChar(-1)) )and(v.name= CAST(N'#' AS NVarChar(-1))  and SCHEMA_NAME(v.schema_id)= CAST(N'#' AS NVarChar(-1)) )\nORDER BY\n[ID] ASC</td><td>484000</td><td>468000</td><td>500000</td></tr>",
            "<tr><td>65</td><td>SELECT A.PassengerCount,\r\n\r\n      SUM(A.TripDistanceMiles+B.TripDistanceMiles) as SumTripDistance,\r\n\r\n      AVG(A.TripDistanceMiles+B.TripDistanceMiles) as AvgTripDistance\r\n\r\nFROM  dbo.Trip A, dbo.Trip B \r\n\r\nWHERE A.TripDistanceMiles &gt; -1 AND A.PassengerCount &gt; -1\r\n\r\nGROUP BY A.PassengerCount\r\n\r\nORDER BY A.PassengerCount</td><td>276578000</td><td>276578000</td><td>276578000</td></tr>",
            "<tr><td>65</td><td>SELECT A.PassengerCount,\r\n\r\n      SUM(A.TripDistanceMiles+B.TripDistanceMiles) as SumTripDistance,\r\n\r\n      AVG(A.TripDistanceMiles+B.TripDistanceMiles) as AvgTripDistance\r\n\r\nFROM  dbo.Trip A, dbo.Trip B \r\n\r\nWHERE A.TripDistanceMiles &gt; -1 AND A.PassengerCount &gt; -1\r\n\r\nGROUP BY A.PassengerCount\r\n\r\nORDER BY A.PassengerCount</td><td>96031000</td><td>96031000</td><td>96031000</td></tr>",
            "<tr><td>65</td><td>SELECT A.PassengerCount,\r\n\r\n      SUM(A.TripDistanceMiles+B.TripDistanceMiles) as SumTripDistance,\r\n\r\n      AVG(A.TripDistanceMiles+B.TripDistanceMiles) as AvgTripDistance\r\n\r\nFROM  dbo.Trip A, dbo.Trip B \r\n\r\nWHERE A.TripDistanceMiles &gt; -1 AND A.PassengerCount &gt; -1\r\n\r\nGROUP BY A.PassengerCount\r\n\r\nORDER BY A.PassengerCount</td><td>415874000</td><td>415874000</td><td>415874000</td></tr>",
            "<tr><td>79</td><td>SELECT\nCAST(ISNULL(ic.seed_value,-1) AS bigint) AS [IdentitySeed]\nFROM\nsys.tables AS tbl\nINNER JOIN sys.all_columns AS clmns ON clmns.object_id=tbl.object_id\nLEFT OUTER JOIN sys.identity_columns AS ic ON ic.object_id = clmns.object_id and ic.column_id = clmns.column_id\nWHERE\n(clmns.name= CAST(N'#' AS NVarChar(-1)) )and((tbl.name= CAST(N'#' AS NVarChar(-1))  and SCHEMA_NAME(tbl.schema_id)= CAST(N'#' AS NVarChar(-1)) ))</td><td>93000</td><td>93000</td><td>93000</td></tr>",
            "<tr><td>19</td><td>select @@spid;</td><td>5000</td><td>0</td><td>15000</td></tr>",
            "<tr><td>19</td><td>select @@spid;</td><td>15000</td><td>15000</td><td>15000</td></tr>",
            "<tr><td>19</td><td>select @@spid;</td><td>5000</td><td>0</td><td>15000</td></tr>",
            "<tr><td>19</td><td>select @@spid;</td><td>0</td><td>0</td><td>0</td></tr>",
            "<tr><td>73</td><td>SELECT\r\n      -- ####\r\n        t.query_sql_text       [command]\r\n       , rs.avg_duration        [avg_duration]\r\n       , rs.min_duration        [min_duration]\r\n       , rs.max_duration        [max_duration]\r\nFROM\r\n       sys.query_store_query q\r\n       JOIN sys.query_store_query_text t ON q.query_text_id = t.query_text_id\r\n       JOIN sys.query_store_plan p ON p.query_id = q.query_id\r\nJOIN sys.query_store_runtime_stats rs ON rs.plan_id = p.plan_id</td><td>31000</td><td>31000</td><td>31000</td></tr>",
            "<tr><td>25</td><td>SELECT * FROM (SELECT  [dp].[principal_id]          AS [ObjectId],\r\n        [dp].[name]                  AS [Name],\r\n        [dp].[type]                  AS [Type],\r\n        NULL                         AS [LoginName],\r\n        NULL                         AS [CertificateId],\r\n        NULL                         AS [CertificateName],\r\n        NULL                         AS [AsymmetricKeyId],\r\n        NULL                         AS [AsymmetricKeyName],\r\n        [dp].[default_schema_name]   AS [DefaultSchemaName],       \r\n        [dp].[authentication_type]   AS [AuthenticationType],\r\n        [dp].[default_language_name] AS [DefaultLanguage],\r\n        [dp].[sid]                   AS [Sid]         \r\nFROM    [sys].[database_principals] AS [dp] WITH (NOLOCK)\r\nWHERE   CHARINDEX([dp].[type], N'#') &gt; -1\r\nAND     [dp].[name] != N'#') AS [_results] WHERE ((([_results].[Name] =  CAST(N'#' AS NVarChar(-1)) )));</td><td>15000</td><td>15000</td><td>15000</td></tr>",
            "<tr><td>36</td><td>SELECT @@SPID;</td><td>15000</td><td>15000</td><td>15000</td></tr>",
            "<tr><td>36</td><td>SELECT @@SPID;</td><td>5000</td><td>0</td><td>15000</td></tr>",
            "<tr><td>36</td><td>SELECT @@SPID;</td><td>5000</td><td>0</td><td>15000</td></tr>",
            "<tr><td>85</td><td>SELECT FirstName, LastName, Username\r\nFROM dbo.TableOLS</td><td>93500</td><td>78000</td><td>109000</td></tr>",
            "<tr><td>13</td><td>SELECT CAST(ISNULL(DATABASEPROPERTYEX(DB_NAME(), N'#'), -1) AS BIT)</td><td>7500</td><td>0</td><td>15000</td></tr>",
            "<tr><td>13</td><td>SELECT CAST(ISNULL(DATABASEPROPERTYEX(DB_NAME(), N'#'), -1) AS BIT)</td><td>0</td><td>0</td><td>0</td></tr>",
            "<tr><td>62</td><td>-- ####\r\nSELECT TOP -1\r\n\t\tS.session_id\r\n\t\t,S.login_name\r\n\t\t,S.client_id\r\n\t\t,S.app_name\r\n\t\t,R.request_id\r\n\t\t,R.command request_command\r\n\t\t,R.[label]\r\n\t\t,COUNT(ST.request_id) steps_with_movement\r\n\t\t,SUM(ST.row_count) total_rows_moved\r\n\t\t,SUM(ST.total_elapsed_time) total_elapsed_dms_time\r\n\t\t,SUM(R.total_elapsed_time) total_elapsed_request_time\r\n\t\t,(SUM(ST.total_elapsed_time)*-1.0)/SUM(R.total_elapsed_time) dms_time_percentage\r\nFROM sys.dm_pdw_exec_requests R\r\n\tINNER JOIN sys.dm_pdw_request_steps ST\r\n\t\tON R.request_id = ST.request_id\r\n\tINNER JOIN sys.dm_pdw_exec_sessions S\r\n\t\tON R.session_id = S.session_id\r\nWHERE (ST.location_type = '#'\r\n\tOR ST.operation_type like '#')\r\n\tAND R.status = '#'\r\nGROUP BY \r\n\t\tS.session_id\r\n\t\t,S.login_name\r\n\t\t,S.client_id\r\n\t\t,S.app_name\r\n\t\t,R.request_id\r\n\t\t,R.command\r\n\t\t,R.[label]\r\nHAVING SUM(ST.row_count) &gt; -1\r\nORDER BY dms_time_percentage DESC\r\n\t\t,total_rows_moved DESC</td><td>8840000</td><td>234000</td><td>21515000</td></tr>",
            "<tr><td>62</td><td>-- ####\r\nSELECT TOP -1\r\n\t\tS.session_id\r\n\t\t,S.login_name\r\n\t\t,S.client_id\r\n\t\t,S.app_name\r\n\t\t,R.request_id\r\n\t\t,R.command request_command\r\n\t\t,R.[label]\r\n\t\t,COUNT(ST.request_id) steps_with_movement\r\n\t\t,SUM(ST.row_count) total_rows_moved\r\n\t\t,SUM(ST.total_elapsed_time) total_elapsed_dms_time\r\n\t\t,SUM(R.total_elapsed_time) total_elapsed_request_time\r\n\t\t,(SUM(ST.total_elapsed_time)*-1.0)/SUM(R.total_elapsed_time) dms_time_percentage\r\nFROM sys.dm_pdw_exec_requests R\r\n\tINNER JOIN sys.dm_pdw_request_steps ST\r\n\t\tON R.request_id = ST.request_id\r\n\tINNER JOIN sys.dm_pdw_exec_sessions S\r\n\t\tON R.session_id = S.session_id\r\nWHERE (ST.location_type = '#'\r\n\tOR ST.operation_type like '#')\r\n\tAND R.status = '#'\r\nGROUP BY \r\n\t\tS.session_id\r\n\t\t,S.login_name\r\n\t\t,S.client_id\r\n\t\t,S.app_name\r\n\t\t,R.request_id\r\n\t\t,R.command\r\n\t\t,R.[label]\r\nHAVING SUM(ST.row_count) &gt; -1\r\nORDER BY dms_time_percentage DESC\r\n\t\t,total_rows_moved DESC</td><td>1353666.6666666667</td><td>203000</td><td>1937000</td></tr>",
            "<tr><td>62</td><td>-- ####\r\nSELECT TOP -1\r\n\t\tS.session_id\r\n\t\t,S.login_name\r\n\t\t,S.client_id\r\n\t\t,S.app_name\r\n\t\t,R.request_id\r\n\t\t,R.command request_command\r\n\t\t,R.[label]\r\n\t\t,COUNT(ST.request_id) steps_with_movement\r\n\t\t,SUM(ST.row_count) total_rows_moved\r\n\t\t,SUM(ST.total_elapsed_time) total_elapsed_dms_time\r\n\t\t,SUM(R.total_elapsed_time) total_elapsed_request_time\r\n\t\t,(SUM(ST.total_elapsed_time)*-1.0)/SUM(R.total_elapsed_time) dms_time_percentage\r\nFROM sys.dm_pdw_exec_requests R\r\n\tINNER JOIN sys.dm_pdw_request_steps ST\r\n\t\tON R.request_id = ST.request_id\r\n\tINNER JOIN sys.dm_pdw_exec_sessions S\r\n\t\tON R.session_id = S.session_id\r\nWHERE (ST.location_type = '#'\r\n\tOR ST.operation_type like '#')\r\n\tAND R.status = '#'\r\nGROUP BY \r\n\t\tS.session_id\r\n\t\t,S.login_name\r\n\t\t,S.client_id\r\n\t\t,S.app_name\r\n\t\t,R.request_id\r\n\t\t,R.command\r\n\t\t,R.[label]\r\nHAVING SUM(ST.row_count) &gt; -1\r\nORDER BY dms_time_percentage DESC\r\n\t\t,total_rows_moved DESC</td><td>2244333.3333333335</td><td>2109000</td><td>2406000</td></tr>",
            "<tr><td>42</td><td>SELECT\n(@@microsoftversion / N'0xF') &amp; N'0xF' AS [VersionMajor]</td><td>0</td><td>0</td><td>0</td></tr>",
            "<tr><td>42</td><td>SELECT\n(@@microsoftversion / N'0xF') &amp; N'0xF' AS [VersionMajor]</td><td>15000</td><td>15000</td><td>15000</td></tr>",
            "<tr><td>5</td><td>select \r\n    cols.object_id as tableid,\r\n    cols.column_id as columnid, \r\n    binary_checksum(cols.name) as checksum\r\nfrom sys.tables tabs \r\n    inner join sys.columns cols  on (tabs.object_id = cols.object_id)\r\n    inner join sys.index_columns idx_cols on (idx_cols.object_id = tabs.object_id and idx_cols.column_id = cols.column_id)\r\nwhere\r\n    tabs.is_ms_shipped = -1</td><td>11814.814814814816</td><td>0</td><td>109000</td></tr>",
            "<tr><td>5</td><td>select \r\n    cols.object_id as tableid,\r\n    cols.column_id as columnid, \r\n    binary_checksum(cols.name) as checksum\r\nfrom sys.tables tabs \r\n    inner join sys.columns cols  on (tabs.object_id = cols.object_id)\r\n    inner join sys.index_columns idx_cols on (idx_cols.object_id = tabs.object_id and idx_cols.column_id = cols.column_id)\r\nwhere\r\n    tabs.is_ms_shipped = -1</td><td>10500</td><td>0</td><td>93000</td></tr>",
            "<tr><td>56</td><td>SELECT C.client_id\r\n\t\t,S.login_name\r\n\t\t,S.app_name\r\n\t\t,R.session_id\r\n\t\t,R.request_id\r\n\t\t,R.status\r\n\t\t,R.submit_time\r\n\t\t,R.start_time\r\n\t\t,R.end_compile_time\r\n\t\t,R.end_time\r\n\t\t,R.total_elapsed_time\r\n\t\t,R.Command\r\n\t\t,R.importance\r\n\t\t,R.resource_class\r\nFROM sys.dm_pdw_exec_requests R\r\n\tINNER JOIN sys.dm_pdw_exec_sessions S\r\n\t\tON S.session_id = R.session_id\r\n\tINNER JOIN sys.dm_pdw_exec_connections C\r\n\t\tON c.session_id = S.session_id\r\nWHERE R.status = '#'</td><td>234000</td><td>234000</td><td>234000</td></tr>",
            "<tr><td>56</td><td>SELECT C.client_id\r\n\t\t,S.login_name\r\n\t\t,S.app_name\r\n\t\t,R.session_id\r\n\t\t,R.request_id\r\n\t\t,R.status\r\n\t\t,R.submit_time\r\n\t\t,R.start_time\r\n\t\t,R.end_compile_time\r\n\t\t,R.end_time\r\n\t\t,R.total_elapsed_time\r\n\t\t,R.Command\r\n\t\t,R.importance\r\n\t\t,R.resource_class\r\nFROM sys.dm_pdw_exec_requests R\r\n\tINNER JOIN sys.dm_pdw_exec_sessions S\r\n\t\tON S.session_id = R.session_id\r\n\tINNER JOIN sys.dm_pdw_exec_connections C\r\n\t\tON c.session_id = S.session_id\r\nWHERE R.status = '#'</td><td>2093000</td><td>2093000</td><td>2093000</td></tr>",
            "<tr><td>22</td><td>SELECT * FROM (\r\nSELECT  [db].[class] AS [TypeId],\r\n        [db].[major_id] AS [MajorId],\r\n        [db].[minor_id] AS [MinorId],\r\n        NULL AS [ObjectType],\r\n        CONVERT(bit, -1) AS [IsMsShipped],\r\n        [db].[grantee_principal_id] AS [GranteeId],\r\n        USER_NAME([db].[grantee_principal_id]) AS [GranteeName],\r\n        [db].[grantor_principal_id] AS [GrantorId],\r\n        CONVERT(BIT, CASE WHEN ([dp].[owning_principal_id] IS NULL OR [dp].[owning_principal_id] &lt;&gt; [db].[grantor_principal_id]) AND ([dp].[is_fixed_role] &lt;&gt; -1 AND [dp].[principal_id] &lt;&gt; -1) THEN -1 ELSE -1 END) AS [ScriptGrantor],\r\n        USER_NAME([db].[grantor_principal_id]) AS [GrantorName],\r\n        [db].[type] AS [PermissionCode],\r\n        [db].[permission_name] AS [PermissionType],\r\n        [db].[state] AS [PermissionState],\r\n        CASE [db].[class]\r\n            WHEN  -1 THEN NULL\r\n            WHEN  -1 THEN SCHEMA_NAME([db].[major_id])\r\n            WHEN  -1 THEN USER_NAME([db].[major_id])\r\n            \r\n        END AS [Level0Name],  \r\n        NULL AS [Level1Name],\r\n        NULL AS [Level2Name],\r\n        [dp].[type] AS [DataBasePrincipalType]\r\nFROM\r\n        [sys].[database_permissions] [db] WITH (NOLOCK)\r\n        LEFT JOIN [sys].[database_principals] as [dp] WITH (NOLOCK) ON [db].[major_id] = [dp].[principal_id] AND [db].[class] = -1\r\n        INNER JOIN [sys].[database_principals] [dp2] WITH (NOLOCK) ON [dp2].[principal_id] = [db].[grantor_principal_id]\r\n        INNER JOIN [sys].[database_principals] [dp3] WITH (NOLOCK) ON [dp3].[principal_id] = [db].[grantee_principal_id]\r\nWHERE\r\n        [db].[class] &lt;&gt; -1\r\n        AND [db].[state] &lt;&gt; N'#'\r\n        AND [db].[grantee_principal_id] &lt;&gt; [db].[grantor_principal_id]\r\n        AND USER_NAME([db].[grantor_principal_id]) &lt;&gt; N'#'\r\n        AND USER_NAME([db].[grantee_principal_id]) &lt;&gt; N'#'\r\n        AND ([dp2].[owning_principal_id] IS NULL OR USER_NAME([dp2].[owning_principal_id]) &lt;&gt; N'#')\r\n        AND ([dp3].[owning_principal_id] IS NULL OR USER_NAME([dp3].[owning_principal_id]) &lt;&gt; N'#')\r\n        AND USER_NAME([db].[grantor_principal_id]) &lt;&gt; N'#'\r\n        AND USER_NAME([db].[grantee_principal_id]) &lt;&gt; N'#'\r\n        AND ([dp2].[owning_principal_id] IS NULL OR USER_NAME([dp2].[owning_principal_id]) &lt;&gt; N'#')\r\n        AND ([dp3].[owning_principal_id] IS NULL OR USER_NAME([dp3].[owning_principal_id]) &lt;&gt; N'#')\r\n        AND NOT (\r\n        [db].[class] = -1 AND [db].[class_desc] = N'#' AND [db].[major_id] = -1 AND [db].[minor_id] = -1 AND [db].[state] = '#')) AS [_results] WHERE [TypeId] = -1\r\n ORDER BY TypeId,GranteeId,GrantorId,MajorId,MinorId,PermissionCode,PermissionState ;</td><td>19000</td><td>15000</td><td>31000</td></tr>",
            "<tr><td>22</td><td>SELECT * FROM (\r\nSELECT  [db].[class] AS [TypeId],\r\n        [db].[major_id] AS [MajorId],\r\n        [db].[minor_id] AS [MinorId],\r\n        NULL AS [ObjectType],\r\n        CONVERT(bit, -1) AS [IsMsShipped],\r\n        [db].[grantee_principal_id] AS [GranteeId],\r\n        USER_NAME([db].[grantee_principal_id]) AS [GranteeName],\r\n        [db].[grantor_principal_id] AS [GrantorId],\r\n        CONVERT(BIT, CASE WHEN ([dp].[owning_principal_id] IS NULL OR [dp].[owning_principal_id] &lt;&gt; [db].[grantor_principal_id]) AND ([dp].[is_fixed_role] &lt;&gt; -1 AND [dp].[principal_id] &lt;&gt; -1) THEN -1 ELSE -1 END) AS [ScriptGrantor],\r\n        USER_NAME([db].[grantor_principal_id]) AS [GrantorName],\r\n        [db].[type] AS [PermissionCode],\r\n        [db].[permission_name] AS [PermissionType],\r\n        [db].[state] AS [PermissionState],\r\n        CASE [db].[class]\r\n            WHEN  -1 THEN NULL\r\n            WHEN  -1 THEN SCHEMA_NAME([db].[major_id])\r\n            WHEN  -1 THEN USER_NAME([db].[major_id])\r\n            \r\n        END AS [Level0Name],  \r\n        NULL AS [Level1Name],\r\n        NULL AS [Level2Name],\r\n        [dp].[type] AS [DataBasePrincipalType]\r\nFROM\r\n        [sys].[database_permissions] [db] WITH (NOLOCK)\r\n        LEFT JOIN [sys].[database_principals] as [dp] WITH (NOLOCK) ON [db].[major_id] = [dp].[principal_id] AND [db].[class] = -1\r\n        INNER JOIN [sys].[database_principals] [dp2] WITH (NOLOCK) ON [dp2].[principal_id] = [db].[grantor_principal_id]\r\n        INNER JOIN [sys].[database_principals] [dp3] WITH (NOLOCK) ON [dp3].[principal_id] = [db].[grantee_principal_id]\r\nWHERE\r\n        [db].[class] &lt;&gt; -1\r\n        AND [db].[state] &lt;&gt; N'#'\r\n        AND [db].[grantee_principal_id] &lt;&gt; [db].[grantor_principal_id]\r\n        AND USER_NAME([db].[grantor_principal_id]) &lt;&gt; N'#'\r\n        AND USER_NAME([db].[grantee_principal_id]) &lt;&gt; N'#'\r\n        AND ([dp2].[owning_principal_id] IS NULL OR USER_NAME([dp2].[owning_principal_id]) &lt;&gt; N'#')\r\n        AND ([dp3].[owning_principal_id] IS NULL OR USER_NAME([dp3].[owning_principal_id]) &lt;&gt; N'#')\r\n        AND USER_NAME([db].[grantor_principal_id]) &lt;&gt; N'#'\r\n        AND USER_NAME([db].[grantee_principal_id]) &lt;&gt; N'#'\r\n        AND ([dp2].[owning_principal_id] IS NULL OR USER_NAME([dp2].[owning_principal_id]) &lt;&gt; N'#')\r\n        AND ([dp3].[owning_principal_id] IS NULL OR USER_NAME([dp3].[owning_principal_id]) &lt;&gt; N'#')\r\n        AND NOT (\r\n        [db].[class] = -1 AND [db].[class_desc] = N'#' AND [db].[major_id] = -1 AND [db].[minor_id] = -1 AND [db].[state] = '#')) AS [_results] WHERE [TypeId] = -1\r\n ORDER BY TypeId,GranteeId,GrantorId,MajorId,MinorId,PermissionCode,PermissionState ;</td><td>15000</td><td>15000</td><td>15000</td></tr>",
            "<tr><td>76</td><td>-- ####\r\n/* #### */\r\nWITH step_data AS \r\n(\r\n\tSELECT \r\n\t\tSUM(rows_processed) AS Step_Rows_Processed\r\n\t\t, SUM(Bytes_processed) AS Step_Bytes_Processed\r\n\t\t, request_id\r\n\t\t, step_index\r\n\t\t, status \r\n\t\t, type\r\n\tFROM sys.dm_pdw_dms_workers \r\n\tWHERE status != '#'\r\n\tGroup by \r\n\t\t  request_id\r\n\t\t, step_index\r\n\t\t, status\r\n\t\t, type\r\n) \r\nSELECT \r\n\t step_data.request_id\r\n\t, per.session_id\r\n\t, step_data.Step_rows_processed\r\n\t, step_data.step_bytes_processed\r\n\t, (step_data.Step_Bytes_Processed/-1/-1/-1) AS Step_GB_Processed\r\n\t, step_data.step_index\r\n\t, step_data.type\r\n\t, step_data.status as Step_status\r\n\t, per.status AS QID_Status\r\n\t, per.total_elapsed_time/-1/-1 as '#'\r\n\t, per.command AS '#'\r\n\t, per.resource_class\r\n\t, per.importance\r\nFROM step_data\r\nLEFT JOIN sys.dm_pdw_exec_requests per\r\nON step_data.request_id = per.request_id\r\nWHERE per.status = '#'\r\nORDER BY step_data.Step_rows_processed DESC</td><td>3614333.3333333335</td><td>1656000</td><td>4750000</td></tr>",
            "<tr><td>76</td><td>-- ####\r\n/* #### */\r\nWITH step_data AS \r\n(\r\n\tSELECT \r\n\t\tSUM(rows_processed) AS Step_Rows_Processed\r\n\t\t, SUM(Bytes_processed) AS Step_Bytes_Processed\r\n\t\t, request_id\r\n\t\t, step_index\r\n\t\t, status \r\n\t\t, type\r\n\tFROM sys.dm_pdw_dms_workers \r\n\tWHERE status != '#'\r\n\tGroup by \r\n\t\t  request_id\r\n\t\t, step_index\r\n\t\t, status\r\n\t\t, type\r\n) \r\nSELECT \r\n\t step_data.request_id\r\n\t, per.session_id\r\n\t, step_data.Step_rows_processed\r\n\t, step_data.step_bytes_processed\r\n\t, (step_data.Step_Bytes_Processed/-1/-1/-1) AS Step_GB_Processed\r\n\t, step_data.step_index\r\n\t, step_data.type\r\n\t, step_data.status as Step_status\r\n\t, per.status AS QID_Status\r\n\t, per.total_elapsed_time/-1/-1 as '#'\r\n\t, per.command AS '#'\r\n\t, per.resource_class\r\n\t, per.importance\r\nFROM step_data\r\nLEFT JOIN sys.dm_pdw_exec_requests per\r\nON step_data.request_id = per.request_id\r\nWHERE per.status = '#'\r\nORDER BY step_data.Step_rows_processed DESC</td><td>5375000</td><td>5375000</td><td>5375000</td></tr>",
            "<tr><td>59</td><td>SELECT\nCAST(CHARINDEX(N'#', dtb.collation_name) AS bit) AS [CaseSensitive],\ndtb.name AS [DatabaseName2]\nFROM\nsys.databases AS dtb\nWHERE\n(dtb.name= CAST(N'#' AS NVarChar(-1)) )</td><td>50000</td><td>46000</td><td>62000</td></tr>",
            "<tr><td>59</td><td>SELECT\nCAST(CHARINDEX(N'#', dtb.collation_name) AS bit) AS [CaseSensitive],\ndtb.name AS [DatabaseName2]\nFROM\nsys.databases AS dtb\nWHERE\n(dtb.name= CAST(N'#' AS NVarChar(-1)) )</td><td>46000</td><td>46000</td><td>46000</td></tr>",
            "<tr><td>59</td><td>SELECT\nCAST(CHARINDEX(N'#', dtb.collation_name) AS bit) AS [CaseSensitive],\ndtb.name AS [DatabaseName2]\nFROM\nsys.databases AS dtb\nWHERE\n(dtb.name= CAST(N'#' AS NVarChar(-1)) )</td><td>167250</td><td>46000</td><td>546000</td></tr>",
            "<tr><td>82</td><td>SELECT * FROM dbo.DDMExample ;</td><td>112750</td><td>93000</td><td>140000</td></tr>",
            "<tr><td>39</td><td>SELECT\nCAST(\r\n        serverproperty(N'#')\r\n       AS sysname) AS [Name]</td><td>0</td><td>0</td><td>0</td></tr>",
            "<tr><td>39</td><td>SELECT\nCAST(\r\n        serverproperty(N'#')\r\n       AS sysname) AS [Name]</td><td>7500</td><td>0</td><td>15000</td></tr>",
            "<tr><td>16</td><td>SELECT name FROM sys.system_columns WHERE object_id=object_id('#') AND name ='#'</td><td>4500</td><td>0</td><td>15000</td></tr>",
            "<tr><td>16</td><td>SELECT name FROM sys.system_columns WHERE object_id=object_id('#') AND name ='#'</td><td>0</td><td>0</td><td>0</td></tr>",
            "<tr><td>88</td><td>SELECT\ns.name AS [Name],\ns.schema_id AS [ID],\nISNULL(dp1.name, N'#') AS [Owner],\nCAST(\r\n      case when s.name in ('#','#','#','#','#','#','#','#','#','#','#','#', '#') then -1 else -1 end AS bit) AS [IsSystemObject]\nFROM\nsys.schemas AS s\nLEFT OUTER JOIN sys.database_principals AS dp1 ON dp1.principal_id = s.principal_id\nWHERE\n(s.name= CAST(N'#' AS NVarChar(-1)) )</td><td>15000</td><td>15000</td><td>15000</td></tr>",
            "<tr><td>53</td><td>SELECT\nclmns.column_id AS [ID],\nclmns.name AS [Name],\nISNULL(dc.Name, N'#') AS [DefaultConstraintName],\nclmns.is_nullable AS [Nullable],\nCAST(ISNULL(cik.index_column_id, -1) AS bit) AS [InPrimaryKey],\nclmns.is_identity AS [Identity],\nusrt.name AS [DataType],\nISNULL(baset.name, N'#') AS [SystemType],\nCAST(CASE WHEN baset.name IN (N'#', N'#') AND clmns.max_length &lt;&gt; --1 THEN clmns.max_length/-1 ELSE clmns.max_length END AS int) AS [Length],\nCAST(clmns.precision AS int) AS [NumericPrecision],\nCAST(clmns.scale AS int) AS [NumericScale],\ns1clmns.name AS [DataTypeSchema],\nclmns.is_computed AS [Computed]\nFROM\nsys.tables AS tbl\nINNER JOIN sys.all_columns AS clmns ON clmns.object_id=tbl.object_id\nLEFT OUTER JOIN sys.default_constraints as dc ON clmns.default_object_id = dc.object_id\nLEFT OUTER JOIN sys.indexes AS ik ON ik.object_id = clmns.object_id and -1=ik.is_primary_key\nLEFT OUTER JOIN sys.index_columns AS cik ON cik.index_id = ik.index_id and cik.column_id = clmns.column_id and cik.object_id = clmns.object_id and -1 = cik.is_included_column\nLEFT OUTER JOIN sys.types AS usrt ON usrt.user_type_id = clmns.user_type_id\nLEFT OUTER JOIN sys.types AS baset ON (baset.user_type_id = clmns.system_type_id and baset.user_type_id = baset.system_type_id) or ((baset.system_type_id = clmns.system_type_id) and (baset.user_type_id = clmns.user_type_id) and (baset.is_user_defined = -1) and (baset.is_assembly_type = -1)) \nLEFT OUTER JOIN sys.schemas AS s1clmns ON s1clmns.schema_id = usrt.schema_id\nWHERE\n(tbl.name= CAST(N'#' AS NVarChar(-1))  and SCHEMA_NAME(tbl.schema_id)= CAST(N'#' AS NVarChar(-1)) )\nORDER BY\n[ID] ASC</td><td>281000</td><td>281000</td><td>281000</td></tr>",
            "<tr><td>53</td><td>SELECT\nclmns.column_id AS [ID],\nclmns.name AS [Name],\nISNULL(dc.Name, N'#') AS [DefaultConstraintName],\nclmns.is_nullable AS [Nullable],\nCAST(ISNULL(cik.index_column_id, -1) AS bit) AS [InPrimaryKey],\nclmns.is_identity AS [Identity],\nusrt.name AS [DataType],\nISNULL(baset.name, N'#') AS [SystemType],\nCAST(CASE WHEN baset.name IN (N'#', N'#') AND clmns.max_length &lt;&gt; --1 THEN clmns.max_length/-1 ELSE clmns.max_length END AS int) AS [Length],\nCAST(clmns.precision AS int) AS [NumericPrecision],\nCAST(clmns.scale AS int) AS [NumericScale],\ns1clmns.name AS [DataTypeSchema],\nclmns.is_computed AS [Computed]\nFROM\nsys.tables AS tbl\nINNER JOIN sys.all_columns AS clmns ON clmns.object_id=tbl.object_id\nLEFT OUTER JOIN sys.default_constraints as dc ON clmns.default_object_id = dc.object_id\nLEFT OUTER JOIN sys.indexes AS ik ON ik.object_id = clmns.object_id and -1=ik.is_primary_key\nLEFT OUTER JOIN sys.index_columns AS cik ON cik.index_id = ik.index_id and cik.column_id = clmns.column_id and cik.object_id = clmns.object_id and -1 = cik.is_included_column\nLEFT OUTER JOIN sys.types AS usrt ON usrt.user_type_id = clmns.user_type_id\nLEFT OUTER JOIN sys.types AS baset ON (baset.user_type_id = clmns.system_type_id and baset.user_type_id = baset.system_type_id) or ((baset.system_type_id = clmns.system_type_id) and (baset.user_type_id = clmns.user_type_id) and (baset.is_user_defined = -1) and (baset.is_assembly_type = -1)) \nLEFT OUTER JOIN sys.schemas AS s1clmns ON s1clmns.schema_id = usrt.schema_id\nWHERE\n(tbl.name= CAST(N'#' AS NVarChar(-1))  and SCHEMA_NAME(tbl.schema_id)= CAST(N'#' AS NVarChar(-1)) )\nORDER BY\n[ID] ASC</td><td>249750</td><td>249000</td><td>250000</td></tr>",
            "<tr><td>45</td><td>SELECT\nu.name AS [Name],\nu.principal_id AS [ID],\nCAST(CASE WHEN u.principal_id &lt; -1 OR u.principal_id = -1 OR u.principal_id = -1 THEN -1 ELSE -1 END AS bit) AS [IsSystemObject],\nCASE WHEN N'#' = u.type THEN -1 WHEN N'#' = u.type THEN -1 WHEN N'#' = u.type THEN -1 WHEN N'#' = u.type THEN -1 WHEN N'#' = u.type THEN -1 WHEN N'#' = u.type THEN -1 WHEN N'#' = u.type THEN -1 END AS [LoginType],\nCAST(CASE dp.state WHEN N'#' THEN -1 WHEN '#' THEN -1 ELSE -1 END AS bit) AS [HasDBAccess],\nu.sid AS [Sid],\nu.create_date AS [CreateDate],\nu.modify_date AS [DateLastModified],\nISNULL(u.default_schema_name,N'#') AS [DefaultSchema],\nISNULL(cert.name,N'#') AS [Certificate],\n\r\n        CASE\r\n        WHEN N'#' = u.type THEN -1\r\n        WHEN N'#' = u.type THEN -1\r\n        WHEN N'#' = u.type AND u.authentication_type != -1 AND u.authentication_type != -1 THEN -1\r\n        WHEN N'#' = u.type or N'#' = u.type THEN -1\r\n        ELSE -1 END\r\n       AS [UserType],\nu.authentication_type AS [AuthenticationType]\nFROM\nsys.database_principals AS u\nLEFT OUTER JOIN sys.database_permissions AS dp ON dp.grantee_principal_id = u.principal_id and dp.type =  CAST(N'#' AS NVarChar(-1)) \nLEFT OUTER JOIN sys.certificates AS cert ON cert.sid = u.sid\nWHERE\n(u.type in ('#', '#', '#', '#', '#' ,'#', '#'))and(u.name= CAST(N'#' AS NVarChar(-1)) )</td><td>31000</td><td>31000</td><td>31000</td></tr>",
            "<tr><td>45</td><td>SELECT\nu.name AS [Name],\nu.principal_id AS [ID],\nCAST(CASE WHEN u.principal_id &lt; -1 OR u.principal_id = -1 OR u.principal_id = -1 THEN -1 ELSE -1 END AS bit) AS [IsSystemObject],\nCASE WHEN N'#' = u.type THEN -1 WHEN N'#' = u.type THEN -1 WHEN N'#' = u.type THEN -1 WHEN N'#' = u.type THEN -1 WHEN N'#' = u.type THEN -1 WHEN N'#' = u.type THEN -1 WHEN N'#' = u.type THEN -1 END AS [LoginType],\nCAST(CASE dp.state WHEN N'#' THEN -1 WHEN '#' THEN -1 ELSE -1 END AS bit) AS [HasDBAccess],\nu.sid AS [Sid],\nu.create_date AS [CreateDate],\nu.modify_date AS [DateLastModified],\nISNULL(u.default_schema_name,N'#') AS [DefaultSchema],\nISNULL(cert.name,N'#') AS [Certificate],\n\r\n        CASE\r\n        WHEN N'#' = u.type THEN -1\r\n        WHEN N'#' = u.type THEN -1\r\n        WHEN N'#' = u.type AND u.authentication_type != -1 AND u.authentication_type != -1 THEN -1\r\n        WHEN N'#' = u.type or N'#' = u.type THEN -1\r\n        ELSE -1 END\r\n       AS [UserType],\nu.authentication_type AS [AuthenticationType]\nFROM\nsys.database_principals AS u\nLEFT OUTER JOIN sys.database_permissions AS dp ON dp.grantee_principal_id = u.principal_id and dp.type =  CAST(N'#' AS NVarChar(-1)) \nLEFT OUTER JOIN sys.certificates AS cert ON cert.sid = u.sid\nWHERE\n(u.type in ('#', '#', '#', '#', '#' ,'#', '#'))and(u.name= CAST(N'#' AS NVarChar(-1)) )</td><td>10312.5</td><td>0</td><td>15000</td></tr>",
            "<tr><td>2</td><td>SELECT -1</td><td>0</td><td>0</td><td>0</td></tr>",
            "<tr><td>2</td><td>SELECT -1</td><td>0</td><td>0</td><td>0</td></tr>",
            "<tr><td>48</td><td>SELECT\nSCHEMA_NAME(v.schema_id) AS [Schema],\nv.name AS [Name],\nv.object_id AS [ID]\nFROM\nsys.all_views AS v\nWHERE\n(v.type =  CAST(N'#' AS NVarChar(-1)) )\nORDER BY\n[Schema] ASC,[Name] ASC</td><td>203000</td><td>203000</td><td>203000</td></tr>",
            "<tr><td>48</td><td>SELECT\nSCHEMA_NAME(v.schema_id) AS [Schema],\nv.name AS [Name],\nv.object_id AS [ID]\nFROM\nsys.all_views AS v\nWHERE\n(v.type =  CAST(N'#' AS NVarChar(-1)) )\nORDER BY\n[Schema] ASC,[Name] ASC</td><td>23000</td><td>15000</td><td>31000</td></tr>",
            "<tr><td>94</td><td>SELECT\nSCHEMA_NAME(v.schema_id) AS [Schema],\nv.name AS [Name],\nv.object_id AS [ID]\nFROM\nsys.all_views AS v\nWHERE\n(v.type =  CAST(N'#' AS NVarChar(-1)) )and(v.name= CAST(N'#' AS NVarChar(-1))  and SCHEMA_NAME(v.schema_id)= CAST(N'#' AS NVarChar(-1)) )</td><td>41000</td><td>15000</td><td>93000</td></tr>",
            "<tr><td>77</td><td>SELECT * FROM sys.dm_pdw_dms_workers\r\nWHERE request_id = '#'\r\nAND step_index = -1</td><td>1187000</td><td>1187000</td><td>1187000</td></tr>",
            "<tr><td>77</td><td>SELECT * FROM sys.dm_pdw_dms_workers\r\nWHERE request_id = '#'\r\nAND step_index = -1</td><td>5609000</td><td>5609000</td><td>5609000</td></tr>",
            "<tr><td>17</td><td>SELECT SERVERPROPERTY('#');</td><td>5333.333333333333</td><td>0</td><td>16000</td></tr>",
            "<tr><td>17</td><td>SELECT SERVERPROPERTY('#');</td><td>0</td><td>0</td><td>0</td></tr>",
            "<tr><td>60</td><td>-- ####\r\nselect * from sys.dm_pdw_errors where error_id = '#'</td><td>89500</td><td>62000</td><td>140000</td></tr>",
            "<tr><td>60</td><td>-- ####\r\nselect * from sys.dm_pdw_errors where error_id = '#'</td><td>197666.66666666666</td><td>187000</td><td>203000</td></tr>",
            "<tr><td>83</td><td>SELECT * FROM Sales;</td><td>101100</td><td>78000</td><td>171000</td></tr>",
            "<tr><td>40</td><td>SELECT\ndtb.name AS [Name],\ndtb.database_id AS [ID],\nCAST(case when dtb.name in ('#') then -1 else dtb.is_distributor end AS bit) AS [IsSystemObject],\ndtb.collation_name AS [Collation],\nCAST(has_dbaccess(dtb.name) AS bit) AS [IsAccessible],\ndtb.name AS [DatabaseName2]\nFROM\nsys.databases AS dtb\nWHERE\n(dtb.name= CAST(N'#' AS NVarChar(-1)) )\nORDER BY\n[Name] ASC</td><td>140000</td><td>140000</td><td>140000</td></tr>",
            "<tr><td>40</td><td>SELECT\ndtb.name AS [Name],\ndtb.database_id AS [ID],\nCAST(case when dtb.name in ('#') then -1 else dtb.is_distributor end AS bit) AS [IsSystemObject],\ndtb.collation_name AS [Collation],\nCAST(has_dbaccess(dtb.name) AS bit) AS [IsAccessible],\ndtb.name AS [DatabaseName2]\nFROM\nsys.databases AS dtb\nWHERE\n(dtb.name= CAST(N'#' AS NVarChar(-1)) )\nORDER BY\n[Name] ASC</td><td>101000</td><td>93000</td><td>109000</td></tr>",
            "<tr><td>11</td><td>SELECT SERVERPROPERTY('#'), SERVERPROPERTY('#'), SERVERPROPERTY ('#'), SERVERPROPERTY ('#'), (SELECT CASE WHEN EXISTS (SELECT TOP -1 -1 from [sys].[all_columns] WITH (NOLOCK) WHERE name = N'#' AND OBJECT_ID(N'#') = object_id) THEN -1 ELSE -1 END AS SXI_PRESENT), @@MICROSOFTVERSION as [MicrosoftVersion]</td><td>10785.714285714286</td><td>0</td><td>46000</td></tr>",
            "<tr><td>11</td><td>SELECT SERVERPROPERTY('#'), SERVERPROPERTY('#'), SERVERPROPERTY ('#'), SERVERPROPERTY ('#'), (SELECT CASE WHEN EXISTS (SELECT TOP -1 -1 from [sys].[all_columns] WITH (NOLOCK) WHERE name = N'#' AND OBJECT_ID(N'#') = object_id) THEN -1 ELSE -1 END AS SXI_PRESENT), @@MICROSOFTVERSION as [MicrosoftVersion]</td><td>38500</td><td>15000</td><td>62000</td></tr>",
            "<tr><td>54</td><td>SELECT\nclmns.column_id AS [ID],\nclmns.name AS [Name],\nISNULL(dc.Name, N'#') AS [DefaultConstraintName],\nclmns.is_nullable AS [Nullable],\nCAST(ISNULL(cik.index_column_id, -1) AS bit) AS [InPrimaryKey],\nclmns.is_identity AS [Identity],\nusrt.name AS [DataType],\nISNULL(baset.name, N'#') AS [SystemType],\nCAST(CASE WHEN baset.name IN (N'#', N'#') AND clmns.max_length &lt;&gt; --1 THEN clmns.max_length/-1 ELSE clmns.max_length END AS int) AS [Length],\nCAST(clmns.precision AS int) AS [NumericPrecision],\nCAST(clmns.scale AS int) AS [NumericScale],\ns1clmns.name AS [DataTypeSchema],\nclmns.is_computed AS [Computed]\nFROM\nsys.all_views AS v\nINNER JOIN sys.all_columns AS clmns ON clmns.object_id=v.object_id\nLEFT OUTER JOIN sys.default_constraints as dc ON clmns.default_object_id = dc.object_id\nLEFT OUTER JOIN sys.indexes AS ik ON ik.object_id = clmns.object_id and -1=ik.is_primary_key\nLEFT OUTER JOIN sys.index_columns AS cik ON cik.index_id = ik.index_id and cik.column_id = clmns.column_id and cik.object_id = clmns.object_id and -1 = cik.is_included_column\nLEFT OUTER JOIN sys.types AS usrt ON usrt.user_type_id = clmns.user_type_id\nLEFT OUTER JOIN sys.types AS baset ON (baset.user_type_id = clmns.system_type_id and baset.user_type_id = baset.system_type_id) or ((baset.system_type_id = clmns.system_type_id) and (baset.user_type_id = clmns.user_type_id) and (baset.is_user_defined = -1) and (baset.is_assembly_type = -1)) \nLEFT OUTER JOIN sys.schemas AS s1clmns ON s1clmns.schema_id = usrt.schema_id\nWHERE\n(v.type =  CAST(N'#' AS NVarChar(-1)) )and(v.name= CAST(N'#' AS NVarChar(-1))  and SCHEMA_NAME(v.schema_id)= CAST(N'#' AS NVarChar(-1)) )\nORDER BY\n[ID] ASC</td><td>280800</td><td>265000</td><td>312000</td></tr>",
            "<tr><td>54</td><td>SELECT\nclmns.column_id AS [ID],\nclmns.name AS [Name],\nISNULL(dc.Name, N'#') AS [DefaultConstraintName],\nclmns.is_nullable AS [Nullable],\nCAST(ISNULL(cik.index_column_id, -1) AS bit) AS [InPrimaryKey],\nclmns.is_identity AS [Identity],\nusrt.name AS [DataType],\nISNULL(baset.name, N'#') AS [SystemType],\nCAST(CASE WHEN baset.name IN (N'#', N'#') AND clmns.max_length &lt;&gt; --1 THEN clmns.max_length/-1 ELSE clmns.max_length END AS int) AS [Length],\nCAST(clmns.precision AS int) AS [NumericPrecision],\nCAST(clmns.scale AS int) AS [NumericScale],\ns1clmns.name AS [DataTypeSchema],\nclmns.is_computed AS [Computed]\nFROM\nsys.all_views AS v\nINNER JOIN sys.all_columns AS clmns ON clmns.object_id=v.object_id\nLEFT OUTER JOIN sys.default_constraints as dc ON clmns.default_object_id = dc.object_id\nLEFT OUTER JOIN sys.indexes AS ik ON ik.object_id = clmns.object_id and -1=ik.is_primary_key\nLEFT OUTER JOIN sys.index_columns AS cik ON cik.index_id = ik.index_id and cik.column_id = clmns.column_id and cik.object_id = clmns.object_id and -1 = cik.is_included_column\nLEFT OUTER JOIN sys.types AS usrt ON usrt.user_type_id = clmns.user_type_id\nLEFT OUTER JOIN sys.types AS baset ON (baset.user_type_id = clmns.system_type_id and baset.user_type_id = baset.system_type_id) or ((baset.system_type_id = clmns.system_type_id) and (baset.user_type_id = clmns.user_type_id) and (baset.is_user_defined = -1) and (baset.is_assembly_type = -1)) \nLEFT OUTER JOIN sys.schemas AS s1clmns ON s1clmns.schema_id = usrt.schema_id\nWHERE\n(v.type =  CAST(N'#' AS NVarChar(-1)) )and(v.name= CAST(N'#' AS NVarChar(-1))  and SCHEMA_NAME(v.schema_id)= CAST(N'#' AS NVarChar(-1)) )\nORDER BY\n[ID] ASC</td><td>296416.6666666667</td><td>249000</td><td>453000</td></tr>",
            "<tr><td>54</td><td>SELECT\nclmns.column_id AS [ID],\nclmns.name AS [Name],\nISNULL(dc.Name, N'#') AS [DefaultConstraintName],\nclmns.is_nullable AS [Nullable],\nCAST(ISNULL(cik.index_column_id, -1) AS bit) AS [InPrimaryKey],\nclmns.is_identity AS [Identity],\nusrt.name AS [DataType],\nISNULL(baset.name, N'#') AS [SystemType],\nCAST(CASE WHEN baset.name IN (N'#', N'#') AND clmns.max_length &lt;&gt; --1 THEN clmns.max_length/-1 ELSE clmns.max_length END AS int) AS [Length],\nCAST(clmns.precision AS int) AS [NumericPrecision],\nCAST(clmns.scale AS int) AS [NumericScale],\ns1clmns.name AS [DataTypeSchema],\nclmns.is_computed AS [Computed]\nFROM\nsys.all_views AS v\nINNER JOIN sys.all_columns AS clmns ON clmns.object_id=v.object_id\nLEFT OUTER JOIN sys.default_constraints as dc ON clmns.default_object_id = dc.object_id\nLEFT OUTER JOIN sys.indexes AS ik ON ik.object_id = clmns.object_id and -1=ik.is_primary_key\nLEFT OUTER JOIN sys.index_columns AS cik ON cik.index_id = ik.index_id and cik.column_id = clmns.column_id and cik.object_id = clmns.object_id and -1 = cik.is_included_column\nLEFT OUTER JOIN sys.types AS usrt ON usrt.user_type_id = clmns.user_type_id\nLEFT OUTER JOIN sys.types AS baset ON (baset.user_type_id = clmns.system_type_id and baset.user_type_id = baset.system_type_id) or ((baset.system_type_id = clmns.system_type_id) and (baset.user_type_id = clmns.user_type_id) and (baset.is_user_defined = -1) and (baset.is_assembly_type = -1)) \nLEFT OUTER JOIN sys.schemas AS s1clmns ON s1clmns.schema_id = usrt.schema_id\nWHERE\n(v.type =  CAST(N'#' AS NVarChar(-1)) )and(v.name= CAST(N'#' AS NVarChar(-1))  and SCHEMA_NAME(v.schema_id)= CAST(N'#' AS NVarChar(-1)) )\nORDER BY\n[ID] ASC</td><td>648000</td><td>265000</td><td>1031000</td></tr>",
            "<tr><td>91</td><td>-- ####\r\nSelect * from sys.dm_pdw_exec_requests where status = '#' and [label] = '#'</td><td>1250000</td><td>1250000</td><td>1250000</td></tr>",
            "<tr><td>97</td><td>SELECT\nv.name AS [Name],\nv.object_id AS [ID],\nv.create_date AS [CreateDate],\nv.modify_date AS [DateLastModified],\nISNULL(sv.name, N'#') AS [Owner],\nCAST(case when v.principal_id is null then -1 else -1 end AS bit) AS [IsSchemaOwned],\nSCHEMA_NAME(v.schema_id) AS [Schema],\nCAST(\r\n        case\r\n          when v.is_ms_shipped = -1 then -1\r\n          else -1\r\n        end\r\n       AS bit) AS [IsSystemObject],\nCAST(ISNULL(OBJECTPROPERTYEX(v.object_id,N'#'),-1) AS bit) AS [AnsiNullsStatus],\nCAST(ISNULL(OBJECTPROPERTYEX(v.object_id,N'#'),-1) AS bit) AS [QuotedIdentifierStatus],\nCAST(ISNULL(OBJECTPROPERTYEX(v.object_id, N'#'),-1) AS bit) AS [IsSchemaBound],\nCAST(CASE WHEN ISNULL(smv.definition, ssmv.definition) IS NULL THEN -1 ELSE -1 END AS bit) AS [IsEncrypted],\nCAST(OBJECTPROPERTY(v.object_id, N'#') AS bit) AS [HasIndex],\nCAST(OBJECTPROPERTY(v.object_id, N'#') AS bit) AS [IsIndexable],\nv.has_opaque_metadata AS [ReturnsViewMetadata],\nCAST(ISNULL((select top -1 -1 from sys.indexes ind where ind.object_id = v.object_id and ind.type &gt; -1 and ind.is_hypothetical = -1 ), -1) AS bit) AS [HasNonClusteredIndex],\nCAST(CASE idx.index_id WHEN -1 THEN -1 ELSE -1 END AS bit) AS [HasClusteredIndex],\nCAST(case idx.index_id when -1 then case when (idx.is_primary_key + -1*idx.is_unique_constraint = -1) then -1 else -1 end else -1 end AS bit) AS [HasPrimaryClusteredIndex],\nISNULL(tmvp.distribution_policy, -1) AS [DwMaterializedViewDistribution]\nFROM\nsys.all_views AS v\nLEFT OUTER JOIN sys.database_principals AS sv ON sv.principal_id = ISNULL(v.principal_id, (OBJECTPROPERTY(v.object_id, '#')))\nLEFT OUTER JOIN sys.sql_modules AS smv ON smv.object_id = v.object_id\nLEFT OUTER JOIN sys.system_sql_modules AS ssmv ON ssmv.object_id = v.object_id\nLEFT OUTER JOIN sys.indexes AS idx ON idx.object_id = v.object_id and (idx.index_id &lt;  CAST(N'#' AS NVarChar(-1)) )\nLEFT OUTER JOIN sys.pdw_materialized_view_distribution_properties as tmvp ON tmvp.object_id = v.object_id\nWHERE\n(v.type =  CAST(N'#' AS NVarChar(-1)) )and(v.name= CAST(N'#' AS NVarChar(-1))  and SCHEMA_NAME(v.schema_id)= CAST(N'#' AS NVarChar(-1)) )</td><td>104000</td><td>31000</td><td>250000</td></tr>",
            "<tr><td>20</td><td>select SERVERPROPERTY('#');</td><td>10000</td><td>0</td><td>15000</td></tr>",
            "<tr><td>20</td><td>select SERVERPROPERTY('#');</td><td>0</td><td>0</td><td>0</td></tr>",
            "<tr><td>20</td><td>select SERVERPROPERTY('#');</td><td>5000</td><td>0</td><td>15000</td></tr>",
            "<tr><td>20</td><td>select SERVERPROPERTY('#');</td><td>0</td><td>0</td><td>0</td></tr>",
            "<tr><td>80</td><td>SELECT\nCAST(ISNULL(ic.increment_value,-1) AS bigint) AS [IdentityIncrement]\nFROM\nsys.tables AS tbl\nINNER JOIN sys.all_columns AS clmns ON clmns.object_id=tbl.object_id\nLEFT OUTER JOIN sys.identity_columns AS ic ON ic.object_id = clmns.object_id and ic.column_id = clmns.column_id\nWHERE\n(clmns.name= CAST(N'#' AS NVarChar(-1)) )and((tbl.name= CAST(N'#' AS NVarChar(-1))  and SCHEMA_NAME(tbl.schema_id)= CAST(N'#' AS NVarChar(-1)) ))</td><td>93000</td><td>93000</td><td>93000</td></tr>",
            "<tr><td>28</td><td>SELECT * FROM sys.database_principals</td><td>15000</td><td>15000</td><td>15000</td></tr>",
            "<tr><td>57</td><td>Select * from sys.dm_pdw_exec_requests where status = '#' and [label] = '#'</td><td>119333.33333333333</td><td>93000</td><td>140000</td></tr>",
            "<tr><td>14</td><td>SELECT [name] FROM [sys].[filegroups] [fg] WITH(NOLOCK) WHERE [fg].[is_default] = -1 AND [fg].[type] = N'#'</td><td>7500</td><td>0</td><td>15000</td></tr>",
            "<tr><td>14</td><td>SELECT [name] FROM [sys].[filegroups] [fg] WITH(NOLOCK) WHERE [fg].[is_default] = -1 AND [fg].[type] = N'#'</td><td>0</td><td>0</td><td>0</td></tr>",
            "<tr><td>8</td><td>SELECT CAST(HAS_PERMS_BY_NAME(N'#', N'#', N'#') AS BIT)</td><td>7500</td><td>0</td><td>15000</td></tr>",
            "<tr><td>8</td><td>SELECT CAST(HAS_PERMS_BY_NAME(N'#', N'#', N'#') AS BIT)</td><td>0</td><td>0</td><td>0</td></tr>",
            "<tr><td>51</td><td>SELECT\n'#' AS [UserName],\ndtb.name AS [DatabaseName]\nFROM\nsys.databases AS dtb\nWHERE\n(dtb.name= CAST(N'#' AS NVarChar(-1)) )</td><td>109000</td><td>109000</td><td>109000</td></tr>",
            "<tr><td>51</td><td>SELECT\n'#' AS [UserName],\ndtb.name AS [DatabaseName]\nFROM\nsys.databases AS dtb\nWHERE\n(dtb.name= CAST(N'#' AS NVarChar(-1)) )</td><td>93000</td><td>93000</td><td>93000</td></tr>",
            "</table>"
        ]
    }
}
],
            "execution_count": 11
        }
    ]
}