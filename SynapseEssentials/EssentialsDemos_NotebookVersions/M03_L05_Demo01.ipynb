{
    "metadata": {
        "kernelspec": {
            "name": "SQL",
            "display_name": "SQL",
            "language": "sql"
        },
        "language_info": {
            "name": "sql",
            "version": ""
        }
    },
    "nbformat_minor": 2,
    "nbformat": 4,
    "cells": [
        {
            "cell_type": "markdown",
            "source": [
                "# **Module 3 - Lesson 5 - Demo 1 (M03\\_L05\\_Demo01)**\n",
                "\n",
                "## **Objective:** The goal of this demo is to demonstrate how CCI works at the various stages of the CCI lifecycle"
            ],
            "metadata": {
                "azdata_cell_guid": "9a3987ba-a95d-4b1e-b478-3ab254e14f7d"
            },
            "attachments": {}
        },
        {
            "cell_type": "markdown",
            "source": [
                "## **Setup:**\n",
                "\n",
                "Before starting, resume your Synapse SQL Pool if it is paused \n",
                "\n",
                "These demos are writen to run at DW1000c, runtimes will be longer at smaller SLOs\n",
                "\n",
                "_Note: this demo uses data loaded in a precious demo - M03\\_L02\\_Demo01_"
            ],
            "metadata": {
                "azdata_cell_guid": "a6f3dbb2-8610-4bea-826c-107550f6f7dc"
            },
            "attachments": {}
        },
        {
            "cell_type": "markdown",
            "source": [
                "<span style=\"font-size: 14.6667px; font-variant-ligatures: none; white-space: pre-wrap; background-color: rgb(255, 255, 255);\">Drop any tables by the same name of the tables we will be creating for this demo</span>"
            ],
            "metadata": {
                "azdata_cell_guid": "3c9e32fb-fd11-471f-96f0-e58b8eacf68f"
            },
            "attachments": {}
        },
        {
            "cell_type": "code",
            "source": [
                "--Drop tables if they already exist\r\n",
                "IF OBJECT_ID('fctTrip_CCI') IS NOT NULL\t\tDROP TABLE [fctTrip_CCI] \r\n",
                "IF OBJECT_ID('fctTrip_CCI_Ordered') IS NOT NULL\tDROP TABLE [fctTrip_CCI_Ordered] "
            ],
            "metadata": {
                "azdata_cell_guid": "d06b30d9-e98e-4eab-b4bb-0009550389a9",
                "tags": []
            },
            "outputs": [
                {
                    "output_type": "display_data",
                    "data": {
                        "text/html": "Commands completed successfully."
                    },
                    "metadata": {}
                },
                {
                    "output_type": "display_data",
                    "data": {
                        "text/html": "Total execution time: 00:00:00.334"
                    },
                    "metadata": {}
                }
            ],
            "execution_count": 9
        },
        {
            "cell_type": "markdown",
            "source": [
                "## Create the CCI version of the demo table, review the CCI health stats, then explain the relevance of the reported metrics\n",
                "\n",
                "_Note - this query runs against the original trip talbe, not the fctTrip table_\n",
                "\n",
                "This query runs for ~1min 45sec at DW1000c, ~3min at DW500c"
            ],
            "metadata": {
                "azdata_cell_guid": "6470b76a-c8ec-4320-9719-db87ea539d59"
            },
            "attachments": {}
        },
        {
            "cell_type": "code",
            "source": [
                "--Create a new table copy of the trip table with a Columnstore index and distributed on DateID\r\n",
                "CREATE TABLE [fctTrip_CCI] \r\n",
                "WITH \r\n",
                "(DISTRIBUTION = HASH(DateID), \r\n",
                " CLUSTERED COLUMNSTORE INDEX ) \r\n",
                "AS \r\n",
                "SELECT * \r\n",
                "FROM trip "
            ],
            "metadata": {
                "azdata_cell_guid": "2a1febc3-b65b-448d-9dbe-781ecce3ff53",
                "tags": []
            },
            "outputs": [
                {
                    "output_type": "display_data",
                    "data": {
                        "text/html": "(170261325 rows affected)"
                    },
                    "metadata": {}
                },
                {
                    "output_type": "display_data",
                    "data": {
                        "text/html": "Total execution time: 00:02:22.477"
                    },
                    "metadata": {}
                }
            ],
            "execution_count": 10
        },
        {
            "cell_type": "markdown",
            "source": [
                "## Check the CCI health of this table using the CCIHealth view we previously created. Take note of: \n",
                "\n",
                "- Open rows - rows that are in the delta store and have not yet reached the criteria to be compressed automatically into the columnstore\n",
                "- Compressed rows - number of rows in compressed rowgroups\n",
                "- avg compressed rows - average number of rows in each compressed rowgroup. Ideal is around 1 million rows"
            ],
            "metadata": {
                "azdata_cell_guid": "0f170626-7b1e-472c-a738-5df757022603"
            },
            "attachments": {}
        },
        {
            "cell_type": "code",
            "source": [
                "--View cci health of the factTrip_CCI table\r\n",
                "SELECT * \r\n",
                "FROM vCCIHealth \r\n",
                "WHERE Table_Name = 'fctTrip_CCI'"
            ],
            "metadata": {
                "azdata_cell_guid": "efec7e8b-f33b-4865-97e0-b1cc088f629b",
                "tags": []
            },
            "outputs": [
                {
                    "output_type": "display_data",
                    "data": {
                        "text/html": "(1 row affected)"
                    },
                    "metadata": {}
                },
                {
                    "output_type": "display_data",
                    "data": {
                        "text/html": "Total execution time: 00:00:01.814"
                    },
                    "metadata": {}
                },
                {
                    "output_type": "execute_result",
                    "metadata": {},
                    "execution_count": 11,
                    "data": {
                        "application/vnd.dataresource+json": {
                            "schema": {
                                "fields": [
                                    {
                                        "name": "Schema_Name"
                                    },
                                    {
                                        "name": "Table_Name"
                                    },
                                    {
                                        "name": "Distribution_type"
                                    },
                                    {
                                        "name": "Total_Rows"
                                    },
                                    {
                                        "name": "Column_Count"
                                    },
                                    {
                                        "name": "OPEN_Row_Groups"
                                    },
                                    {
                                        "name": "OPEN_rows"
                                    },
                                    {
                                        "name": "MIN OPEN Row Group Rows"
                                    },
                                    {
                                        "name": "MAX OPEN_Row Group Rows"
                                    },
                                    {
                                        "name": "AVG OPEN_Row Group Rows"
                                    },
                                    {
                                        "name": "COMPRESSED_Row_Groups"
                                    },
                                    {
                                        "name": "COMPRESSED_Rows"
                                    },
                                    {
                                        "name": "Deleted_COMPRESSED_Rows"
                                    },
                                    {
                                        "name": "MIN COMPRESSED Row Group Rows"
                                    },
                                    {
                                        "name": "MAX COMPRESSED Row Group Rows"
                                    },
                                    {
                                        "name": "AVG_COMPRESSED_Rows"
                                    },
                                    {
                                        "name": "CLOSED_Row_Groups"
                                    },
                                    {
                                        "name": "CLOSED_Rows"
                                    },
                                    {
                                        "name": "MIN CLOSED Row Group Rows"
                                    },
                                    {
                                        "name": "MAX CLOSED Row Group Rows"
                                    },
                                    {
                                        "name": "AVG CLOSED Row Group Rows"
                                    }
                                ]
                            },
                            "data": [
                                {
                                    "0": "dbo",
                                    "1": "fctTrip_CCI",
                                    "2": "HASH",
                                    "3": "170261325",
                                    "4": "23",
                                    "5": "7",
                                    "6": "333376",
                                    "7": "2715",
                                    "8": "81387",
                                    "9": "47625",
                                    "10": "347",
                                    "11": "169927949",
                                    "12": "0",
                                    "13": "107374",
                                    "14": "524289",
                                    "15": "489705",
                                    "16": "0",
                                    "17": "0",
                                    "18": "NULL",
                                    "19": "NULL",
                                    "20": "NULL"
                                }
                            ]
                        },
                        "text/html": [
                            "<table>",
                            "<tr><th>Schema_Name</th><th>Table_Name</th><th>Distribution_type</th><th>Total_Rows</th><th>Column_Count</th><th>OPEN_Row_Groups</th><th>OPEN_rows</th><th>MIN OPEN Row Group Rows</th><th>MAX OPEN_Row Group Rows</th><th>AVG OPEN_Row Group Rows</th><th>COMPRESSED_Row_Groups</th><th>COMPRESSED_Rows</th><th>Deleted_COMPRESSED_Rows</th><th>MIN COMPRESSED Row Group Rows</th><th>MAX COMPRESSED Row Group Rows</th><th>AVG_COMPRESSED_Rows</th><th>CLOSED_Row_Groups</th><th>CLOSED_Rows</th><th>MIN CLOSED Row Group Rows</th><th>MAX CLOSED Row Group Rows</th><th>AVG CLOSED Row Group Rows</th></tr>",
                            "<tr><td>dbo</td><td>fctTrip_CCI</td><td>HASH</td><td>170261325</td><td>23</td><td>7</td><td>333376</td><td>2715</td><td>81387</td><td>47625</td><td>347</td><td>169927949</td><td>0</td><td>107374</td><td>524289</td><td>489705</td><td>0</td><td>0</td><td>NULL</td><td>NULL</td><td>NULL</td></tr>",
                            "</table>"
                        ]
                    }
                }
            ],
            "execution_count": 11
        },
        {
            "cell_type": "markdown",
            "source": [
                "## Add new data from the fctTrip table(300k rows) and review the CCI stats again\n",
                "\n",
                "The small insert of 300k rows will add the new rows to open rowgroups instead of to compressed rowgroups. For a CCI table to perform well we want all of the rows to be in compressed rowgroups."
            ],
            "metadata": {
                "azdata_cell_guid": "b49a4cf3-bd0d-4478-b51e-3a83be21aabd"
            },
            "attachments": {}
        },
        {
            "cell_type": "code",
            "source": [
                "--Insert 300k rows into fctTrip_CCI\r\n",
                "INSERT [fctTrip_CCI] \r\n",
                "SELECT top 300000 * \r\n",
                "FROM Trip "
            ],
            "metadata": {
                "azdata_cell_guid": "6ed92dfe-0a05-43b3-baae-388287c9f979",
                "tags": []
            },
            "outputs": [
                {
                    "output_type": "display_data",
                    "data": {
                        "text/html": "(300000 rows affected)"
                    },
                    "metadata": {}
                },
                {
                    "output_type": "display_data",
                    "data": {
                        "text/html": "Total execution time: 00:00:07.957"
                    },
                    "metadata": {}
                }
            ],
            "execution_count": 12
        },
        {
            "cell_type": "code",
            "source": [
                "--Review CCI health\r\n",
                "SELECT * \r\n",
                "FROM vCCIHealth \r\n",
                "WHERE Table_Name = 'fctTrip_CCI' "
            ],
            "metadata": {
                "azdata_cell_guid": "237e5396-af73-447d-a198-72af1995ca07",
                "tags": []
            },
            "outputs": [
                {
                    "output_type": "display_data",
                    "data": {
                        "text/html": "(1 row affected)"
                    },
                    "metadata": {}
                },
                {
                    "output_type": "display_data",
                    "data": {
                        "text/html": "Total execution time: 00:00:01.711"
                    },
                    "metadata": {}
                },
                {
                    "output_type": "execute_result",
                    "metadata": {},
                    "execution_count": 13,
                    "data": {
                        "application/vnd.dataresource+json": {
                            "schema": {
                                "fields": [
                                    {
                                        "name": "Schema_Name"
                                    },
                                    {
                                        "name": "Table_Name"
                                    },
                                    {
                                        "name": "Distribution_type"
                                    },
                                    {
                                        "name": "Total_Rows"
                                    },
                                    {
                                        "name": "Column_Count"
                                    },
                                    {
                                        "name": "OPEN_Row_Groups"
                                    },
                                    {
                                        "name": "OPEN_rows"
                                    },
                                    {
                                        "name": "MIN OPEN Row Group Rows"
                                    },
                                    {
                                        "name": "MAX OPEN_Row Group Rows"
                                    },
                                    {
                                        "name": "AVG OPEN_Row Group Rows"
                                    },
                                    {
                                        "name": "COMPRESSED_Row_Groups"
                                    },
                                    {
                                        "name": "COMPRESSED_Rows"
                                    },
                                    {
                                        "name": "Deleted_COMPRESSED_Rows"
                                    },
                                    {
                                        "name": "MIN COMPRESSED Row Group Rows"
                                    },
                                    {
                                        "name": "MAX COMPRESSED Row Group Rows"
                                    },
                                    {
                                        "name": "AVG_COMPRESSED_Rows"
                                    },
                                    {
                                        "name": "CLOSED_Row_Groups"
                                    },
                                    {
                                        "name": "CLOSED_Rows"
                                    },
                                    {
                                        "name": "MIN CLOSED Row Group Rows"
                                    },
                                    {
                                        "name": "MAX CLOSED Row Group Rows"
                                    },
                                    {
                                        "name": "AVG CLOSED Row Group Rows"
                                    }
                                ]
                            },
                            "data": [
                                {
                                    "0": "dbo",
                                    "1": "fctTrip_CCI",
                                    "2": "HASH",
                                    "3": "170561325",
                                    "4": "23",
                                    "5": "59",
                                    "6": "633376",
                                    "7": "818",
                                    "8": "88543",
                                    "9": "10735",
                                    "10": "347",
                                    "11": "169927949",
                                    "12": "0",
                                    "13": "107374",
                                    "14": "524289",
                                    "15": "489705",
                                    "16": "0",
                                    "17": "0",
                                    "18": "NULL",
                                    "19": "NULL",
                                    "20": "NULL"
                                }
                            ]
                        },
                        "text/html": [
                            "<table>",
                            "<tr><th>Schema_Name</th><th>Table_Name</th><th>Distribution_type</th><th>Total_Rows</th><th>Column_Count</th><th>OPEN_Row_Groups</th><th>OPEN_rows</th><th>MIN OPEN Row Group Rows</th><th>MAX OPEN_Row Group Rows</th><th>AVG OPEN_Row Group Rows</th><th>COMPRESSED_Row_Groups</th><th>COMPRESSED_Rows</th><th>Deleted_COMPRESSED_Rows</th><th>MIN COMPRESSED Row Group Rows</th><th>MAX COMPRESSED Row Group Rows</th><th>AVG_COMPRESSED_Rows</th><th>CLOSED_Row_Groups</th><th>CLOSED_Rows</th><th>MIN CLOSED Row Group Rows</th><th>MAX CLOSED Row Group Rows</th><th>AVG CLOSED Row Group Rows</th></tr>",
                            "<tr><td>dbo</td><td>fctTrip_CCI</td><td>HASH</td><td>170561325</td><td>23</td><td>59</td><td>633376</td><td>818</td><td>88543</td><td>10735</td><td>347</td><td>169927949</td><td>0</td><td>107374</td><td>524289</td><td>489705</td><td>0</td><td>0</td><td>NULL</td><td>NULL</td><td>NULL</td></tr>",
                            "</table>"
                        ]
                    }
                }
            ],
            "execution_count": 13
        },
        {
            "cell_type": "markdown",
            "source": [
                "## Reorganize the index and review CCI stats\n",
                "\n",
                "Open rowgroups remain unchanged. Reorganize runs a subset of the work that rebuild does, it will not move open rows into compressed rowgroups.\n",
                "\n",
                "_Note: an index REORGANIZE is an ONLINE operation_"
            ],
            "metadata": {
                "azdata_cell_guid": "18a4b6e7-8737-48ec-ae8f-1a8bb32b6854"
            },
            "attachments": {}
        },
        {
            "cell_type": "code",
            "source": [
                "--Run the index reorganize for fctTrip_CCI\r\n",
                "ALTER INDEX ALL ON [fctTrip_CCI] \r\n",
                "REORGANIZE "
            ],
            "metadata": {
                "azdata_cell_guid": "8f8a3df7-3f03-439e-9184-8a18b41def2c",
                "tags": []
            },
            "outputs": [
                {
                    "output_type": "display_data",
                    "data": {
                        "text/html": "Commands completed successfully."
                    },
                    "metadata": {}
                },
                {
                    "output_type": "display_data",
                    "data": {
                        "text/html": "Total execution time: 00:00:26.483"
                    },
                    "metadata": {}
                }
            ],
            "execution_count": 14
        },
        {
            "cell_type": "code",
            "source": [
                "--Check CCI health again\r\n",
                "SELECT * \r\n",
                "FROM vCCIHealth \r\n",
                "WHERE Table_Name = 'fctTrip_CCI'"
            ],
            "metadata": {
                "azdata_cell_guid": "86569c49-fbc3-4734-9508-42259fbee66b",
                "tags": []
            },
            "outputs": [
                {
                    "output_type": "display_data",
                    "data": {
                        "text/html": "(1 row affected)"
                    },
                    "metadata": {}
                },
                {
                    "output_type": "display_data",
                    "data": {
                        "text/html": "Total execution time: 00:00:01.634"
                    },
                    "metadata": {}
                },
                {
                    "output_type": "execute_result",
                    "metadata": {},
                    "execution_count": 15,
                    "data": {
                        "application/vnd.dataresource+json": {
                            "schema": {
                                "fields": [
                                    {
                                        "name": "Schema_Name"
                                    },
                                    {
                                        "name": "Table_Name"
                                    },
                                    {
                                        "name": "Distribution_type"
                                    },
                                    {
                                        "name": "Total_Rows"
                                    },
                                    {
                                        "name": "Column_Count"
                                    },
                                    {
                                        "name": "OPEN_Row_Groups"
                                    },
                                    {
                                        "name": "OPEN_rows"
                                    },
                                    {
                                        "name": "MIN OPEN Row Group Rows"
                                    },
                                    {
                                        "name": "MAX OPEN_Row Group Rows"
                                    },
                                    {
                                        "name": "AVG OPEN_Row Group Rows"
                                    },
                                    {
                                        "name": "COMPRESSED_Row_Groups"
                                    },
                                    {
                                        "name": "COMPRESSED_Rows"
                                    },
                                    {
                                        "name": "Deleted_COMPRESSED_Rows"
                                    },
                                    {
                                        "name": "MIN COMPRESSED Row Group Rows"
                                    },
                                    {
                                        "name": "MAX COMPRESSED Row Group Rows"
                                    },
                                    {
                                        "name": "AVG_COMPRESSED_Rows"
                                    },
                                    {
                                        "name": "CLOSED_Row_Groups"
                                    },
                                    {
                                        "name": "CLOSED_Rows"
                                    },
                                    {
                                        "name": "MIN CLOSED Row Group Rows"
                                    },
                                    {
                                        "name": "MAX CLOSED Row Group Rows"
                                    },
                                    {
                                        "name": "AVG CLOSED Row Group Rows"
                                    }
                                ]
                            },
                            "data": [
                                {
                                    "0": "dbo",
                                    "1": "fctTrip_CCI",
                                    "2": "HASH",
                                    "3": "212064739",
                                    "4": "23",
                                    "5": "59",
                                    "6": "633376",
                                    "7": "818",
                                    "8": "88543",
                                    "9": "10735",
                                    "10": "296",
                                    "11": "169927949",
                                    "12": "0",
                                    "13": "498019",
                                    "14": "1018074",
                                    "15": "574080",
                                    "16": "0",
                                    "17": "0",
                                    "18": "NULL",
                                    "19": "NULL",
                                    "20": "NULL"
                                }
                            ]
                        },
                        "text/html": [
                            "<table>",
                            "<tr><th>Schema_Name</th><th>Table_Name</th><th>Distribution_type</th><th>Total_Rows</th><th>Column_Count</th><th>OPEN_Row_Groups</th><th>OPEN_rows</th><th>MIN OPEN Row Group Rows</th><th>MAX OPEN_Row Group Rows</th><th>AVG OPEN_Row Group Rows</th><th>COMPRESSED_Row_Groups</th><th>COMPRESSED_Rows</th><th>Deleted_COMPRESSED_Rows</th><th>MIN COMPRESSED Row Group Rows</th><th>MAX COMPRESSED Row Group Rows</th><th>AVG_COMPRESSED_Rows</th><th>CLOSED_Row_Groups</th><th>CLOSED_Rows</th><th>MIN CLOSED Row Group Rows</th><th>MAX CLOSED Row Group Rows</th><th>AVG CLOSED Row Group Rows</th></tr>",
                            "<tr><td>dbo</td><td>fctTrip_CCI</td><td>HASH</td><td>212064739</td><td>23</td><td>59</td><td>633376</td><td>818</td><td>88543</td><td>10735</td><td>296</td><td>169927949</td><td>0</td><td>498019</td><td>1018074</td><td>574080</td><td>0</td><td>0</td><td>NULL</td><td>NULL</td><td>NULL</td></tr>",
                            "</table>"
                        ]
                    }
                }
            ],
            "execution_count": 15
        },
        {
            "cell_type": "markdown",
            "source": [
                "### What happened?\n",
                "The REORGANIZE command did make some changes, but the index would not be considered fully healthy yet. \n",
                "NOTE ABOUT TOTAL ROWS INCREASING\n",
                "Here are the things that changed:\n",
                "- Number of compressed rowgroups decreased\n",
                "    - smaller rowgroups were combined together to form fewer, larger rowgroups\n",
                "- Min compressed rows increased\n",
                "    - The smallest rowgroups are now smaller thanks to combining smaller rowgroups together\n",
                "- Max compressed rows increased\n",
                "    - the largest rowgroup(s) are now around the most ideal size of 1 million rows\n",
                "- Avg compressed rows increased\n",
                "    - This is the key metric we are looking at - on average the number of rows in compressed rowgroups increased, which will lead to better compression within each rowgroup\n",
                "Here is what did not change:\n",
                "- Rows in OPEN rowgroups\n",
                "    - the REORGANIZE command does not impact rows that are still in the delta store\n",
                "- Rows in CLOSED rowgroups\n",
                "    - you will rarely see rows in closed rowgroups because these rowgroups are just wating to be compressed\n",
                "_NOTE: If we had deleted rows in compressed rowgroups, then the reorganize command will drop these IF the percentage deleted within the individual rowgroup is above 10%._"
            ],
            "metadata": {
                "azdata_cell_guid": "8f945c2e-1b1f-4d8d-bdfb-acf2f0eacaf0"
            },
            "attachments": {}
        },
        {
            "cell_type": "markdown",
            "source": [
                "## Rebuild the index and review CCI stats\n",
                "\n",
                "You should see now that all OPEN rowgroups are compressed. A rebuild will take all open rows and compress them into open rowgroups, as well as combine smaller rowgroups into larger rowgroups where possible.\n",
                "\n",
                "_Note: An index REBUILD is an OFFLINE operation_"
            ],
            "metadata": {
                "azdata_cell_guid": "e2030310-0502-45b5-9684-506821f46181"
            },
            "attachments": {}
        },
        {
            "cell_type": "code",
            "source": [
                "--Run a rebuild on the index\r\n",
                "ALTER INDEX ALL ON [fctTrip_CCI] \r\n",
                "REBUILD "
            ],
            "metadata": {
                "azdata_cell_guid": "45d67c9f-aead-4c63-a508-af99003749ac",
                "tags": []
            },
            "outputs": [
                {
                    "output_type": "display_data",
                    "data": {
                        "text/html": "Commands completed successfully."
                    },
                    "metadata": {}
                },
                {
                    "output_type": "display_data",
                    "data": {
                        "text/html": "Total execution time: 00:02:04.366"
                    },
                    "metadata": {}
                }
            ],
            "execution_count": 17
        },
        {
            "cell_type": "code",
            "source": [
                "--Check CCI health again\r\n",
                "SELECT * \r\n",
                "FROM vCCIHealth \r\n",
                "WHERE Table_Name = 'fctTrip_CCI'"
            ],
            "metadata": {
                "azdata_cell_guid": "124ce3c7-fe75-4619-ac4a-15838bb73a79",
                "tags": []
            },
            "outputs": [
                {
                    "output_type": "display_data",
                    "data": {
                        "text/html": "(1 row affected)"
                    },
                    "metadata": {}
                },
                {
                    "output_type": "display_data",
                    "data": {
                        "text/html": "Total execution time: 00:00:01.816"
                    },
                    "metadata": {}
                },
                {
                    "output_type": "execute_result",
                    "metadata": {},
                    "execution_count": 18,
                    "data": {
                        "application/vnd.dataresource+json": {
                            "schema": {
                                "fields": [
                                    {
                                        "name": "Schema_Name"
                                    },
                                    {
                                        "name": "Table_Name"
                                    },
                                    {
                                        "name": "Distribution_type"
                                    },
                                    {
                                        "name": "Total_Rows"
                                    },
                                    {
                                        "name": "Column_Count"
                                    },
                                    {
                                        "name": "OPEN_Row_Groups"
                                    },
                                    {
                                        "name": "OPEN_rows"
                                    },
                                    {
                                        "name": "MIN OPEN Row Group Rows"
                                    },
                                    {
                                        "name": "MAX OPEN_Row Group Rows"
                                    },
                                    {
                                        "name": "AVG OPEN_Row Group Rows"
                                    },
                                    {
                                        "name": "COMPRESSED_Row_Groups"
                                    },
                                    {
                                        "name": "COMPRESSED_Rows"
                                    },
                                    {
                                        "name": "Deleted_COMPRESSED_Rows"
                                    },
                                    {
                                        "name": "MIN COMPRESSED Row Group Rows"
                                    },
                                    {
                                        "name": "MAX COMPRESSED Row Group Rows"
                                    },
                                    {
                                        "name": "AVG_COMPRESSED_Rows"
                                    },
                                    {
                                        "name": "CLOSED_Row_Groups"
                                    },
                                    {
                                        "name": "CLOSED_Rows"
                                    },
                                    {
                                        "name": "MIN CLOSED Row Group Rows"
                                    },
                                    {
                                        "name": "MAX CLOSED Row Group Rows"
                                    },
                                    {
                                        "name": "AVG CLOSED Row Group Rows"
                                    }
                                ]
                            },
                            "data": [
                                {
                                    "0": "dbo",
                                    "1": "fctTrip_CCI",
                                    "2": "HASH",
                                    "3": "170561325",
                                    "4": "23",
                                    "5": "0",
                                    "6": "0",
                                    "7": "NULL",
                                    "8": "NULL",
                                    "9": "NULL",
                                    "10": "191",
                                    "11": "170561325",
                                    "12": "0",
                                    "13": "36768",
                                    "14": "1048576",
                                    "15": "892991",
                                    "16": "0",
                                    "17": "0",
                                    "18": "NULL",
                                    "19": "NULL",
                                    "20": "NULL"
                                }
                            ]
                        },
                        "text/html": [
                            "<table>",
                            "<tr><th>Schema_Name</th><th>Table_Name</th><th>Distribution_type</th><th>Total_Rows</th><th>Column_Count</th><th>OPEN_Row_Groups</th><th>OPEN_rows</th><th>MIN OPEN Row Group Rows</th><th>MAX OPEN_Row Group Rows</th><th>AVG OPEN_Row Group Rows</th><th>COMPRESSED_Row_Groups</th><th>COMPRESSED_Rows</th><th>Deleted_COMPRESSED_Rows</th><th>MIN COMPRESSED Row Group Rows</th><th>MAX COMPRESSED Row Group Rows</th><th>AVG_COMPRESSED_Rows</th><th>CLOSED_Row_Groups</th><th>CLOSED_Rows</th><th>MIN CLOSED Row Group Rows</th><th>MAX CLOSED Row Group Rows</th><th>AVG CLOSED Row Group Rows</th></tr>",
                            "<tr><td>dbo</td><td>fctTrip_CCI</td><td>HASH</td><td>170561325</td><td>23</td><td>0</td><td>0</td><td>NULL</td><td>NULL</td><td>NULL</td><td>191</td><td>170561325</td><td>0</td><td>36768</td><td>1048576</td><td>892991</td><td>0</td><td>0</td><td>NULL</td><td>NULL</td><td>NULL</td></tr>",
                            "</table>"
                        ]
                    }
                }
            ],
            "execution_count": 18
        },
        {
            "cell_type": "markdown",
            "source": [
                "## Create an ordered CCI version of the demo table\n",
                "\n",
                "This query runs for ~2min 10sec at DW1000c\n",
                "\n",
                "Runtime for this query will be longer than the previous CTAS with an un-ordered index. It takes longer to create an ordered table because the data has to be sorted before it can be inserted, but certain queries can benefit from the index being ordered so the extra load time may be worth it for the increased query performance. \n",
                "\n",
                "  \n",
                "\n",
                "_Note: this query runs against the original trip table, not the fctTrip table_"
            ],
            "metadata": {
                "azdata_cell_guid": "125b5b4e-8ee2-491a-860d-0eb229affc4f"
            },
            "attachments": {}
        },
        {
            "cell_type": "code",
            "source": [
                "--Create the table with ordered CCI\r\n",
                "CREATE TABLE [fctTrip_CCI_Ordered] \r\n",
                "WITH \r\n",
                "(DISTRIBUTION = HASH(DateID), \r\n",
                " CLUSTERED COLUMNSTORE INDEX ORDER (DateID, MedallionID)) \r\n",
                "AS \r\n",
                "SELECT * \r\n",
                "FROM trip "
            ],
            "metadata": {
                "azdata_cell_guid": "4bb2e3cc-800c-4f7c-888f-c2d00b0a8983",
                "tags": []
            },
            "outputs": [
                {
                    "output_type": "display_data",
                    "data": {
                        "text/html": "(170261325 rows affected)"
                    },
                    "metadata": {}
                },
                {
                    "output_type": "display_data",
                    "data": {
                        "text/html": "Total execution time: 00:03:13.143"
                    },
                    "metadata": {}
                }
            ],
            "execution_count": 19
        },
        {
            "cell_type": "code",
            "source": [
                "--Check CCI health of the table\r\n",
                "SELECT * \r\n",
                "FROM vCCIHealth \r\n",
                "WHERE Table_Name = 'fctTrip_CCI_Ordered'"
            ],
            "metadata": {
                "azdata_cell_guid": "2ef679df-0209-406e-99b5-77849b5b0e23",
                "tags": []
            },
            "outputs": [
                {
                    "output_type": "display_data",
                    "data": {
                        "text/html": "(1 row affected)"
                    },
                    "metadata": {}
                },
                {
                    "output_type": "display_data",
                    "data": {
                        "text/html": "Total execution time: 00:00:01.840"
                    },
                    "metadata": {}
                },
                {
                    "output_type": "execute_result",
                    "metadata": {},
                    "execution_count": 20,
                    "data": {
                        "application/vnd.dataresource+json": {
                            "schema": {
                                "fields": [
                                    {
                                        "name": "Schema_Name"
                                    },
                                    {
                                        "name": "Table_Name"
                                    },
                                    {
                                        "name": "Distribution_type"
                                    },
                                    {
                                        "name": "Total_Rows"
                                    },
                                    {
                                        "name": "Column_Count"
                                    },
                                    {
                                        "name": "OPEN_Row_Groups"
                                    },
                                    {
                                        "name": "OPEN_rows"
                                    },
                                    {
                                        "name": "MIN OPEN Row Group Rows"
                                    },
                                    {
                                        "name": "MAX OPEN_Row Group Rows"
                                    },
                                    {
                                        "name": "AVG OPEN_Row Group Rows"
                                    },
                                    {
                                        "name": "COMPRESSED_Row_Groups"
                                    },
                                    {
                                        "name": "COMPRESSED_Rows"
                                    },
                                    {
                                        "name": "Deleted_COMPRESSED_Rows"
                                    },
                                    {
                                        "name": "MIN COMPRESSED Row Group Rows"
                                    },
                                    {
                                        "name": "MAX COMPRESSED Row Group Rows"
                                    },
                                    {
                                        "name": "AVG_COMPRESSED_Rows"
                                    },
                                    {
                                        "name": "CLOSED_Row_Groups"
                                    },
                                    {
                                        "name": "CLOSED_Rows"
                                    },
                                    {
                                        "name": "MIN CLOSED Row Group Rows"
                                    },
                                    {
                                        "name": "MAX CLOSED Row Group Rows"
                                    },
                                    {
                                        "name": "AVG CLOSED Row Group Rows"
                                    }
                                ]
                            },
                            "data": [
                                {
                                    "0": "dbo",
                                    "1": "fctTrip_CCI_Ordered",
                                    "2": "HASH",
                                    "3": "170261325",
                                    "4": "23",
                                    "5": "21",
                                    "6": "1163680",
                                    "7": "1125",
                                    "8": "101717",
                                    "9": "55413",
                                    "10": "656",
                                    "11": "169097645",
                                    "12": "0",
                                    "13": "107369",
                                    "14": "262145",
                                    "15": "257770",
                                    "16": "0",
                                    "17": "0",
                                    "18": "NULL",
                                    "19": "NULL",
                                    "20": "NULL"
                                }
                            ]
                        },
                        "text/html": [
                            "<table>",
                            "<tr><th>Schema_Name</th><th>Table_Name</th><th>Distribution_type</th><th>Total_Rows</th><th>Column_Count</th><th>OPEN_Row_Groups</th><th>OPEN_rows</th><th>MIN OPEN Row Group Rows</th><th>MAX OPEN_Row Group Rows</th><th>AVG OPEN_Row Group Rows</th><th>COMPRESSED_Row_Groups</th><th>COMPRESSED_Rows</th><th>Deleted_COMPRESSED_Rows</th><th>MIN COMPRESSED Row Group Rows</th><th>MAX COMPRESSED Row Group Rows</th><th>AVG_COMPRESSED_Rows</th><th>CLOSED_Row_Groups</th><th>CLOSED_Rows</th><th>MIN CLOSED Row Group Rows</th><th>MAX CLOSED Row Group Rows</th><th>AVG CLOSED Row Group Rows</th></tr>",
                            "<tr><td>dbo</td><td>fctTrip_CCI_Ordered</td><td>HASH</td><td>170261325</td><td>23</td><td>21</td><td>1163680</td><td>1125</td><td>101717</td><td>55413</td><td>656</td><td>169097645</td><td>0</td><td>107369</td><td>262145</td><td>257770</td><td>0</td><td>0</td><td>NULL</td><td>NULL</td><td>NULL</td></tr>",
                            "</table>"
                        ]
                    }
                }
            ],
            "execution_count": 20
        },
        {
            "cell_type": "markdown",
            "source": [
                "## Rebuild the CCI index and notice the changes vs before the rebuild"
            ],
            "metadata": {
                "azdata_cell_guid": "fe6f1a8f-6a4e-410c-8c1c-03628ae6c885"
            },
            "attachments": {}
        },
        {
            "cell_type": "code",
            "source": [
                "--Run an index rebuild on the ordered table\r\n",
                "ALTER INDEX ALL ON [fctTrip_CCI_Ordered] \r\n",
                "REBUILD "
            ],
            "metadata": {
                "azdata_cell_guid": "33b93679-9021-4356-80d6-f54e6656bd01",
                "tags": []
            },
            "outputs": [
                {
                    "output_type": "display_data",
                    "data": {
                        "text/html": "Commands completed successfully."
                    },
                    "metadata": {}
                },
                {
                    "output_type": "display_data",
                    "data": {
                        "text/html": "Total execution time: 00:02:20.650"
                    },
                    "metadata": {}
                }
            ],
            "execution_count": 21
        },
        {
            "cell_type": "code",
            "source": [
                " \r\n",
                "--Check CCI health of the table again\r\n",
                "SELECT * \r\n",
                "FROM vCCIHealth \r\n",
                "WHERE Table_Name = 'fctTrip_CCI_Ordered'"
            ],
            "metadata": {
                "azdata_cell_guid": "df1e1d01-4b7c-4e65-92a1-ea0485f28203",
                "tags": []
            },
            "outputs": [
                {
                    "output_type": "display_data",
                    "data": {
                        "text/html": "(1 row affected)"
                    },
                    "metadata": {}
                },
                {
                    "output_type": "display_data",
                    "data": {
                        "text/html": "Total execution time: 00:00:01.709"
                    },
                    "metadata": {}
                },
                {
                    "output_type": "execute_result",
                    "metadata": {},
                    "execution_count": 22,
                    "data": {
                        "application/vnd.dataresource+json": {
                            "schema": {
                                "fields": [
                                    {
                                        "name": "Schema_Name"
                                    },
                                    {
                                        "name": "Table_Name"
                                    },
                                    {
                                        "name": "Distribution_type"
                                    },
                                    {
                                        "name": "Total_Rows"
                                    },
                                    {
                                        "name": "Column_Count"
                                    },
                                    {
                                        "name": "OPEN_Row_Groups"
                                    },
                                    {
                                        "name": "OPEN_rows"
                                    },
                                    {
                                        "name": "MIN OPEN Row Group Rows"
                                    },
                                    {
                                        "name": "MAX OPEN_Row Group Rows"
                                    },
                                    {
                                        "name": "AVG OPEN_Row Group Rows"
                                    },
                                    {
                                        "name": "COMPRESSED_Row_Groups"
                                    },
                                    {
                                        "name": "COMPRESSED_Rows"
                                    },
                                    {
                                        "name": "Deleted_COMPRESSED_Rows"
                                    },
                                    {
                                        "name": "MIN COMPRESSED Row Group Rows"
                                    },
                                    {
                                        "name": "MAX COMPRESSED Row Group Rows"
                                    },
                                    {
                                        "name": "AVG_COMPRESSED_Rows"
                                    },
                                    {
                                        "name": "CLOSED_Row_Groups"
                                    },
                                    {
                                        "name": "CLOSED_Rows"
                                    },
                                    {
                                        "name": "MIN CLOSED Row Group Rows"
                                    },
                                    {
                                        "name": "MAX CLOSED Row Group Rows"
                                    },
                                    {
                                        "name": "AVG CLOSED Row Group Rows"
                                    }
                                ]
                            },
                            "data": [
                                {
                                    "0": "dbo",
                                    "1": "fctTrip_CCI_Ordered",
                                    "2": "HASH",
                                    "3": "170261325",
                                    "4": "23",
                                    "5": "0",
                                    "6": "0",
                                    "7": "NULL",
                                    "8": "NULL",
                                    "9": "NULL",
                                    "10": "191",
                                    "11": "170261325",
                                    "12": "0",
                                    "13": "32841",
                                    "14": "1048576",
                                    "15": "891420",
                                    "16": "0",
                                    "17": "0",
                                    "18": "NULL",
                                    "19": "NULL",
                                    "20": "NULL"
                                }
                            ]
                        },
                        "text/html": [
                            "<table>",
                            "<tr><th>Schema_Name</th><th>Table_Name</th><th>Distribution_type</th><th>Total_Rows</th><th>Column_Count</th><th>OPEN_Row_Groups</th><th>OPEN_rows</th><th>MIN OPEN Row Group Rows</th><th>MAX OPEN_Row Group Rows</th><th>AVG OPEN_Row Group Rows</th><th>COMPRESSED_Row_Groups</th><th>COMPRESSED_Rows</th><th>Deleted_COMPRESSED_Rows</th><th>MIN COMPRESSED Row Group Rows</th><th>MAX COMPRESSED Row Group Rows</th><th>AVG_COMPRESSED_Rows</th><th>CLOSED_Row_Groups</th><th>CLOSED_Rows</th><th>MIN CLOSED Row Group Rows</th><th>MAX CLOSED Row Group Rows</th><th>AVG CLOSED Row Group Rows</th></tr>",
                            "<tr><td>dbo</td><td>fctTrip_CCI_Ordered</td><td>HASH</td><td>170261325</td><td>23</td><td>0</td><td>0</td><td>NULL</td><td>NULL</td><td>NULL</td><td>191</td><td>170261325</td><td>0</td><td>32841</td><td>1048576</td><td>891420</td><td>0</td><td>0</td><td>NULL</td><td>NULL</td><td>NULL</td></tr>",
                            "</table>"
                        ]
                    }
                }
            ],
            "execution_count": 22
        },
        {
            "cell_type": "markdown",
            "source": [
                "### What happened?"
            ],
            "metadata": {
                "azdata_cell_guid": "5ae72765-ae2c-48ea-8091-17e0540616af"
            }
        }
    ]
}