{
    "metadata": {
        "kernelspec": {
            "name": "SQL",
            "display_name": "SQL",
            "language": "sql"
        },
        "language_info": {
            "name": "sql",
            "version": ""
        }
    },
    "nbformat_minor": 2,
    "nbformat": 4,
    "cells": [
        {
            "cell_type": "markdown",
            "source": [
                "# Demo: Using Column-level Security (M04\\_L04\\_Demo3)\n",
                "\n",
                "**<span style=\"color:black;mso-color-alt:windowtext\">Objective<i>:&nbsp; </i></span>** <span style=\"color:black;\n",
                "mso-color-alt:windowtext\">The goal of this demo is to demonstrate how to implement Column Level Security in Azure Synapse SQL Pool.&nbsp;&nbsp;</span>"
            ],
            "metadata": {
                "azdata_cell_guid": "8c036363-8bb8-4519-ba9a-a2f4a160aaca"
            },
            "attachments": {}
        },
        {
            "cell_type": "code",
            "source": [
                "--1. Create a test user\r\n",
                "\r\n",
                "CREATE USER TestUser WITHOUT LOGIN; \r\n",
                ""
            ],
            "metadata": {
                "azdata_cell_guid": "4d257484-8386-45df-b55d-cd578ce820d0"
            },
            "outputs": [
                {
                    "output_type": "display_data",
                    "data": {
                        "text/html": "Commands completed successfully."
                    },
                    "metadata": {}
                },
                {
                    "output_type": "display_data",
                    "data": {
                        "text/html": "Total execution time: 00:00:00.063"
                    },
                    "metadata": {}
                }
            ],
            "execution_count": 48
        },
        {
            "cell_type": "code",
            "source": [
                "--2. Create Test Table\r\n",
                "\r\n",
                "CREATE TABLE TableOLS\r\n",
                "  (  \r\n",
                "   UserID INT,  \r\n",
                "\tFirstname VARCHAR(40),\r\n",
                "\tLastname VARCHAR(40),\r\n",
                "\tUsername VARCHAR(40), \r\n",
                "   Salary INT)  \r\n",
                "WITH   \r\n",
                "  (   \r\n",
                "    DISTRIBUTION = HASH ( UserID ),  \r\n",
                "    CLUSTERED COLUMNSTORE INDEX\r\n",
                "  )  \r\n",
                ";\r\n",
                ""
            ],
            "metadata": {
                "azdata_cell_guid": "120784bd-be34-4177-a964-7f540fe98faa"
            },
            "outputs": [
                {
                    "output_type": "display_data",
                    "data": {
                        "text/html": "Commands completed successfully."
                    },
                    "metadata": {}
                },
                {
                    "output_type": "display_data",
                    "data": {
                        "text/html": "Total execution time: 00:00:00.595"
                    },
                    "metadata": {}
                }
            ],
            "execution_count": 49
        },
        {
            "cell_type": "code",
            "source": [
                "-- Read ALL data, ALL columns\r\n",
                "\r\n",
                "SELECT * FROM dbo.TableOLS;  "
            ],
            "metadata": {
                "azdata_cell_guid": "797f356c-9111-4e32-be98-e7787aa5c8b2"
            },
            "outputs": [
                {
                    "output_type": "display_data",
                    "data": {
                        "text/html": "(0 rows affected)"
                    },
                    "metadata": {}
                },
                {
                    "output_type": "display_data",
                    "data": {
                        "text/html": "Total execution time: 00:00:00.168"
                    },
                    "metadata": {}
                },
                {
                    "output_type": "execute_result",
                    "metadata": {},
                    "execution_count": 50,
                    "data": {
                        "application/vnd.dataresource+json": {
                            "schema": {
                                "fields": [
                                    {
                                        "name": "UserID"
                                    },
                                    {
                                        "name": "Firstname"
                                    },
                                    {
                                        "name": "Lastname"
                                    },
                                    {
                                        "name": "Username"
                                    },
                                    {
                                        "name": "Salary"
                                    }
                                ]
                            },
                            "data": []
                        },
                        "text/html": [
                            "<table>",
                            "<tr><th>UserID</th><th>Firstname</th><th>Lastname</th><th>Username</th><th>Salary</th></tr>",
                            "</table>"
                        ]
                    }
                }
            ],
            "execution_count": 50
        },
        {
            "cell_type": "code",
            "source": [
                "--2. Specify which columns are accessible for query\r\n",
                "\r\n",
                "GRANT SELECT ON dbo.TableOLS\r\n",
                "\t([Firstname], [Lastname], [Username]) \r\n",
                "\tTO TestUser;\r\n",
                ""
            ],
            "metadata": {
                "azdata_cell_guid": "7ce50691-5619-4ff3-a403-43a1024f0b71"
            },
            "outputs": [
                {
                    "output_type": "display_data",
                    "data": {
                        "text/html": "Commands completed successfully."
                    },
                    "metadata": {}
                },
                {
                    "output_type": "display_data",
                    "data": {
                        "text/html": "Total execution time: 00:00:00.069"
                    },
                    "metadata": {}
                }
            ],
            "execution_count": 51
        },
        {
            "cell_type": "code",
            "source": [
                "--3. Execute a SELECT query as the user created previously\r\n",
                "\r\n",
                "EXECUTE AS USER = 'TestUser';    \r\n",
                "SELECT  UserID,  --Permission to this column has not been granted\r\n",
                "        Firstname, \r\n",
                "        Lastname, \r\n",
                "        Username \r\n",
                "FROM dbo.TableOLS;\r\n",
                ""
            ],
            "metadata": {
                "azdata_cell_guid": "075d1e44-261a-4895-af30-4645decee611",
                "tags": []
            },
            "outputs": [
                {
                    "output_type": "error",
                    "evalue": "Msg 230, Level 14, State 1, Line 1\r\nThe SELECT permission was denied on the column 'UserID' of the object 'TableOLS', database 'wsplussynapsepool1', schema 'dbo'.",
                    "ename": "",
                    "traceback": []
                },
                {
                    "output_type": "display_data",
                    "data": {
                        "text/html": "Total execution time: 00:00:00.124"
                    },
                    "metadata": {}
                }
            ],
            "execution_count": 52
        },
        {
            "cell_type": "code",
            "source": [
                "--4. Select subset columns \r\n",
                "\r\n",
                "EXECUTE AS USER = 'TestUser';   \r\n",
                "SELECT FirstName, LastName, Username\r\n",
                "FROM dbo.TableOLS\r\n",
                "\r\n",
                ""
            ],
            "metadata": {
                "azdata_cell_guid": "9bbafb70-7278-472d-b589-2b4ab6c22ec9"
            },
            "outputs": [
                {
                    "output_type": "error",
                    "evalue": "Msg 230, Level 14, State 1, Line 1\r\nThe SELECT permission was denied on the column 'UserID' of the object 'TableOLS', database 'wsplussynapsepool1', schema 'dbo'.\r\nThe SELECT permission was denied on the column 'Salary' of the object 'TableOLS', database 'wsplussynapsepool1', schema 'dbo'.",
                    "ename": "",
                    "traceback": []
                },
                {
                    "output_type": "display_data",
                    "data": {
                        "text/html": "Total execution time: 00:00:00.089"
                    },
                    "metadata": {}
                }
            ],
            "execution_count": 54
        },
        {
            "cell_type": "code",
            "source": [
                "EXECUTE AS USER = 'TestUser';   \r\n",
                "SELECT *\r\n",
                "FROM dbo.TableOLS"
            ],
            "metadata": {
                "azdata_cell_guid": "9426074b-a80a-46d0-87a9-a1005a702d1e"
            },
            "outputs": [
                {
                    "output_type": "error",
                    "evalue": "Msg 230, Level 14, State 1, Line 1\r\nThe SELECT permission was denied on the column 'UserID' of the object 'TableOLS', database 'wsplussynapsepool1', schema 'dbo'.\r\nThe SELECT permission was denied on the column 'Salary' of the object 'TableOLS', database 'wsplussynapsepool1', schema 'dbo'.",
                    "ename": "",
                    "traceback": []
                },
                {
                    "output_type": "display_data",
                    "data": {
                        "text/html": "Total execution time: 00:00:00.099"
                    },
                    "metadata": {}
                }
            ],
            "execution_count": 55
        },
        {
            "cell_type": "code",
            "source": [
                "--5. Manual Cleanup\r\n",
                "\r\n",
                "REVERT\r\n",
                "GO\r\n",
                "DROP TABLE TableOLS;\r\n",
                "DROP USER TestUser;\r\n",
                "\r\n",
                ""
            ],
            "metadata": {
                "azdata_cell_guid": "6ba93399-6bbe-4027-b196-367ad170bc48"
            },
            "outputs": [
{
    "output_type": "display_data",
    "data": {
        "text/html": "Commands completed successfully."
    },
    "metadata": {}
}, {
    "output_type": "display_data",
    "data": {
        "text/html": "Commands completed successfully."
    },
    "metadata": {}
}, {
    "output_type": "display_data",
    "data": {
        "text/html": "Total execution time: 00:00:00.376"
    },
    "metadata": {}
}
],
            "execution_count": 59
        }
    ]
}